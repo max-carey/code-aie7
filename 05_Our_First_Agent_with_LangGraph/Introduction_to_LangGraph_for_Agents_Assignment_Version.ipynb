{
  "cells": [
    {
      "cell_type": "markdown",
      "metadata": {
        "id": "gJXW_DgiSebM"
      },
      "source": [
        "# LangGraph and LangSmith - Agentic RAG Powered by LangChain\n",
        "\n",
        "In the following notebook we'll complete the following tasks:\n",
        "\n",
        "- 🤝 Breakout Room #1:\n",
        "  1. Install required libraries\n",
        "  2. Set Environment Variables\n",
        "  3. Creating our Tool Belt\n",
        "  4. Creating Our State\n",
        "  5. Creating and Compiling A Graph!\n",
        "\n",
        "- 🤝 Breakout Room #2:\n",
        "  1. Evaluating the LangGraph Application with LangSmith\n",
        "  2. Adding Helpfulness Check and \"Loop\" Limits\n",
        "  3. LangGraph for the \"Patterns\" of GenAI"
      ]
    },
    {
      "cell_type": "markdown",
      "metadata": {
        "id": "djQ3nRAgoF67"
      },
      "source": [
        "# 🤝 Breakout Room #1"
      ]
    },
    {
      "cell_type": "markdown",
      "metadata": {
        "id": "e7pQDUhUnIo8"
      },
      "source": [
        "## Part 1: LangGraph - Building Cyclic Applications with LangChain\n",
        "\n",
        "LangGraph is a tool that leverages LangChain Expression Language to build coordinated multi-actor and stateful applications that includes cyclic behaviour.\n",
        "\n",
        "### Why Cycles?\n",
        "\n",
        "In essence, we can think of a cycle in our graph as a more robust and customizable loop. It allows us to keep our application agent-forward while still giving the powerful functionality of traditional loops.\n",
        "\n",
        "Due to the inclusion of cycles over loops, we can also compose rather complex flows through our graph in a much more readable and natural fashion. Effectively allowing us to recreate application flowcharts in code in an almost 1-to-1 fashion.\n",
        "\n",
        "### Why LangGraph?\n",
        "\n",
        "Beyond the agent-forward approach - we can easily compose and combine traditional \"DAG\" (directed acyclic graph) chains with powerful cyclic behaviour due to the tight integration with LCEL. This means it's a natural extension to LangChain's core offerings!"
      ]
    },
    {
      "cell_type": "markdown",
      "metadata": {
        "id": "3_fLDElOVoop"
      },
      "source": [
        "## Task 1:  Dependencies\n"
      ]
    },
    {
      "cell_type": "markdown",
      "metadata": {
        "id": "wujPjGJuoPwg"
      },
      "source": [
        "## Task 2: Environment Variables\n",
        "\n",
        "We'll want to set both our OpenAI API key and our LangSmith environment variables."
      ]
    },
    {
      "cell_type": "code",
      "execution_count": 1,
      "metadata": {
        "colab": {
          "base_uri": "https://localhost:8080/"
        },
        "id": "Jdh8CoVWHRvs",
        "outputId": "3fa78560-393c-4ee5-b871-9886bf0d70f4"
      },
      "outputs": [],
      "source": [
        "import os\n",
        "import getpass\n",
        "\n",
        "os.environ[\"OPENAI_API_KEY\"] = getpass.getpass(\"OpenAI API Key:\")"
      ]
    },
    {
      "cell_type": "code",
      "execution_count": 2,
      "metadata": {
        "colab": {
          "base_uri": "https://localhost:8080/"
        },
        "id": "Jkla2fpx28QK",
        "outputId": "52d7ad22-fcb1-4abe-853b-216c55a12650"
      },
      "outputs": [],
      "source": [
        "os.environ[\"TAVILY_API_KEY\"] = getpass.getpass(\"TAVILY_API_KEY\")"
      ]
    },
    {
      "cell_type": "code",
      "execution_count": 3,
      "metadata": {
        "colab": {
          "base_uri": "https://localhost:8080/"
        },
        "id": "Nv0glIDyHmRt",
        "outputId": "b69df90a-b4e1-4ddb-9de0-882d98b68ab2"
      },
      "outputs": [],
      "source": [
        "from uuid import uuid4\n",
        "\n",
        "os.environ[\"LANGCHAIN_TRACING_V2\"] = \"true\"\n",
        "os.environ[\"LANGCHAIN_PROJECT\"] = f\"AIE7 - LangGraph - {uuid4().hex[0:8]}\"\n",
        "os.environ[\"LANGCHAIN_API_KEY\"] = getpass.getpass(\"LangSmith API Key: \")"
      ]
    },
    {
      "cell_type": "markdown",
      "metadata": {
        "id": "sBRyQmEAVzua"
      },
      "source": [
        "## Task 3: Creating our Tool Belt\n",
        "\n",
        "As is usually the case, we'll want to equip our agent with a toolbelt to help answer questions and add external knowledge.\n",
        "\n",
        "There's a tonne of tools in the [LangChain Community Repo](https://github.com/langchain-ai/langchain-community/tree/main/libs/community) but we'll stick to a couple just so we can observe the cyclic nature of LangGraph in action!\n",
        "\n",
        "We'll leverage:\n",
        "\n",
        "- [Tavily Search Results](https://github.com/langchain-ai/langchain-community/blob/main/libs/community/langchain_community/tools/tavily_search/tool.py)\n",
        "- [Arxiv](https://github.com/langchain-ai/langchain-community/blob/main/libs/community/langchain_community/tools/arxiv/tool.py)"
      ]
    },
    {
      "cell_type": "markdown",
      "metadata": {
        "id": "2k6n_Dob2F46"
      },
      "source": [
        "#### 🏗️ Activity #1:\n",
        "\n",
        "Please add the tools to use into our toolbelt.\n",
        "\n",
        "> NOTE: Each tool in our toolbelt should be a method."
      ]
    },
    {
      "cell_type": "code",
      "execution_count": 4,
      "metadata": {
        "id": "lAxaSvlfIeOg"
      },
      "outputs": [
        {
          "name": "stderr",
          "output_type": "stream",
          "text": [
            "/var/folders/ds/4p96mtx542ngvmqwltx3fwg40000gn/T/ipykernel_79178/1203815797.py:4: LangChainDeprecationWarning: The class `TavilySearchResults` was deprecated in LangChain 0.3.25 and will be removed in 1.0. An updated version of the class exists in the :class:`~langchain-tavily package and should be used instead. To use it run `pip install -U :class:`~langchain-tavily` and import as `from :class:`~langchain_tavily import TavilySearch``.\n",
            "  tavily_tool = TavilySearchResults(max_results=5)\n"
          ]
        }
      ],
      "source": [
        "from langchain_community.tools.tavily_search import TavilySearchResults\n",
        "from langchain_community.tools.arxiv.tool import ArxivQueryRun\n",
        "\n",
        "tavily_tool = TavilySearchResults(max_results=5)\n",
        "\n",
        "tool_belt = [\n",
        "    tavily_tool,\n",
        "    ArxivQueryRun(),\n",
        "]"
      ]
    },
    {
      "cell_type": "markdown",
      "metadata": {
        "id": "VI-C669ZYVI5"
      },
      "source": [
        "### Model\n",
        "\n",
        "Now we can set-up our model! We'll leverage the familiar OpenAI model suite for this example - but it's not *necessary* to use with LangGraph. LangGraph supports all models - though you might not find success with smaller models - as such, they recommend you stick with:\n",
        "\n",
        "- OpenAI's GPT-3.5 and GPT-4\n",
        "- Anthropic's Claude\n",
        "- Google's Gemini\n",
        "\n",
        "> NOTE: Because we're leveraging the OpenAI function calling API - we'll need to use OpenAI *for this specific example* (or any other service that exposes an OpenAI-style function calling API."
      ]
    },
    {
      "cell_type": "code",
      "execution_count": 5,
      "metadata": {
        "id": "QkNS8rNZJs4z"
      },
      "outputs": [],
      "source": [
        "from langchain_openai import ChatOpenAI\n",
        "\n",
        "model = ChatOpenAI(model=\"gpt-4.1-nano\", temperature=0)"
      ]
    },
    {
      "cell_type": "markdown",
      "metadata": {
        "id": "Ugkj3GzuZpQv"
      },
      "source": [
        "Now that we have our model set-up, let's \"put on the tool belt\", which is to say: We'll bind our LangChain formatted tools to the model in an OpenAI function calling format."
      ]
    },
    {
      "cell_type": "code",
      "execution_count": 6,
      "metadata": {
        "id": "4OdMqFafZ_0V"
      },
      "outputs": [],
      "source": [
        "model = model.bind_tools(tool_belt)"
      ]
    },
    {
      "cell_type": "markdown",
      "metadata": {
        "id": "ERzuGo6W18Lr"
      },
      "source": [
        "#### ❓ Question #1:\n",
        "\n",
        "How does the model determine which tool to use?\n",
        "\n",
        "#### ✅ Answer\n",
        "\n",
        "When you call `model.bind_tools(tool_belt)`, under the hood, this is telling the model which tools it could call. So if the model is Open AI, it would bind these tools using Open AI function calling as described in this document: https://platform.openai.com/docs/guides/function-calling?api-mode=responses. If we are dealing with a different provider, lang chain would follow the docs in that provider. More generally, you are telling an LLM which tools it could use and then asking it to decide whether or not it should instruct you to invoke those tools"
      ]
    },
    {
      "cell_type": "markdown",
      "metadata": {
        "id": "_296Ub96Z_H8"
      },
      "source": [
        "## Task 4: Putting the State in Stateful\n",
        "\n",
        "Earlier we used this phrasing:\n",
        "\n",
        "`coordinated multi-actor and stateful applications`\n",
        "\n",
        "So what does that \"stateful\" mean?\n",
        "\n",
        "To put it simply - we want to have some kind of object which we can pass around our application that holds information about what the current situation (state) is. Since our system will be constructed of many parts moving in a coordinated fashion - we want to be able to ensure we have some commonly understood idea of that state.\n",
        "\n",
        "LangGraph leverages a `StatefulGraph` which uses an `AgentState` object to pass information between the various nodes of the graph.\n",
        "\n",
        "There are more options than what we'll see below - but this `AgentState` object is one that is stored in a `TypedDict` with the key `messages` and the value is a `Sequence` of `BaseMessages` that will be appended to whenever the state changes.\n",
        "\n",
        "Let's think about a simple example to help understand exactly what this means (we'll simplify a great deal to try and clearly communicate what state is doing):\n",
        "\n",
        "1. We initialize our state object:\n",
        "  - `{\"messages\" : []}`\n",
        "2. Our user submits a query to our application.\n",
        "  - New State: `HumanMessage(#1)`\n",
        "  - `{\"messages\" : [HumanMessage(#1)}`\n",
        "3. We pass our state object to an Agent node which is able to read the current state. It will use the last `HumanMessage` as input. It gets some kind of output which it will add to the state.\n",
        "  - New State: `AgentMessage(#1, additional_kwargs {\"function_call\" : \"WebSearchTool\"})`\n",
        "  - `{\"messages\" : [HumanMessage(#1), AgentMessage(#1, ...)]}`\n",
        "4. We pass our state object to a \"conditional node\" (more on this later) which reads the last state to determine if we need to use a tool - which it can determine properly because of our provided object!"
      ]
    },
    {
      "cell_type": "code",
      "execution_count": 7,
      "metadata": {
        "id": "mxL9b_NZKUdL"
      },
      "outputs": [],
      "source": [
        "from typing import TypedDict, Annotated\n",
        "from langgraph.graph.message import add_messages\n",
        "import operator\n",
        "from langchain_core.messages import BaseMessage\n",
        "\n",
        "class AgentState(TypedDict):\n",
        "  messages: Annotated[list, add_messages]"
      ]
    },
    {
      "cell_type": "markdown",
      "metadata": {
        "id": "vWsMhfO9grLu"
      },
      "source": [
        "## Task 5: It's Graphing Time!\n",
        "\n",
        "Now that we have state, and we have tools, and we have an LLM - we can finally start making our graph!\n",
        "\n",
        "Let's take a second to refresh ourselves about what a graph is in this context.\n",
        "\n",
        "Graphs, also called networks in some circles, are a collection of connected objects.\n",
        "\n",
        "The objects in question are typically called nodes, or vertices, and the connections are called edges.\n",
        "\n",
        "Let's look at a simple graph.\n",
        "\n",
        "![image](https://i.imgur.com/2NFLnIc.png)\n",
        "\n",
        "Here, we're using the coloured circles to represent the nodes and the yellow lines to represent the edges. In this case, we're looking at a fully connected graph - where each node is connected by an edge to each other node.\n",
        "\n",
        "If we were to think about nodes in the context of LangGraph - we would think of a function, or an LCEL runnable.\n",
        "\n",
        "If we were to think about edges in the context of LangGraph - we might think of them as \"paths to take\" or \"where to pass our state object next\".\n",
        "\n",
        "Let's create some nodes and expand on our diagram.\n",
        "\n",
        "> NOTE: Due to the tight integration with LCEL - we can comfortably create our nodes in an async fashion!"
      ]
    },
    {
      "cell_type": "code",
      "execution_count": 8,
      "metadata": {
        "id": "91flJWtZLUrl"
      },
      "outputs": [],
      "source": [
        "from langgraph.prebuilt import ToolNode\n",
        "\n",
        "def call_model(state):\n",
        "  messages = state[\"messages\"]\n",
        "  response = model.invoke(messages)\n",
        "  return {\"messages\" : [response]}\n",
        "\n",
        "tool_node = ToolNode(tool_belt)"
      ]
    },
    {
      "cell_type": "markdown",
      "metadata": {
        "id": "2bwR7MgWj3Wg"
      },
      "source": [
        "Now we have two total nodes. We have:\n",
        "\n",
        "- `call_model` is a node that will...well...call the model\n",
        "- `tool_node` is a node which can call a tool\n",
        "\n",
        "Let's start adding nodes! We'll update our diagram along the way to keep track of what this looks like!\n"
      ]
    },
    {
      "cell_type": "code",
      "execution_count": 9,
      "metadata": {
        "colab": {
          "base_uri": "https://localhost:8080/"
        },
        "id": "_vF4_lgtmQNo",
        "outputId": "a4384377-8f7a-415f-be1b-fee6169cb101"
      },
      "outputs": [
        {
          "data": {
            "text/plain": [
              "<langgraph.graph.state.StateGraph at 0x110901a90>"
            ]
          },
          "execution_count": 9,
          "metadata": {},
          "output_type": "execute_result"
        }
      ],
      "source": [
        "from langgraph.graph import StateGraph, END\n",
        "\n",
        "uncompiled_graph = StateGraph(AgentState)\n",
        "\n",
        "uncompiled_graph.add_node(\"agent\", call_model)\n",
        "uncompiled_graph.add_node(\"action\", tool_node)"
      ]
    },
    {
      "cell_type": "markdown",
      "metadata": {
        "id": "b8CjRlbVmRpW"
      },
      "source": [
        "Let's look at what we have so far:\n",
        "\n",
        "![image](https://i.imgur.com/md7inqG.png)"
      ]
    },
    {
      "cell_type": "markdown",
      "metadata": {
        "id": "uaXHpPeSnOWC"
      },
      "source": [
        "Next, we'll add our entrypoint. All our entrypoint does is indicate which node is called first."
      ]
    },
    {
      "cell_type": "code",
      "execution_count": 10,
      "metadata": {
        "colab": {
          "base_uri": "https://localhost:8080/"
        },
        "id": "YGCbaYqRnmiw",
        "outputId": "5351807c-2ac7-4316-a3a3-878abeacd114"
      },
      "outputs": [
        {
          "data": {
            "text/plain": [
              "<langgraph.graph.state.StateGraph at 0x110901a90>"
            ]
          },
          "execution_count": 10,
          "metadata": {},
          "output_type": "execute_result"
        }
      ],
      "source": [
        "uncompiled_graph.set_entry_point(\"agent\")"
      ]
    },
    {
      "cell_type": "markdown",
      "metadata": {
        "id": "BUsfGoSpoF9U"
      },
      "source": [
        "![image](https://i.imgur.com/wNixpJe.png)"
      ]
    },
    {
      "cell_type": "markdown",
      "metadata": {
        "id": "0Q_pQgHmoW0M"
      },
      "source": [
        "Now we want to build a \"conditional edge\" which will use the output state of a node to determine which path to follow.\n",
        "\n",
        "We can help conceptualize this by thinking of our conditional edge as a conditional in a flowchart!\n",
        "\n",
        "Notice how our function simply checks if there is a \"function_call\" kwarg present.\n",
        "\n",
        "Then we create an edge where the origin node is our agent node and our destination node is *either* the action node or the END (finish the graph).\n",
        "\n",
        "It's important to highlight that the dictionary passed in as the third parameter (the mapping) should be created with the possible outputs of our conditional function in mind. In this case `should_continue` outputs either `\"end\"` or `\"continue\"` which are subsequently mapped to the action node or the END node."
      ]
    },
    {
      "cell_type": "code",
      "execution_count": 11,
      "metadata": {
        "colab": {
          "base_uri": "https://localhost:8080/"
        },
        "id": "1BZgb81VQf9o",
        "outputId": "73a07c15-5f0b-40f2-b033-38b57d056dd8"
      },
      "outputs": [
        {
          "data": {
            "text/plain": [
              "<langgraph.graph.state.StateGraph at 0x110901a90>"
            ]
          },
          "execution_count": 11,
          "metadata": {},
          "output_type": "execute_result"
        }
      ],
      "source": [
        "def should_continue(state):\n",
        "  last_message = state[\"messages\"][-1]\n",
        "\n",
        "  print(\"here is the last message: \", last_message)\n",
        "\n",
        "  if last_message.tool_calls:\n",
        "    return \"action\"\n",
        "\n",
        "  return END\n",
        "\n",
        "uncompiled_graph.add_conditional_edges(\n",
        "    \"agent\",\n",
        "    should_continue\n",
        ")"
      ]
    },
    {
      "cell_type": "markdown",
      "metadata": {
        "id": "-Cvhcf4jp0Ce"
      },
      "source": [
        "Let's visualize what this looks like.\n",
        "\n",
        "![image](https://i.imgur.com/8ZNwKI5.png)"
      ]
    },
    {
      "cell_type": "markdown",
      "metadata": {
        "id": "yKCjWJCkrJb9"
      },
      "source": [
        "Finally, we can add our last edge which will connect our action node to our agent node. This is because we *always* want our action node (which is used to call our tools) to return its output to our agent!"
      ]
    },
    {
      "cell_type": "code",
      "execution_count": 12,
      "metadata": {
        "colab": {
          "base_uri": "https://localhost:8080/"
        },
        "id": "UvcgbHf1rIXZ",
        "outputId": "45d4bdd6-d6bb-4a1d-bb79-cad43c130bf2"
      },
      "outputs": [
        {
          "data": {
            "text/plain": [
              "<langgraph.graph.state.StateGraph at 0x110901a90>"
            ]
          },
          "execution_count": 12,
          "metadata": {},
          "output_type": "execute_result"
        }
      ],
      "source": [
        "uncompiled_graph.add_edge(\"action\", \"agent\")"
      ]
    },
    {
      "cell_type": "markdown",
      "metadata": {
        "id": "EiWDwBQtrw7Z"
      },
      "source": [
        "Let's look at the final visualization.\n",
        "\n",
        "![image](https://i.imgur.com/NWO7usO.png)"
      ]
    },
    {
      "cell_type": "markdown",
      "metadata": {
        "id": "KYqDpErlsCsu"
      },
      "source": [
        "All that's left to do now is to compile our workflow - and we're off!"
      ]
    },
    {
      "cell_type": "code",
      "execution_count": 13,
      "metadata": {
        "id": "zt9-KS8DpzNx"
      },
      "outputs": [],
      "source": [
        "simple_agent_graph = uncompiled_graph.compile()"
      ]
    },
    {
      "cell_type": "markdown",
      "metadata": {
        "id": "xhNWIwBL1W4Q"
      },
      "source": [
        "#### ❓ Question\n",
        "\n",
        "Is there any specific limit to how many times we can cycle?\n",
        "\n",
        "If not, how could we impose a limit to the number of cycles?\n",
        "\n",
        "#### ✅ Answer\n",
        " \n",
        "By default, there is no specific limit to how many times the agent can cycle through the graph. The agent will continue cycling until it reaches an end condition (when should_continue() returns False).\n",
        "However, we could impose a limit in a few ways:\n",
        "\n",
        "#### 1. Add a counter to the state object and check it in should_continue()\n",
        "#### 2. Use LangGraph's built-in max_iterations parameter when compiling the graph\n",
        "#### 3. Implement a timeout mechanism\n",
        "\n",
        "The simplest approach would be using max_iterations when compiling, so pretty sure it would be something liket this: `simple_agent_graph = uncompiled_graph.compile(max_iterations=5)`\n"
      ]
    },
    {
      "cell_type": "markdown",
      "metadata": {
        "id": "VEYcTShCsPaa"
      },
      "source": [
        "## Using Our Graph\n",
        "\n",
        "Now that we've created and compiled our graph - we can call it *just as we'd call any other* `Runnable`!\n",
        "\n",
        "Let's try out a few examples to see how it fairs:"
      ]
    },
    {
      "cell_type": "code",
      "execution_count": 14,
      "metadata": {
        "colab": {
          "base_uri": "https://localhost:8080/"
        },
        "id": "Qn4n37PQRPII",
        "outputId": "5eeedfae-089d-496e-e71f-071939fa5832"
      },
      "outputs": [
        {
          "name": "stdout",
          "output_type": "stream",
          "text": [
            "here is the last message:  content='' additional_kwargs={'tool_calls': [{'id': 'call_u2JAHPpp2A6owS2ilacRP2Yl', 'function': {'arguments': '{\"query\":\"current captain of the Winnipeg Jets\"}', 'name': 'tavily_search_results_json'}, 'type': 'function'}], 'refusal': None} response_metadata={'token_usage': {'completion_tokens': 23, 'prompt_tokens': 162, 'total_tokens': 185, 'completion_tokens_details': {'accepted_prediction_tokens': 0, 'audio_tokens': 0, 'reasoning_tokens': 0, 'rejected_prediction_tokens': 0}, 'prompt_tokens_details': {'audio_tokens': 0, 'cached_tokens': 0}}, 'model_name': 'gpt-4.1-nano-2025-04-14', 'system_fingerprint': None, 'id': 'chatcmpl-BtdXHXDNqxW6DVTEHvOaOrNvqeIKV', 'service_tier': 'default', 'finish_reason': 'tool_calls', 'logprobs': None} id='run--698f6a00-96b8-43a3-b063-01d946ed09ad-0' tool_calls=[{'name': 'tavily_search_results_json', 'args': {'query': 'current captain of the Winnipeg Jets'}, 'id': 'call_u2JAHPpp2A6owS2ilacRP2Yl', 'type': 'tool_call'}] usage_metadata={'input_tokens': 162, 'output_tokens': 23, 'total_tokens': 185, 'input_token_details': {'audio': 0, 'cache_read': 0}, 'output_token_details': {'audio': 0, 'reasoning': 0}}\n",
            "Receiving update from node: 'agent'\n",
            "[AIMessage(content='', additional_kwargs={'tool_calls': [{'id': 'call_u2JAHPpp2A6owS2ilacRP2Yl', 'function': {'arguments': '{\"query\":\"current captain of the Winnipeg Jets\"}', 'name': 'tavily_search_results_json'}, 'type': 'function'}], 'refusal': None}, response_metadata={'token_usage': {'completion_tokens': 23, 'prompt_tokens': 162, 'total_tokens': 185, 'completion_tokens_details': {'accepted_prediction_tokens': 0, 'audio_tokens': 0, 'reasoning_tokens': 0, 'rejected_prediction_tokens': 0}, 'prompt_tokens_details': {'audio_tokens': 0, 'cached_tokens': 0}}, 'model_name': 'gpt-4.1-nano-2025-04-14', 'system_fingerprint': None, 'id': 'chatcmpl-BtdXHXDNqxW6DVTEHvOaOrNvqeIKV', 'service_tier': 'default', 'finish_reason': 'tool_calls', 'logprobs': None}, id='run--698f6a00-96b8-43a3-b063-01d946ed09ad-0', tool_calls=[{'name': 'tavily_search_results_json', 'args': {'query': 'current captain of the Winnipeg Jets'}, 'id': 'call_u2JAHPpp2A6owS2ilacRP2Yl', 'type': 'tool_call'}], usage_metadata={'input_tokens': 162, 'output_tokens': 23, 'total_tokens': 185, 'input_token_details': {'audio': 0, 'cache_read': 0}, 'output_token_details': {'audio': 0, 'reasoning': 0}})]\n",
            "\n",
            "\n",
            "\n",
            "Receiving update from node: 'action'\n",
            "[ToolMessage(content='[{\"title\": \"Adam Lowry - Wikipedia\", \"url\": \"https://en.wikipedia.org/wiki/Adam_Lowry\", \"content\": \"| Awards and achievements | | |\\\\n| --- | --- | --- |\\\\n| Preceded by Stefan Elliott | Winner of the Daryl K. (Doc) Seaman Trophy_Seaman_Trophy \\\\\"Daryl K. (Doc) Seaman Trophy\\\\\")  2010 | Succeeded by Colin Smith \\\\\"Colin Smith (ice hockey)\\\\\") |\\\\n| Sporting positions | | |\\\\n| Preceded by Blake Wheeler | Winnipeg Jets captain  2023–present | Incumbent | [...] Adam Lowry (born March 29, 1993) is an American-born Canadian professional ice hockey centre \\\\\"Center (ice hockey)\\\\\") and  captain \\\\\"Captain (ice hockey)\\\\\") of the Winnipeg Jets of the National Hockey League (NHL).\\\\n\\\\n## Early life [...] Entering the 2023–24 season, Lowry was named captain of the Jets on September 12, 2023. He became the third in the team\\'s history since relocating to Winnipeg, and the tenth overall in franchise history.\\\\n\\\\nOn May 4, 2025, Lowry scored at 16:10 in double overtime to win 4-3 against the St. Louis Blues in Game 7 of the Jets-Blues first round playoff series.\\\\n\\\\n## Personal life\", \"score\": 0.8482825}, {\"title\": \"Adam Lowry named Jets captain | Winnipeg Jets - NHL.com\", \"url\": \"https://www.nhl.com/jets/news/adam-lowry-named-jets-captain\", \"content\": \"That honour was given to Winnipeg Jet forward Adam Lowry officially Tuesday morning as he becomes the third captain in franchise history since the team moved here from Atlanta. He follows Andrew Ladd and Blake Wheeler who served as captain for five and six years respectively.\\\\n\\\\nâ\\x80\\x9cWhen I found out, I was pretty excited, almost a little speechless. Itâ\\x80\\x99s something growing up you kind of can dream about and something that seems almost unattainable,â\\x80\\x9d said Lowry. [...] â\\x80\\x9cHeâ\\x80\\x99s a true professional, he has total respect from every player on the team, every player around the league and certainly from the coaching staff as well. We just feel at this point itâ\\x80\\x99s the right time to name Adam as our captain.â\\x80\\x9d [...] â\\x80\\x9cGetting to be a captain of a Canadian NHL team is pretty special and something Iâ\\x80\\x99m really looking forward too.â\\x80\\x9d\", \"score\": 0.8449346}, {\"title\": \"Lowry named Jets captain, replaces Wheeler | NHL.com\", \"url\": \"https://www.nhl.com/news/adam-lowry-named-winnipeg-captain\", \"content\": \"NHL logo\\\\nNHL logo\\\\n\\\\n# Lowry named Jets captain, replaces Wheeler\\\\n\\\\n30-year-old forward entering 10th season with Winnipeg\\\\n\\\\nLowry_Jets\\\\n\\\\nAdam Lowry was named captain of the Winnipeg Jets on Tuesday.\\\\n\\\\nThe 30-year-old forward was selected by the Jets in the third round (No. 67) of the 2011 NHL Draft and has played his entire nine-season NHL career with Winnipeg. [...] Lowry replaces Blake Wheeler, who was removed as captain Sept. 16, 2022, and signed with the New York Rangers after having his contract bought out this offseason. The Jets opted for three alternate captains last season; Lowry, forward Mark Scheifele and defenseman Josh Morrissey. Coach Rick Bowness said Scheifele and Morrissey will remain alternate captains. [...] Lowry said he\\'s learned from the captains he\\'s played with in Winnipeg, Wheeler and Andrew Ladd, and believes the important thing is staying true to the player he\\'s always been.\", \"score\": 0.84027237}, {\"title\": \"Winnipeg Jets Captain To Miss Start of Next Season - Sports Illustrated\", \"url\": \"https://www.si.com/onsi/breakaway/news-feed-page/winnipeg-jets-adam-lowry-miss-start-next-season\", \"content\": \"The Winnipeg Jets fell short of expectations after winning the 2024-25 Presidentâ\\x80\\x99s Trophy, but they are retooling and looking forward to next season. Despite the high hopes, the Jets will likely have to start the 2025-26 season without their captain.\\\\n\\\\nThe Jets announced that captain Adam Lowry underwent a successful hip surgery and is expected to be sidelined for five to six months. Lowry played 73 games during the 2024-25 regular season and didnâ\\x80\\x99t miss a single playoff game. [...] The following is a statement from the Winnipeg Jets Hockey Club regarding Captain Adam Lowry: pic.twitter.com/t6S7wajrKq\\\\n\\\\nLowry never showed signs of needing postseason surgery, averaging almost 17:30 in ice time throughout the playoffs.\\\\n\\\\nIn 13 playoff games this season, Lowry scored four goals, including the double overtime game-winner in Game 7 of their opening-round series against the St. Louis Blues. [...] # Jets Captain To Miss Start of Next Season\\\\n\\\\n#### Nick Horwat | May 28, 2025\", \"score\": 0.8361405}, {\"title\": \"Progress report on Winnipeg Jets captain Adam Lowry who is ...\", \"url\": \"https://illegalcurve.com/progress-report-on-winnipeg-jets-captain-adam-lowry-who-is-almost-off-the-crutches/\", \"content\": \"Illegal Curve Hockey\\\\nIllegal Curve Hockey\\\\n\\\\n## Illegal Curve Hockey\\\\n\\\\n### Winnipeg Jets\\\\n\\\\n# Progress report on Winnipeg Jets captain Adam Lowry who is “almost off the crutches”\\\\n\\\\nLatest update from Jets GM Kevin Cheveldayoff on his captain.\\\\n\\\\nby [...] The Jets are getting ready for the 2025 NHL Draft this weekend which meant it was an opportunity to hear from Winnipeg GM Kevin Cheveldayoff who spoke for about 25 minutes this morning on a wide variety of topics including the health of team captain Adam Lowry. We learned late last month that Lowry had undergone successful hip surgery which would require 5-6 months of rehab and which was expected to cost him the first bit of the 2025-26 season.\\\\n\\\\nPhoto Credit: Colby Spence (Illegal Curve) [...] Copyright © 2025 Illegal Curve. Website designed by More Hot Leads\", \"score\": 0.8014549}]', name='tavily_search_results_json', id='937e7d99-79f7-43b1-8f3a-3b6ee92c7216', tool_call_id='call_u2JAHPpp2A6owS2ilacRP2Yl', artifact={'query': 'current captain of the Winnipeg Jets', 'follow_up_questions': None, 'answer': None, 'images': [], 'results': [{'url': 'https://en.wikipedia.org/wiki/Adam_Lowry', 'title': 'Adam Lowry - Wikipedia', 'content': '| Awards and achievements | | |\\n| --- | --- | --- |\\n| Preceded by Stefan Elliott | Winner of the Daryl K. (Doc) Seaman Trophy_Seaman_Trophy \"Daryl K. (Doc) Seaman Trophy\")  2010 | Succeeded by Colin Smith \"Colin Smith (ice hockey)\") |\\n| Sporting positions | | |\\n| Preceded by Blake Wheeler | Winnipeg Jets captain  2023–present | Incumbent | [...] Adam Lowry (born March 29, 1993) is an American-born Canadian professional ice hockey centre \"Center (ice hockey)\") and  captain \"Captain (ice hockey)\") of the Winnipeg Jets of the National Hockey League (NHL).\\n\\n## Early life [...] Entering the 2023–24 season, Lowry was named captain of the Jets on September 12, 2023. He became the third in the team\\'s history since relocating to Winnipeg, and the tenth overall in franchise history.\\n\\nOn May 4, 2025, Lowry scored at 16:10 in double overtime to win 4-3 against the St. Louis Blues in Game 7 of the Jets-Blues first round playoff series.\\n\\n## Personal life', 'score': 0.8482825, 'raw_content': None}, {'url': 'https://www.nhl.com/jets/news/adam-lowry-named-jets-captain', 'title': 'Adam Lowry named Jets captain | Winnipeg Jets - NHL.com', 'content': 'That honour was given to Winnipeg Jet forward Adam Lowry officially Tuesday morning as he becomes the third captain in franchise history since the team moved here from Atlanta. He follows Andrew Ladd and Blake Wheeler who served as captain for five and six years respectively.\\n\\nâ\\x80\\x9cWhen I found out, I was pretty excited, almost a little speechless. Itâ\\x80\\x99s something growing up you kind of can dream about and something that seems almost unattainable,â\\x80\\x9d said Lowry. [...] â\\x80\\x9cHeâ\\x80\\x99s a true professional, he has total respect from every player on the team, every player around the league and certainly from the coaching staff as well. We just feel at this point itâ\\x80\\x99s the right time to name Adam as our captain.â\\x80\\x9d [...] â\\x80\\x9cGetting to be a captain of a Canadian NHL team is pretty special and something Iâ\\x80\\x99m really looking forward too.â\\x80\\x9d', 'score': 0.8449346, 'raw_content': None}, {'url': 'https://www.nhl.com/news/adam-lowry-named-winnipeg-captain', 'title': 'Lowry named Jets captain, replaces Wheeler | NHL.com', 'content': \"NHL logo\\nNHL logo\\n\\n# Lowry named Jets captain, replaces Wheeler\\n\\n30-year-old forward entering 10th season with Winnipeg\\n\\nLowry_Jets\\n\\nAdam Lowry was named captain of the Winnipeg Jets on Tuesday.\\n\\nThe 30-year-old forward was selected by the Jets in the third round (No. 67) of the 2011 NHL Draft and has played his entire nine-season NHL career with Winnipeg. [...] Lowry replaces Blake Wheeler, who was removed as captain Sept. 16, 2022, and signed with the New York Rangers after having his contract bought out this offseason. The Jets opted for three alternate captains last season; Lowry, forward Mark Scheifele and defenseman Josh Morrissey. Coach Rick Bowness said Scheifele and Morrissey will remain alternate captains. [...] Lowry said he's learned from the captains he's played with in Winnipeg, Wheeler and Andrew Ladd, and believes the important thing is staying true to the player he's always been.\", 'score': 0.84027237, 'raw_content': None}, {'url': 'https://www.si.com/onsi/breakaway/news-feed-page/winnipeg-jets-adam-lowry-miss-start-next-season', 'title': 'Winnipeg Jets Captain To Miss Start of Next Season - Sports Illustrated', 'content': 'The Winnipeg Jets fell short of expectations after winning the 2024-25 Presidentâ\\x80\\x99s Trophy, but they are retooling and looking forward to next season. Despite the high hopes, the Jets will likely have to start the 2025-26 season without their captain.\\n\\nThe Jets announced that captain Adam Lowry underwent a successful hip surgery and is expected to be sidelined for five to six months. Lowry played 73 games during the 2024-25 regular season and didnâ\\x80\\x99t miss a single playoff game. [...] The following is a statement from the Winnipeg Jets Hockey Club regarding Captain Adam Lowry: pic.twitter.com/t6S7wajrKq\\n\\nLowry never showed signs of needing postseason surgery, averaging almost 17:30 in ice time throughout the playoffs.\\n\\nIn 13 playoff games this season, Lowry scored four goals, including the double overtime game-winner in Game 7 of their opening-round series against the St. Louis Blues. [...] # Jets Captain To Miss Start of Next Season\\n\\n#### Nick Horwat | May 28, 2025', 'score': 0.8361405, 'raw_content': None}, {'url': 'https://illegalcurve.com/progress-report-on-winnipeg-jets-captain-adam-lowry-who-is-almost-off-the-crutches/', 'title': 'Progress report on Winnipeg Jets captain Adam Lowry who is ...', 'content': 'Illegal Curve Hockey\\nIllegal Curve Hockey\\n\\n## Illegal Curve Hockey\\n\\n### Winnipeg Jets\\n\\n# Progress report on Winnipeg Jets captain Adam Lowry who is “almost off the crutches”\\n\\nLatest update from Jets GM Kevin Cheveldayoff on his captain.\\n\\nby [...] The Jets are getting ready for the 2025 NHL Draft this weekend which meant it was an opportunity to hear from Winnipeg GM Kevin Cheveldayoff who spoke for about 25 minutes this morning on a wide variety of topics including the health of team captain Adam Lowry. We learned late last month that Lowry had undergone successful hip surgery which would require 5-6 months of rehab and which was expected to cost him the first bit of the 2025-26 season.\\n\\nPhoto Credit: Colby Spence (Illegal Curve) [...] Copyright © 2025 Illegal Curve. Website designed by More Hot Leads', 'score': 0.8014549, 'raw_content': None}], 'response_time': 3.68})]\n",
            "\n",
            "\n",
            "\n",
            "here is the last message:  content='The current captain of the Winnipeg Jets is Adam Lowry.' additional_kwargs={'refusal': None} response_metadata={'token_usage': {'completion_tokens': 13, 'prompt_tokens': 1576, 'total_tokens': 1589, 'completion_tokens_details': {'accepted_prediction_tokens': 0, 'audio_tokens': 0, 'reasoning_tokens': 0, 'rejected_prediction_tokens': 0}, 'prompt_tokens_details': {'audio_tokens': 0, 'cached_tokens': 0}}, 'model_name': 'gpt-4.1-nano-2025-04-14', 'system_fingerprint': None, 'id': 'chatcmpl-BtdXMLTmiMiyHwFAndHeHpDhyzZIn', 'service_tier': 'default', 'finish_reason': 'stop', 'logprobs': None} id='run--d0cbd3be-732f-4cd9-b095-66ae004ef0a5-0' usage_metadata={'input_tokens': 1576, 'output_tokens': 13, 'total_tokens': 1589, 'input_token_details': {'audio': 0, 'cache_read': 0}, 'output_token_details': {'audio': 0, 'reasoning': 0}}\n",
            "Receiving update from node: 'agent'\n",
            "[AIMessage(content='The current captain of the Winnipeg Jets is Adam Lowry.', additional_kwargs={'refusal': None}, response_metadata={'token_usage': {'completion_tokens': 13, 'prompt_tokens': 1576, 'total_tokens': 1589, 'completion_tokens_details': {'accepted_prediction_tokens': 0, 'audio_tokens': 0, 'reasoning_tokens': 0, 'rejected_prediction_tokens': 0}, 'prompt_tokens_details': {'audio_tokens': 0, 'cached_tokens': 0}}, 'model_name': 'gpt-4.1-nano-2025-04-14', 'system_fingerprint': None, 'id': 'chatcmpl-BtdXMLTmiMiyHwFAndHeHpDhyzZIn', 'service_tier': 'default', 'finish_reason': 'stop', 'logprobs': None}, id='run--d0cbd3be-732f-4cd9-b095-66ae004ef0a5-0', usage_metadata={'input_tokens': 1576, 'output_tokens': 13, 'total_tokens': 1589, 'input_token_details': {'audio': 0, 'cache_read': 0}, 'output_token_details': {'audio': 0, 'reasoning': 0}})]\n",
            "\n",
            "\n",
            "\n"
          ]
        }
      ],
      "source": [
        "from langchain_core.messages import HumanMessage\n",
        "\n",
        "inputs = {\"messages\" : [HumanMessage(content=\"Who is the current captain of the Winnipeg Jets?\")]}\n",
        "\n",
        "async for chunk in simple_agent_graph.astream(inputs, stream_mode=\"updates\"):\n",
        "    for node, values in chunk.items():\n",
        "        print(f\"Receiving update from node: '{node}'\")\n",
        "        print(values[\"messages\"])\n",
        "        print(\"\\n\\n\")"
      ]
    },
    {
      "cell_type": "markdown",
      "metadata": {
        "id": "DBHnUtLSscRr"
      },
      "source": [
        "Let's look at what happened:\n",
        "\n",
        "1. Our state object was populated with our request\n",
        "2. The state object was passed into our entry point (agent node) and the agent node added an `AIMessage` to the state object and passed it along the conditional edge\n",
        "3. The conditional edge received the state object, found the \"tool_calls\" `additional_kwarg`, and sent the state object to the action node\n",
        "4. The action node added the response from the OpenAI function calling endpoint to the state object and passed it along the edge to the agent node\n",
        "5. The agent node added a response to the state object and passed it along the conditional edge\n",
        "6. The conditional edge received the state object, could not find the \"tool_calls\" `additional_kwarg` and passed the state object to END where we see it output in the cell above!\n",
        "\n",
        "Now let's look at an example that shows a multiple tool usage - all with the same flow!"
      ]
    },
    {
      "cell_type": "code",
      "execution_count": 15,
      "metadata": {
        "colab": {
          "base_uri": "https://localhost:8080/"
        },
        "id": "afv2BuEsV5JG",
        "outputId": "ff009536-d281-4a56-c126-9cd245352bfe"
      },
      "outputs": [
        {
          "name": "stdout",
          "output_type": "stream",
          "text": [
            "here is the last message:  content='' additional_kwargs={'tool_calls': [{'id': 'call_U3rUa8h2NcICimxfRpLV7GII', 'function': {'arguments': '{\"query\": \"QLoRA\"}', 'name': 'arxiv'}, 'type': 'function'}, {'id': 'call_uYdbnTaECV4wxdR8QQTRZOxF', 'function': {'arguments': '{\"query\": \"latest Tweet of author\"}', 'name': 'tavily_search_results_json'}, 'type': 'function'}], 'refusal': None} response_metadata={'token_usage': {'completion_tokens': 54, 'prompt_tokens': 178, 'total_tokens': 232, 'completion_tokens_details': {'accepted_prediction_tokens': 0, 'audio_tokens': 0, 'reasoning_tokens': 0, 'rejected_prediction_tokens': 0}, 'prompt_tokens_details': {'audio_tokens': 0, 'cached_tokens': 0}}, 'model_name': 'gpt-4.1-nano-2025-04-14', 'system_fingerprint': None, 'id': 'chatcmpl-BtdXQOFZhQ2EvjdyoLPoc27gUjwxm', 'service_tier': 'default', 'finish_reason': 'tool_calls', 'logprobs': None} id='run--f94e00b0-a286-4eaa-934e-2b01cec86c90-0' tool_calls=[{'name': 'arxiv', 'args': {'query': 'QLoRA'}, 'id': 'call_U3rUa8h2NcICimxfRpLV7GII', 'type': 'tool_call'}, {'name': 'tavily_search_results_json', 'args': {'query': 'latest Tweet of author'}, 'id': 'call_uYdbnTaECV4wxdR8QQTRZOxF', 'type': 'tool_call'}] usage_metadata={'input_tokens': 178, 'output_tokens': 54, 'total_tokens': 232, 'input_token_details': {'audio': 0, 'cache_read': 0}, 'output_token_details': {'audio': 0, 'reasoning': 0}}\n",
            "Receiving update from node: 'agent'\n",
            "[AIMessage(content='', additional_kwargs={'tool_calls': [{'id': 'call_U3rUa8h2NcICimxfRpLV7GII', 'function': {'arguments': '{\"query\": \"QLoRA\"}', 'name': 'arxiv'}, 'type': 'function'}, {'id': 'call_uYdbnTaECV4wxdR8QQTRZOxF', 'function': {'arguments': '{\"query\": \"latest Tweet of author\"}', 'name': 'tavily_search_results_json'}, 'type': 'function'}], 'refusal': None}, response_metadata={'token_usage': {'completion_tokens': 54, 'prompt_tokens': 178, 'total_tokens': 232, 'completion_tokens_details': {'accepted_prediction_tokens': 0, 'audio_tokens': 0, 'reasoning_tokens': 0, 'rejected_prediction_tokens': 0}, 'prompt_tokens_details': {'audio_tokens': 0, 'cached_tokens': 0}}, 'model_name': 'gpt-4.1-nano-2025-04-14', 'system_fingerprint': None, 'id': 'chatcmpl-BtdXQOFZhQ2EvjdyoLPoc27gUjwxm', 'service_tier': 'default', 'finish_reason': 'tool_calls', 'logprobs': None}, id='run--f94e00b0-a286-4eaa-934e-2b01cec86c90-0', tool_calls=[{'name': 'arxiv', 'args': {'query': 'QLoRA'}, 'id': 'call_U3rUa8h2NcICimxfRpLV7GII', 'type': 'tool_call'}, {'name': 'tavily_search_results_json', 'args': {'query': 'latest Tweet of author'}, 'id': 'call_uYdbnTaECV4wxdR8QQTRZOxF', 'type': 'tool_call'}], usage_metadata={'input_tokens': 178, 'output_tokens': 54, 'total_tokens': 232, 'input_token_details': {'audio': 0, 'cache_read': 0}, 'output_token_details': {'audio': 0, 'reasoning': 0}})]\n",
            "\n",
            "\n",
            "\n",
            "Receiving update from node: 'action'\n",
            "Tool Used: arxiv\n",
            "[ToolMessage(content='Published: 2023-05-23\\nTitle: QLoRA: Efficient Finetuning of Quantized LLMs\\nAuthors: Tim Dettmers, Artidoro Pagnoni, Ari Holtzman, Luke Zettlemoyer\\nSummary: We present QLoRA, an efficient finetuning approach that reduces memory usage\\nenough to finetune a 65B parameter model on a single 48GB GPU while preserving\\nfull 16-bit finetuning task performance. QLoRA backpropagates gradients through\\na frozen, 4-bit quantized pretrained language model into Low Rank\\nAdapters~(LoRA). Our best model family, which we name Guanaco, outperforms all\\nprevious openly released models on the Vicuna benchmark, reaching 99.3% of the\\nperformance level of ChatGPT while only requiring 24 hours of finetuning on a\\nsingle GPU. QLoRA introduces a number of innovations to save memory without\\nsacrificing performance: (a) 4-bit NormalFloat (NF4), a new data type that is\\ninformation theoretically optimal for normally distributed weights (b) double\\nquantization to reduce the average memory footprint by quantizing the\\nquantization constants, and (c) paged optimziers to manage memory spikes. We\\nuse QLoRA to finetune more than 1,000 models, providing a detailed analysis of\\ninstruction following and chatbot performance across 8 instruction datasets,\\nmultiple model types (LLaMA, T5), and model scales that would be infeasible to\\nrun with regular finetuning (e.g. 33B and 65B parameter models). Our results\\nshow that QLoRA finetuning on a small high-quality dataset leads to\\nstate-of-the-art results, even when using smaller models than the previous\\nSoTA. We provide a detailed analysis of chatbot performance based on both human\\nand GPT-4 evaluations showing that GPT-4 evaluations are a cheap and reasonable\\nalternative to human evaluation. Furthermore, we find that current chatbot\\nbenchmarks are not trustworthy to accurately evaluate the performance levels of\\nchatbots. A lemon-picked analysis demonstrates where Guanaco fails compared to\\nChatGPT. We release all of our models and code, including CUDA kernels for\\n4-bit training.\\n\\nPublished: 2024-05-27\\nTitle: Accurate LoRA-Finetuning Quantization of LLMs via Information Retention\\nAuthors: Haotong Qin, Xudong Ma, Xingyu Zheng, Xiaoyang Li, Yang Zhang, Shouda Liu, Jie Luo, Xianglong Liu, Michele Magno\\nSummary: The LoRA-finetuning quantization of LLMs has been extensively studied to\\nobtain accurate yet compact LLMs for deployment on resource-constrained\\nhardware. However, existing methods cause the quantized LLM to severely degrade\\nand even fail to benefit from the finetuning of LoRA. This paper proposes a\\nnovel IR-QLoRA for pushing quantized LLMs with LoRA to be highly accurate\\nthrough information retention. The proposed IR-QLoRA mainly relies on two\\ntechnologies derived from the perspective of unified information: (1)\\nstatistics-based Information Calibration Quantization allows the quantized\\nparameters of LLM to retain original information accurately; (2)\\nfinetuning-based Information Elastic Connection makes LoRA utilizes elastic\\nrepresentation transformation with diverse information. Comprehensive\\nexperiments show that IR-QLoRA can significantly improve accuracy across LLaMA\\nand LLaMA2 families under 2-4 bit-widths, e.g., 4- bit LLaMA-7B achieves 1.4%\\nimprovement on MMLU compared with the state-of-the-art methods. The significant\\nperformance gain requires only a tiny 0.31% additional time consumption,\\nrevealing the satisfactory efficiency of our IR-QLoRA. We highlight that\\nIR-QLoRA enjoys excellent versatility, compatible with various frameworks\\n(e.g., NormalFloat and Integer quantization) and brings general accuracy gains.\\nThe code is available at https://github.com/htqin/ir-qlora.\\n\\nPublished: 2025-02-05\\nTitle: Resource-Efficient & Effective Code Summarization\\nAuthors: Saima Afrin, Joseph Call, Khai-Nguyen Nguyen, Oscar Chaparro, Antonio Mastropaolo\\nSummary: Code Language Models (CLMs) have demonstrated high effectiveness in\\nautomating software engineering tasks such as bug fixing, code generation, and\\ncode documentation. This ', name='arxiv', id='e2e5d0a3-daa8-41df-b534-6aafa43d4ba9', tool_call_id='call_U3rUa8h2NcICimxfRpLV7GII'), ToolMessage(content='[{\"title\": \"Rendering simple text tweets with their authors - API Handyman\", \"url\": \"https://apihandyman.io/rendering-simple-text-tweets-with-their-authors/\", \"content\": \"\\\\\"text\\\\\": \\\\\"I’m on the verge of starting a new blog about non API stuff such as my Reaper/Midi/Helix tinkering (that would at help me not to forget obscure configuration stuff that is not easily found)\\\\\",\\\\n\\\\\"source\\\\\": \\\\\"Twitter for iPhone\\\\\",\\\\n\\\\\"id\\\\\": \\\\\"1291806136774074368\\\\\",\\\\n\\\\\"created_at\\\\\": \\\\\"2020-08-07T18:39:18.000Z\\\\\",\\\\n\\\\\"author_id\\\\\": \\\\\"1327524403\\\\\"\\\\n}\\\\n],\\\\n\\\\\"includes\\\\\": {\\\\n\\\\\"users\\\\\": [\\\\n{\\\\n\\\\\"username\\\\\": \\\\\"apihandyman\\\\\",\\\\n\\\\\"name\\\\\": \\\\\"API Handyman\\\\\",\\\\n\\\\\"profile_image_url\\\\\": \\\\\"\\\\n\\\\\"id\\\\\": \\\\\"2943613557\\\\\"\\\\n},\\\\n{\\\\n\\\\\"username\\\\\": \\\\\"arno_di_loreto\\\\\", [...] `{\\\\n\\\\\"data\\\\\": {\\\\n\\\\\"author_id\\\\\": \\\\\"2943613557\\\\\",\\\\n\\\\\"created_at\\\\\": \\\\\"2022-04-06T17:42:04.000Z\\\\\",\\\\n\\\\\"id\\\\\": \\\\\"1511761169727565829\\\\\",\\\\n\\\\\"text\\\\\": \\\\\"This is a single line tweet\\\\\",\\\\n\\\\\"source\\\\\": \\\\\"Twitter Web App\\\\\"\\\\n},\\\\n\\\\\"includes\\\\\": {\\\\n\\\\\"users\\\\\": [\\\\n{\\\\n\\\\\"name\\\\\": \\\\\"API Handyman\\\\\",\\\\n\\\\\"username\\\\\": \\\\\"apihandyman\\\\\",\\\\n\\\\\"profile_image_url\\\\\": \\\\\"\\\\n\\\\\"id\\\\\": \\\\\"2943613557\\\\\"\\\\n}\\\\n]\\\\n}\\\\n}`\\\\n\\\\nTest script [...] `{\\\\n\\\\\"data\\\\\": {\\\\n\\\\\"text\\\\\": \\\\\"This is a tweet\\\\\\\\n- with\\\\\\\\n- multiple\\\\\\\\n- lines\\\\\",\\\\n\\\\\"created_at\\\\\": \\\\\"2022-04-06T17:43:08.000Z\\\\\",\\\\n\\\\\"id\\\\\": \\\\\"1511761439261925384\\\\\",\\\\n\\\\\"source\\\\\": \\\\\"Twitter Web App\\\\\",\\\\n\\\\\"author_id\\\\\": \\\\\"2943613557\\\\\"\\\\n},\\\\n\\\\\"includes\\\\\": {\\\\n\\\\\"users\\\\\": [\\\\n{\\\\n\\\\\"profile_image_url\\\\\": \\\\\"\\\\n\\\\\"id\\\\\": \\\\\"2943613557\\\\\",\\\\n\\\\\"username\\\\\": \\\\\"apihandyman\\\\\",\\\\n\\\\\"name\\\\\": \\\\\"API Handyman\\\\\"\\\\n}\\\\n]\\\\n}\\\\n}`\\\\n\\\\nAfter sending the request, click on the Visualizer button in the response to see this rendering.\\\\n\\\\n## Rendering multiple tweets from multiple authors\", \"score\": 0.4921643}, {\"title\": \"Author to Author (@author2authors) / X\", \"url\": \"https://twitter.com/author2authors\", \"content\": \"When the Swiss police show up, Professor Cariello has more than frostbite to worry about. A dead body. A frozen mystery. And a past that won\\'t stay buried.\", \"score\": 0.38525957}, {\"title\": \"50 Twitter Accounts All Writers Should Follow - The Expert Editor\", \"url\": \"https://experteditor.com.au/blog/top-50-twitter-accounts-all-writers-should-follow/\", \"content\": \"In addition to writing heartwarming fiction for women, Jennifer Weiner also writes an opinion column in the New York Times. She Tweets a lot about her newest books, but she also shares snippets from her everyday life and the occasional bit of wit.\\\\n\\\\n18. Harlan Coben [...] Joe Dunthorne wrote Submarine, Wild Abandon, and Tiny Eyes. His Twitter account is filled with random thoughts, shout outs to other writers, information on good books to read, and a few thoughts that will leave you pondering the meaning of life. A good example of the latter of these is when the writer Tweeted: “And so, the day came – as had been prophesied – when we all realized we had muted each other”.\\\\n\\\\n14. Roz Morris [...] Joanna Penn writes thriller fiction that has reached the bestseller list or both the New York Times and USA Today. She also works as a professional speaker. Her Twitter account focuses on everything from information about writers from yesteryear to modern news and her thoughts on it. She also mentions her own new books, great thriller books to read, and plenty of information for indie writers.\\\\n\\\\n16. Jen Lancaster\", \"score\": 0.3237974}, {\"title\": \"20 Talented Authors to Follow on Twitter - Publish Drive\", \"url\": \"https://publishdrive.com/authors-to-follow-on-twitter.html\", \"content\": \"Discover a list of authors to follow on Twitter and get inspired by their ways of engaging with their readers.\", \"score\": 0.19187255}, {\"title\": \"The Society of Authors (@Soc_of_Authors) / X\", \"url\": \"https://twitter.com/Soc_of_Authors\", \"content\": \"We are delighted to announce the launch of our free digital resource, designed for authors at all stages of their careers. The principles of good author\", \"score\": 0.15460591}]', name='tavily_search_results_json', id='5858e104-b908-44fb-91ca-2550c57dba13', tool_call_id='call_uYdbnTaECV4wxdR8QQTRZOxF', artifact={'query': 'latest Tweet of author', 'follow_up_questions': None, 'answer': None, 'images': [], 'results': [{'url': 'https://apihandyman.io/rendering-simple-text-tweets-with-their-authors/', 'title': 'Rendering simple text tweets with their authors - API Handyman', 'content': '\"text\": \"I’m on the verge of starting a new blog about non API stuff such as my Reaper/Midi/Helix tinkering (that would at help me not to forget obscure configuration stuff that is not easily found)\",\\n\"source\": \"Twitter for iPhone\",\\n\"id\": \"1291806136774074368\",\\n\"created_at\": \"2020-08-07T18:39:18.000Z\",\\n\"author_id\": \"1327524403\"\\n}\\n],\\n\"includes\": {\\n\"users\": [\\n{\\n\"username\": \"apihandyman\",\\n\"name\": \"API Handyman\",\\n\"profile_image_url\": \"\\n\"id\": \"2943613557\"\\n},\\n{\\n\"username\": \"arno_di_loreto\", [...] `{\\n\"data\": {\\n\"author_id\": \"2943613557\",\\n\"created_at\": \"2022-04-06T17:42:04.000Z\",\\n\"id\": \"1511761169727565829\",\\n\"text\": \"This is a single line tweet\",\\n\"source\": \"Twitter Web App\"\\n},\\n\"includes\": {\\n\"users\": [\\n{\\n\"name\": \"API Handyman\",\\n\"username\": \"apihandyman\",\\n\"profile_image_url\": \"\\n\"id\": \"2943613557\"\\n}\\n]\\n}\\n}`\\n\\nTest script [...] `{\\n\"data\": {\\n\"text\": \"This is a tweet\\\\n- with\\\\n- multiple\\\\n- lines\",\\n\"created_at\": \"2022-04-06T17:43:08.000Z\",\\n\"id\": \"1511761439261925384\",\\n\"source\": \"Twitter Web App\",\\n\"author_id\": \"2943613557\"\\n},\\n\"includes\": {\\n\"users\": [\\n{\\n\"profile_image_url\": \"\\n\"id\": \"2943613557\",\\n\"username\": \"apihandyman\",\\n\"name\": \"API Handyman\"\\n}\\n]\\n}\\n}`\\n\\nAfter sending the request, click on the Visualizer button in the response to see this rendering.\\n\\n## Rendering multiple tweets from multiple authors', 'score': 0.4921643, 'raw_content': None}, {'url': 'https://twitter.com/author2authors', 'title': 'Author to Author (@author2authors) / X', 'content': \"When the Swiss police show up, Professor Cariello has more than frostbite to worry about. A dead body. A frozen mystery. And a past that won't stay buried.\", 'score': 0.38525957, 'raw_content': None}, {'url': 'https://experteditor.com.au/blog/top-50-twitter-accounts-all-writers-should-follow/', 'title': '50 Twitter Accounts All Writers Should Follow - The Expert Editor', 'content': 'In addition to writing heartwarming fiction for women, Jennifer Weiner also writes an opinion column in the New York Times. She Tweets a lot about her newest books, but she also shares snippets from her everyday life and the occasional bit of wit.\\n\\n18. Harlan Coben [...] Joe Dunthorne wrote Submarine, Wild Abandon, and Tiny Eyes. His Twitter account is filled with random thoughts, shout outs to other writers, information on good books to read, and a few thoughts that will leave you pondering the meaning of life. A good example of the latter of these is when the writer Tweeted: “And so, the day came – as had been prophesied – when we all realized we had muted each other”.\\n\\n14. Roz Morris [...] Joanna Penn writes thriller fiction that has reached the bestseller list or both the New York Times and USA Today. She also works as a professional speaker. Her Twitter account focuses on everything from information about writers from yesteryear to modern news and her thoughts on it. She also mentions her own new books, great thriller books to read, and plenty of information for indie writers.\\n\\n16. Jen Lancaster', 'score': 0.3237974, 'raw_content': None}, {'url': 'https://publishdrive.com/authors-to-follow-on-twitter.html', 'title': '20 Talented Authors to Follow on Twitter - Publish Drive', 'content': 'Discover a list of authors to follow on Twitter and get inspired by their ways of engaging with their readers.', 'score': 0.19187255, 'raw_content': None}, {'url': 'https://twitter.com/Soc_of_Authors', 'title': 'The Society of Authors (@Soc_of_Authors) / X', 'content': 'We are delighted to announce the launch of our free digital resource, designed for authors at all stages of their careers. The principles of good author', 'score': 0.15460591, 'raw_content': None}], 'response_time': 3.83})]\n",
            "\n",
            "\n",
            "\n",
            "here is the last message:  content='I found the QLoRA paper on Arxiv, titled \"QLoRA: Efficient Finetuning of Quantized LLMs,\" authored by Tim Dettmers, Artidoro Pagnoni, Ari Holtzman, and Luke Zettlemoyer. \\n\\nRegarding the latest Tweets from each of these authors:\\n- Tim Dettmers has not been explicitly listed with a recent Tweet in the search results.\\n- Artidoro Pagnoni\\'s latest Tweet details are not available in the search results.\\n- Ari Holtzman\\'s latest Tweet details are not available in the search results.\\n- Luke Zettlemoyer\\'s latest Tweet details are not available in the search results.\\n\\nWould you like me to try to find specific Twitter profiles for these authors or any other information?' additional_kwargs={'refusal': None} response_metadata={'token_usage': {'completion_tokens': 157, 'prompt_tokens': 2274, 'total_tokens': 2431, 'completion_tokens_details': {'accepted_prediction_tokens': 0, 'audio_tokens': 0, 'reasoning_tokens': 0, 'rejected_prediction_tokens': 0}, 'prompt_tokens_details': {'audio_tokens': 0, 'cached_tokens': 0}}, 'model_name': 'gpt-4.1-nano-2025-04-14', 'system_fingerprint': None, 'id': 'chatcmpl-BtdXfhwUwBb8wZ7eX8DzvA3c9Fg90', 'service_tier': 'default', 'finish_reason': 'stop', 'logprobs': None} id='run--91e56bda-5d04-4615-b7fb-9340ec6a9fba-0' usage_metadata={'input_tokens': 2274, 'output_tokens': 157, 'total_tokens': 2431, 'input_token_details': {'audio': 0, 'cache_read': 0}, 'output_token_details': {'audio': 0, 'reasoning': 0}}\n",
            "Receiving update from node: 'agent'\n",
            "[AIMessage(content='I found the QLoRA paper on Arxiv, titled \"QLoRA: Efficient Finetuning of Quantized LLMs,\" authored by Tim Dettmers, Artidoro Pagnoni, Ari Holtzman, and Luke Zettlemoyer. \\n\\nRegarding the latest Tweets from each of these authors:\\n- Tim Dettmers has not been explicitly listed with a recent Tweet in the search results.\\n- Artidoro Pagnoni\\'s latest Tweet details are not available in the search results.\\n- Ari Holtzman\\'s latest Tweet details are not available in the search results.\\n- Luke Zettlemoyer\\'s latest Tweet details are not available in the search results.\\n\\nWould you like me to try to find specific Twitter profiles for these authors or any other information?', additional_kwargs={'refusal': None}, response_metadata={'token_usage': {'completion_tokens': 157, 'prompt_tokens': 2274, 'total_tokens': 2431, 'completion_tokens_details': {'accepted_prediction_tokens': 0, 'audio_tokens': 0, 'reasoning_tokens': 0, 'rejected_prediction_tokens': 0}, 'prompt_tokens_details': {'audio_tokens': 0, 'cached_tokens': 0}}, 'model_name': 'gpt-4.1-nano-2025-04-14', 'system_fingerprint': None, 'id': 'chatcmpl-BtdXfhwUwBb8wZ7eX8DzvA3c9Fg90', 'service_tier': 'default', 'finish_reason': 'stop', 'logprobs': None}, id='run--91e56bda-5d04-4615-b7fb-9340ec6a9fba-0', usage_metadata={'input_tokens': 2274, 'output_tokens': 157, 'total_tokens': 2431, 'input_token_details': {'audio': 0, 'cache_read': 0}, 'output_token_details': {'audio': 0, 'reasoning': 0}})]\n",
            "\n",
            "\n",
            "\n"
          ]
        }
      ],
      "source": [
        "inputs = {\"messages\" : [HumanMessage(content=\"Search Arxiv for the QLoRA paper, then search each of the authors to find out their latest Tweet using Tavily!\")]}\n",
        "\n",
        "async for chunk in simple_agent_graph.astream(inputs, stream_mode=\"updates\"):\n",
        "    for node, values in chunk.items():\n",
        "        print(f\"Receiving update from node: '{node}'\")\n",
        "        if node == \"action\":\n",
        "          print(f\"Tool Used: {values['messages'][0].name}\")\n",
        "        print(values[\"messages\"])\n",
        "\n",
        "        print(\"\\n\\n\")"
      ]
    },
    {
      "cell_type": "markdown",
      "metadata": {
        "id": "CXzDlZVz1Hnf"
      },
      "source": [
        "#### 🏗️ Activity #2:\n",
        "\n",
        "Please write out the steps the agent took to arrive at the correct answer.\n",
        "\n",
        "\n",
        "#### ✅ Aswer\n",
        "\n",
        "\n",
        "\n",
        "1. Our state object was populated with our request\n",
        "2. The state object was passed into our entry point (agent node) added two tool calls, one for `arxiv` and one for `tavily`\n",
        "3. The conditional edge received the state object, found the \"tool_calls\" `additional_kwarg`, and sent the state object to the action node\n",
        "4. The action node made two two calls, and appended the results to the state, then the run transitioned to the agent node.\n",
        "5. The agent node called open AI but with the reult from the tools calls, and the LLM ouputted an answer and no more tool calls.\n",
        "6. The should continue node found no tool calls so it transitioned to END.\n",
        "\n",
        "\n"
      ]
    },
    {
      "cell_type": "markdown",
      "metadata": {},
      "source": [
        "# 🤝 Breakout Room #2"
      ]
    },
    {
      "cell_type": "markdown",
      "metadata": {
        "id": "v7c8-Uyarh1v"
      },
      "source": [
        "## Part 1: LangSmith Evaluator"
      ]
    },
    {
      "cell_type": "markdown",
      "metadata": {
        "id": "pV3XeFOT1Sar"
      },
      "source": [
        "### Pre-processing for LangSmith"
      ]
    },
    {
      "cell_type": "markdown",
      "metadata": {
        "id": "wruQCuzewUuO"
      },
      "source": [
        "To do a little bit more preprocessing, let's wrap our LangGraph agent in a simple chain."
      ]
    },
    {
      "cell_type": "code",
      "execution_count": 16,
      "metadata": {
        "id": "oeXdQgbxwhTv"
      },
      "outputs": [],
      "source": [
        "def convert_inputs(input_object):\n",
        "  return {\"messages\" : [HumanMessage(content=input_object[\"question\"])]}\n",
        "\n",
        "def parse_output(input_state):\n",
        "  return input_state[\"messages\"][-1].content\n",
        "\n",
        "agent_chain_with_formatting = convert_inputs | simple_agent_graph | parse_output"
      ]
    },
    {
      "cell_type": "code",
      "execution_count": 17,
      "metadata": {
        "colab": {
          "base_uri": "https://localhost:8080/",
          "height": 105
        },
        "id": "orYxBZXSxJjZ",
        "outputId": "76be837b-6424-4516-8f63-07fbd8c25bf5"
      },
      "outputs": [
        {
          "name": "stdout",
          "output_type": "stream",
          "text": [
            "here is the last message:  content='' additional_kwargs={'tool_calls': [{'id': 'call_7MJIS9yhoxtCWkumAYZ94AMK', 'function': {'arguments': '{\"query\": \"quarterback of Roosevelt High School Seattle WA 2006\"}', 'name': 'tavily_search_results_json'}, 'type': 'function'}, {'id': 'call_5hP1z1Zqf7jlpqquJJ0L6ur6', 'function': {'arguments': '{\"query\": \"Roosevelt High School Seattle WA 2006 football team\"}', 'name': 'tavily_search_results_json'}, 'type': 'function'}], 'refusal': None} response_metadata={'token_usage': {'completion_tokens': 72, 'prompt_tokens': 173, 'total_tokens': 245, 'completion_tokens_details': {'accepted_prediction_tokens': 0, 'audio_tokens': 0, 'reasoning_tokens': 0, 'rejected_prediction_tokens': 0}, 'prompt_tokens_details': {'audio_tokens': 0, 'cached_tokens': 0}}, 'model_name': 'gpt-4.1-nano-2025-04-14', 'system_fingerprint': None, 'id': 'chatcmpl-BtdYrwZNzKDf8oewZXXIUk7cILrDi', 'service_tier': 'default', 'finish_reason': 'tool_calls', 'logprobs': None} id='run--9c58fe94-de4d-476f-8086-cf161e5fead6-0' tool_calls=[{'name': 'tavily_search_results_json', 'args': {'query': 'quarterback of Roosevelt High School Seattle WA 2006'}, 'id': 'call_7MJIS9yhoxtCWkumAYZ94AMK', 'type': 'tool_call'}, {'name': 'tavily_search_results_json', 'args': {'query': 'Roosevelt High School Seattle WA 2006 football team'}, 'id': 'call_5hP1z1Zqf7jlpqquJJ0L6ur6', 'type': 'tool_call'}] usage_metadata={'input_tokens': 173, 'output_tokens': 72, 'total_tokens': 245, 'input_token_details': {'audio': 0, 'cache_read': 0}, 'output_token_details': {'audio': 0, 'reasoning': 0}}\n",
            "here is the last message:  content=\"The quarterback of Roosevelt High School in Seattle, WA in 2006 was likely Mark Pattison. He graduated from Roosevelt High School in 1980 and played as a quarterback for the school's football team.\" additional_kwargs={'refusal': None} response_metadata={'token_usage': {'completion_tokens': 42, 'prompt_tokens': 4185, 'total_tokens': 4227, 'completion_tokens_details': {'accepted_prediction_tokens': 0, 'audio_tokens': 0, 'reasoning_tokens': 0, 'rejected_prediction_tokens': 0}, 'prompt_tokens_details': {'audio_tokens': 0, 'cached_tokens': 0}}, 'model_name': 'gpt-4.1-nano-2025-04-14', 'system_fingerprint': None, 'id': 'chatcmpl-BtdYy3C66m7KGt2iZrNNPB1EbxEcH', 'service_tier': 'default', 'finish_reason': 'stop', 'logprobs': None} id='run--2e6c00e0-cc7f-4804-83b0-585260d69b5c-0' usage_metadata={'input_tokens': 4185, 'output_tokens': 42, 'total_tokens': 4227, 'input_token_details': {'audio': 0, 'cache_read': 0}, 'output_token_details': {'audio': 0, 'reasoning': 0}}\n"
          ]
        },
        {
          "data": {
            "text/plain": [
              "\"The quarterback of Roosevelt High School in Seattle, WA in 2006 was likely Mark Pattison. He graduated from Roosevelt High School in 1980 and played as a quarterback for the school's football team.\""
            ]
          },
          "execution_count": 17,
          "metadata": {},
          "output_type": "execute_result"
        }
      ],
      "source": [
        "agent_chain_with_formatting.invoke({\"question\" : \"Who was the qurterback of Rooselevelt High School in Seattle WA in 2006?\"})"
      ]
    },
    {
      "cell_type": "markdown",
      "metadata": {
        "id": "f9UkCIqkpyZu"
      },
      "source": [
        "### Task 1: Creating An Evaluation Dataset\n",
        "\n",
        "Just as we saw last week, we'll want to create a dataset to test our Agent's ability to answer questions.\n",
        "\n",
        "In order to do this - we'll want to provide some questions and some answers. Let's look at how we can create such a dataset below.\n",
        "\n",
        "```python\n",
        "questions = [\n",
        "    \"What optimizer is used in QLoRA?\",\n",
        "    \"What data type was created in the QLoRA paper?\",\n",
        "    \"What is a Retrieval Augmented Generation system?\",\n",
        "    \"Who authored the QLoRA paper?\",\n",
        "    \"What is the most popular deep learning framework?\",\n",
        "    \"What significant improvements does the LoRA system make?\"\n",
        "]\n",
        "\n",
        "answers = [\n",
        "    {\"must_mention\" : [\"paged\", \"optimizer\"]},\n",
        "    {\"must_mention\" : [\"NF4\", \"NormalFloat\"]},\n",
        "    {\"must_mention\" : [\"ground\", \"context\"]},\n",
        "    {\"must_mention\" : [\"Tim\", \"Dettmers\"]},\n",
        "    {\"must_mention\" : [\"PyTorch\", \"TensorFlow\"]},\n",
        "    {\"must_mention\" : [\"reduce\", \"parameters\"]},\n",
        "]\n",
        "```"
      ]
    },
    {
      "cell_type": "markdown",
      "metadata": {
        "id": "VfMXF2KAsQxs"
      },
      "source": [
        "#### 🏗️ Activity #3:\n",
        "\n",
        "Please create a dataset in the above format with at least 5 questions."
      ]
    },
    {
      "cell_type": "code",
      "execution_count": 18,
      "metadata": {
        "id": "CbagRuJop83E"
      },
      "outputs": [],
      "source": [
        "questions = [\n",
        "    \"What optimizer is used in QLoRA?\",\n",
        "    \"What data type was created in the QLoRA paper?\",\n",
        "    \"What is a Retrieval Augmented Generation system?\",\n",
        "    \"Who authored the QLoRA paper?\",\n",
        "    \"What is the most popular deep learning framework?\",\n",
        "    \"What significant improvements does the LoRA system make?\"\n",
        "]\n",
        "\n",
        "answers = [\n",
        "    {\"must_mention\" : [\"paged\", \"optimizer\"]},\n",
        "    {\"must_mention\" : [\"NF4\", \"NormalFloat\"]},\n",
        "    {\"must_mention\" : [\"ground\", \"context\"]},\n",
        "    {\"must_mention\" : [\"Tim\", \"Dettmers\"]},\n",
        "    {\"must_mention\" : [\"PyTorch\", \"TensorFlow\"]},\n",
        "    {\"must_mention\" : [\"reduce\", \"parameters\"]},\n",
        "]"
      ]
    },
    {
      "cell_type": "markdown",
      "metadata": {
        "id": "z7QVFuAmsh7L"
      },
      "source": [
        "Now we can add our dataset to our LangSmith project using the following code which we saw last Thursday!"
      ]
    },
    {
      "cell_type": "code",
      "execution_count": 19,
      "metadata": {
        "id": "RLfrZrgSsn85"
      },
      "outputs": [
        {
          "data": {
            "text/plain": [
              "{'example_ids': ['051fe4ea-fbc7-484d-9b82-797c47d8bee1',\n",
              "  'e7c47454-1334-4dd5-8ef2-7caae6181f04',\n",
              "  '7aca2bd5-ffbe-443b-b5e6-abdef34a43fc',\n",
              "  '68fe0be9-f6c6-48bd-b108-52c27ab83ff5',\n",
              "  '979528d8-4651-4fda-83ed-e44b3fad99fd',\n",
              "  '86fe1d5f-d308-44b1-b32a-38500559040d'],\n",
              " 'count': 6}"
            ]
          },
          "execution_count": 19,
          "metadata": {},
          "output_type": "execute_result"
        }
      ],
      "source": [
        "from langsmith import Client\n",
        "\n",
        "client = Client()\n",
        "\n",
        "dataset_name = f\"Retrieval Augmented Generation - Evaluation Dataset - {uuid4().hex[0:8]}\"\n",
        "\n",
        "dataset = client.create_dataset(\n",
        "    dataset_name=dataset_name,\n",
        "    description=\"Questions about the QLoRA Paper to Evaluate RAG over the same paper.\"\n",
        ")\n",
        "\n",
        "client.create_examples(\n",
        "    inputs=[{\"question\" : q} for q in questions],\n",
        "    outputs=answers,\n",
        "    dataset_id=dataset.id,\n",
        ")"
      ]
    },
    {
      "cell_type": "markdown",
      "metadata": {
        "id": "ciV73F9Q04w0"
      },
      "source": [
        "#### ❓ Question #3:\n",
        "\n",
        "How are the correct answers associated with the questions?\n",
        "\n",
        "✅ Answer\n",
        "\n",
        "The correct answers are associated to the questions by the index position of the string in each array."
      ]
    },
    {
      "cell_type": "markdown",
      "metadata": {
        "id": "-lRTXUrTtP9Y"
      },
      "source": [
        "### Task 2: Adding Evaluators\n",
        "\n",
        "Now we can add a custom evaluator to see if our responses contain the expected information.\n",
        "\n",
        "We'll be using a fairly naive exact-match process to determine if our response contains specific strings."
      ]
    },
    {
      "cell_type": "code",
      "execution_count": 20,
      "metadata": {
        "id": "QrAUXMFftlAY"
      },
      "outputs": [],
      "source": [
        "from langsmith.evaluation import EvaluationResult, run_evaluator\n",
        "\n",
        "@run_evaluator\n",
        "def must_mention(run, example) -> EvaluationResult:\n",
        "    prediction = run.outputs.get(\"output\") or \"\"\n",
        "    required = example.outputs.get(\"must_mention\") or []\n",
        "    score = all(phrase in prediction for phrase in required)\n",
        "    return EvaluationResult(key=\"must_mention\", score=score)"
      ]
    },
    {
      "cell_type": "markdown",
      "metadata": {
        "id": "PNtHORUh0jZY"
      },
      "source": [
        "#### ❓ Question #4:\n",
        "\n",
        "What are some ways you could improve this metric as-is?\n",
        "# 🤔\n",
        "\n",
        "This evaluation only checks to see if the output contains the keywords. But here are some issues with that approach:\n",
        "\n",
        "\n",
        "> 1. No fuzzy matching - requires exact string matches which is brittle\n",
        "> 2. Case sensitivity - uppercase/lowercase differences will fail matches\n",
        "> 3. No semantic similarity - synonyms or paraphrasing won't be detected\n",
        "> 4. No partial credit - it's all or nothing scoring\n",
        "> 5. No consideration of word order or context\n",
        "> 6. No handling of formatting differences (spaces, punctuation etc)\n",
        "> 7. No weighting of importance between different required phrases"
      ]
    },
    {
      "cell_type": "markdown",
      "metadata": {
        "id": "r1RJr349zhv7"
      },
      "source": [
        "Task 3: Evaluating\n",
        "\n",
        "All that is left to do is evaluate our agent's response!"
      ]
    },
    {
      "cell_type": "code",
      "execution_count": 21,
      "metadata": {
        "colab": {
          "base_uri": "https://localhost:8080/",
          "height": 118,
          "referenced_widgets": [
            "efcf57067cf743d8b4ce059a61cbe02e",
            "53e33aae3b97490c82aec7bbb0d6ebba",
            "ad84e0e971d3455db2efe7dd0d1f803e",
            "72adef9b70dd48198b7322b6c5b113cf",
            "8a61d045ffd44ac58f3f13eb10044836",
            "041e22a9b5514e36bd4d1dac01d5d398",
            "886d762f2a7c421382efb5502c6d42a1",
            "ab91fd625bbd43afbf8c6398193a88d0",
            "716557ad09874dcb989d75f7c74424cd",
            "77d4c0ebaae045b58efc4f789c9a2360",
            "0d622ccc56264fac8fd7508dbdbe6e29"
          ]
        },
        "id": "p5TeCUUkuGld",
        "outputId": "2f7d62a2-e78d-447a-d07b-f9e4d500fb79"
      },
      "outputs": [
        {
          "name": "stdout",
          "output_type": "stream",
          "text": [
            "View the evaluation results for experiment: 'Search Pipeline - Evaluation - 1a7d-e20b4982' at:\n",
            "https://smith.langchain.com/o/add79bbe-c927-4cfa-8dbd-3fe101dd7548/datasets/3173d2b8-1a7a-4039-be06-69660740d487/compare?selectedSessions=c147805e-4b17-478f-8e5f-d2382a4e93fc\n",
            "\n",
            "\n"
          ]
        },
        {
          "data": {
            "application/vnd.jupyter.widget-view+json": {
              "model_id": "5d16ba110f62461ea962ed47083b3e8a",
              "version_major": 2,
              "version_minor": 0
            },
            "text/plain": [
              "0it [00:00, ?it/s]"
            ]
          },
          "metadata": {},
          "output_type": "display_data"
        },
        {
          "name": "stdout",
          "output_type": "stream",
          "text": [
            "here is the last message:  content='' additional_kwargs={'tool_calls': [{'id': 'call_MJbMHdBwZDOcp8XZG99fKMIr', 'function': {'arguments': '{\"query\":\"optimizer used in QLoRA\"}', 'name': 'tavily_search_results_json'}, 'type': 'function'}], 'refusal': None} response_metadata={'token_usage': {'completion_tokens': 23, 'prompt_tokens': 161, 'total_tokens': 184, 'completion_tokens_details': {'accepted_prediction_tokens': 0, 'audio_tokens': 0, 'reasoning_tokens': 0, 'rejected_prediction_tokens': 0}, 'prompt_tokens_details': {'audio_tokens': 0, 'cached_tokens': 0}}, 'model_name': 'gpt-4.1-nano-2025-04-14', 'system_fingerprint': None, 'id': 'chatcmpl-BtdZUmDoFCFzjTXd0wiiq6PytjhcM', 'service_tier': 'default', 'finish_reason': 'tool_calls', 'logprobs': None} id='run--2d7a8d43-e768-4305-9c32-89ca7d7bed72-0' tool_calls=[{'name': 'tavily_search_results_json', 'args': {'query': 'optimizer used in QLoRA'}, 'id': 'call_MJbMHdBwZDOcp8XZG99fKMIr', 'type': 'tool_call'}] usage_metadata={'input_tokens': 161, 'output_tokens': 23, 'total_tokens': 184, 'input_token_details': {'audio': 0, 'cache_read': 0}, 'output_token_details': {'audio': 0, 'reasoning': 0}}\n",
            "here is the last message:  content='The optimizer used in QLoRA is the \"paged optimizer,\" which is designed to manage memory usage during the training of large language models by handling memory spikes and optimizing memory footprint.' additional_kwargs={'refusal': None} response_metadata={'token_usage': {'completion_tokens': 37, 'prompt_tokens': 1873, 'total_tokens': 1910, 'completion_tokens_details': {'accepted_prediction_tokens': 0, 'audio_tokens': 0, 'reasoning_tokens': 0, 'rejected_prediction_tokens': 0}, 'prompt_tokens_details': {'audio_tokens': 0, 'cached_tokens': 0}}, 'model_name': 'gpt-4.1-nano-2025-04-14', 'system_fingerprint': None, 'id': 'chatcmpl-BtdZb7vALj00kd3kwabZkjjKYZrHH', 'service_tier': 'default', 'finish_reason': 'stop', 'logprobs': None} id='run--cbc046cb-e87e-4ae7-84e4-56a66a782ff5-0' usage_metadata={'input_tokens': 1873, 'output_tokens': 37, 'total_tokens': 1910, 'input_token_details': {'audio': 0, 'cache_read': 0}, 'output_token_details': {'audio': 0, 'reasoning': 0}}\n",
            "here is the last message:  content='' additional_kwargs={'tool_calls': [{'id': 'call_DrZb243kEak6uJ791FDb61KX', 'function': {'arguments': '{\"query\":\"QLoRA paper authors\"}', 'name': 'tavily_search_results_json'}, 'type': 'function'}], 'refusal': None} response_metadata={'token_usage': {'completion_tokens': 22, 'prompt_tokens': 160, 'total_tokens': 182, 'completion_tokens_details': {'accepted_prediction_tokens': 0, 'audio_tokens': 0, 'reasoning_tokens': 0, 'rejected_prediction_tokens': 0}, 'prompt_tokens_details': {'audio_tokens': 0, 'cached_tokens': 0}}, 'model_name': 'gpt-4.1-nano-2025-04-14', 'system_fingerprint': None, 'id': 'chatcmpl-BtdZcTIizKQkcyGWBvJFAD1PuAEeb', 'service_tier': 'default', 'finish_reason': 'tool_calls', 'logprobs': None} id='run--2e87fe2b-1c3b-45ce-aa8d-b58342039e31-0' tool_calls=[{'name': 'tavily_search_results_json', 'args': {'query': 'QLoRA paper authors'}, 'id': 'call_DrZb243kEak6uJ791FDb61KX', 'type': 'tool_call'}] usage_metadata={'input_tokens': 160, 'output_tokens': 22, 'total_tokens': 182, 'input_token_details': {'audio': 0, 'cache_read': 0}, 'output_token_details': {'audio': 0, 'reasoning': 0}}\n",
            "here is the last message:  content='The authors of the QLoRA paper are Tim Dettmers, Artidoro Pagnoni, Ari Holtzman, and Luke Zettlemoyer.' additional_kwargs={'refusal': None} response_metadata={'token_usage': {'completion_tokens': 34, 'prompt_tokens': 1918, 'total_tokens': 1952, 'completion_tokens_details': {'accepted_prediction_tokens': 0, 'audio_tokens': 0, 'reasoning_tokens': 0, 'rejected_prediction_tokens': 0}, 'prompt_tokens_details': {'audio_tokens': 0, 'cached_tokens': 0}}, 'model_name': 'gpt-4.1-nano-2025-04-14', 'system_fingerprint': None, 'id': 'chatcmpl-BtdZfaAwHFc1FuRCDTd5kEQCwO9cn', 'service_tier': 'default', 'finish_reason': 'stop', 'logprobs': None} id='run--ca3f27e9-8013-4d95-ac60-5cd1820b19f9-0' usage_metadata={'input_tokens': 1918, 'output_tokens': 34, 'total_tokens': 1952, 'input_token_details': {'audio': 0, 'cache_read': 0}, 'output_token_details': {'audio': 0, 'reasoning': 0}}\n",
            "here is the last message:  content=\"A Retrieval Augmented Generation (RAG) system is a type of artificial intelligence model that combines the strengths of information retrieval and natural language generation. It is designed to improve the accuracy and relevance of generated responses by retrieving relevant information from an external knowledge base or document store before generating a response.\\n\\nHere's how it works:\\n1. **Retrieval**: The system first searches a large corpus of documents or data sources to find information relevant to the user's query.\\n2. **Augmentation**: The retrieved information is then used to augment the context for the language model.\\n3. **Generation**: The language model generates a response based on both the user's query and the retrieved information, resulting in more accurate and contextually appropriate answers.\\n\\nThis approach is particularly useful in scenarios where the model's training data may not contain the most up-to-date or specific information, allowing the system to access external data dynamically and produce more informed responses.\" additional_kwargs={'refusal': None} response_metadata={'token_usage': {'completion_tokens': 186, 'prompt_tokens': 161, 'total_tokens': 347, 'completion_tokens_details': {'accepted_prediction_tokens': 0, 'audio_tokens': 0, 'reasoning_tokens': 0, 'rejected_prediction_tokens': 0}, 'prompt_tokens_details': {'audio_tokens': 0, 'cached_tokens': 0}}, 'model_name': 'gpt-4.1-nano-2025-04-14', 'system_fingerprint': None, 'id': 'chatcmpl-BtdZgwE47NCFbg7NNxHXWrHaNTnwY', 'service_tier': 'default', 'finish_reason': 'stop', 'logprobs': None} id='run--b401453c-bc39-4729-9d0e-59447f3e0661-0' usage_metadata={'input_tokens': 161, 'output_tokens': 186, 'total_tokens': 347, 'input_token_details': {'audio': 0, 'cache_read': 0}, 'output_token_details': {'audio': 0, 'reasoning': 0}}\n",
            "here is the last message:  content='' additional_kwargs={'tool_calls': [{'id': 'call_Hmm2b1boR9NsAF6SlN1auNp7', 'function': {'arguments': '{\"query\": \"LoRA system improvements\"}', 'name': 'tavily_search_results_json'}, 'type': 'function'}, {'id': 'call_nZzNhjyfHA1gtmrLV6Vakt99', 'function': {'arguments': '{\"query\": \"significant improvements of LoRA system\"}', 'name': 'tavily_search_results_json'}, 'type': 'function'}], 'refusal': None} response_metadata={'token_usage': {'completion_tokens': 61, 'prompt_tokens': 162, 'total_tokens': 223, 'completion_tokens_details': {'accepted_prediction_tokens': 0, 'audio_tokens': 0, 'reasoning_tokens': 0, 'rejected_prediction_tokens': 0}, 'prompt_tokens_details': {'audio_tokens': 0, 'cached_tokens': 0}}, 'model_name': 'gpt-4.1-nano-2025-04-14', 'system_fingerprint': None, 'id': 'chatcmpl-BtdZj432LLnr1PYRinXRAJ6NcOHAo', 'service_tier': 'default', 'finish_reason': 'tool_calls', 'logprobs': None} id='run--4b8ae2b3-454c-42dc-b744-5c60ba56cdc3-0' tool_calls=[{'name': 'tavily_search_results_json', 'args': {'query': 'LoRA system improvements'}, 'id': 'call_Hmm2b1boR9NsAF6SlN1auNp7', 'type': 'tool_call'}, {'name': 'tavily_search_results_json', 'args': {'query': 'significant improvements of LoRA system'}, 'id': 'call_nZzNhjyfHA1gtmrLV6Vakt99', 'type': 'tool_call'}] usage_metadata={'input_tokens': 162, 'output_tokens': 61, 'total_tokens': 223, 'input_token_details': {'audio': 0, 'cache_read': 0}, 'output_token_details': {'audio': 0, 'reasoning': 0}}\n",
            "here is the last message:  content=\"The LoRA (Low-Rank Adaptation) system has made several significant improvements, particularly in the context of IoT and wireless communication technologies. These improvements include:\\n\\n1. Enhanced Geolocation Capabilities: LoRa Edge's geolocation features have been improved to meet increasing demand for accurate location data, simplifying the integration of location-based services into IoT solutions.\\n2. Advances in Hardware and Signal Reliability: Reductions in hardware conflicts and improvements in communication reliability have been achieved, with experiments showing positioning accuracy comparable to GPS.\\n3. Improved Localization Accuracy: The introduction of artificial neural networks (ANN) in edge AI has significantly improved localization accuracy, with RSSI-based distance estimation accuracy improving by 6% to 49% and localization errors reduced by approximately 101 meters.\\n4. Expansion into New Markets: LoRaWAN has expanded into SMB and Smart Home markets, providing efficient and cost-effective connectivity solutions.\\n5. Network and Protocol Enhancements: The LoRa Alliance has outlined a development roadmap that includes expanding addressable markets, hyperscalability, core network management, and physical/link layer development.\\n6. Better Spectrum Efficiency and Reliability: The implementation of CSMA-CA based on CAD improves spectrum efficiency and device communication reliability, especially in congested environments.\\n7. Ecosystem and Application Growth: Ongoing advancements in hardware, semiconductors, and ecosystem collaborations continue to improve device performance, power efficiency, and cost-effectiveness.\\n8. Smart City and Industrial Applications: LoRaWAN is increasingly used in smart city solutions such as smart lighting, waste management, parking, environmental monitoring, and industrial IoT applications, enhancing operational efficiency and quality of life.\\n\\nOverall, these improvements make LoRA systems more accurate, reliable, scalable, and suitable for a wide range of applications, from geolocation to smart cities and industrial IoT.\" additional_kwargs={'refusal': None} response_metadata={'token_usage': {'completion_tokens': 367, 'prompt_tokens': 2881, 'total_tokens': 3248, 'completion_tokens_details': {'accepted_prediction_tokens': 0, 'audio_tokens': 0, 'reasoning_tokens': 0, 'rejected_prediction_tokens': 0}, 'prompt_tokens_details': {'audio_tokens': 0, 'cached_tokens': 0}}, 'model_name': 'gpt-4.1-nano-2025-04-14', 'system_fingerprint': None, 'id': 'chatcmpl-BtdZn9NvOgfA07Gk3mbjiCr0N0LWy', 'service_tier': 'default', 'finish_reason': 'stop', 'logprobs': None} id='run--77868827-a5a9-4d30-80ca-9f5b43dcbbf0-0' usage_metadata={'input_tokens': 2881, 'output_tokens': 367, 'total_tokens': 3248, 'input_token_details': {'audio': 0, 'cache_read': 0}, 'output_token_details': {'audio': 0, 'reasoning': 0}}\n",
            "here is the last message:  content='The most popular deep learning framework as of recent years is TensorFlow, developed by Google. It is widely used for research and production due to its flexibility, scalability, and extensive community support. Other popular frameworks include PyTorch, developed by Facebook, which is favored for its ease of use and dynamic computation graph, especially in research settings. Keras, which is now integrated into TensorFlow, is also popular for its user-friendly API. Would you like the latest statistics or trends to confirm this?' additional_kwargs={'refusal': None} response_metadata={'token_usage': {'completion_tokens': 100, 'prompt_tokens': 161, 'total_tokens': 261, 'completion_tokens_details': {'accepted_prediction_tokens': 0, 'audio_tokens': 0, 'reasoning_tokens': 0, 'rejected_prediction_tokens': 0}, 'prompt_tokens_details': {'audio_tokens': 0, 'cached_tokens': 0}}, 'model_name': 'gpt-4.1-nano-2025-04-14', 'system_fingerprint': None, 'id': 'chatcmpl-BtdZqoHF3ue8qZEfASgpCcq36kRy4', 'service_tier': 'default', 'finish_reason': 'stop', 'logprobs': None} id='run--1ab4997a-93a9-4cb1-9e4b-eac96a5321d5-0' usage_metadata={'input_tokens': 161, 'output_tokens': 100, 'total_tokens': 261, 'input_token_details': {'audio': 0, 'cache_read': 0}, 'output_token_details': {'audio': 0, 'reasoning': 0}}\n",
            "here is the last message:  content='' additional_kwargs={'tool_calls': [{'id': 'call_IAa7X0CO071YGOoqWXrhBHV8', 'function': {'arguments': '{\"query\":\"QLoRA paper\"}', 'name': 'arxiv'}, 'type': 'function'}], 'refusal': None} response_metadata={'token_usage': {'completion_tokens': 17, 'prompt_tokens': 164, 'total_tokens': 181, 'completion_tokens_details': {'accepted_prediction_tokens': 0, 'audio_tokens': 0, 'reasoning_tokens': 0, 'rejected_prediction_tokens': 0}, 'prompt_tokens_details': {'audio_tokens': 0, 'cached_tokens': 0}}, 'model_name': 'gpt-4.1-nano-2025-04-14', 'system_fingerprint': None, 'id': 'chatcmpl-BtdZsSwoCq1pgWKInBnpstqRN3aeA', 'service_tier': 'default', 'finish_reason': 'tool_calls', 'logprobs': None} id='run--ef9ecc78-f378-43cd-ac48-c9e404da9d7e-0' tool_calls=[{'name': 'arxiv', 'args': {'query': 'QLoRA paper'}, 'id': 'call_IAa7X0CO071YGOoqWXrhBHV8', 'type': 'tool_call'}] usage_metadata={'input_tokens': 164, 'output_tokens': 17, 'total_tokens': 181, 'input_token_details': {'audio': 0, 'cache_read': 0}, 'output_token_details': {'audio': 0, 'reasoning': 0}}\n",
            "here is the last message:  content='The QLoRA paper introduced a data type called \"Quantized Low-Rank Adaptation\" (QLoRA), which involves quantized representations of large language models to enable efficient fine-tuning. The key data type created in the context of QLoRA is a quantized version of the model parameters, typically using low-bit quantization (such as 4-bit or 8-bit) to reduce memory and computational requirements while maintaining model performance.' additional_kwargs={'refusal': None} response_metadata={'token_usage': {'completion_tokens': 91, 'prompt_tokens': 1142, 'total_tokens': 1233, 'completion_tokens_details': {'accepted_prediction_tokens': 0, 'audio_tokens': 0, 'reasoning_tokens': 0, 'rejected_prediction_tokens': 0}, 'prompt_tokens_details': {'audio_tokens': 0, 'cached_tokens': 0}}, 'model_name': 'gpt-4.1-nano-2025-04-14', 'system_fingerprint': None, 'id': 'chatcmpl-BtdZuIIg5gko8TXVP7kXBrgnTKRql', 'service_tier': 'default', 'finish_reason': 'stop', 'logprobs': None} id='run--58eb171e-4980-443d-bf31-fd61acef638f-0' usage_metadata={'input_tokens': 1142, 'output_tokens': 91, 'total_tokens': 1233, 'input_token_details': {'audio': 0, 'cache_read': 0}, 'output_token_details': {'audio': 0, 'reasoning': 0}}\n"
          ]
        }
      ],
      "source": [
        "experiment_results = client.evaluate(\n",
        "    agent_chain_with_formatting,\n",
        "    data=dataset_name,\n",
        "    evaluators=[must_mention],\n",
        "    experiment_prefix=f\"Search Pipeline - Evaluation - {uuid4().hex[0:4]}\",\n",
        "    metadata={\"version\": \"1.0.0\"},\n",
        ")"
      ]
    },
    {
      "cell_type": "code",
      "execution_count": 23,
      "metadata": {
        "colab": {
          "base_uri": "https://localhost:8080/",
          "height": 342
        },
        "id": "eeEqU7s05Byu",
        "outputId": "78395075-a05d-4ebd-c798-ed968b935318"
      },
      "outputs": [
        {
          "data": {
            "text/html": [
              "<ExperimentResults Search Pipeline - Evaluation - 1a7d-e20b4982>"
            ],
            "text/plain": [
              "<ExperimentResults Search Pipeline - Evaluation - 1a7d-e20b4982>"
            ]
          },
          "execution_count": 23,
          "metadata": {},
          "output_type": "execute_result"
        }
      ],
      "source": [
        "experiment_results"
      ]
    },
    {
      "cell_type": "markdown",
      "metadata": {
        "id": "jhTNe4kWrplB"
      },
      "source": [
        "## Part 2: LangGraph with Helpfulness:"
      ]
    },
    {
      "cell_type": "markdown",
      "metadata": {
        "id": "w1wKRddbIY_S"
      },
      "source": [
        "### Task 3: Adding Helpfulness Check and \"Loop\" Limits\n",
        "\n",
        "Now that we've done evaluation - let's see if we can add an extra step where we review the content we've generated to confirm if it fully answers the user's query!\n",
        "\n",
        "We're going to make a few key adjustments to account for this:\n",
        "\n",
        "1. We're going to add an artificial limit on how many \"loops\" the agent can go through - this will help us to avoid the potential situation where we never exit the loop.\n",
        "2. We'll add to our existing conditional edge to obtain the behaviour we desire."
      ]
    },
    {
      "cell_type": "markdown",
      "metadata": {
        "id": "npTYJ8ayR5B3"
      },
      "source": [
        "First, let's define our state again - we can check the length of the state object, so we don't need additional state for this."
      ]
    },
    {
      "cell_type": "code",
      "execution_count": 22,
      "metadata": {
        "id": "-LQ84YhyJG0w"
      },
      "outputs": [],
      "source": [
        "class AgentState(TypedDict):\n",
        "  messages: Annotated[list, add_messages]"
      ]
    },
    {
      "cell_type": "markdown",
      "metadata": {
        "id": "sD7EV0HqSQcb"
      },
      "source": [
        "Now we can set our graph up! This process will be almost entirely the same - with the inclusion of one additional node/conditional edge!"
      ]
    },
    {
      "cell_type": "markdown",
      "metadata": {
        "id": "oajBwLkFVi1N"
      },
      "source": [
        "#### 🏗️ Activity #5:\n",
        "\n",
        "Please write markdown for the following cells to explain what each is doing."
      ]
    },
    {
      "cell_type": "markdown",
      "metadata": {
        "id": "M6rN7feNVn9f"
      },
      "source": [
        "In the code below, we are creating the state of the graph, and the agent and action nodes, but not linking them together:"
      ]
    },
    {
      "cell_type": "code",
      "execution_count": 24,
      "metadata": {
        "colab": {
          "base_uri": "https://localhost:8080/"
        },
        "id": "6r6XXA5FJbVf",
        "outputId": "ff713041-e498-4f0f-a875-a03502b87729"
      },
      "outputs": [
        {
          "data": {
            "text/plain": [
              "<langgraph.graph.state.StateGraph at 0x110bc7d90>"
            ]
          },
          "execution_count": 24,
          "metadata": {},
          "output_type": "execute_result"
        }
      ],
      "source": [
        "graph_with_helpfulness_check = StateGraph(AgentState)\n",
        "\n",
        "graph_with_helpfulness_check.add_node(\"agent\", call_model)\n",
        "graph_with_helpfulness_check.add_node(\"action\", tool_node)"
      ]
    },
    {
      "cell_type": "markdown",
      "metadata": {
        "id": "XZ22o2mWVrfp"
      },
      "source": [
        "We are setting the entry poing fro the graph, the entry point is the agent."
      ]
    },
    {
      "cell_type": "code",
      "execution_count": 25,
      "metadata": {
        "colab": {
          "base_uri": "https://localhost:8080/"
        },
        "id": "HNWHwWxuRiLY",
        "outputId": "295f5a35-ceff-452a-ffb8-c52eada6a816"
      },
      "outputs": [
        {
          "data": {
            "text/plain": [
              "<langgraph.graph.state.StateGraph at 0x110bc7d90>"
            ]
          },
          "execution_count": 25,
          "metadata": {},
          "output_type": "execute_result"
        }
      ],
      "source": [
        "graph_with_helpfulness_check.set_entry_point(\"agent\")"
      ]
    },
    {
      "cell_type": "markdown",
      "metadata": {
        "id": "rsXeF6xlaXOZ"
      },
      "source": [
        "In the code below, we are creating a function which does the following:\n",
        "\n",
        "First it checks if there is a tool call from the previous node, if so, it pies to the action node.\n",
        "\n",
        "Then it checks if there are more than 10 messages in the state, if so it exists, this is the safety check to avoid an infinite loop.\n",
        "\n",
        "Then it uses an LLM call to check if the initial query and the final response are helpful, it they are, it continues, otherwise, it tries again.\n",
        "\n"
      ]
    },
    {
      "cell_type": "code",
      "execution_count": 26,
      "metadata": {
        "id": "z_Sq3A9SaV1O"
      },
      "outputs": [],
      "source": [
        "from langchain_core.prompts import PromptTemplate\n",
        "from langchain_core.output_parsers import StrOutputParser\n",
        "\n",
        "def tool_call_or_helpful(state):\n",
        "  last_message = state[\"messages\"][-1]\n",
        "\n",
        "  if last_message.tool_calls:\n",
        "    return \"action\"\n",
        "\n",
        "  initial_query = state[\"messages\"][0]\n",
        "  final_response = state[\"messages\"][-1]\n",
        "\n",
        "  if len(state[\"messages\"]) > 10:\n",
        "    return \"END\"\n",
        "\n",
        "  prompt_template = \"\"\"\\\n",
        "  Given an initial query and a final response, determine if the final response is extremely helpful or not. Please indicate helpfulness with a 'Y' and unhelpfulness as an 'N'.\n",
        "\n",
        "  Initial Query:\n",
        "  {initial_query}\n",
        "\n",
        "  Final Response:\n",
        "  {final_response}\"\"\"\n",
        "\n",
        "  helpfullness_prompt_template = PromptTemplate.from_template(prompt_template)\n",
        "\n",
        "  helpfulness_check_model = ChatOpenAI(model=\"gpt-4.1-mini\")\n",
        "\n",
        "  helpfulness_chain = helpfullness_prompt_template | helpfulness_check_model | StrOutputParser()\n",
        "\n",
        "  helpfulness_response = helpfulness_chain.invoke({\"initial_query\" : initial_query.content, \"final_response\" : final_response.content})\n",
        "\n",
        "  if \"Y\" in helpfulness_response:\n",
        "    return \"end\"\n",
        "  else:\n",
        "    return \"continue\""
      ]
    },
    {
      "cell_type": "markdown",
      "metadata": {
        "id": "Fz1u9Vf4SHxJ"
      },
      "source": [
        "#### 🏗️ Activity #4:\n",
        "\n",
        "Please write what is happening in our `tool_call_or_helpful` function!\n",
        "\n",
        "I wrote this down above, step-by-step. But basically, this uses an additional LLM call to evaluate whether or not thre response is helpful, or not."
      ]
    },
    {
      "cell_type": "markdown",
      "metadata": {
        "id": "6BhnBW2YVsJO"
      },
      "source": [
        "This part of the code, is adding the conditional edges to the new graph. So what happens after the agent call."
      ]
    },
    {
      "cell_type": "code",
      "execution_count": 27,
      "metadata": {
        "colab": {
          "base_uri": "https://localhost:8080/"
        },
        "id": "aVTKnWMbP_8T",
        "outputId": "7f729b1f-311c-4084-ceaf-0da437900c85"
      },
      "outputs": [
        {
          "data": {
            "text/plain": [
              "<langgraph.graph.state.StateGraph at 0x110bc7d90>"
            ]
          },
          "execution_count": 27,
          "metadata": {},
          "output_type": "execute_result"
        }
      ],
      "source": [
        "graph_with_helpfulness_check.add_conditional_edges(\n",
        "    \"agent\",\n",
        "    tool_call_or_helpful,\n",
        "    {\n",
        "        \"continue\" : \"agent\",\n",
        "        \"action\" : \"action\",\n",
        "        \"end\" : END\n",
        "    }\n",
        ")"
      ]
    },
    {
      "cell_type": "markdown",
      "metadata": {
        "id": "ZGDLEWOIVtK0"
      },
      "source": [
        "This part adds the main nodes, action and edge. But in this case, there is a direct relationship. After the action node completes, the agent node is always next. There is no routing to different nodes."
      ]
    },
    {
      "cell_type": "code",
      "execution_count": 28,
      "metadata": {
        "colab": {
          "base_uri": "https://localhost:8080/"
        },
        "id": "cbDK2MbuREgU",
        "outputId": "21a64c20-27a1-4e0e-afde-a639abaa8b55"
      },
      "outputs": [
        {
          "data": {
            "text/plain": [
              "<langgraph.graph.state.StateGraph at 0x110bc7d90>"
            ]
          },
          "execution_count": 28,
          "metadata": {},
          "output_type": "execute_result"
        }
      ],
      "source": [
        "graph_with_helpfulness_check.add_edge(\"action\", \"agent\")"
      ]
    },
    {
      "cell_type": "markdown",
      "metadata": {
        "id": "rSI8AOaEVvT-"
      },
      "source": [
        "This is the final step in any declaraitve lang graph code, it makes the graph useable. It conncts all the pieces."
      ]
    },
    {
      "cell_type": "code",
      "execution_count": 29,
      "metadata": {
        "id": "oQldl8ERQ8lf"
      },
      "outputs": [],
      "source": [
        "agent_with_helpfulness_check = graph_with_helpfulness_check.compile()"
      ]
    },
    {
      "cell_type": "markdown",
      "metadata": {
        "id": "F67FGCMRVwGz"
      },
      "source": [
        "In this chunk we are testing out the new graph that has the helpfulness check!"
      ]
    },
    {
      "cell_type": "code",
      "execution_count": 30,
      "metadata": {
        "colab": {
          "base_uri": "https://localhost:8080/"
        },
        "id": "B3oo8E-PRK1T",
        "outputId": "f152dea8-96ad-4d29-d8b2-a064c96a8bd3"
      },
      "outputs": [
        {
          "name": "stdout",
          "output_type": "stream",
          "text": [
            "Receiving update from node: 'agent'\n",
            "[AIMessage(content='', additional_kwargs={'tool_calls': [{'id': 'call_QKctrPZ9xZHkoWBkXamN8685', 'function': {'arguments': '{\"query\": \"LoRA machine learning\"}', 'name': 'tavily_search_results_json'}, 'type': 'function'}, {'id': 'call_1wOD9qo8gBzpsOO9K7aH5bgD', 'function': {'arguments': '{\"query\": \"Tim Dettmers\"}', 'name': 'tavily_search_results_json'}, 'type': 'function'}, {'id': 'call_nAimateltlbt4p3quEvOlBhi', 'function': {'arguments': '{\"query\": \"Attention in machine learning\"}', 'name': 'tavily_search_results_json'}, 'type': 'function'}], 'refusal': None}, response_metadata={'token_usage': {'completion_tokens': 79, 'prompt_tokens': 177, 'total_tokens': 256, 'completion_tokens_details': {'accepted_prediction_tokens': 0, 'audio_tokens': 0, 'reasoning_tokens': 0, 'rejected_prediction_tokens': 0}, 'prompt_tokens_details': {'audio_tokens': 0, 'cached_tokens': 0}}, 'model_name': 'gpt-4.1-nano-2025-04-14', 'system_fingerprint': None, 'id': 'chatcmpl-Btdb6qvFxg1gyDjfASs8K7dkCH2dB', 'service_tier': 'default', 'finish_reason': 'tool_calls', 'logprobs': None}, id='run--c148d512-f65d-43b3-a125-dff31c2c5494-0', tool_calls=[{'name': 'tavily_search_results_json', 'args': {'query': 'LoRA machine learning'}, 'id': 'call_QKctrPZ9xZHkoWBkXamN8685', 'type': 'tool_call'}, {'name': 'tavily_search_results_json', 'args': {'query': 'Tim Dettmers'}, 'id': 'call_1wOD9qo8gBzpsOO9K7aH5bgD', 'type': 'tool_call'}, {'name': 'tavily_search_results_json', 'args': {'query': 'Attention in machine learning'}, 'id': 'call_nAimateltlbt4p3quEvOlBhi', 'type': 'tool_call'}], usage_metadata={'input_tokens': 177, 'output_tokens': 79, 'total_tokens': 256, 'input_token_details': {'audio': 0, 'cache_read': 0}, 'output_token_details': {'audio': 0, 'reasoning': 0}})]\n",
            "\n",
            "\n",
            "\n",
            "Receiving update from node: 'action'\n",
            "[ToolMessage(content='[{\"title\": \"What is LoRA? | Low-rank adaptation - Cloudflare\", \"url\": \"https://www.cloudflare.com/learning/ai/what-is-lora/\", \"content\": \"Low-rank adaptation (LoRA) is a technique for quickly adapting machine learning models to new contexts. LoRA helps make huge and complicated machine learning models much more suited for specific uses. It works by adding lightweight pieces to the original model, as opposed to changing the entire model. LoRA helps developers quickly expand the use cases for the machine learning models they build.\\\\n\\\\n## What does LoRA do? [...] LoRA adds low-rank matrices to the frozen original machine learning model. These matrices contain new weights to apply to the model when generating results. This process alters the outputs that the model produces with minimal computing power and training time.\\\\n\\\\nIn the analogy used above, Jim bought cheap adapters to plug his appliances into the wall. Low-rank matrices are like those cheap adapters, with the outlets being the original machine learning models.\\\\n\\\\n## How does machine learning work? [...] Sign upSales: +1 (888) 99 FLARE\\\\n\\\\n# What is low-rank adaptation (LoRA)?\\\\n\\\\nLow-rank adaptation (LoRA) is a way to adapt a large machine learning model for specific uses without retraining the entire model.\\\\n\\\\n#### Learning Objectives\\\\n\\\\nAfter reading this article you will be able to:\\\\n\\\\n Define \\\\\"low-rank adaptation\\\\\" (LoRA)\\\\n Explain in simple fashion how LoRA works\\\\n Understand the advantages of using LoRA\\\\n\\\\nRelated Content\\\\n\\\\n---\", \"score\": 0.9255605}, {\"title\": \"Low-Rank Adaptation of Large Language Models (LoRA)\", \"url\": \"https://huggingface.co/docs/diffusers/v0.23.1/training/lora\", \"content\": \"Low-Rank Adaptation of Large Language Models (LoRA) is a training method that accelerates the training of large models while consuming less memory. It adds pairs of rank-decomposition weight matrices (called update matrices) to existing weights, and only trains those newly added weights. This has a couple of advantages:\", \"score\": 0.9006087}, {\"title\": \"Understanding LoRA with a minimal example - Posit AI Blog\", \"url\": \"https://blogs.rstudio.com/tensorflow/posts/2023-06-22-understanding-lora/\", \"content\": \"LoRA (Low-Rank Adaptation) is a new technique for fine tuning large scale pre-trained\\\\nmodels. Such models are usually trained on general domain data, so as to have\\\\nthe maximum amount of data. In order to obtain better results in tasks like chatting\\\\nor question answering, these models can be further ‘fine-tuned’ or adapted on domain\\\\nspecific data. [...] LoRA (Low Rank Adaptation) is a new technique for fine-tuning deep learning models that works by reducing the number of trainable parameters and enables efficient task switching. In this blog post we will talk about the key ideas behind LoRA in a very minimal torch example.\\\\n\\\\nContents [...] Understanding LoRA with a minimal example\\\\n\\\\nLoRA (Low Rank Adaptation) is a new technique for fine-tuning deep learning models that works by reducing the number of trainable parameters and enables efficient task switching. In this blog post we will talk about the key ideas behind LoRA in a very minimal torch example.\", \"score\": 0.88420963}, {\"title\": \"What is LoRA (Low-Rank Adaption)? - IBM\", \"url\": \"https://www.ibm.com/think/topics/lora\", \"content\": \"LoRA adds low-rank matrices to the frozen original machine learning model. The low-rank matrices are updated through gradient descent during fine-tuning, without modifying the weights of the base model. These matrices contain new weights to apply to the model when generating results. The multiplied change matrix is added to the base model weights to get the final fine-tuned model. This process alters the outputs that the model produces with minimal computing power and training time. [...] LoRA leverages the concept of lower-rank matrices to make the model training process extremely efficient and fast. Traditionally fine-tuning LLMs requires adjusting the entire model. LoRA focuses on modifying a smaller subset of parameters (lower-rank matrices) to reduce computational and memory overhead. [...] LoRA makes training more efficient and lowers the hardware barrier to entry because users do not need to calculate the gradients or maintain the optimizer states for most parameters. Instead, the process requires optimizing only the much smaller low-rank matrices.\\\\n\\\\nThe linear design of LoRA allows data scientists to merge the trainable matrices with the frozen pretrained model weights when deployed, introducing no inference latency compared to a fully fine-tuned model by construction.\", \"score\": 0.8810534}, {\"title\": \"Understanding Different Types of LoRA in Large Language Models\", \"url\": \"https://dayanand-shah.medium.com/understanding-different-types-of-lora-in-large-language-models-47f6133fd971\", \"content\": \"Low-Rank Adaptation (LoRA) is a method used to reduce the number of parameters that need to be updated during the fine-tuning process of neural networks. The core idea behind LoRA is to decompose the weight update matrices into low-rank matrices, which significantly reduces the computational burden and memory usage. This is particularly useful for large models where the full-rank update would be prohibitively expensive.\\\\n\\\\nTypes of LoRA in LLMs\\\\n=====================\", \"score\": 0.8443195}]', name='tavily_search_results_json', id='07325d8e-5cc8-4001-8827-eb82d361e2cc', tool_call_id='call_QKctrPZ9xZHkoWBkXamN8685', artifact={'query': 'LoRA machine learning', 'follow_up_questions': None, 'answer': None, 'images': [], 'results': [{'url': 'https://www.cloudflare.com/learning/ai/what-is-lora/', 'title': 'What is LoRA? | Low-rank adaptation - Cloudflare', 'content': 'Low-rank adaptation (LoRA) is a technique for quickly adapting machine learning models to new contexts. LoRA helps make huge and complicated machine learning models much more suited for specific uses. It works by adding lightweight pieces to the original model, as opposed to changing the entire model. LoRA helps developers quickly expand the use cases for the machine learning models they build.\\n\\n## What does LoRA do? [...] LoRA adds low-rank matrices to the frozen original machine learning model. These matrices contain new weights to apply to the model when generating results. This process alters the outputs that the model produces with minimal computing power and training time.\\n\\nIn the analogy used above, Jim bought cheap adapters to plug his appliances into the wall. Low-rank matrices are like those cheap adapters, with the outlets being the original machine learning models.\\n\\n## How does machine learning work? [...] Sign upSales: +1 (888) 99 FLARE\\n\\n# What is low-rank adaptation (LoRA)?\\n\\nLow-rank adaptation (LoRA) is a way to adapt a large machine learning model for specific uses without retraining the entire model.\\n\\n#### Learning Objectives\\n\\nAfter reading this article you will be able to:\\n\\n Define \"low-rank adaptation\" (LoRA)\\n Explain in simple fashion how LoRA works\\n Understand the advantages of using LoRA\\n\\nRelated Content\\n\\n---', 'score': 0.9255605, 'raw_content': None}, {'url': 'https://huggingface.co/docs/diffusers/v0.23.1/training/lora', 'title': 'Low-Rank Adaptation of Large Language Models (LoRA)', 'content': 'Low-Rank Adaptation of Large Language Models (LoRA) is a training method that accelerates the training of large models while consuming less memory. It adds pairs of rank-decomposition weight matrices (called update matrices) to existing weights, and only trains those newly added weights. This has a couple of advantages:', 'score': 0.9006087, 'raw_content': None}, {'url': 'https://blogs.rstudio.com/tensorflow/posts/2023-06-22-understanding-lora/', 'title': 'Understanding LoRA with a minimal example - Posit AI Blog', 'content': 'LoRA (Low-Rank Adaptation) is a new technique for fine tuning large scale pre-trained\\nmodels. Such models are usually trained on general domain data, so as to have\\nthe maximum amount of data. In order to obtain better results in tasks like chatting\\nor question answering, these models can be further ‘fine-tuned’ or adapted on domain\\nspecific data. [...] LoRA (Low Rank Adaptation) is a new technique for fine-tuning deep learning models that works by reducing the number of trainable parameters and enables efficient task switching. In this blog post we will talk about the key ideas behind LoRA in a very minimal torch example.\\n\\nContents [...] Understanding LoRA with a minimal example\\n\\nLoRA (Low Rank Adaptation) is a new technique for fine-tuning deep learning models that works by reducing the number of trainable parameters and enables efficient task switching. In this blog post we will talk about the key ideas behind LoRA in a very minimal torch example.', 'score': 0.88420963, 'raw_content': None}, {'url': 'https://www.ibm.com/think/topics/lora', 'title': 'What is LoRA (Low-Rank Adaption)? - IBM', 'content': 'LoRA adds low-rank matrices to the frozen original machine learning model. The low-rank matrices are updated through gradient descent during fine-tuning, without modifying the weights of the base model. These matrices contain new weights to apply to the model when generating results. The multiplied change matrix is added to the base model weights to get the final fine-tuned model. This process alters the outputs that the model produces with minimal computing power and training time. [...] LoRA leverages the concept of lower-rank matrices to make the model training process extremely efficient and fast. Traditionally fine-tuning LLMs requires adjusting the entire model. LoRA focuses on modifying a smaller subset of parameters (lower-rank matrices) to reduce computational and memory overhead. [...] LoRA makes training more efficient and lowers the hardware barrier to entry because users do not need to calculate the gradients or maintain the optimizer states for most parameters. Instead, the process requires optimizing only the much smaller low-rank matrices.\\n\\nThe linear design of LoRA allows data scientists to merge the trainable matrices with the frozen pretrained model weights when deployed, introducing no inference latency compared to a fully fine-tuned model by construction.', 'score': 0.8810534, 'raw_content': None}, {'url': 'https://dayanand-shah.medium.com/understanding-different-types-of-lora-in-large-language-models-47f6133fd971', 'title': 'Understanding Different Types of LoRA in Large Language Models', 'content': 'Low-Rank Adaptation (LoRA) is a method used to reduce the number of parameters that need to be updated during the fine-tuning process of neural networks. The core idea behind LoRA is to decompose the weight update matrices into low-rank matrices, which significantly reduces the computational burden and memory usage. This is particularly useful for large models where the full-rank update would be prohibitively expensive.\\n\\nTypes of LoRA in LLMs\\n=====================', 'score': 0.8443195, 'raw_content': None}], 'response_time': 2.35}), ToolMessage(content='[{\"title\": \"Tim Dettmers - AI2050 - Schmidt Sciences\", \"url\": \"https://ai2050.schmidtsciences.org/fellow/tim-dettmers/\", \"content\": \"Tim Dettmers is an Assistant Professor at Carnegie Mellon University and a Research Scientist at the Allen Institute for AI, and his research focuses on making foundation models, such as ChatGPT, accessible to researchers and practitioners by reducing their resource requirements. This involves developing novel compression and networking algorithms and building systems that allow for memory-efficient, fast, and cheap deep learning. He has won oral, spotlight, and best paper awards at conferences [...] such as ICLR and NeurIPS. He created the bitsandbytes library for efficient deep learning, which is growing at 2.2 million installations per month, and received Google Open Source and PyTorch Foundation awards. [...] AI models like ChatGPT work well for general use but fail in specialized expert domains, such as the medical sciences. To make AI models work in expert domains, one must adapt them, which is costly and requires significant AI expertise. This project overcomes these cost and expertise barriers through two new approaches: (1) use AI models themselves to perform the AI model adaptation process automatically; (2) make the adaptation process cheap so it can be run on regular consumer hardware. With\", \"score\": 0.9245858}, {\"title\": \"CSE Faculty Candidate Seminar - Tim Dettmers\", \"url\": \"https://cse.gatech.edu/events/2024/02/20/cse-faculty-candidate-seminar-tim-dettmers\", \"content\": \"Bio:Tim Dettmers’s research focuses on making foundation models, such as ChatGPT, accessible to researchers and practitioners by reducing their resource requirements. This involves developing novel compression and networking algorithms and building systems that allow for memory-efficient, fast, and cheap deep learning. These methods enable many more people to use, adapt, or train foundation models without affecting the quality of AI predictions or generations. He is a PhD candidate at the [...] News and Events\\\\n       News\\\\n       Upcoming Events\\\\n       Calendar\\\\n       CSE Biweekly Roundup\\\\n       Analyzer\\\\n       2024 Annual Brief.pdf)\\\\n\\\\n\\\\n\\\\nSearch\\\\n------\\\\n\\\\nSearch \\\\n\\\\nBreadcrumb\\\\n----------\\\\n\\\\n1.   Home\\\\n2.   Events\\\\n\\\\nUpcoming Events\\\\n---------------\\\\n\\\\nCSE Faculty Candidate Seminar - Tim Dettmers\\\\n============================================\\\\n\\\\nImage 2: Tim Dettmers.png\\\\n\\\\nName:Tim Dettmers, Ph.D. student at University of Washington\\\\n\\\\nDate:Tuesday, February 20, 2024 at 11:00 am [...] University of Washington and has won oral, spotlight, and best paper awards at conferences such as ICLR and NeurIPS. He created the bitsandbytes library for efficient deep learning, which is growing at 1.4 million installations per month and received Google Open Source and PyTorch Foundation awards.\", \"score\": 0.70531887}, {\"title\": \"About Me - Tim Dettmers\", \"url\": \"https://timdettmers.com/about/\", \"content\": \"Research Interests  \\\\nPublications  \\\\nAwards & Honors  \\\\nService\\\\n\\\\nGoogle Scholar\\\\n\\\\nfirstname.lastname@gmail.com\\\\n\\\\nImage 1I am a research scientist at the Allen Institute for Artificial Intelligence (Ai2) and an incoming Assistant Professor at Carnegie Mellon University (CMU). I am the creator and maintainer of bitsandbytes. [...] I have a PhD from University of Washington advised by Luke Zettlemoyer working on efficient deep learning at the intersection between machine learning, natural language processing, and computer systems with a focus on quantization and sparsity. My main research goal is to empower everyone to make AI their own. I do this by making large models accessible through my research (QLoRA, LLM.int8(), k-bit inference scaling laws, Petals, SWARM) and by developing software that makes it easy to use my [...] About Me — Tim Dettmers\\\\n===============  \\\\n\\\\nSkip links\\\\n----------\\\\n\\\\n   Skip to primary navigation\\\\n   Skip to content\\\\n   Skip to primary sidebar\\\\n\\\\nTim Dettmers\\\\n\\\\nMaking deep learning accessible.\\\\n\\\\nHeader Right\\\\n------------\\\\n\\\\n### Blog Posts Topics\\\\n\\\\n   Academia (4)\\\\n       PhD Life (3)\\\\n   Deep Learning (7)\\\\n   Hardware (8)\\\\n   Science (4)\\\\n       Neuroscience (1)\\\\n\\\\nMain navigation\\\\n---------------\\\\n\\\\n   Blog\\\\n       Deep Learning\\\\n       Hardware\\\\n       Neuroscience\\\\n   Publications\\\\n   About Me\\\\n\\\\nAbout Me\\\\n========\", \"score\": 0.68318754}, {\"title\": \"Tim Dettmers | Carnegie Mellon University Computer Science ...\", \"url\": \"https://csd.cmu.edu/people/faculty/tim-dettmers\", \"content\": \"X\\\\n\\\\nBreadcrumb\\\\n----------\\\\n\\\\n1.  Home\\\\n2.  People\\\\n3.  Faculty\\\\n4.  Tim Dettmers\\\\n\\\\nTim Dettmers\\\\n============\\\\n\\\\nImage 2: Tim DettmersAssistant Professor\\\\n\\\\nWebsite\\\\n\\\\nGoogle Scholars Link\\\\n\\\\nEmail dettmers@cmu.edu\\\\n\\\\nDepartment  \\\\nMachine Learning Department  \\\\nComputer Science Department\\\\n\\\\nComputer Science Department\\\\n---------------------------\\\\n\\\\nCarnegie Mellon University\\\\n\\\\n5000 Forbes Avenue\\\\n\\\\nPittsburgh, PA 15213\\\\n\\\\nFax: 412-268-5576\\\\n\\\\n            \\\\n\\\\nImage 3: Carnegie Mellon University School of Computer Science [...] About\\\\n    \\\\n    ### Back to Main Menu\\\\n    \\\\n    ### About Main page\\\\n    \\\\n       About  \\\\n        Related links\\\\n           Events\\\\n           News\\\\n           Key Contacts\\\\n           History\\\\n           Sitemap\\\\n       Employment  \\\\n        Related links\\\\n           Faculty Hiring\\\\n           Staff Hiring\\\\n       Marketing & Communications  \\\\n        Related links\\\\n           SCS Marketing & Communications\\\\n           Partnerships\\\\n           Employer Recruiting\\\\n           CMU Marketing & Communications\", \"score\": 0.6729558}, {\"title\": \"Tim Dettmers - Quora\", \"url\": \"https://www.quora.com/profile/Tim-Dettmers-1\", \"content\": \"Kernel methods are practically obsolete, but their math still shines on and is worth a look. Kernel methods are not only practically obsolete due to their inferior predictive performance when compared to deep learning, but also because they require a lot of feature engineering and because they are se…\\\\n\\\\n(more)\\\\n\\\\nImage 8: Profile photo for Tim Dettmers\\\\n\\\\nTim Dettmers\\\\n\\\\nPhD Student at University of Washington (2018–present)\\\\n\\\\n·9y [...] PhD Student at University of Washington (2018–present)\\\\n\\\\n·9y\\\\n\\\\nHow feasible would it be to build a deep learning platform on a distributed heterogeneous environment over the Internet (e.g. desktop/mobile grid)? [...] Image 9: Profile photo for Tim Dettmers\\\\n\\\\nTim Dettmers\\\\n\\\\nPhD Student at University of Washington (2018–present)\\\\n\\\\n·9y\\\\n\\\\nHow can I use a deep neural network trained model by multiple GPUs?\\\\n\\\\nIf you want to use multiple GPUs you should use Torch7 along with the Facebook research libraries. The parallel implementations of Torch7 provide good speed, without any loss of accuracy and are very easy to use. There are other libraries that make use of parallelism, but they often have poor APIs o…\\\\n\\\\n(more)\", \"score\": 0.57666177}]', name='tavily_search_results_json', id='181f0a8a-1389-41bf-889f-4a6cdf7713cc', tool_call_id='call_1wOD9qo8gBzpsOO9K7aH5bgD', artifact={'query': 'Tim Dettmers', 'follow_up_questions': None, 'answer': None, 'images': [], 'results': [{'url': 'https://ai2050.schmidtsciences.org/fellow/tim-dettmers/', 'title': 'Tim Dettmers - AI2050 - Schmidt Sciences', 'content': 'Tim Dettmers is an Assistant Professor at Carnegie Mellon University and a Research Scientist at the Allen Institute for AI, and his research focuses on making foundation models, such as ChatGPT, accessible to researchers and practitioners by reducing their resource requirements. This involves developing novel compression and networking algorithms and building systems that allow for memory-efficient, fast, and cheap deep learning. He has won oral, spotlight, and best paper awards at conferences [...] such as ICLR and NeurIPS. He created the bitsandbytes library for efficient deep learning, which is growing at 2.2 million installations per month, and received Google Open Source and PyTorch Foundation awards. [...] AI models like ChatGPT work well for general use but fail in specialized expert domains, such as the medical sciences. To make AI models work in expert domains, one must adapt them, which is costly and requires significant AI expertise. This project overcomes these cost and expertise barriers through two new approaches: (1) use AI models themselves to perform the AI model adaptation process automatically; (2) make the adaptation process cheap so it can be run on regular consumer hardware. With', 'score': 0.9245858, 'raw_content': None}, {'url': 'https://cse.gatech.edu/events/2024/02/20/cse-faculty-candidate-seminar-tim-dettmers', 'title': 'CSE Faculty Candidate Seminar - Tim Dettmers', 'content': 'Bio:Tim Dettmers’s research focuses on making foundation models, such as ChatGPT, accessible to researchers and practitioners by reducing their resource requirements. This involves developing novel compression and networking algorithms and building systems that allow for memory-efficient, fast, and cheap deep learning. These methods enable many more people to use, adapt, or train foundation models without affecting the quality of AI predictions or generations. He is a PhD candidate at the [...] News and Events\\n       News\\n       Upcoming Events\\n       Calendar\\n       CSE Biweekly Roundup\\n       Analyzer\\n       2024 Annual Brief.pdf)\\n\\n\\n\\nSearch\\n------\\n\\nSearch \\n\\nBreadcrumb\\n----------\\n\\n1.   Home\\n2.   Events\\n\\nUpcoming Events\\n---------------\\n\\nCSE Faculty Candidate Seminar - Tim Dettmers\\n============================================\\n\\nImage 2: Tim Dettmers.png\\n\\nName:Tim Dettmers, Ph.D. student at University of Washington\\n\\nDate:Tuesday, February 20, 2024 at 11:00 am [...] University of Washington and has won oral, spotlight, and best paper awards at conferences such as ICLR and NeurIPS. He created the bitsandbytes library for efficient deep learning, which is growing at 1.4 million installations per month and received Google Open Source and PyTorch Foundation awards.', 'score': 0.70531887, 'raw_content': None}, {'url': 'https://timdettmers.com/about/', 'title': 'About Me - Tim Dettmers', 'content': 'Research Interests  \\nPublications  \\nAwards & Honors  \\nService\\n\\nGoogle Scholar\\n\\nfirstname.lastname@gmail.com\\n\\nImage 1I am a research scientist at the Allen Institute for Artificial Intelligence (Ai2) and an incoming Assistant Professor at Carnegie Mellon University (CMU). I am the creator and maintainer of bitsandbytes. [...] I have a PhD from University of Washington advised by Luke Zettlemoyer working on efficient deep learning at the intersection between machine learning, natural language processing, and computer systems with a focus on quantization and sparsity. My main research goal is to empower everyone to make AI their own. I do this by making large models accessible through my research (QLoRA, LLM.int8(), k-bit inference scaling laws, Petals, SWARM) and by developing software that makes it easy to use my [...] About Me — Tim Dettmers\\n===============  \\n\\nSkip links\\n----------\\n\\n   Skip to primary navigation\\n   Skip to content\\n   Skip to primary sidebar\\n\\nTim Dettmers\\n\\nMaking deep learning accessible.\\n\\nHeader Right\\n------------\\n\\n### Blog Posts Topics\\n\\n   Academia (4)\\n       PhD Life (3)\\n   Deep Learning (7)\\n   Hardware (8)\\n   Science (4)\\n       Neuroscience (1)\\n\\nMain navigation\\n---------------\\n\\n   Blog\\n       Deep Learning\\n       Hardware\\n       Neuroscience\\n   Publications\\n   About Me\\n\\nAbout Me\\n========', 'score': 0.68318754, 'raw_content': None}, {'url': 'https://csd.cmu.edu/people/faculty/tim-dettmers', 'title': 'Tim Dettmers | Carnegie Mellon University Computer Science ...', 'content': 'X\\n\\nBreadcrumb\\n----------\\n\\n1.  Home\\n2.  People\\n3.  Faculty\\n4.  Tim Dettmers\\n\\nTim Dettmers\\n============\\n\\nImage 2: Tim DettmersAssistant Professor\\n\\nWebsite\\n\\nGoogle Scholars Link\\n\\nEmail dettmers@cmu.edu\\n\\nDepartment  \\nMachine Learning Department  \\nComputer Science Department\\n\\nComputer Science Department\\n---------------------------\\n\\nCarnegie Mellon University\\n\\n5000 Forbes Avenue\\n\\nPittsburgh, PA 15213\\n\\nFax: 412-268-5576\\n\\n            \\n\\nImage 3: Carnegie Mellon University School of Computer Science [...] About\\n    \\n    ### Back to Main Menu\\n    \\n    ### About Main page\\n    \\n       About  \\n        Related links\\n           Events\\n           News\\n           Key Contacts\\n           History\\n           Sitemap\\n       Employment  \\n        Related links\\n           Faculty Hiring\\n           Staff Hiring\\n       Marketing & Communications  \\n        Related links\\n           SCS Marketing & Communications\\n           Partnerships\\n           Employer Recruiting\\n           CMU Marketing & Communications', 'score': 0.6729558, 'raw_content': None}, {'url': 'https://www.quora.com/profile/Tim-Dettmers-1', 'title': 'Tim Dettmers - Quora', 'content': 'Kernel methods are practically obsolete, but their math still shines on and is worth a look. Kernel methods are not only practically obsolete due to their inferior predictive performance when compared to deep learning, but also because they require a lot of feature engineering and because they are se…\\n\\n(more)\\n\\nImage 8: Profile photo for Tim Dettmers\\n\\nTim Dettmers\\n\\nPhD Student at University of Washington (2018–present)\\n\\n·9y [...] PhD Student at University of Washington (2018–present)\\n\\n·9y\\n\\nHow feasible would it be to build a deep learning platform on a distributed heterogeneous environment over the Internet (e.g. desktop/mobile grid)? [...] Image 9: Profile photo for Tim Dettmers\\n\\nTim Dettmers\\n\\nPhD Student at University of Washington (2018–present)\\n\\n·9y\\n\\nHow can I use a deep neural network trained model by multiple GPUs?\\n\\nIf you want to use multiple GPUs you should use Torch7 along with the Facebook research libraries. The parallel implementations of Torch7 provide good speed, without any loss of accuracy and are very easy to use. There are other libraries that make use of parallelism, but they often have poor APIs o…\\n\\n(more)', 'score': 0.57666177, 'raw_content': None}], 'response_time': 1.92}), ToolMessage(content='[{\"title\": \"Attention Mechanisms and Their Applications to Complex Systems\", \"url\": \"https://pmc.ncbi.nlm.nih.gov/articles/PMC7996841/\", \"content\": \"Generally formulated, attention in machine learning is a sequential process in which a learning task is guided by a set of elements of the input source (or memory). This is achieved by integrating the attention value into the task. [...] Attention mechanisms have provided and will provide a paradigm shift in machine learning. Specifically, this change is from traditional large-scale vector transformations to more conscious processes (i.e., that focus only on a set of elements), e.g., decomposing a problem into a sequence of attention based reasoning tasks [13,30,31,32,33,34]. [...] Attention mechanisms have provided and will provide a paradigm shift in machine learning [11,12]. These mechanisms allow a model to focus only on a set of elements and to decompose a problem into a sequence of attention based reasoning tasks . Moreover, they can be applied to model complex systems in a flexible and promising way. When it comes to their application, information processing in the system and internal structure are crucial.\", \"score\": 0.9581988}, {\"title\": \"Attention (machine learning) - Wikipedia\", \"url\": \"https://en.wikipedia.org/wiki/Attention_(machine_learning)\", \"content\": \"Attention is a machine learning method that determines the importance of each component in a sequence relative to the other components in that sequence. In natural language processing, importance is represented by \\\\\"soft\\\\\" weights assigned to each word in a sentence. More generally, attention encodes vectors called tokenembeddings across a fixed-width sequence that can range from tens to millions of tokens in size. [...] Inspired by ideas about attention in humans, the attention mechanism was developed to address the weaknesses of leveraging information from the hidden layers of recurrent neural networks. Recurrent neural networks favor more recent information contained in words at the end of a sentence, while information earlier in the sentence tends to be attenuated. Attention allows a token equal access to any part of a sentence directly, rather than only through the previous state.\\\\n\\\\nHistory\\\\n------- [...] Attention(A Q,B K,B V)=A Attention(Q,K,V){\\\\\\\\displaystyle {\\\\\\\\text{Attention}}(\\\\\\\\mathbf {A} \\\\\\\\mathbf {Q} ,\\\\\\\\mathbf {B} \\\\\\\\mathbf {K} ,\\\\\\\\mathbf {B} \\\\\\\\mathbf {V} )=\\\\\\\\mathbf {A} \\\\\\\\,{\\\\\\\\text{Attention}}(\\\\\\\\mathbf {Q} ,\\\\\\\\mathbf {K} ,\\\\\\\\mathbf {V} )}Image 31: {\\\\\\\\displaystyle {\\\\\\\\text{Attention}}(\\\\\\\\mathbf {A} \\\\\\\\mathbf {Q} ,\\\\\\\\mathbf {B} \\\\\\\\mathbf {K} ,\\\\\\\\mathbf {B} \\\\\\\\mathbf {V} )=\\\\\\\\mathbf {A} \\\\\\\\,{\\\\\\\\text{Attention}}(\\\\\\\\mathbf {Q} ,\\\\\\\\mathbf {K} ,\\\\\\\\mathbf {V} )}\", \"score\": 0.94956195}, {\"title\": \"What is Attention Mechanism? - H2O.ai\", \"url\": \"https://h2o.ai/wiki/attention-mechanism/\", \"content\": \"Attention mechanism is important in machine learning and artificial intelligence for several reasons:\\\\n\\\\n   Improved Model Performance: By focusing on relevant information, attention mechanism enables models to make more accurate predictions and capture important patterns or dependencies in the data.\\\\n\\\\n   Effective Handling of Variable-Length Inputs: Attention mechanism allows models to process inputs of variable lengths by attending to different parts of the input sequence dynamically. [...] An attention mechanism is a technique used in machine learning and artificial intelligence to improve the performance of models by focusing on relevant information. It allows models to selectively attend to different parts of the input data, assigning varying degrees of importance or weight to different elements.\\\\n\\\\nHow Attention Mechanisms Work\\\\n----------------------------- [...] Overall, attention mechanisms play a crucial role in machine learning and artificial intelligence by enabling models to focus on relevant information and improve their performance. Its applications span various domains and tasks, making it a valuable tool for data scientists and practitioners. H2O.ai users can benefit from incorporating attention mechanisms into their workflows to enhance the capabilities and outcomes of their machine-learning models.\\\\n\\\\n#### Why H2O.ai\", \"score\": 0.8576849}, {\"title\": \"Attention mechanism: Overview - YouTube\", \"url\": \"https://www.youtube.com/watch?v=fjJOgb-E41w\", \"content\": \"# Attention mechanism: Overview\\\\n\\\\nGoogle Cloud Tech\\\\n2877 likes\\\\n191914 views\\\\n5 Jun 2023\\\\nThis video introduces you to the attention mechanism, a powerful technique that allows neural networks to focus on specific parts of an input sequence. Attention is used to improve the performance of a variety of machine learning tasks, including machine translation, text summarization, and question answering.\", \"score\": 0.83932644}, {\"title\": \"Unpacking the Power of Attention Mechanisms in Deep Learning\", \"url\": \"https://viso.ai/deep-learning/attention-mechanisms/\", \"content\": \"Attention mechanisms represent advancements in machine learning and computer vision, enabling models to prioritize relevant information for better performance. As research progresses, attention mechanisms will further enhance the capabilities and interpretability of deep learning models.\\\\n\\\\nTo continue learning about the world of computer vision, check out our other blogs: [...] Addressing Data Processing\\\\n--------------------------\\\\n\\\\nAttention mechanisms address a critical challenge in AI: the efficient processing of vast and complex data sets. By enabling models to selectively weigh the importance of different input features, they improve both accuracy and efficiency. This makes these models perform better for tasks such as image recognition, text translation, and speech recognition. [...] Attention mechanisms allow artificial intelligence (AI) models to dynamically focus on individual elements within visual data. This mimics the way humans concentrate on specific visual elements at a time. This enhances the interpretability of AI systems for applications in computer vision and natural language processing (NLP).\", \"score\": 0.81665546}]', name='tavily_search_results_json', id='489d5c23-43d2-4759-b7ff-2fa672a673ad', tool_call_id='call_nAimateltlbt4p3quEvOlBhi', artifact={'query': 'Attention in machine learning', 'follow_up_questions': None, 'answer': None, 'images': [], 'results': [{'url': 'https://pmc.ncbi.nlm.nih.gov/articles/PMC7996841/', 'title': 'Attention Mechanisms and Their Applications to Complex Systems', 'content': 'Generally formulated, attention in machine learning is a sequential process in which a learning task is guided by a set of elements of the input source (or memory). This is achieved by integrating the attention value into the task. [...] Attention mechanisms have provided and will provide a paradigm shift in machine learning. Specifically, this change is from traditional large-scale vector transformations to more conscious processes (i.e., that focus only on a set of elements), e.g., decomposing a problem into a sequence of attention based reasoning tasks [13,30,31,32,33,34]. [...] Attention mechanisms have provided and will provide a paradigm shift in machine learning [11,12]. These mechanisms allow a model to focus only on a set of elements and to decompose a problem into a sequence of attention based reasoning tasks . Moreover, they can be applied to model complex systems in a flexible and promising way. When it comes to their application, information processing in the system and internal structure are crucial.', 'score': 0.9581988, 'raw_content': None}, {'url': 'https://en.wikipedia.org/wiki/Attention_(machine_learning)', 'title': 'Attention (machine learning) - Wikipedia', 'content': 'Attention is a machine learning method that determines the importance of each component in a sequence relative to the other components in that sequence. In natural language processing, importance is represented by \"soft\" weights assigned to each word in a sentence. More generally, attention encodes vectors called tokenembeddings across a fixed-width sequence that can range from tens to millions of tokens in size. [...] Inspired by ideas about attention in humans, the attention mechanism was developed to address the weaknesses of leveraging information from the hidden layers of recurrent neural networks. Recurrent neural networks favor more recent information contained in words at the end of a sentence, while information earlier in the sentence tends to be attenuated. Attention allows a token equal access to any part of a sentence directly, rather than only through the previous state.\\n\\nHistory\\n------- [...] Attention(A Q,B K,B V)=A Attention(Q,K,V){\\\\displaystyle {\\\\text{Attention}}(\\\\mathbf {A} \\\\mathbf {Q} ,\\\\mathbf {B} \\\\mathbf {K} ,\\\\mathbf {B} \\\\mathbf {V} )=\\\\mathbf {A} \\\\,{\\\\text{Attention}}(\\\\mathbf {Q} ,\\\\mathbf {K} ,\\\\mathbf {V} )}Image 31: {\\\\displaystyle {\\\\text{Attention}}(\\\\mathbf {A} \\\\mathbf {Q} ,\\\\mathbf {B} \\\\mathbf {K} ,\\\\mathbf {B} \\\\mathbf {V} )=\\\\mathbf {A} \\\\,{\\\\text{Attention}}(\\\\mathbf {Q} ,\\\\mathbf {K} ,\\\\mathbf {V} )}', 'score': 0.94956195, 'raw_content': None}, {'url': 'https://h2o.ai/wiki/attention-mechanism/', 'title': 'What is Attention Mechanism? - H2O.ai', 'content': 'Attention mechanism is important in machine learning and artificial intelligence for several reasons:\\n\\n   Improved Model Performance: By focusing on relevant information, attention mechanism enables models to make more accurate predictions and capture important patterns or dependencies in the data.\\n\\n   Effective Handling of Variable-Length Inputs: Attention mechanism allows models to process inputs of variable lengths by attending to different parts of the input sequence dynamically. [...] An attention mechanism is a technique used in machine learning and artificial intelligence to improve the performance of models by focusing on relevant information. It allows models to selectively attend to different parts of the input data, assigning varying degrees of importance or weight to different elements.\\n\\nHow Attention Mechanisms Work\\n----------------------------- [...] Overall, attention mechanisms play a crucial role in machine learning and artificial intelligence by enabling models to focus on relevant information and improve their performance. Its applications span various domains and tasks, making it a valuable tool for data scientists and practitioners. H2O.ai users can benefit from incorporating attention mechanisms into their workflows to enhance the capabilities and outcomes of their machine-learning models.\\n\\n#### Why H2O.ai', 'score': 0.8576849, 'raw_content': None}, {'url': 'https://www.youtube.com/watch?v=fjJOgb-E41w', 'title': 'Attention mechanism: Overview - YouTube', 'content': '# Attention mechanism: Overview\\n\\nGoogle Cloud Tech\\n2877 likes\\n191914 views\\n5 Jun 2023\\nThis video introduces you to the attention mechanism, a powerful technique that allows neural networks to focus on specific parts of an input sequence. Attention is used to improve the performance of a variety of machine learning tasks, including machine translation, text summarization, and question answering.', 'score': 0.83932644, 'raw_content': None}, {'url': 'https://viso.ai/deep-learning/attention-mechanisms/', 'title': 'Unpacking the Power of Attention Mechanisms in Deep Learning', 'content': 'Attention mechanisms represent advancements in machine learning and computer vision, enabling models to prioritize relevant information for better performance. As research progresses, attention mechanisms will further enhance the capabilities and interpretability of deep learning models.\\n\\nTo continue learning about the world of computer vision, check out our other blogs: [...] Addressing Data Processing\\n--------------------------\\n\\nAttention mechanisms address a critical challenge in AI: the efficient processing of vast and complex data sets. By enabling models to selectively weigh the importance of different input features, they improve both accuracy and efficiency. This makes these models perform better for tasks such as image recognition, text translation, and speech recognition. [...] Attention mechanisms allow artificial intelligence (AI) models to dynamically focus on individual elements within visual data. This mimics the way humans concentrate on specific visual elements at a time. This enhances the interpretability of AI systems for applications in computer vision and natural language processing (NLP).', 'score': 0.81665546, 'raw_content': None}], 'response_time': 2.15})]\n",
            "\n",
            "\n",
            "\n",
            "Receiving update from node: 'agent'\n",
            "[AIMessage(content=\"Here's a summary of the information I found:\\n\\n1. **LoRA (Low-Rank Adaptation)**: LoRA is a technique used to adapt large machine learning models to specific tasks or contexts efficiently. It works by adding low-rank matrices to the original, frozen model, which contain new weights that modify the model's outputs without retraining the entire model. This approach significantly reduces training time and computational resources, making it easier to fine-tune large models for specialized applications. LoRA is particularly useful for accelerating training and reducing memory usage in large language models.\\n\\n2. **Tim Dettmers**: Tim Dettmers is a researcher and assistant professor at Carnegie Mellon University, as well as a research scientist at the Allen Institute for AI. His work focuses on making foundation models like ChatGPT more accessible by reducing their resource requirements. He has developed tools such as the bitsandbytes library for efficient deep learning and has received multiple awards for his contributions. His research aims to enable broader use and adaptation of large AI models, especially in resource-constrained environments.\\n\\n3. **Attention in Machine Learning**: Attention mechanisms are techniques that allow models to focus on the most relevant parts of the input data. Inspired by human cognition, attention helps models weigh different elements of a sequence (like words in a sentence) according to their importance. This improves the model's ability to handle variable-length inputs, enhances performance in tasks like translation, summarization, and question answering, and allows for more interpretable models. Attention is a core component of many advanced neural network architectures, including transformers.\\n\\nWould you like more detailed information on any of these topics?\", additional_kwargs={'refusal': None}, response_metadata={'token_usage': {'completion_tokens': 329, 'prompt_tokens': 4295, 'total_tokens': 4624, 'completion_tokens_details': {'accepted_prediction_tokens': 0, 'audio_tokens': 0, 'reasoning_tokens': 0, 'rejected_prediction_tokens': 0}, 'prompt_tokens_details': {'audio_tokens': 0, 'cached_tokens': 0}}, 'model_name': 'gpt-4.1-nano-2025-04-14', 'system_fingerprint': None, 'id': 'chatcmpl-BtdbA7wAWxqsYJ8EKzHi6Juvpcn0A', 'service_tier': 'default', 'finish_reason': 'stop', 'logprobs': None}, id='run--24a01722-4aac-4970-9ab4-069bdc97dc4f-0', usage_metadata={'input_tokens': 4295, 'output_tokens': 329, 'total_tokens': 4624, 'input_token_details': {'audio': 0, 'cache_read': 0}, 'output_token_details': {'audio': 0, 'reasoning': 0}})]\n",
            "\n",
            "\n",
            "\n"
          ]
        }
      ],
      "source": [
        "inputs = {\"messages\" : [HumanMessage(content=\"Related to machine learning, what is LoRA? Also, who is Tim Dettmers? Also, what is Attention?\")]}\n",
        "\n",
        "async for chunk in agent_with_helpfulness_check.astream(inputs, stream_mode=\"updates\"):\n",
        "    for node, values in chunk.items():\n",
        "        print(f\"Receiving update from node: '{node}'\")\n",
        "        print(values[\"messages\"])\n",
        "        print(\"\\n\\n\")"
      ]
    },
    {
      "cell_type": "markdown",
      "metadata": {
        "id": "yVmZPs6lnpsM"
      },
      "source": [
        "### Task 4: LangGraph for the \"Patterns\" of GenAI\n",
        "\n",
        "Let's ask our system about the 4 patterns of Generative AI:\n",
        "\n",
        "1. Prompt Engineering\n",
        "2. RAG\n",
        "3. Fine-tuning\n",
        "4. Agents"
      ]
    },
    {
      "cell_type": "code",
      "execution_count": 50,
      "metadata": {
        "id": "ZoLl7GlXoae-"
      },
      "outputs": [],
      "source": [
        "patterns = [\"prompt engineering\", \"RAG\", \"fine-tuning\", \"LLM-based agents\"]"
      ]
    },
    {
      "cell_type": "code",
      "execution_count": 51,
      "metadata": {
        "colab": {
          "base_uri": "https://localhost:8080/"
        },
        "id": "Zkh0YJuCp3Zl",
        "outputId": "d847426e-71b3-47e6-b1ae-351a78d68d1e"
      },
      "outputs": [
        {
          "name": "stdout",
          "output_type": "stream",
          "text": [
            "Prompt engineering is the process of designing and refining input prompts to effectively communicate with AI language models, such as GPT, to elicit accurate, relevant, and useful responses. It involves crafting prompts that guide the model's output in a desired direction, often through techniques like specifying context, framing questions clearly, or using structured formats.\n",
            "\n",
            "Prompt engineering has gained significant prominence with the rise of large language models (LLMs) like GPT-3, which were released around 2020. As these models became more capable and widely adopted, the importance of prompt design as a skill also grew, leading to the emergence of prompt engineering as a recognized discipline within AI and machine learning communities.\n",
            "\n",
            "Would you like more detailed information on its history or practical techniques?\n",
            "\n",
            "\n",
            "\n",
            "RAG, which stands for Retrieval-Augmented Generation, is a technique in natural language processing that combines pre-trained language models with information retrieval systems. This approach allows models to access and incorporate external knowledge from a large corpus of documents or data sources, enhancing their ability to generate accurate and contextually relevant responses, especially for tasks requiring up-to-date or specialized information.\n",
            "\n",
            "RAG was introduced by researchers at Facebook AI (now Meta AI) in a paper published in 2020. It marked a significant advancement in the field by enabling language models to retrieve relevant documents dynamically during the generation process, thereby improving performance on open-domain question answering and other knowledge-intensive tasks.\n",
            "\n",
            "Would you like more detailed information about its development, applications, or impact?\n",
            "\n",
            "\n",
            "\n",
            "Fine-tuning is a process in machine learning where a pre-trained model is further trained on a specific dataset to adapt it to a particular task or domain. This approach leverages the knowledge the model has already acquired during its initial training on large, general datasets, and then refines it to perform better on specialized tasks. Fine-tuning typically involves adjusting the model's weights slightly, allowing it to better capture the nuances of the new data without starting the training process from scratch.\n",
            "\n",
            "Fine-tuning became prominent with the rise of large pre-trained models, especially in natural language processing (NLP) and computer vision. Its popularity surged around the mid-2010s, particularly with the advent of models like BERT (introduced in 2018) and GPT (with GPT-2 in 2019 and GPT-3 in 2020). These models demonstrated that starting with a pre-trained model and fine-tuning it for specific tasks could achieve state-of-the-art performance with less data and computational resources compared to training models from scratch.\n",
            "\n",
            "Would you like me to find more detailed historical information or specific milestones related to the emergence of fine-tuning?\n",
            "\n",
            "\n",
            "\n",
            "LLM-based agents are intelligent systems that leverage large language models (LLMs) to perform a variety of tasks, such as understanding natural language, generating human-like responses, and making decisions or taking actions based on the input they receive. These agents can be used in applications like chatbots, virtual assistants, automated customer support, and more complex decision-making systems.\n",
            "\n",
            "The concept of LLM-based agents gained significant attention and broke onto the scene around 2020-2021, coinciding with the development and release of large-scale language models like OpenAI's GPT-3 in 2020. GPT-3's impressive capabilities demonstrated the potential of large language models to serve as the core component of autonomous agents capable of performing complex language understanding and generation tasks.\n",
            "\n",
            "Since then, the field has rapidly evolved, with many new models, techniques, and applications emerging, solidifying LLM-based agents as a key area of interest in artificial intelligence research and industry.\n",
            "\n",
            "\n",
            "\n"
          ]
        }
      ],
      "source": [
        "for pattern in patterns:\n",
        "  what_is_string = f\"What is {pattern} and when did it break onto the scene??\"\n",
        "  inputs = {\"messages\" : [HumanMessage(content=what_is_string)]}\n",
        "  messages = agent_with_helpfulness_check.invoke(inputs)\n",
        "  print(messages[\"messages\"][-1].content)\n",
        "  print(\"\\n\\n\")"
      ]
    }
  ],
  "metadata": {
    "colab": {
      "provenance": []
    },
    "kernelspec": {
      "display_name": ".venv",
      "language": "python",
      "name": "python3"
    },
    "language_info": {
      "codemirror_mode": {
        "name": "ipython",
        "version": 3
      },
      "file_extension": ".py",
      "mimetype": "text/x-python",
      "name": "python",
      "nbconvert_exporter": "python",
      "pygments_lexer": "ipython3",
      "version": "3.13.5"
    }
  },
  "nbformat": 4,
  "nbformat_minor": 0
}
