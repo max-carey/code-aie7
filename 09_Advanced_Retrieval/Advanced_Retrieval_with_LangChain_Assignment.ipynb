{
  "cells": [
    {
      "cell_type": "markdown",
      "metadata": {
        "id": "e-IqJAMkwnCF"
      },
      "source": [
        "# Advanced Retrieval with LangChain\n",
        "\n",
        "In the following notebook, we'll explore various methods of advanced retrieval using LangChain!\n",
        "\n",
        "We'll touch on:\n",
        "\n",
        "- Naive Retrieval\n",
        "- Best-Matching 25 (BM25)\n",
        "- Multi-Query Retrieval\n",
        "- Parent-Document Retrieval\n",
        "- Contextual Compression (a.k.a. Rerank)\n",
        "- Ensemble Retrieval\n",
        "- Semantic chunking\n",
        "\n",
        "We'll also discuss how these methods impact performance on our set of documents with a simple RAG chain.\n",
        "\n",
        "There will be two breakout rooms:\n",
        "\n",
        "- 🤝 Breakout Room Part #1\n",
        "  - Task 1: Getting Dependencies!\n",
        "  - Task 2: Data Collection and Preparation\n",
        "  - Task 3: Setting Up QDrant!\n",
        "  - Task 4-10: Retrieval Strategies\n",
        "- 🤝 Breakout Room Part #2\n",
        "  - Activity: Evaluate with Ragas"
      ]
    },
    {
      "cell_type": "markdown",
      "metadata": {
        "id": "4rKP3hgHivpe"
      },
      "source": [
        "# 🤝 Breakout Room Part #1"
      ]
    },
    {
      "cell_type": "markdown",
      "metadata": {
        "id": "3xes8oT-xHN7"
      },
      "source": [
        "## Task 1: Getting Dependencies!\n",
        "\n",
        "We're going to need a few specific LangChain community packages, like OpenAI (for our [LLM](https://platform.openai.com/docs/models) and [Embedding Model](https://platform.openai.com/docs/guides/embeddings)) and Cohere (for our [Reranker](https://cohere.com/rerank))."
      ]
    },
    {
      "cell_type": "markdown",
      "metadata": {
        "id": "Z7OHJXzfyJyA"
      },
      "source": [
        "We'll also provide our OpenAI key, as well as our Cohere API key."
      ]
    },
    {
      "cell_type": "code",
      "execution_count": 1,
      "metadata": {
        "colab": {
          "base_uri": "https://localhost:8080/"
        },
        "id": "7LttlDQUYgSI",
        "outputId": "9dca95ab-4d02-4adf-ec3f-cb831326dc54"
      },
      "outputs": [],
      "source": [
        "import os\n",
        "import getpass\n",
        "\n",
        "os.environ[\"OPENAI_API_KEY\"] = getpass.getpass(\"Enter your OpenAI API Key:\")"
      ]
    },
    {
      "cell_type": "code",
      "execution_count": 3,
      "metadata": {
        "colab": {
          "base_uri": "https://localhost:8080/"
        },
        "id": "3iUahNiJyQbv",
        "outputId": "78bf06ef-2ee8-46c3-f73d-27958b4dd79b"
      },
      "outputs": [],
      "source": [
        "os.environ[\"COHERE_API_KEY\"] = getpass.getpass(\"Cohere API Key:\")"
      ]
    },
    {
      "cell_type": "markdown",
      "metadata": {
        "id": "mw304iAFyRtl"
      },
      "source": [
        "## Task 2: Data Collection and Preparation\n",
        "\n",
        "We'll be using our Loan Data once again - this time the strutured data available through the CSV!"
      ]
    },
    {
      "cell_type": "markdown",
      "metadata": {
        "id": "A92NC2QZzCsi"
      },
      "source": [
        "### Data Preparation\n",
        "\n",
        "We want to make sure all our documents have the relevant metadata for the various retrieval strategies we're going to be applying today."
      ]
    },
    {
      "cell_type": "code",
      "execution_count": 4,
      "metadata": {
        "id": "GshBjVRJZ6p8"
      },
      "outputs": [],
      "source": [
        "from langchain_community.document_loaders.csv_loader import CSVLoader\n",
        "from datetime import datetime, timedelta\n",
        "\n",
        "loader = CSVLoader(\n",
        "    file_path=f\"./data/complaints.csv\",\n",
        "    metadata_columns=[\n",
        "      \"Date received\", \n",
        "      \"Product\", \n",
        "      \"Sub-product\", \n",
        "      \"Issue\", \n",
        "      \"Sub-issue\", \n",
        "      \"Consumer complaint narrative\", \n",
        "      \"Company public response\", \n",
        "      \"Company\", \n",
        "      \"State\", \n",
        "      \"ZIP code\", \n",
        "      \"Tags\", \n",
        "      \"Consumer consent provided?\", \n",
        "      \"Submitted via\", \n",
        "      \"Date sent to company\", \n",
        "      \"Company response to consumer\", \n",
        "      \"Timely response?\", \n",
        "      \"Consumer disputed?\", \n",
        "      \"Complaint ID\"\n",
        "    ]\n",
        ")\n",
        "\n",
        "loan_complaint_data = loader.load()\n",
        "\n",
        "for doc in loan_complaint_data:\n",
        "    doc.page_content = doc.metadata[\"Consumer complaint narrative\"]"
      ]
    },
    {
      "cell_type": "markdown",
      "metadata": {
        "id": "9gQphb6y0C0S"
      },
      "source": [
        "Let's look at an example document to see if everything worked as expected!"
      ]
    },
    {
      "cell_type": "code",
      "execution_count": 5,
      "metadata": {
        "colab": {
          "base_uri": "https://localhost:8080/"
        },
        "id": "PkUkCf7DaMiq",
        "outputId": "e90bd5da-1d87-423b-838a-cb6efc16b199"
      },
      "outputs": [
        {
          "data": {
            "text/plain": [
              "Document(metadata={'source': './data/complaints.csv', 'row': 0, 'Date received': '03/27/25', 'Product': 'Student loan', 'Sub-product': 'Federal student loan servicing', 'Issue': 'Dealing with your lender or servicer', 'Sub-issue': 'Trouble with how payments are being handled', 'Consumer complaint narrative': \"The federal student loan COVID-19 forbearance program ended in XX/XX/XXXX. However, payments were not re-amortized on my federal student loans currently serviced by Nelnet until very recently. The new payment amount that is effective starting with the XX/XX/XXXX payment will nearly double my payment from {$180.00} per month to {$360.00} per month. I'm fortunate that my current financial position allows me to be able to handle the increased payment amount, but I am sure there are likely many borrowers who are not in the same position. The re-amortization should have occurred once the forbearance ended to reduce the impact to borrowers.\", 'Company public response': 'None', 'Company': 'Nelnet, Inc.', 'State': 'IL', 'ZIP code': '60030', 'Tags': 'None', 'Consumer consent provided?': 'Consent provided', 'Submitted via': 'Web', 'Date sent to company': '03/27/25', 'Company response to consumer': 'Closed with explanation', 'Timely response?': 'Yes', 'Consumer disputed?': 'N/A', 'Complaint ID': '12686613'}, page_content=\"The federal student loan COVID-19 forbearance program ended in XX/XX/XXXX. However, payments were not re-amortized on my federal student loans currently serviced by Nelnet until very recently. The new payment amount that is effective starting with the XX/XX/XXXX payment will nearly double my payment from {$180.00} per month to {$360.00} per month. I'm fortunate that my current financial position allows me to be able to handle the increased payment amount, but I am sure there are likely many borrowers who are not in the same position. The re-amortization should have occurred once the forbearance ended to reduce the impact to borrowers.\")"
            ]
          },
          "execution_count": 5,
          "metadata": {},
          "output_type": "execute_result"
        }
      ],
      "source": [
        "loan_complaint_data[0]"
      ]
    },
    {
      "cell_type": "markdown",
      "metadata": {
        "id": "lWaQpdHl0Gzc"
      },
      "source": [
        "## Task 3: Setting up QDrant!\n",
        "\n",
        "Now that we have our documents, let's create a QDrant VectorStore with the collection name \"LoanComplaints\".\n",
        "\n",
        "We'll leverage OpenAI's [`text-embedding-3-small`](https://openai.com/blog/new-embedding-models-and-api-updates) because it's a very powerful (and low-cost) embedding model.\n",
        "\n",
        "> NOTE: We'll be creating additional vectorstores where necessary, but this pattern is still extremely useful."
      ]
    },
    {
      "cell_type": "code",
      "execution_count": 6,
      "metadata": {
        "id": "NT8ihRJbYmMT"
      },
      "outputs": [],
      "source": [
        "from langchain_community.vectorstores import Qdrant\n",
        "from langchain_openai import OpenAIEmbeddings\n",
        "\n",
        "embeddings = OpenAIEmbeddings(model=\"text-embedding-3-small\")\n",
        "\n",
        "vectorstore = Qdrant.from_documents(\n",
        "    loan_complaint_data,\n",
        "    embeddings,\n",
        "    location=\":memory:\",\n",
        "    collection_name=\"LoanComplaints\"\n",
        ")"
      ]
    },
    {
      "cell_type": "markdown",
      "metadata": {
        "id": "-x2SS4Rh0hiN"
      },
      "source": [
        "## Task 4: Naive RAG Chain\n",
        "\n",
        "Since we're focusing on the \"R\" in RAG today - we'll create our Retriever first."
      ]
    },
    {
      "cell_type": "markdown",
      "metadata": {
        "id": "NEH7X5Ai08FH"
      },
      "source": [
        "### R - Retrieval\n",
        "\n",
        "This naive retriever will simply look at each review as a document, and use cosine-similarity to fetch the 10 most relevant documents.\n",
        "\n",
        "> NOTE: We're choosing `10` as our `k` here to provide enough documents for our reranking process later"
      ]
    },
    {
      "cell_type": "code",
      "execution_count": 7,
      "metadata": {
        "id": "GFDPrNBtb72o"
      },
      "outputs": [],
      "source": [
        "naive_retriever = vectorstore.as_retriever(search_kwargs={\"k\" : 10})"
      ]
    },
    {
      "cell_type": "markdown",
      "metadata": {
        "id": "MbBhyQjz06dx"
      },
      "source": [
        "### A - Augmented\n",
        "\n",
        "We're going to go with a standard prompt for our simple RAG chain today! Nothing fancy here, we want this to mostly be about the Retrieval process."
      ]
    },
    {
      "cell_type": "code",
      "execution_count": 8,
      "metadata": {
        "id": "7uSz-Dbqcoki"
      },
      "outputs": [],
      "source": [
        "from langchain_core.prompts import ChatPromptTemplate\n",
        "\n",
        "RAG_TEMPLATE = \"\"\"\\\n",
        "You are a helpful and kind assistant. Use the context provided below to answer the question.\n",
        "\n",
        "If you do not know the answer, or are unsure, say you don't know.\n",
        "\n",
        "Query:\n",
        "{question}\n",
        "\n",
        "Context:\n",
        "{context}\n",
        "\"\"\"\n",
        "\n",
        "rag_prompt = ChatPromptTemplate.from_template(RAG_TEMPLATE)"
      ]
    },
    {
      "cell_type": "markdown",
      "metadata": {
        "id": "BlRzpb231GGJ"
      },
      "source": [
        "### G - Generation\n",
        "\n",
        "We're going to leverage `gpt-4.1-nano` as our LLM today, as - again - we want this to largely be about the Retrieval process."
      ]
    },
    {
      "cell_type": "code",
      "execution_count": 9,
      "metadata": {
        "id": "c-1t9H60dJLg"
      },
      "outputs": [],
      "source": [
        "from langchain_openai import ChatOpenAI\n",
        "\n",
        "chat_model = ChatOpenAI(model=\"gpt-4.1-nano\")"
      ]
    },
    {
      "cell_type": "markdown",
      "metadata": {
        "id": "mg3QRGzA1M2x"
      },
      "source": [
        "### LCEL RAG Chain\n",
        "\n",
        "We're going to use LCEL to construct our chain.\n",
        "\n",
        "> NOTE: This chain will be exactly the same across the various examples with the exception of our Retriever!"
      ]
    },
    {
      "cell_type": "code",
      "execution_count": 10,
      "metadata": {
        "id": "0bvstS7mdOW3"
      },
      "outputs": [],
      "source": [
        "from langchain_core.runnables import RunnablePassthrough\n",
        "from operator import itemgetter\n",
        "from langchain_core.output_parsers import StrOutputParser\n",
        "\n",
        "naive_retrieval_chain = (\n",
        "    # INVOKE CHAIN WITH: {\"question\" : \"<<SOME USER QUESTION>>\"}\n",
        "    # \"question\" : populated by getting the value of the \"question\" key\n",
        "    # \"context\"  : populated by getting the value of the \"question\" key and chaining it into the base_retriever\n",
        "    {\"context\": itemgetter(\"question\") | naive_retriever, \"question\": itemgetter(\"question\")}\n",
        "    # \"context\"  : is assigned to a RunnablePassthrough object (will not be called or considered in the next step)\n",
        "    #              by getting the value of the \"context\" key from the previous step\n",
        "    | RunnablePassthrough.assign(context=itemgetter(\"context\"))\n",
        "    # \"response\" : the \"context\" and \"question\" values are used to format our prompt object and then piped\n",
        "    #              into the LLM and stored in a key called \"response\"\n",
        "    # \"context\"  : populated by getting the value of the \"context\" key from the previous step\n",
        "    | {\"response\": rag_prompt | chat_model, \"context\": itemgetter(\"context\")}\n",
        ")"
      ]
    },
    {
      "cell_type": "markdown",
      "metadata": {
        "id": "izKujhNb1ZG8"
      },
      "source": [
        "Let's see how this simple chain does on a few different prompts.\n",
        "\n",
        "> NOTE: You might think that we've cherry picked prompts that showcase the individual skill of each of the retrieval strategies - you'd be correct!"
      ]
    },
    {
      "cell_type": "code",
      "execution_count": 11,
      "metadata": {
        "colab": {
          "base_uri": "https://localhost:8080/",
          "height": 36
        },
        "id": "LI-5ueEddku9",
        "outputId": "7f3cec18-5f4e-41bb-cf71-51ba0be5388e"
      },
      "outputs": [
        {
          "data": {
            "text/plain": [
              "'Based on the provided information, the most common issues with loans, especially student loans, include errors in loan balances and account reporting, mismanagement of loans, difficulties in making or applying payments correctly, and issues with loan transfer and communication. Many complaints also involve incorrect or outdated information on credit reports and problems related to repayment plans or loan forgiveness.\\n\\nIn summary, the most common issues are:\\n\\n- Errors or discrepancies in loan balances and account information\\n- Mismanagement and mishandling of loans, including unauthorized transfers\\n- Difficulties in payment application, often resulting in payments being applied improperly (e.g., primarily to interest)\\n- Problems with loan reporting on credit reports, including incorrect delinquency status\\n- Lack of transparency and communication from loan servicers\\n- Issues related to loan forgiveness or discharge complications\\n\\nThese problems often lead to financial hardship, credit score impacts, and disputes with servicers.\\n\\nPlease let me know if you need further details.'"
            ]
          },
          "execution_count": 11,
          "metadata": {},
          "output_type": "execute_result"
        }
      ],
      "source": [
        "naive_retrieval_chain.invoke({\"question\" : \"What is the most common issue with loans?\"})[\"response\"].content"
      ]
    },
    {
      "cell_type": "code",
      "execution_count": 12,
      "metadata": {
        "colab": {
          "base_uri": "https://localhost:8080/",
          "height": 36
        },
        "id": "43zdcdUydtXh",
        "outputId": "db874e67-f568-4ed1-b863-b7c17b387052"
      },
      "outputs": [
        {
          "data": {
            "text/plain": [
              "'Based on the provided information, yes, some complaints did not get handled in a timely manner. Specifically, the complaint submitted to MOHELA on 03/28/25 was marked as \"No\" for being handled promptly. Additionally, multiple complaints associated with Maximus Federal Services, Inc. indicate delays or failures in responses, such as a complaint from 04/05/25 still pending after over a year and another from 04/14/25 with ongoing issues despite efforts to resolve.\\n\\nThere are also several instances where consumers reported that their issues were not addressed quickly, including delays of weeks or months before receiving responses, or instances where the company failed to respond at all within expected time frames.\\n\\nTherefore, the answer is: Yes, some complaints did not get handled in a timely manner.'"
            ]
          },
          "execution_count": 12,
          "metadata": {},
          "output_type": "execute_result"
        }
      ],
      "source": [
        "naive_retrieval_chain.invoke({\"question\" : \"Did any complaints not get handled in a timely manner?\"})[\"response\"].content"
      ]
    },
    {
      "cell_type": "code",
      "execution_count": 13,
      "metadata": {
        "colab": {
          "base_uri": "https://localhost:8080/",
          "height": 70
        },
        "id": "lpG6rlvvvKFq",
        "outputId": "a1b330b0-628e-41be-d829-9c1d55e781f5"
      },
      "outputs": [
        {
          "data": {
            "text/plain": [
              "\"People often fail to pay back their loans due to a combination of factors highlighted in the complaints:\\n\\n1. **Accumulation of Interest and Unmanageable Payments:** Many borrowers find that their interest continues to grow, especially when loans are in forbearance or deferment, making the total amount owed larger over time. Lowering monthly payments can lead to interest accumulating faster than payments, extending the repayment period and increasing total debt.\\n\\n2. **Lack of Clear Communication and Notification:** Several complaints indicate that borrowers were not properly notified about when payments were to resume, changes in servicers, or transfer of loans between companies. This lack of transparency leads to unexpected delinquencies and damage to credit scores.\\n\\n3. **Inability to Afford Payments:** Borrowers often state that they cannot increase payments to meet the required amounts due to financial hardship, loss of employment, or stagnant wages. This prevents them from paying off their loans within the expected timeframe.\\n\\n4. **Loan Management Issues and Bad Information:** Some complain about mismanagement, outdated or inaccurate account information, improper transfer of loans without notification, and difficulty in applying payments correctly. These issues hinder repayment efforts and can lead to delinquency.\\n\\n5. **Administrative Barriers and Servicer Actions:** Complaints also mention difficulties in adjusting payment plans, being placed in long-term forbearance, or having payments automatically applied in ways that favor interest over principal, making quick repayment impossible.\\n\\n6. **Economic Hardship and Life Circumstances:** Unexpected financial hardships such as unemployment, lack of stable income, or other emergencies contribute to borrowers' inability to keep up with their payments.\\n\\nIn summary, failures to pay back loans are often driven by a combination of complex interest calculations, poor communication from lenders or servicers, financial hardship, and administrative issues that make managing and fulfilling loan payments difficult.\""
            ]
          },
          "execution_count": 13,
          "metadata": {},
          "output_type": "execute_result"
        }
      ],
      "source": [
        "naive_retrieval_chain.invoke({\"question\" : \"Why did people fail to pay back their loans?\"})[\"response\"].content"
      ]
    },
    {
      "cell_type": "markdown",
      "metadata": {
        "id": "jsbfQmbr1leg"
      },
      "source": [
        "Overall, this is not bad! Let's see if we can make it better!"
      ]
    },
    {
      "cell_type": "markdown",
      "metadata": {
        "id": "Ft1vt8HPR16w"
      },
      "source": [
        "## Task 5: Best-Matching 25 (BM25) Retriever\n",
        "\n",
        "Taking a step back in time - [BM25](https://www.nowpublishers.com/article/Details/INR-019) is based on [Bag-Of-Words](https://en.wikipedia.org/wiki/Bag-of-words_model) which is a sparse representation of text.\n",
        "\n",
        "In essence, it's a way to compare how similar two pieces of text are based on the words they both contain.\n",
        "\n",
        "This retriever is very straightforward to set-up! Let's see it happen down below!\n"
      ]
    },
    {
      "cell_type": "code",
      "execution_count": 14,
      "metadata": {
        "id": "qdF4wuj5R-cG"
      },
      "outputs": [],
      "source": [
        "from langchain_community.retrievers import BM25Retriever\n",
        "\n",
        "bm25_retriever = BM25Retriever.from_documents(loan_complaint_data, )"
      ]
    },
    {
      "cell_type": "markdown",
      "metadata": {
        "id": "KIjJlBQ8drKH"
      },
      "source": [
        "We'll construct the same chain - only changing the retriever."
      ]
    },
    {
      "cell_type": "code",
      "execution_count": 15,
      "metadata": {
        "id": "WR15EQG7SLuw"
      },
      "outputs": [],
      "source": [
        "bm25_retrieval_chain = (\n",
        "    {\"context\": itemgetter(\"question\") | bm25_retriever, \"question\": itemgetter(\"question\")}\n",
        "    | RunnablePassthrough.assign(context=itemgetter(\"context\"))\n",
        "    | {\"response\": rag_prompt | chat_model, \"context\": itemgetter(\"context\")}\n",
        ")"
      ]
    },
    {
      "cell_type": "markdown",
      "metadata": {
        "id": "0Gi-yXCDdvJk"
      },
      "source": [
        "Let's look at the responses!"
      ]
    },
    {
      "cell_type": "code",
      "execution_count": 16,
      "metadata": {
        "colab": {
          "base_uri": "https://localhost:8080/",
          "height": 53
        },
        "id": "oY9qzmm3SOrF",
        "outputId": "4d4f450f-5978-460f-f242-b32407868353"
      },
      "outputs": [
        {
          "data": {
            "text/plain": [
              "'Based on the provided context, the most common issue with loans appears to be problems related to dealing with lenders or servicers, including issues with the fees charged, how payments are handled, and receiving accurate or transparent information about the loan. Specifically, complaints often involve:\\n\\n- Disputes over fees charged or other charges that are not clearly explained.\\n- Difficulties in applying payments correctly or paying down the principal.\\n- Receiving incorrect or confusing information about loan balances, interest, or repayment terms.\\n- Issues with loan servicing that seem predatory or restrictive.\\n\\nThese issues are repeatedly highlighted across multiple complaints, indicating that the most common problem is related to the handling and management of loans by the servicers, leading to frustrations and disputes over fees and information.\\n\\nIf you need a concise answer: \\n\\nThe most common issue with loans, based on the context, is dealing with loan servicers or lenders regarding fees, payment application, and accurate information about the loan.'"
            ]
          },
          "execution_count": 16,
          "metadata": {},
          "output_type": "execute_result"
        }
      ],
      "source": [
        "bm25_retrieval_chain.invoke({\"question\" : \"What is the most common issue with loans?\"})[\"response\"].content"
      ]
    },
    {
      "cell_type": "code",
      "execution_count": 17,
      "metadata": {
        "colab": {
          "base_uri": "https://localhost:8080/",
          "height": 36
        },
        "id": "igfinyneSQkh",
        "outputId": "9752d4a9-dd16-45b1-f63f-a76e93a05eb3"
      },
      "outputs": [
        {
          "data": {
            "text/plain": [
              "'Based on the provided information, all the complaints mentioned in the documents indicate that the companies responded to the complaints in a timely manner. The responses are noted as \"Closed with explanation\" and explicitly state \"Timely response?\": \"Yes\" for each complaint. Therefore, there is no evidence in these complaints to suggest that any complaints did not get handled in a timely manner.'"
            ]
          },
          "execution_count": 17,
          "metadata": {},
          "output_type": "execute_result"
        }
      ],
      "source": [
        "bm25_retrieval_chain.invoke({\"question\" : \"Did any complaints not get handled in a timely manner?\"})[\"response\"].content"
      ]
    },
    {
      "cell_type": "code",
      "execution_count": 18,
      "metadata": {
        "colab": {
          "base_uri": "https://localhost:8080/",
          "height": 53
        },
        "id": "w0H7pV_USSMQ",
        "outputId": "bdead654-3109-4143-9a30-e1d6ca8dc534"
      },
      "outputs": [
        {
          "data": {
            "text/plain": [
              "'People failed to pay back their loans for various reasons, including issues with their payment plans, lack of communication from the loan servicers, and problems with the handling of their account information. Some specific causes include:\\n\\n- Difficulty in obtaining proper forbearance or deferment, leading to continued billing despite applying for relief.\\n- Loan servicers steering borrowers into incorrect types of forbearances or not responding to forbearance requests.\\n- Lack of timely communication from loan companies about account status changes, leading to unawareness of missed payments or account issues.\\n- Errors in billing or payment processing, such as payments being reversed or not being processed correctly.\\n- Unexplained transfer of loans to new servicers without proper notification, causing confusion and billing problems.\\n- Borrowers being unaware of changes or defaults, resulting in negative impacts on their credit ratings.\\n- Poor customer service and inadequate responses from loan companies to resolve issues.\\n\\nOverall, these problems can lead to missed payments, increased debt, and damage to credit scores, often exacerbated by inadequate communication and administrative errors on the part of loan servicers.'"
            ]
          },
          "execution_count": 18,
          "metadata": {},
          "output_type": "execute_result"
        }
      ],
      "source": [
        "bm25_retrieval_chain.invoke({\"question\" : \"Why did people fail to pay back their loans?\"})[\"response\"].content"
      ]
    },
    {
      "cell_type": "markdown",
      "metadata": {
        "id": "zvg5xHaUdxCl"
      },
      "source": [
        "It's not clear that this is better or worse, if only we had a way to test this (SPOILERS: We do, the second half of the notebook will cover this)"
      ]
    },
    {
      "cell_type": "markdown",
      "metadata": {},
      "source": [
        "#### ❓ Question #1:\n",
        "\n",
        "Give an example query where BM25 is better than embeddings and justify your answer.\n",
        "\n",
        "#### ✅ Answer\n",
        "\n",
        "BM25 is likely to perform better than embeddings when searching for specific keywords or phrases that appear verbatim in the complaints. For example, when searching for \"FASFA deadline\", BM25 might give higher weight to documents that contain this exact phrase. BM25 is based on FREQUENCY not SEMANTICS. I found this viedo to be very helpful to explain the difference: https://www.youtube.com/watch?v=3FbJOKhLv9M.\n",
        "\n"
      ]
    },
    {
      "cell_type": "markdown",
      "metadata": {
        "id": "Q-dcbFn2vpZF"
      },
      "source": [
        "## Task 6: Contextual Compression (Using Reranking)\n",
        "\n",
        "Contextual Compression is a fairly straightforward idea: We want to \"compress\" our retrieved context into just the most useful bits.\n",
        "\n",
        "There are a few ways we can achieve this - but we're going to look at a specific example called reranking.\n",
        "\n",
        "The basic idea here is this:\n",
        "\n",
        "- We retrieve lots of documents that are very likely related to our query vector\n",
        "- We \"compress\" those documents into a smaller set of *more* related documents using a reranking algorithm.\n",
        "\n",
        "We'll be leveraging Cohere's Rerank model for our reranker today!\n",
        "\n",
        "All we need to do is the following:\n",
        "\n",
        "- Create a basic retriever\n",
        "- Create a compressor (reranker, in this case)\n",
        "\n",
        "That's it!\n",
        "\n",
        "Let's see it in the code below!"
      ]
    },
    {
      "cell_type": "code",
      "execution_count": 19,
      "metadata": {
        "id": "psHvO2K1v_ZQ"
      },
      "outputs": [],
      "source": [
        "from langchain.retrievers.contextual_compression import ContextualCompressionRetriever\n",
        "from langchain_cohere import CohereRerank\n",
        "\n",
        "compressor = CohereRerank(model=\"rerank-v3.5\")\n",
        "compression_retriever = ContextualCompressionRetriever(\n",
        "    base_compressor=compressor, base_retriever=naive_retriever\n",
        ")"
      ]
    },
    {
      "cell_type": "markdown",
      "metadata": {
        "id": "_TA9RB2x-j7P"
      },
      "source": [
        "Let's create our chain again, and see how this does!"
      ]
    },
    {
      "cell_type": "code",
      "execution_count": 20,
      "metadata": {
        "id": "1BXqmxvHwX6T"
      },
      "outputs": [],
      "source": [
        "contextual_compression_retrieval_chain = (\n",
        "    {\"context\": itemgetter(\"question\") | compression_retriever, \"question\": itemgetter(\"question\")}\n",
        "    | RunnablePassthrough.assign(context=itemgetter(\"context\"))\n",
        "    | {\"response\": rag_prompt | chat_model, \"context\": itemgetter(\"context\")}\n",
        ")"
      ]
    },
    {
      "cell_type": "code",
      "execution_count": 21,
      "metadata": {
        "colab": {
          "base_uri": "https://localhost:8080/",
          "height": 36
        },
        "id": "V3iGpokswcBb",
        "outputId": "f15d2aa1-5e8b-417d-f623-eb835d072e59"
      },
      "outputs": [
        {
          "data": {
            "text/plain": [
              "'Based on the provided context, the most common issue with loans appears to involve problems with dealing with lenders or servicers, such as receiving bad or incorrect information about the loan, errors in loan balances, misapplied payments, wrongful denials of payment plans, and mishandling or mishandling of personal information. Issues like inaccuracies in loan balances, lack of proper documentation or explanation, and improper handling of loan data are prevalent concerns.\\n\\nIf I had to summarize, a significant and common problem is difficulties in communication with loan servicers, inaccuracies in loan information, and mismanagement of the loan processes.'"
            ]
          },
          "execution_count": 21,
          "metadata": {},
          "output_type": "execute_result"
        }
      ],
      "source": [
        "contextual_compression_retrieval_chain.invoke({\"question\" : \"What is the most common issue with loans?\"})[\"response\"].content"
      ]
    },
    {
      "cell_type": "code",
      "execution_count": 22,
      "metadata": {
        "colab": {
          "base_uri": "https://localhost:8080/",
          "height": 53
        },
        "id": "7u_k0i4OweUd",
        "outputId": "be5fccc8-2352-4189-c524-bbeaa28cf799"
      },
      "outputs": [
        {
          "data": {
            "text/plain": [
              "'Based on the provided complaints, at least one complaint indicates that it has not been handled in a timely manner. Specifically, the complaint from the individual regarding their loan account review has been open since approximately 18 months ago with no resolution, despite being flagged in the context as \"still awaiting a response and resolution.\" Additionally, the complaint about the main issue not being addressed was active for over 2-3 weeks. \\n\\nTherefore, yes, some complaints did not get handled in a timely manner.'"
            ]
          },
          "execution_count": 22,
          "metadata": {},
          "output_type": "execute_result"
        }
      ],
      "source": [
        "contextual_compression_retrieval_chain.invoke({\"question\" : \"Did any complaints not get handled in a timely manner?\"})[\"response\"].content"
      ]
    },
    {
      "cell_type": "code",
      "execution_count": 23,
      "metadata": {
        "colab": {
          "base_uri": "https://localhost:8080/",
          "height": 70
        },
        "id": "zn1EqaGqweXN",
        "outputId": "42bc5972-4164-46eb-f49d-4272f39bb89b"
      },
      "outputs": [
        {
          "data": {
            "text/plain": [
              "'People failed to pay back their loans for several reasons, including:\\n\\n- Lack of awareness or understanding that loans needed to be repaid: Some borrowers were not informed by their financial aid officers that repayment was required.\\n- Poor communication and notification from lenders or servicers: Borrowers reported not receiving timely notices about payment due dates, changes in their loan servicer, or when their loans were transferred without their knowledge.\\n- Difficulties with managing repayment options: Borrowers found that options like forbearance or deferment led to accumulating interest, making it harder to pay off loans in the long run.\\n- Increasing debt despite payments: Some individuals made payments over many years but still saw their balances grow due to accumulated interest and inconsistent or confusing account information.\\n- Financial hardship and inability to afford payments: Many borrowers faced challenges in making payments because doing so would extend the repayment period or increase total interest accrued, affecting their daily living expenses.\\n- Lack of clear or accurate information about their loan terms, interest calculations, and repayment plans contributed to confusion and unmanageable debt.\\n\\nIn summary, failure to pay back loans was often due to a combination of insufficient information, communication issues, the compounding effect of interest, and financial hardships that made consistent repayment difficult.'"
            ]
          },
          "execution_count": 23,
          "metadata": {},
          "output_type": "execute_result"
        }
      ],
      "source": [
        "contextual_compression_retrieval_chain.invoke({\"question\" : \"Why did people fail to pay back their loans?\"})[\"response\"].content"
      ]
    },
    {
      "cell_type": "markdown",
      "metadata": {
        "id": "OEbT0g2S-mZ4"
      },
      "source": [
        "We'll need to rely on something like Ragas to help us get a better sense of how this is performing overall - but it \"feels\" better!"
      ]
    },
    {
      "cell_type": "markdown",
      "metadata": {
        "id": "qqbghrBEQNn5"
      },
      "source": [
        "## Task 7: Multi-Query Retriever\n",
        "\n",
        "Typically in RAG we have a single query - the one provided by the user.\n",
        "\n",
        "What if we had....more than one query!\n",
        "\n",
        "In essence, a Multi-Query Retriever works by:\n",
        "\n",
        "1. Taking the original user query and creating `n` number of new user queries using an LLM.\n",
        "2. Retrieving documents for each query.\n",
        "3. Using all unique retrieved documents as context\n",
        "\n",
        "So, how is it to set-up? Not bad! Let's see it down below!\n",
        "\n"
      ]
    },
    {
      "cell_type": "code",
      "execution_count": 24,
      "metadata": {
        "id": "pfM26ReXQjzU"
      },
      "outputs": [],
      "source": [
        "from langchain.retrievers.multi_query import MultiQueryRetriever\n",
        "\n",
        "multi_query_retriever = MultiQueryRetriever.from_llm(\n",
        "    retriever=naive_retriever, llm=chat_model\n",
        ")"
      ]
    },
    {
      "cell_type": "code",
      "execution_count": 25,
      "metadata": {
        "id": "1vRc129jQ5WW"
      },
      "outputs": [],
      "source": [
        "multi_query_retrieval_chain = (\n",
        "    {\"context\": itemgetter(\"question\") | multi_query_retriever, \"question\": itemgetter(\"question\")}\n",
        "    | RunnablePassthrough.assign(context=itemgetter(\"context\"))\n",
        "    | {\"response\": rag_prompt | chat_model, \"context\": itemgetter(\"context\")}\n",
        ")"
      ]
    },
    {
      "cell_type": "code",
      "execution_count": 26,
      "metadata": {
        "colab": {
          "base_uri": "https://localhost:8080/",
          "height": 53
        },
        "id": "CGgNuOb3Q3M9",
        "outputId": "c5273ecf-da35-40b8-fbdb-0f8beab425f7"
      },
      "outputs": [
        {
          "data": {
            "text/plain": [
              "\"The most common issue with loans, based on the provided complaints and data, appears to be poor servicing and mismanagement by loan servicers. Specific recurring problems include errors in loan balances and interest calculation, lack of communication or transparency about account status, incorrect reporting or default status, and failures to process repayment plans or loan forgiveness applications properly. Many complaints highlight a pattern of inadequately informing borrowers about their loan terms, mishandling of loan status (such as default or deferment), and unprofessional customer service, which often results in damage to borrowers' credit and financial hardship.\""
            ]
          },
          "execution_count": 26,
          "metadata": {},
          "output_type": "execute_result"
        }
      ],
      "source": [
        "multi_query_retrieval_chain.invoke({\"question\" : \"What is the most common issue with loans?\"})[\"response\"].content"
      ]
    },
    {
      "cell_type": "code",
      "execution_count": 27,
      "metadata": {
        "colab": {
          "base_uri": "https://localhost:8080/",
          "height": 36
        },
        "id": "aAlSthxrRDBC",
        "outputId": "230ff807-23ae-4d25-8d11-cfdbed0b77cb"
      },
      "outputs": [
        {
          "data": {
            "text/plain": [
              "'Yes, based on the provided complaints, some complaints were not handled in a timely manner. For example, complaint ID 12739706 received on 04/01/25 was marked as \"No\" under the \"Timely response?\" field, indicating it was not responded to promptly. Additionally, multiple complaints mention delays or lack of response, such as complaint ID 12832400 received on 04/05/25, which was also marked as \"Yes\" for timely response, suggesting it was handled more promptly, but other complaints like 12973003 and 12709087 explicitly state that responses were delayed or not received as expected. \\n\\nTherefore, several complaints did not get handled in a timely manner.'"
            ]
          },
          "execution_count": 27,
          "metadata": {},
          "output_type": "execute_result"
        }
      ],
      "source": [
        "multi_query_retrieval_chain.invoke({\"question\" : \"Did any complaints not get handled in a timely manner?\"})[\"response\"].content"
      ]
    },
    {
      "cell_type": "code",
      "execution_count": 28,
      "metadata": {
        "colab": {
          "base_uri": "https://localhost:8080/",
          "height": 88
        },
        "id": "Uv1mpCK8REs4",
        "outputId": "00fbc22a-ed9b-4613-9695-0b179e3f8369"
      },
      "outputs": [
        {
          "data": {
            "text/plain": [
              "\"People failed to pay back their loans for various reasons, including:\\n\\n- Lack of proper communication or notice from loan servicers about payment resumption or delinquency.\\n- Being misled or inadequately informed about available options such as income-driven repayment, rehabilitation, or the implications of forbearance.\\n- Accumulation of high interest and compound interest, making the total debt grow significantly over time.\\n- Difficulties in managing or manipulating the payment application process, with some reports of payments only being applied to interest, prolonging debt.\\n- Systemic errors, such as incorrect credit reporting, misapplication of payments, and improper transfers of loans, leading to late reports and credit score drops.\\n- Loan servicer misconduct, including failure to follow regulatory guidelines, lack of transparency, and inadequate support during financial hardship.\\n- Lack of awareness about the true state of their loan balances and terms due to poor record-keeping and communication.\\n- External hardships such as financial hardship, unemployment, or medical issues that impede the ability to make payments.\\n\\nOverall, systemic issues, poor communication, and mismanagement by loan servicers and agencies contributed significantly to borrowers' inability to repay their loans.\""
            ]
          },
          "execution_count": 28,
          "metadata": {},
          "output_type": "execute_result"
        }
      ],
      "source": [
        "multi_query_retrieval_chain.invoke({\"question\" : \"Why did people fail to pay back their loans?\"})[\"response\"].content"
      ]
    },
    {
      "cell_type": "markdown",
      "metadata": {},
      "source": [
        "#### ❓ Question #2:\n",
        "\n",
        "Explain how generating multiple reformulations of a user query can improve recall.\n",
        "\n",
        "##### ✅ Answer:\n",
        "Generating multiple reformulations of a user query improves recall in a similar way to how image generators expand user prompts. Just like how an image generator might take a simple prompt like \"dog\" and expand it to \"a golden retriever puppy sitting in a grassy field on a sunny day\" to get more specific and relevant results, the MultiQueryRetriever takes a basic query and generates multiple variations that capture different aspects and phrasings of the same information need.\n",
        "\n",
        "This improves recall because:\n",
        "1. Different phrasings may match different relevant documents that use varying terminology\n",
        "2. Multiple queries explore different semantic angles of the same question\n",
        "3. By casting a wider net with related queries, we're more likely to catch relevant documents that might be missed by a single query\n",
        "4. The LLM can add helpful context and specifications, just like how image generators flesh out scene details\n",
        "\n",
        "For example, a query about \"loan issues\" might be expanded to:\n",
        "\"What are common problems people face with their loan servicers?\"\n",
        "\"What types of complaints do borrowers report about loan payments?\"\n",
        "\"What difficulties do people encounter when dealing with student loan companies?\"\n",
        "Each variation increases the chance of matching relevant documents in the corpus.\n",
        "\n"
      ]
    },
    {
      "cell_type": "markdown",
      "metadata": {
        "id": "EDEawBf_d_3G"
      },
      "source": [
        "## Task 8: Parent Document Retriever\n",
        "\n",
        "A \"small-to-big\" strategy - the Parent Document Retriever works based on a simple strategy:\n",
        "\n",
        "1. Each un-split \"document\" will be designated as a \"parent document\" (You could use larger chunks of document as well, but our data format allows us to consider the overall document as the parent chunk)\n",
        "2. Store those \"parent documents\" in a memory store (not a VectorStore)\n",
        "3. We will chunk each of those documents into smaller documents, and associate them with their respective parents, and store those in a VectorStore. We'll call those \"child chunks\".\n",
        "4. When we query our Retriever, we will do a similarity search comparing our query vector to the \"child chunks\".\n",
        "5. Instead of returning the \"child chunks\", we'll return their associated \"parent chunks\".\n",
        "\n",
        "Okay, maybe that was a few steps - but the basic idea is this:\n",
        "\n",
        "- Search for small documents\n",
        "- Return big documents\n",
        "\n",
        "The intuition is that we're likely to find the most relevant information by limiting the amount of semantic information that is encoded in each embedding vector - but we're likely to miss relevant surrounding context if we only use that information.\n",
        "\n",
        "Let's start by creating our \"parent documents\" and defining a `RecursiveCharacterTextSplitter`."
      ]
    },
    {
      "cell_type": "code",
      "execution_count": 29,
      "metadata": {
        "id": "qJ53JJuMd_ZH"
      },
      "outputs": [],
      "source": [
        "from langchain.retrievers import ParentDocumentRetriever\n",
        "from langchain.storage import InMemoryStore\n",
        "from langchain_text_splitters import RecursiveCharacterTextSplitter\n",
        "from qdrant_client import QdrantClient, models\n",
        "\n",
        "parent_docs = loan_complaint_data\n",
        "child_splitter = RecursiveCharacterTextSplitter(chunk_size=750)"
      ]
    },
    {
      "cell_type": "markdown",
      "metadata": {
        "id": "oOpXfVUH3gL3"
      },
      "source": [
        "We'll need to set up a new QDrant vectorstore - and we'll use another useful pattern to do so!\n",
        "\n",
        "> NOTE: We are manually defining our embedding dimension, you'll need to change this if you're using a different embedding model."
      ]
    },
    {
      "cell_type": "code",
      "execution_count": 30,
      "metadata": {
        "colab": {
          "base_uri": "https://localhost:8080/"
        },
        "id": "rzFc-_9HlGQ-",
        "outputId": "223662dd-c36f-42f7-d1b0-b086e571484e"
      },
      "outputs": [],
      "source": [
        "from langchain_qdrant import QdrantVectorStore\n",
        "\n",
        "client = QdrantClient(location=\":memory:\")\n",
        "\n",
        "client.create_collection(\n",
        "    collection_name=\"full_documents\",\n",
        "    vectors_config=models.VectorParams(size=1536, distance=models.Distance.COSINE)\n",
        ")\n",
        "\n",
        "parent_document_vectorstore = QdrantVectorStore(\n",
        "    collection_name=\"full_documents\", embedding=OpenAIEmbeddings(model=\"text-embedding-3-small\"), client=client\n",
        ")"
      ]
    },
    {
      "cell_type": "markdown",
      "metadata": {
        "id": "sf_g95FA3s6w"
      },
      "source": [
        "Now we can create our `InMemoryStore` that will hold our \"parent documents\" - and build our retriever!"
      ]
    },
    {
      "cell_type": "code",
      "execution_count": 31,
      "metadata": {
        "id": "BpWVjPf4fLUp"
      },
      "outputs": [],
      "source": [
        "store = InMemoryStore()\n",
        "\n",
        "parent_document_retriever = ParentDocumentRetriever(\n",
        "    vectorstore = parent_document_vectorstore,\n",
        "    docstore=store,\n",
        "    child_splitter=child_splitter,\n",
        ")"
      ]
    },
    {
      "cell_type": "markdown",
      "metadata": {
        "id": "KoYmSWfE32Zo"
      },
      "source": [
        "By default, this is empty as we haven't added any documents - let's add some now!"
      ]
    },
    {
      "cell_type": "code",
      "execution_count": 32,
      "metadata": {
        "id": "iQ2ZzfKigMZc"
      },
      "outputs": [],
      "source": [
        "parent_document_retriever.add_documents(parent_docs, ids=None)"
      ]
    },
    {
      "cell_type": "markdown",
      "metadata": {
        "id": "bI7Tip1335rE"
      },
      "source": [
        "We'll create the same chain we did before - but substitute our new `parent_document_retriever`."
      ]
    },
    {
      "cell_type": "code",
      "execution_count": 33,
      "metadata": {
        "id": "Qq_adt2KlSqp"
      },
      "outputs": [],
      "source": [
        "parent_document_retrieval_chain = (\n",
        "    {\"context\": itemgetter(\"question\") | parent_document_retriever, \"question\": itemgetter(\"question\")}\n",
        "    | RunnablePassthrough.assign(context=itemgetter(\"context\"))\n",
        "    | {\"response\": rag_prompt | chat_model, \"context\": itemgetter(\"context\")}\n",
        ")"
      ]
    },
    {
      "cell_type": "markdown",
      "metadata": {
        "id": "jNolUVQb4Apt"
      },
      "source": [
        "Let's give it a whirl!"
      ]
    },
    {
      "cell_type": "code",
      "execution_count": 34,
      "metadata": {
        "colab": {
          "base_uri": "https://localhost:8080/",
          "height": 70
        },
        "id": "TXB5i89Zly5W",
        "outputId": "94c240be-7c5b-4c58-9eee-56d93285a054"
      },
      "outputs": [
        {
          "data": {
            "text/plain": [
              "'Based on the provided context, the most common issues with loans appear to involve errors in loan balances, misapplied payments, wrongful denials of payment plans, discrepancies in interest rates, and problems with credit reporting or identity theft protection services. Among these, issues related to inaccurate or misleading information on credit reports, incorrect account status, and errors caused by loan servicer misconduct seem to be prevalent.'"
            ]
          },
          "execution_count": 34,
          "metadata": {},
          "output_type": "execute_result"
        }
      ],
      "source": [
        "parent_document_retrieval_chain.invoke({\"question\" : \"What is the most common issue with loans?\"})[\"response\"].content"
      ]
    },
    {
      "cell_type": "code",
      "execution_count": 35,
      "metadata": {
        "colab": {
          "base_uri": "https://localhost:8080/",
          "height": 36
        },
        "id": "V5F1T-wNl3cg",
        "outputId": "9b81e72e-5db7-4b8a-b25b-400ea0df5335"
      },
      "outputs": [
        {
          "data": {
            "text/plain": [
              "'Based on the provided complaints, the first two complaints related to the student loan servicing issues (rows 441 and 84) explicitly indicate that the responses were not handled in a timely manner. Specifically, both complaints were marked as \"Timely response?\": \"No,\" meaning they were not responded to promptly. The third complaint (row 418) was marked as \"Timely response?\": \"Yes,\" so it was handled in a timely manner. The fourth complaint (row 474) also indicates a timely response.\\n\\nTherefore, yes, some complaints did not get handled in a timely manner.'"
            ]
          },
          "execution_count": 35,
          "metadata": {},
          "output_type": "execute_result"
        }
      ],
      "source": [
        "parent_document_retrieval_chain.invoke({\"question\" : \"Did any complaints not get handled in a timely manner?\"})[\"response\"].content"
      ]
    },
    {
      "cell_type": "code",
      "execution_count": 36,
      "metadata": {
        "colab": {
          "base_uri": "https://localhost:8080/",
          "height": 70
        },
        "id": "ZqARszGzvGcG",
        "outputId": "8867f83c-db13-4db4-d57f-9bd51d32cd8a"
      },
      "outputs": [
        {
          "data": {
            "text/plain": [
              "'People failed to pay back their loans primarily due to a combination of factors such as financial hardship, misleading information about the value and manageability of their loans, the inability to secure employment or repay due to poor job prospects, and issues with loan servicing and notification failures. For example, some individuals experienced severe financial hardship after graduation and relied on deferment or forbearance, which increased the interest owed. Others were misled about the legitimacy or manageability of their loans, or faced administrative problems like unverified debt reporting, inadequate communication, or issues stemming from institutional misconduct.'"
            ]
          },
          "execution_count": 36,
          "metadata": {},
          "output_type": "execute_result"
        }
      ],
      "source": [
        "parent_document_retrieval_chain.invoke({\"question\" : \"Why did people fail to pay back their loans?\"})[\"response\"].content"
      ]
    },
    {
      "cell_type": "markdown",
      "metadata": {
        "id": "B41cj42s4DPM"
      },
      "source": [
        "Overall, the performance *seems* largely the same. We can leverage a tool like [Ragas]() to more effectively answer the question about the performance."
      ]
    },
    {
      "cell_type": "markdown",
      "metadata": {
        "id": "VUrIBKl_TwS9"
      },
      "source": [
        "## Task 9: Ensemble Retriever\n",
        "\n",
        "In brief, an Ensemble Retriever simply takes 2, or more, retrievers and combines their retrieved documents based on a rank-fusion algorithm.\n",
        "\n",
        "In this case - we're using the [Reciprocal Rank Fusion](https://plg.uwaterloo.ca/~gvcormac/cormacksigir09-rrf.pdf) algorithm.\n",
        "\n",
        "Setting it up is as easy as providing a list of our desired retrievers - and the weights for each retriever."
      ]
    },
    {
      "cell_type": "code",
      "execution_count": 37,
      "metadata": {
        "id": "8j7jpZsKTxic"
      },
      "outputs": [],
      "source": [
        "from langchain.retrievers import EnsembleRetriever\n",
        "\n",
        "retriever_list = [bm25_retriever, naive_retriever, parent_document_retriever, compression_retriever, multi_query_retriever]\n",
        "equal_weighting = [1/len(retriever_list)] * len(retriever_list)\n",
        "\n",
        "ensemble_retriever = EnsembleRetriever(\n",
        "    retrievers=retriever_list, weights=equal_weighting\n",
        ")"
      ]
    },
    {
      "cell_type": "markdown",
      "metadata": {
        "id": "kpo9Psl5hhJ-"
      },
      "source": [
        "We'll pack *all* of these retrievers together in an ensemble."
      ]
    },
    {
      "cell_type": "code",
      "execution_count": 38,
      "metadata": {
        "id": "KZ__EZwpUKkd"
      },
      "outputs": [],
      "source": [
        "ensemble_retrieval_chain = (\n",
        "    {\"context\": itemgetter(\"question\") | ensemble_retriever, \"question\": itemgetter(\"question\")}\n",
        "    | RunnablePassthrough.assign(context=itemgetter(\"context\"))\n",
        "    | {\"response\": rag_prompt | chat_model, \"context\": itemgetter(\"context\")}\n",
        ")"
      ]
    },
    {
      "cell_type": "markdown",
      "metadata": {
        "id": "SSsvHpRMj24L"
      },
      "source": [
        "Let's look at our results!"
      ]
    },
    {
      "cell_type": "code",
      "execution_count": 39,
      "metadata": {
        "colab": {
          "base_uri": "https://localhost:8080/",
          "height": 70
        },
        "id": "0lMvqL88UQI-",
        "outputId": "d86dd5f7-0a13-4836-c0ce-cc4c431fd889"
      },
      "outputs": [
        {
          "data": {
            "text/plain": [
              "'The most common issue with loans, based on the provided complaints, appears to be dealing with the lender or servicer, including problems such as receiving bad information about the loan, trouble with how payments are being handled (e.g., payments being canceled, applied incorrectly, or not processed), and issues stemming from loan transfers or servicing changes without proper notification. Many complaints also involve inaccuracies in loan balances, improper reporting to credit bureaus, and unresolved disputes regarding loan terms or legitimacy.'"
            ]
          },
          "execution_count": 39,
          "metadata": {},
          "output_type": "execute_result"
        }
      ],
      "source": [
        "ensemble_retrieval_chain.invoke({\"question\" : \"What is the most common issue with loans?\"})[\"response\"].content"
      ]
    },
    {
      "cell_type": "code",
      "execution_count": 40,
      "metadata": {
        "colab": {
          "base_uri": "https://localhost:8080/",
          "height": 53
        },
        "id": "MNFWLYECURI1",
        "outputId": "b17973b5-66a9-4481-97d5-880b5754b5c5"
      },
      "outputs": [
        {
          "data": {
            "text/plain": [
              "'Based on the provided complaints data, yes, some complaints indicate that issues did not get handled in a timely manner. Specifically:\\n\\n- Complaint ID 12935889 (MOHELA, NJ): Response was marked as \"No\" for timely response, indicating it was not handled promptly.\\n- Complaint ID 12668396 (MOHELA, NJ): Response was \"No\" for timely response.\\n- Complaint ID 12739706 (MOHELA, NJ): Response was \"No\" for timely response, and the complaint mentions ongoing issues with overdue or inaccurate reporting.\\n- Complaint IDs 12650717, 13056764, 12927952, 13160766, 12832400, 13410623, 12950199, 12973003, 13197090, 13205525: in these cases, responses were marked as \"Yes\" for being timely, indicating the complaints were handled within expected time frames.\\n- Some complaints, such as with Maximus Federal Services (Aidvantage), indicate ongoing unresolved issues despite the complaints being filed, which may suggest delays or inadequate handling.\\n\\nIn conclusion, yes, there are complaints that were not handled in a timely manner as evidenced by the explicit \"No\" responses to the \"Timely response?\" field.'"
            ]
          },
          "execution_count": 40,
          "metadata": {},
          "output_type": "execute_result"
        }
      ],
      "source": [
        "ensemble_retrieval_chain.invoke({\"question\" : \"Did any complaints not get handled in a timely manner?\"})[\"response\"].content"
      ]
    },
    {
      "cell_type": "code",
      "execution_count": 41,
      "metadata": {
        "colab": {
          "base_uri": "https://localhost:8080/",
          "height": 88
        },
        "id": "A7qbHfWgUR4c",
        "outputId": "f7373144-59ef-4fc7-b75d-ca00e7df881e"
      },
      "outputs": [
        {
          "data": {
            "text/plain": [
              "'People failed to pay back their student loans for various reasons, often related to issues with loan servicing, lack of clear communication, financial hardship, or mismanagement. Based on the provided complaints, common reasons include:\\n\\n1. **Lack of Notification and Communication Failures:** Borrowers were often not properly notified about loan transfer to different servicers, the start of repayment obligations, or updates to their account status. This led to unintentional missed payments or delinquencies.\\n\\n2. **Incorrect or Confusing Information:** Many reports involve inaccurate account balances, misapplied payments, or inconsistent reporting to credit bureaus, which caused confusion and unintentional late payments.\\n\\n3. **Financial Hardship and Unmanageable Payment Plans:** Borrowers cited difficulty affording payments due to stagnant wages, increased interest accruing during forbearance or deferment, or other financial hardships, making repayment impossible without hardship.\\n\\n4. **Servicer Practices and Lack of Alternatives:** Several complaints detail practices like steering into long-term forbearances without informing borrowers of income-driven repayment options, rehabilitation programs, or loan forgiveness, leading to increased debt over time.\\n\\n5. **Mismanagement and Errors in Loan Handling:** Complaints include mishandling of loan transfers, improper reporting, and failure to follow regulations, which can cause unnecessary delinquencies and credit score drops.\\n\\n6. **Problems with Payment Application:** Borrowers described difficulties in applying extra funds toward principal or paying off smaller loans earlier because servicers only allocated payments in ways that favored interest accrual, prolonging debt.\\n\\n7. **Unfair or Deceptive Practices:** Some experienced forbearance steering, where they were pushed into long-term forbearances without being informed of better options, or faced issues like automatic payments being discontinued without notice, resulting in missed payments and credit impact.\\n\\nIn summary, failure to pay back loans often resulted from a combination of inadequate communication by servicers, mismanagement, financial hardship, and systemic issues in loan handling practices.'"
            ]
          },
          "execution_count": 41,
          "metadata": {},
          "output_type": "execute_result"
        }
      ],
      "source": [
        "ensemble_retrieval_chain.invoke({\"question\" : \"Why did people fail to pay back their loans?\"})[\"response\"].content"
      ]
    },
    {
      "cell_type": "markdown",
      "metadata": {
        "id": "MopbkNJAXVaN"
      },
      "source": [
        "## Task 10: Semantic Chunking\n",
        "\n",
        "While this is not a retrieval method - it *is* an effective way of increasing retrieval performance on corpora that have clean semantic breaks in them.\n",
        "\n",
        "Essentially, Semantic Chunking is implemented by:\n",
        "\n",
        "1. Embedding all sentences in the corpus.\n",
        "2. Combining or splitting sequences of sentences based on their semantic similarity based on a number of [possible thresholding methods](https://python.langchain.com/docs/how_to/semantic-chunker/):\n",
        "  - `percentile`\n",
        "  - `standard_deviation`\n",
        "  - `interquartile`\n",
        "  - `gradient`\n",
        "3. Each sequence of related sentences is kept as a document!\n",
        "\n",
        "Let's see how to implement this!"
      ]
    },
    {
      "cell_type": "markdown",
      "metadata": {
        "id": "U9ciZbFEldv_"
      },
      "source": [
        "We'll use the `percentile` thresholding method for this example which will:\n",
        "\n",
        "Calculate all distances between sentences, and then break apart sequences of setences that exceed a given percentile among all distances."
      ]
    },
    {
      "cell_type": "code",
      "execution_count": 42,
      "metadata": {
        "id": "66EIEWiEYl5y"
      },
      "outputs": [],
      "source": [
        "from langchain_experimental.text_splitter import SemanticChunker\n",
        "\n",
        "semantic_chunker = SemanticChunker(\n",
        "    embeddings,\n",
        "    breakpoint_threshold_type=\"percentile\"\n",
        ")"
      ]
    },
    {
      "cell_type": "markdown",
      "metadata": {
        "id": "YqoKmz12mhRW"
      },
      "source": [
        "Now we can split our documents."
      ]
    },
    {
      "cell_type": "code",
      "execution_count": 43,
      "metadata": {
        "id": "ROcV7o68ZIq7"
      },
      "outputs": [],
      "source": [
        "semantic_documents = semantic_chunker.split_documents(loan_complaint_data[:20])"
      ]
    },
    {
      "cell_type": "markdown",
      "metadata": {
        "id": "L8-LNC-Xmjex"
      },
      "source": [
        "Let's create a new vector store."
      ]
    },
    {
      "cell_type": "code",
      "execution_count": 44,
      "metadata": {
        "id": "h3sl9QjyZhIe"
      },
      "outputs": [],
      "source": [
        "semantic_vectorstore = Qdrant.from_documents(\n",
        "    semantic_documents,\n",
        "    embeddings,\n",
        "    location=\":memory:\",\n",
        "    collection_name=\"Loan_Complaint_Data_Semantic_Chunks\"\n",
        ")"
      ]
    },
    {
      "cell_type": "markdown",
      "metadata": {
        "id": "Eh_r_-LHmmKn"
      },
      "source": [
        "We'll use naive retrieval for this example."
      ]
    },
    {
      "cell_type": "code",
      "execution_count": 45,
      "metadata": {
        "id": "odVyDUHwZftc"
      },
      "outputs": [],
      "source": [
        "semantic_retriever = semantic_vectorstore.as_retriever(search_kwargs={\"k\" : 10})"
      ]
    },
    {
      "cell_type": "markdown",
      "metadata": {
        "id": "Mkeiv_ojmp6G"
      },
      "source": [
        "Finally we can create our classic chain!"
      ]
    },
    {
      "cell_type": "code",
      "execution_count": 46,
      "metadata": {
        "id": "xWE_0J0mZveG"
      },
      "outputs": [],
      "source": [
        "semantic_retrieval_chain = (\n",
        "    {\"context\": itemgetter(\"question\") | semantic_retriever, \"question\": itemgetter(\"question\")}\n",
        "    | RunnablePassthrough.assign(context=itemgetter(\"context\"))\n",
        "    | {\"response\": rag_prompt | chat_model, \"context\": itemgetter(\"context\")}\n",
        ")"
      ]
    },
    {
      "cell_type": "markdown",
      "metadata": {
        "id": "R5pfjLQ3ms9_"
      },
      "source": [
        "And view the results!"
      ]
    },
    {
      "cell_type": "code",
      "execution_count": 47,
      "metadata": {
        "colab": {
          "base_uri": "https://localhost:8080/",
          "height": 70
        },
        "id": "0lN2j-e4Z0SD",
        "outputId": "ef483e21-7200-4dfc-b8bf-aed4f23587b2"
      },
      "outputs": [
        {
          "data": {
            "text/plain": [
              "'Based on the provided context, the most common issue with loans appears to be problems related to the handling and servicing of student loans, including:\\n\\n- Struggling to repay or difficulties with payment plans and repayment amounts.\\n- Miscommunication or lack of transparency from loan servicers.\\n- Errors in reporting loan status, such as incorrect default or delinquency notices.\\n- Problems with loan documentation and processing of forgiveness or discharge.\\n- Issues with unauthorized or illegal reporting of loan information.\\n- Disputes over loan account status and verification of debt.\\n\\nOverall, many complaints involve mismanagement, communication failures, and legal or administrative errors by loan servicers or federal agencies.'"
            ]
          },
          "execution_count": 47,
          "metadata": {},
          "output_type": "execute_result"
        }
      ],
      "source": [
        "semantic_retrieval_chain.invoke({\"question\" : \"What is the most common issue with loans?\"})[\"response\"].content"
      ]
    },
    {
      "cell_type": "code",
      "execution_count": 48,
      "metadata": {
        "colab": {
          "base_uri": "https://localhost:8080/",
          "height": 53
        },
        "id": "xdqfBH1SZ3f9",
        "outputId": "ed62b2d1-7586-46cc-aaf4-c54192a56155"
      },
      "outputs": [
        {
          "data": {
            "text/plain": [
              "'Based on the provided complaints, it appears that several complaints involved issues with handling in a timely manner. Specifically:\\n\\n- One complaint from 04/28/25 about autopay setup issues was marked as responded to \"Yes\" for timely response.\\n- Multiple complaints from 05/04/25 and 05/05/25 involved transfer of account and dispute issues, both also marked as \"Yes\" for timely response.\\n- The complaint from 04/13/25 regarding unauthorized access and breach issues was also responded to \"Yes\" for timely response.\\n- Additional complaints related to disputes, payment processing problems, and legal investigations all indicate that responses were generally marked as timely.\\n\\nGiven that the responses to these complaints are noted as \"Yes\" for being timely, it suggests that most complaints were handled within an appropriate timeframe. However, the fact that many complaints involve ongoing issues, disputes, or lack of resolution could imply delays in effectively resolving the underlying problems.\\n\\nTherefore, **yes**, some complaints did involve handling that was not prompt or fully resolved in a timely manner, although the responses from the companies were marked as timely in these cases.'"
            ]
          },
          "execution_count": 48,
          "metadata": {},
          "output_type": "execute_result"
        }
      ],
      "source": [
        "semantic_retrieval_chain.invoke({\"question\" : \"Did any complaints not get handled in a timely manner?\"})[\"response\"].content"
      ]
    },
    {
      "cell_type": "code",
      "execution_count": 49,
      "metadata": {
        "colab": {
          "base_uri": "https://localhost:8080/",
          "height": 70
        },
        "id": "rAcAObZnZ4o6",
        "outputId": "3f1cade3-41e4-4e42-ef71-048dd18e5e3a"
      },
      "outputs": [
        {
          "data": {
            "text/plain": [
              "'People failed to pay back their loans for various reasons, including difficulties dealing with their lenders or servicers, problems with payment plans or re-amortization, issues with documentation and verification, alleged mismanagement or stall tactics by loan servicers, and disputes over the legitimacy or status of their loans. Some borrowers also experienced trouble due to miscommunication, lack of transparency, or improper reporting of their loan status, which in turn affected their ability to repay or have their accounts accurately reflected.'"
            ]
          },
          "execution_count": 49,
          "metadata": {},
          "output_type": "execute_result"
        }
      ],
      "source": [
        "semantic_retrieval_chain.invoke({\"question\" : \"Why did people fail to pay back their loans?\"})[\"response\"].content"
      ]
    },
    {
      "cell_type": "markdown",
      "metadata": {},
      "source": [
        "#### ❓ Question #3:\n",
        "\n",
        "If sentences are short and highly repetitive (e.g., FAQs), how might semantic chunking behave, and how would you adjust the algorithm?\n",
        "\n",
        "##### ✅ Answer:\n",
        "With short, repetitive sentences like FAQs, semantic chunking may face several challenges:\n",
        "\n",
        "1. Overlapping Embeddings: Similar/repetitive sentences will have very similar embeddings, making it harder to distinguish between chunks and potentially leading to redundant retrievals\n",
        "\n",
        "2. Loss of Context: Short sentences may lack sufficient context for the embedding model to capture meaningful semantic relationships\n",
        "\n",
        "3. Inefficient Chunking: The algorithm may create many small chunks that don't effectively group related content\n",
        "\n",
        "To address these issues, you could:\n",
        "\n",
        "Increase chunk size to capture more context around each FAQ\n",
        "Use custom chunking rules that keep question-answer pairs together\n",
        "Add metadata/tags to help distinguish between similar FAQs\n",
        "Consider alternative chunking strategies like combining related FAQs into topical groups\n",
        "Use hybrid retrieval approaches that combine semantic and keyword matching\n"
      ]
    },
    {
      "cell_type": "markdown",
      "metadata": {
        "id": "xk2n3-pnVWDJ"
      },
      "source": [
        "# 🤝 Breakout Room Part #2"
      ]
    },
    {
      "cell_type": "markdown",
      "metadata": {
        "id": "2SkJLYwMVZkj"
      },
      "source": [
        "#### 🏗️ Activity #1\n",
        "\n",
        "Your task is to evaluate the various Retriever methods against eachother.\n",
        "\n",
        "You are expected to:\n",
        "\n",
        "1. Create a \"golden dataset\"\n",
        " - Use Synthetic Data Generation (powered by Ragas, or otherwise) to create this dataset\n",
        "2. Evaluate each retriever with *retriever specific* Ragas metrics\n",
        " - Semantic Chunking is not considered a retriever method and will not be required for marks, but you may find it useful to do a \"semantic chunking on\" vs. \"semantic chunking off\" comparision between them\n",
        "3. Compile these in a list and write a small paragraph about which is best for this particular data and why.\n",
        "\n",
        "Your analysis should factor in:\n",
        "  - Cost\n",
        "  - Latency\n",
        "  - Performance\n",
        "\n",
        "> NOTE: This is **NOT** required to be completed in class. Please spend time in your breakout rooms creating a plan before moving on to writing code."
      ]
    },
    {
      "cell_type": "markdown",
      "metadata": {
        "id": "TWAr16a5XMub"
      },
      "source": [
        "##### HINTS:\n",
        "\n",
        "- LangSmith provides detailed information about latency and cost."
      ]
    },
    {
      "cell_type": "code",
      "execution_count": 50,
      "metadata": {
        "id": "tgDICngKXLGK"
      },
      "outputs": [],
      "source": [
        "from langchain_community.document_loaders import DirectoryLoader\n",
        "from langchain_community.document_loaders import PyMuPDFLoader\n",
        "\n",
        "\n",
        "path = \"data/\"\n",
        "loader = DirectoryLoader(path, glob=\"*.pdf\", loader_cls=PyMuPDFLoader)\n",
        "docs = loader.load()"
      ]
    },
    {
      "cell_type": "code",
      "execution_count": 51,
      "metadata": {},
      "outputs": [],
      "source": [
        "from ragas.llms import LangchainLLMWrapper\n",
        "from ragas.embeddings import LangchainEmbeddingsWrapper\n",
        "from langchain_openai import ChatOpenAI\n",
        "from langchain_openai import OpenAIEmbeddings\n",
        "generator_llm = LangchainLLMWrapper(ChatOpenAI(model=\"gpt-4.1\"))\n",
        "generator_embeddings = LangchainEmbeddingsWrapper(OpenAIEmbeddings())"
      ]
    },
    {
      "cell_type": "code",
      "execution_count": 52,
      "metadata": {},
      "outputs": [
        {
          "data": {
            "application/vnd.jupyter.widget-view+json": {
              "model_id": "207b2a2bdaa74a9daad4d960f2e47ba2",
              "version_major": 2,
              "version_minor": 0
            },
            "text/plain": [
              "Applying HeadlinesExtractor:   0%|          | 0/17 [00:00<?, ?it/s]"
            ]
          },
          "metadata": {},
          "output_type": "display_data"
        },
        {
          "data": {
            "application/vnd.jupyter.widget-view+json": {
              "model_id": "fb79fa317e9e4677bf34ff13baa7a59c",
              "version_major": 2,
              "version_minor": 0
            },
            "text/plain": [
              "Applying HeadlineSplitter:   0%|          | 0/20 [00:00<?, ?it/s]"
            ]
          },
          "metadata": {},
          "output_type": "display_data"
        },
        {
          "name": "stderr",
          "output_type": "stream",
          "text": [
            "unable to apply transformation: 'headlines' property not found in this node\n",
            "unable to apply transformation: 'headlines' property not found in this node\n",
            "unable to apply transformation: 'headlines' property not found in this node\n"
          ]
        },
        {
          "data": {
            "application/vnd.jupyter.widget-view+json": {
              "model_id": "550d6fdff9da47e2861fdab8c0f01706",
              "version_major": 2,
              "version_minor": 0
            },
            "text/plain": [
              "Applying SummaryExtractor:   0%|          | 0/31 [00:00<?, ?it/s]"
            ]
          },
          "metadata": {},
          "output_type": "display_data"
        },
        {
          "name": "stderr",
          "output_type": "stream",
          "text": [
            "Property 'summary' already exists in node 'b86950'. Skipping!\n",
            "Property 'summary' already exists in node 'b0c4b8'. Skipping!\n",
            "Property 'summary' already exists in node 'df6eb9'. Skipping!\n",
            "Property 'summary' already exists in node '3b70e6'. Skipping!\n",
            "Property 'summary' already exists in node '3f88e7'. Skipping!\n",
            "Property 'summary' already exists in node '2e88e2'. Skipping!\n",
            "Property 'summary' already exists in node 'e2961b'. Skipping!\n",
            "Property 'summary' already exists in node '6b21f5'. Skipping!\n",
            "Property 'summary' already exists in node 'eb4abf'. Skipping!\n",
            "Property 'summary' already exists in node '611c4a'. Skipping!\n",
            "Property 'summary' already exists in node '355a54'. Skipping!\n",
            "Property 'summary' already exists in node 'e16dd2'. Skipping!\n",
            "Property 'summary' already exists in node '0905cd'. Skipping!\n",
            "Property 'summary' already exists in node 'fc75a9'. Skipping!\n"
          ]
        },
        {
          "data": {
            "application/vnd.jupyter.widget-view+json": {
              "model_id": "a788ea10859f4514a1f1ce96092689f7",
              "version_major": 2,
              "version_minor": 0
            },
            "text/plain": [
              "Applying CustomNodeFilter:   0%|          | 0/6 [00:00<?, ?it/s]"
            ]
          },
          "metadata": {},
          "output_type": "display_data"
        },
        {
          "data": {
            "application/vnd.jupyter.widget-view+json": {
              "model_id": "2eb14160ebe34277aa0caf08613de866",
              "version_major": 2,
              "version_minor": 0
            },
            "text/plain": [
              "Applying [EmbeddingExtractor, ThemesExtractor, NERExtractor]:   0%|          | 0/41 [00:00<?, ?it/s]"
            ]
          },
          "metadata": {},
          "output_type": "display_data"
        },
        {
          "name": "stderr",
          "output_type": "stream",
          "text": [
            "Property 'summary_embedding' already exists in node 'b0c4b8'. Skipping!\n",
            "Property 'summary_embedding' already exists in node '3f88e7'. Skipping!\n",
            "Property 'summary_embedding' already exists in node 'b86950'. Skipping!\n",
            "Property 'summary_embedding' already exists in node '6b21f5'. Skipping!\n",
            "Property 'summary_embedding' already exists in node '3b70e6'. Skipping!\n",
            "Property 'summary_embedding' already exists in node 'eb4abf'. Skipping!\n",
            "Property 'summary_embedding' already exists in node 'e16dd2'. Skipping!\n",
            "Property 'summary_embedding' already exists in node '355a54'. Skipping!\n",
            "Property 'summary_embedding' already exists in node '0905cd'. Skipping!\n",
            "Property 'summary_embedding' already exists in node '611c4a'. Skipping!\n",
            "Property 'summary_embedding' already exists in node 'fc75a9'. Skipping!\n",
            "Property 'summary_embedding' already exists in node '2e88e2'. Skipping!\n",
            "Property 'summary_embedding' already exists in node 'e2961b'. Skipping!\n",
            "Property 'summary_embedding' already exists in node 'df6eb9'. Skipping!\n"
          ]
        },
        {
          "data": {
            "application/vnd.jupyter.widget-view+json": {
              "model_id": "1786d66f65fc44b6953f77290545abab",
              "version_major": 2,
              "version_minor": 0
            },
            "text/plain": [
              "Applying [CosineSimilarityBuilder, OverlapScoreBuilder]:   0%|          | 0/2 [00:00<?, ?it/s]"
            ]
          },
          "metadata": {},
          "output_type": "display_data"
        },
        {
          "data": {
            "application/vnd.jupyter.widget-view+json": {
              "model_id": "1746703dde414357899862235593f693",
              "version_major": 2,
              "version_minor": 0
            },
            "text/plain": [
              "Generating personas:   0%|          | 0/3 [00:00<?, ?it/s]"
            ]
          },
          "metadata": {},
          "output_type": "display_data"
        },
        {
          "data": {
            "application/vnd.jupyter.widget-view+json": {
              "model_id": "c6bf3e2e362b40b6a87ad3080ff5f73e",
              "version_major": 2,
              "version_minor": 0
            },
            "text/plain": [
              "Generating Scenarios:   0%|          | 0/3 [00:00<?, ?it/s]"
            ]
          },
          "metadata": {},
          "output_type": "display_data"
        },
        {
          "data": {
            "application/vnd.jupyter.widget-view+json": {
              "model_id": "367b09b8ae5841a5ab32d400ad073e20",
              "version_major": 2,
              "version_minor": 0
            },
            "text/plain": [
              "Generating Samples:   0%|          | 0/12 [00:00<?, ?it/s]"
            ]
          },
          "metadata": {},
          "output_type": "display_data"
        }
      ],
      "source": [
        "from ragas.testset import TestsetGenerator\n",
        "\n",
        "generator = TestsetGenerator(\n",
        "    llm=generator_llm, embedding_model=generator_embeddings)\n",
        "dataset = generator.generate_with_langchain_docs(docs[:20], testset_size=10)"
      ]
    },
    {
      "cell_type": "code",
      "execution_count": 53,
      "metadata": {},
      "outputs": [
        {
          "data": {
            "text/html": [
              "<div>\n",
              "<style scoped>\n",
              "    .dataframe tbody tr th:only-of-type {\n",
              "        vertical-align: middle;\n",
              "    }\n",
              "\n",
              "    .dataframe tbody tr th {\n",
              "        vertical-align: top;\n",
              "    }\n",
              "\n",
              "    .dataframe thead th {\n",
              "        text-align: right;\n",
              "    }\n",
              "</style>\n",
              "<table border=\"1\" class=\"dataframe\">\n",
              "  <thead>\n",
              "    <tr style=\"text-align: right;\">\n",
              "      <th></th>\n",
              "      <th>user_input</th>\n",
              "      <th>reference_contexts</th>\n",
              "      <th>reference</th>\n",
              "      <th>synthesizer_name</th>\n",
              "    </tr>\n",
              "  </thead>\n",
              "  <tbody>\n",
              "    <tr>\n",
              "      <th>0</th>\n",
              "      <td>Wht is BBAY 2 and how is it used for Direct Lo...</td>\n",
              "      <td>[non-term (includes clock-hour calendars), or ...</td>\n",
              "      <td>BBAY 2 is one of the options (along with Sched...</td>\n",
              "      <td>single_hop_specifc_query_synthesizer</td>\n",
              "    </tr>\n",
              "    <tr>\n",
              "      <th>1</th>\n",
              "      <td>Whaat are the requirments for includin clinica...</td>\n",
              "      <td>[Inclusion of Clinical Work in a Standard Term...</td>\n",
              "      <td>Periods of clinical work may be included in a ...</td>\n",
              "      <td>single_hop_specifc_query_synthesizer</td>\n",
              "    </tr>\n",
              "    <tr>\n",
              "      <th>2</th>\n",
              "      <td>what is non-term characteristics for program, ...</td>\n",
              "      <td>[Non-Term Characteristics A program that measu...</td>\n",
              "      <td>Non-term characteristics mean a program is tre...</td>\n",
              "      <td>single_hop_specifc_query_synthesizer</td>\n",
              "    </tr>\n",
              "    <tr>\n",
              "      <th>3</th>\n",
              "      <td>i dont get what Chapters 5 and 6 talk about fo...</td>\n",
              "      <td>[both the credit or clock hours and the weeks ...</td>\n",
              "      <td>Chapters 5 and 6 in Volume 8 give information ...</td>\n",
              "      <td>single_hop_specifc_query_synthesizer</td>\n",
              "    </tr>\n",
              "    <tr>\n",
              "      <th>4</th>\n",
              "      <td>how subscription-based academic calendars diff...</td>\n",
              "      <td>[&lt;1-hop&gt;\\n\\nnon-term (includes clock-hour cale...</td>\n",
              "      <td>subscription-based academic calendars use term...</td>\n",
              "      <td>multi_hop_abstract_query_synthesizer</td>\n",
              "    </tr>\n",
              "  </tbody>\n",
              "</table>\n",
              "</div>"
            ],
            "text/plain": [
              "                                          user_input  \\\n",
              "0  Wht is BBAY 2 and how is it used for Direct Lo...   \n",
              "1  Whaat are the requirments for includin clinica...   \n",
              "2  what is non-term characteristics for program, ...   \n",
              "3  i dont get what Chapters 5 and 6 talk about fo...   \n",
              "4  how subscription-based academic calendars diff...   \n",
              "\n",
              "                                  reference_contexts  \\\n",
              "0  [non-term (includes clock-hour calendars), or ...   \n",
              "1  [Inclusion of Clinical Work in a Standard Term...   \n",
              "2  [Non-Term Characteristics A program that measu...   \n",
              "3  [both the credit or clock hours and the weeks ...   \n",
              "4  [<1-hop>\\n\\nnon-term (includes clock-hour cale...   \n",
              "\n",
              "                                           reference  \\\n",
              "0  BBAY 2 is one of the options (along with Sched...   \n",
              "1  Periods of clinical work may be included in a ...   \n",
              "2  Non-term characteristics mean a program is tre...   \n",
              "3  Chapters 5 and 6 in Volume 8 give information ...   \n",
              "4  subscription-based academic calendars use term...   \n",
              "\n",
              "                       synthesizer_name  \n",
              "0  single_hop_specifc_query_synthesizer  \n",
              "1  single_hop_specifc_query_synthesizer  \n",
              "2  single_hop_specifc_query_synthesizer  \n",
              "3  single_hop_specifc_query_synthesizer  \n",
              "4  multi_hop_abstract_query_synthesizer  "
            ]
          },
          "execution_count": 53,
          "metadata": {},
          "output_type": "execute_result"
        }
      ],
      "source": [
        "dataset.to_pandas().head()"
      ]
    },
    {
      "cell_type": "code",
      "execution_count": 54,
      "metadata": {},
      "outputs": [],
      "source": [
        "# Import required libraries for evaluation\n",
        "from ragas.metrics import ContextPrecision, ContextRecall, ContextRelevance\n",
        "from ragas import evaluate\n",
        "from ragas.llms import LangchainLLMWrapper\n",
        "from ragas.embeddings import LangchainEmbeddingsWrapper\n",
        "from ragas.dataset_schema import SingleTurnSample, EvaluationDataset\n",
        "import pandas as pd\n",
        "import time\n",
        "from langsmith import traceable\n",
        "from datetime import datetime\n",
        "import os\n",
        "import getpass"
      ]
    },
    {
      "cell_type": "code",
      "execution_count": 66,
      "metadata": {},
      "outputs": [
        {
          "name": "stdout",
          "output_type": "stream",
          "text": [
            "Created 12 evaluation samples\n",
            "Sample structure: dict_keys(['user_input', 'reference_contexts', 'reference'])\n"
          ]
        }
      ],
      "source": [
        "#Convert the generated dataset to RAGAS format\n",
        "test_df = dataset.to_pandas()\n",
        "\n",
        "# Create evaluation samples from the test dataset\n",
        "evaluation_samples = []\n",
        "for idx, row in test_df.iterrows():\n",
        "    sample = {\n",
        "        'user_input': row['user_input'],\n",
        "        'reference_contexts': row['reference_contexts'],\n",
        "        'reference': row['reference']\n",
        "    }\n",
        "    evaluation_samples.append(sample)\n",
        "\n",
        "print(f\"Created {len(evaluation_samples)} evaluation samples\")\n",
        "print(\"Sample structure:\", evaluation_samples[0].keys())"
      ]
    },
    {
      "cell_type": "code",
      "execution_count": 58,
      "metadata": {},
      "outputs": [
        {
          "name": "stdout",
          "output_type": "stream",
          "text": [
            "Will evaluate 7 retrieval methods\n"
          ]
        }
      ],
      "source": [
        "retrievers_to_evaluate = {\n",
        "    \"naive\": naive_retriever,\n",
        "    \"bm25\": bm25_retriever, \n",
        "    \"contextual_compression\": compression_retriever,\n",
        "    \"multi_query\": multi_query_retriever,\n",
        "    \"parent_document\": parent_document_retriever,\n",
        "    \"ensemble\": ensemble_retriever,\n",
        "    \"semantic\": semantic_retriever\n",
        "}\n",
        "\n",
        "print(f\"Will evaluate {len(retrievers_to_evaluate)} retrieval methods\")"
      ]
    },
    {
      "cell_type": "code",
      "execution_count": 60,
      "metadata": {},
      "outputs": [
        {
          "name": "stderr",
          "output_type": "stream",
          "text": [
            "/var/folders/ds/4p96mtx542ngvmqwltx3fwg40000gn/T/ipykernel_61735/271537933.py:9: LangChainDeprecationWarning: The class `ChatOpenAI` was deprecated in LangChain 0.0.10 and will be removed in 1.0. An updated version of the class exists in the :class:`~langchain-openai package and should be used instead. To use it run `pip install -U :class:`~langchain-openai` and import as `from :class:`~langchain_openai import ChatOpenAI``.\n",
            "  evaluator_llm = LangchainLLMWrapper(ChatOpenAI(model=\"gpt-3.5-turbo\"))\n"
          ]
        }
      ],
      "source": [
        "from ragas.metrics import ContextPrecision, ContextRecall, ContextRelevance\n",
        "from ragas.llms import LangchainLLMWrapper\n",
        "from langchain.chat_models import ChatOpenAI\n",
        "import pandas as pd\n",
        "from ragas import evaluate\n",
        "from ragas.dataset_schema import EvaluationDataset\n",
        "\n",
        "# Setup evaluator LLM\n",
        "evaluator_llm = LangchainLLMWrapper(ChatOpenAI(model=\"gpt-3.5-turbo\"))\n",
        "\n",
        "# Define metrics\n",
        "ragas_metrics = [\n",
        "    ContextPrecision(llm=evaluator_llm),\n",
        "    ContextRecall(llm=evaluator_llm),\n",
        "    ContextRelevance(llm=evaluator_llm)\n",
        "]"
      ]
    },
    {
      "cell_type": "code",
      "execution_count": 69,
      "metadata": {},
      "outputs": [],
      "source": [
        "# 1. Update environment variables\n",
        "os.environ[\"LANGCHAIN_TRACING_V2\"] = \"true\"\n",
        "os.environ[\"LANGCHAIN_ENDPOINT\"] = \"https://api.smith.langchain.com\"\n",
        "os.environ[\"LANGCHAIN_API_KEY\"] = \"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\"\n",
        "os.environ[\"LANGCHAIN_PROJECT\"] = \"retriever-evaluation\"  # Set project name\n",
        "\n",
        "# 2. Initialize the tracer\n",
        "from langchain.callbacks.tracers import LangChainTracer\n",
        "tracer = LangChainTracer(project_name=\"retriever-evaluation\")\n",
        "\n",
        "from ragas.run_config import RunConfig\n",
        "\n",
        "# Create a RunConfig with lower concurrency to avoid rate limits\n",
        "run_config = RunConfig(\n",
        "    max_workers=2,  # Lower number of concurrent workers\n",
        "    timeout=60  # Longer timeout to handle rate limits\n",
        ")\n",
        "\n",
        "def evaluate_retriever(retriever, name, evaluation_samples):\n",
        "    results = []\n",
        "    \n",
        "    for sample in evaluation_samples:\n",
        "        docs = retriever.get_relevant_documents(sample[\"user_input\"])\n",
        "        \n",
        "        eval_sample = {\n",
        "            \"user_input\": sample[\"user_input\"],\n",
        "            \"retrieved_contexts\": [doc.page_content for doc in docs],\n",
        "            \"reference\": sample[\"reference\"]\n",
        "        }\n",
        "        results.append(eval_sample)\n",
        "    \n",
        "    ragas_dataset = EvaluationDataset.from_list(results)\n",
        "    \n",
        "    scores = evaluate(\n",
        "        dataset=ragas_dataset,\n",
        "        metrics=ragas_metrics,\n",
        "        run_config=run_config\n",
        "    )\n",
        "    \n",
        "    # Return the scores directly from the scores object\n",
        "    return scores.scores\n",
        "\n",
        "# Create dictionary to store results\n",
        "all_results = {}\n"
      ]
    },
    {
      "cell_type": "code",
      "execution_count": 75,
      "metadata": {},
      "outputs": [
        {
          "data": {
            "text/plain": [
              "[{'user_input': 'Wht is BBAY 2 and how is it used for Direct Loan anual loan limit progresion in diferent academic calenders?',\n",
              "  'reference_contexts': ['non-term (includes clock-hour calendars), or subscription-based. In a standard term or nonstandard term academic calendar, a term is generally a period in which all classes are scheduled to begin and end within a set time frame, and academic progress is measured in credit hours. In a non-term academic calendar, classes do not begin and end within a set time frame, such as a term. Academic progress in a non-term program can be measured in either credit or clock hours. In some cases (as discussed below), a program with terms must be treated as a non-term program for Title IV purposes. A subscription-based academic calendar is used only by subscription-based programs. A subscription-based program is a term-based program in which the school charges a student for each term on a subscription basis with the expectation that the student will complete a specified number of credit hours (or the equivalent) during that term. However, classes in a subscription-based program are not required to begin or end within a specific timeframe in each term, as is the case in a term-based calendar that is not subscription-based. For more detail on subscription-based programs, see Volume 2, Chapter 2. A subscription-based academic calendar consists of \"subscription periods\" that are either standard terms or substantially equal nonstandard terms (for guidance on when terms are considered to be substantially equal in length, see <Payment periods for programs using standard terms or substantially equal nonstandard terms= later in this chapter). Substantially equal nonstandard terms may be of any length, but if they are not at least nine weeks in length, the program must use BBAY 3 for purposes of monitoring Direct Loan annual loan limit progression (see Volume 8, Chapter 6 for more information on BBAY 3). Nonstandard terms that are not substantially equal in length are not permissible in a subscription-based academic calendar. The term \"subscription period\" is synonymous with \"term\" and \"payment period\" (payment periods are covered later in this chapter). Except for the fact that classes are not required to start and end within a term, the rules and requirements for term-based programs that are not subscription-based also apply to subscription-based programs. These requirements include: minimum and maximum term length restrictions for standard terms (see the discussion in the next section of this chapter); requirements for determining full-time enrollment (see Volume 1, Chapter 1); use of a Scheduled Academic Year (SAY), BBAY 1, BBAY 2, or BBAY 3 for monitoring Direct Loan annual loan limit progression (see Volume 8, Chapter 6); and use of Pell Grant formulas 1, 2, or 3 to calculate Pell Grant awards (see Volume 7, Chapter 4). Whether an academic calendar is standard term, nonstandard term, non-term, or subscription-based has implications for how aid is awarded and disbursed under the Title IV programs. Standard Terms: Semesters, Trimesters, and Quarters Semesters and trimesters contain between 14 and 21 weeks of instructional time. However, a summer term in a program using semesters or trimesters may contain fewer than 14 weeks. An academic calendar that uses semesters or trimesters traditionally has three terms, one each in the fall, spring, and summer, two of which comprise an academic year. For example, in a program using an SAY calendar, fall and spring would comprise an academic year. In a program using a'],\n",
              "  'reference': 'BBAY 2 is one of the options (along with Scheduled Academic Year (SAY), BBAY 1, and BBAY 3) that can be used for monitoring Direct Loan annual loan limit progression. The use of BBAY 2 depends on the type of academic calendar, such as standard term, nonstandard term, non-term, or subscription-based. The choice of BBAY 2 affects how aid is awarded and disbursed under the Title IV programs.'},\n",
              " {'user_input': \"Whaat are the requirments for includin clinical work in a Standerd Term, and how does this affect the term's status for federal aid purposes?\",\n",
              "  'reference_contexts': ['Inclusion of Clinical Work in a Standard Term Periods of medical and education program clinical work which is conducted outside the classroom may not be included in a standard term, unless all of the following apply: All students in the program must participate in the practicum or clinical experience, and they must be required to complete the practicum or clinical experience as a condition for applying for licensure or authorization to practice the occupation they intend to pursue; The school has little or no control over the length or starting and ending dates of the practicum or clinical experience. This may be due to constraints imposed by outside licensing bodies or the need to accommodate schedules of entities with which students are being placed (e.g., school districts or hospitals); and Credit hours associated with the practicum or clinical experience must be associated with the term in which most of the training occurs, even if the starting and ending dates do not exactly align with the term dates and/or overlap with another term. If the clinical work meets all the above criteria, terms which include such clinical work are not required to be considered nonstandard, nor are such programs required to be considered non-term, even if the clinical work overlaps another term. This flexibility is limited to required clinical periods associated with standard term programs in medicine (including, but not limited to, allopathic, osteopathic, nursing, veterinary, dentistry, pharmacy, and physical therapy), and student teaching required to obtain a state teaching certificate. See Volume 8, Chapter 3 for additional guidance on certain exceptions to the normal loan period and disbursement timing rules for Direct Loans when clinical work that meets the criteria described above is included in a standard term. Nonstandard Terms Generally, nonstandard terms are terms that are not semesters, trimesters, or quarters. For example, a 5-week term or a 23-week term would be considered a nonstandard term because no standard term can be fewer than nine weeks or greater than 21 weeks in length. Like standard terms, nonstandard terms may be equal in length or may be of different lengths. If a program is offered in a combination of standard terms and nonstandard terms, the program is considered to be offered in nonstandard terms. Also, like standard terms, nonstandard terms may not overlap within a program. Even if a school calls its terms semesters, trimesters, or quarters, they are considered to be nonstandard terms if they do not comply with the policy on standard term length, as described earlier. For instance, a 22-week semester or an 8-week quarter must be treated as a nonstandard term, because a semester cannot contain more than 21 weeks and a quarter must include a minimum of nine weeks. Semesters, trimesters, or quarters are also considered to be nonstandard terms if academic progress is not measured in the manner normally associated with the type of term. For example, if a program is offered in 15-week semesters but measures academic progress in quarter credit hours, the semesters would be considered nonstandard terms.'],\n",
              "  'reference': 'Periods of clinical work may be included in a standard term only if all of the following apply: all students in the program must participate in the practicum or clinical experience as a condition for applying for licensure or authorization to practice the intended occupation; the school has little or no control over the length or starting and ending dates of the practicum or clinical experience, often due to constraints from outside licensing bodies or placement entities; and credit hours for the practicum or clinical experience must be associated with the term in which most of the training occurs, even if the dates do not exactly align with the term dates or overlap another term. If these criteria are met, terms including such clinical work are not required to be considered nonstandard, nor are such programs required to be considered non-term, even if the clinical work overlaps another term. This flexibility is limited to required clinical periods in standard term programs in medicine and student teaching required for a state teaching certificate.'},\n",
              " {'user_input': 'what is non-term characteristics for program, i need know for aid disbursement?',\n",
              "  'reference_contexts': ['Non-Term Characteristics A program that measures progress in clock hours is always treated as a non-term program. Except for subscription-based programs, a program that measures progress in credit-hours is considered to have a non- term calendar if it has: Courses that do not begin and end within a set period of time such as a term; Courses that overlap terms; Self-paced and independent study courses that overlap terms; or Sequential courses that do not begin and end within a term. Payment Periods The payment period is applicable to all Title IV programs except the Federal Work-Study (FWS) Program. For example, Title IV program disbursements (except FWS payments) must be made on a payment period basis, as discussed in detail'],\n",
              "  'reference': 'Non-term characteristics mean a program is treated as non-term if it measures progress in clock hours, or if it measures progress in credit-hours and has courses that do not begin and end within a set period of time such as a term, courses that overlap terms, self-paced and independent study courses that overlap terms, or sequential courses that do not begin and end within a term.'},\n",
              " {'user_input': 'i dont get what Chapters 5 and 6 talk about for direct loan stuff, what they for?',\n",
              "  'reference_contexts': ['both the credit or clock hours and the weeks of instructional time in a payment period before receiving a disbursement of Pell Grant, FSEOG, TEACH Grant or Direct Loan funds for the next payment period. For the Direct Loan Program only, this same requirement applies to students who are enrolled in programs with nonstandard terms that are not substantially equal in length. Effect of Accelerated Progression on Disbursement Timing in a Clock-Hour or Non-Term Credit-Hour Program The Pell Grant or TEACH Grant amount that a student is eligible to receive for a payment period in a clock-hour or non- term credit-hour program is based on the number of hours and weeks in the scheduled payment periods for the program that are established at the beginning of the program based on the program length (as described earlier in this chapter). These scheduled payment periods do not change, regardless of a student9s rate of progression through a clock-hour or non-term credit-hour program. This means that if a student completes additional weeks of instructional time or hours while completing the other measure of a payment period, the actual number of weeks or hours that the student completes before a disbursement can be made for the next payment period may differ from the number of weeks or hours in the scheduled payment period used to determine the student9s grant amount for the payment period. Although a student9s completion of additional weeks or hours in a payment period has no effect on the scheduled payment periods for purposes of determining Pell Grant and TEACH Grant payment amounts, an undergraduate student who accelerates in a clock-hour or non-term credit-hour program may have reduced Direct Loan eligibility in the final academic year of a program. Specifically, if a student enrolled in a program that is greater than one academic year in length completes additional clock or credit hours prior to the final academic year of the program, this may result in a final period of study that contains fewer clock or credit hours than the number of hours in the program9s defined academic year. In this circumstance, the Direct Loan annual loan limit for an undergraduate student must be prorated (reduced). The principles described above are illustrated by the examples in Appendix A at the end of this chapter. For guidance on calculating Pell Grant and TEACH Grant awards for clock-hour and non-term credit-hour programs, see Volume 7. For information on Direct Loan annual loan limit proration and annual loan limit progression in clock-hour and non-term credit- hour programs, see Volume 8, Chapters 5 and 6. If your school is unable to determine when a student has successfully completed half of the credit or clock hours in a program, academic year, or remainder of a program, the student is considered to have begun the second payment period of the program, academic year, or remainder of a program at the later of the date (identified by your school) that the student has successfully completed: half of the academic coursework in the program, academic year, or remainder of the program; or half of the number of weeks of instructional time in the program, academic year, or remainder of the program.'],\n",
              "  'reference': 'Chapters 5 and 6 in Volume 8 give information on Direct Loan annual loan limit proration and annual loan limit progression in clock-hour and non-term credit-hour programs.'},\n",
              " {'user_input': 'how subscription-based academic calendars different from non-term programs with self-paced and independent study courses overlap terms',\n",
              "  'reference_contexts': ['<1-hop>\\n\\nnon-term (includes clock-hour calendars), or subscription-based. In a standard term or nonstandard term academic calendar, a term is generally a period in which all classes are scheduled to begin and end within a set time frame, and academic progress is measured in credit hours. In a non-term academic calendar, classes do not begin and end within a set time frame, such as a term. Academic progress in a non-term program can be measured in either credit or clock hours. In some cases (as discussed below), a program with terms must be treated as a non-term program for Title IV purposes. A subscription-based academic calendar is used only by subscription-based programs. A subscription-based program is a term-based program in which the school charges a student for each term on a subscription basis with the expectation that the student will complete a specified number of credit hours (or the equivalent) during that term. However, classes in a subscription-based program are not required to begin or end within a specific timeframe in each term, as is the case in a term-based calendar that is not subscription-based. For more detail on subscription-based programs, see Volume 2, Chapter 2. A subscription-based academic calendar consists of \"subscription periods\" that are either standard terms or substantially equal nonstandard terms (for guidance on when terms are considered to be substantially equal in length, see <Payment periods for programs using standard terms or substantially equal nonstandard terms= later in this chapter). Substantially equal nonstandard terms may be of any length, but if they are not at least nine weeks in length, the program must use BBAY 3 for purposes of monitoring Direct Loan annual loan limit progression (see Volume 8, Chapter 6 for more information on BBAY 3). Nonstandard terms that are not substantially equal in length are not permissible in a subscription-based academic calendar. The term \"subscription period\" is synonymous with \"term\" and \"payment period\" (payment periods are covered later in this chapter). Except for the fact that classes are not required to start and end within a term, the rules and requirements for term-based programs that are not subscription-based also apply to subscription-based programs. These requirements include: minimum and maximum term length restrictions for standard terms (see the discussion in the next section of this chapter); requirements for determining full-time enrollment (see Volume 1, Chapter 1); use of a Scheduled Academic Year (SAY), BBAY 1, BBAY 2, or BBAY 3 for monitoring Direct Loan annual loan limit progression (see Volume 8, Chapter 6); and use of Pell Grant formulas 1, 2, or 3 to calculate Pell Grant awards (see Volume 7, Chapter 4). Whether an academic calendar is standard term, nonstandard term, non-term, or subscription-based has implications for how aid is awarded and disbursed under the Title IV programs. Standard Terms: Semesters, Trimesters, and Quarters Semesters and trimesters contain between 14 and 21 weeks of instructional time. However, a summer term in a program using semesters or trimesters may contain fewer than 14 weeks. An academic calendar that uses semesters or trimesters traditionally has three terms, one each in the fall, spring, and summer, two of which comprise an academic year. For example, in a program using an SAY calendar, fall and spring would comprise an academic year. In a program using a',\n",
              "   '<2-hop>\\n\\nNon-Term Characteristics A program that measures progress in clock hours is always treated as a non-term program. Except for subscription-based programs, a program that measures progress in credit-hours is considered to have a non- term calendar if it has: Courses that do not begin and end within a set period of time such as a term; Courses that overlap terms; Self-paced and independent study courses that overlap terms; or Sequential courses that do not begin and end within a term. Payment Periods The payment period is applicable to all Title IV programs except the Federal Work-Study (FWS) Program. For example, Title IV program disbursements (except FWS payments) must be made on a payment period basis, as discussed in detail'],\n",
              "  'reference': 'subscription-based academic calendars use terms called subscription periods where students are charged each term and expected to finish a set number of credits, but classes do not have to start or end at specific times in the term. non-term programs with self-paced and independent study courses that overlap terms are treated as non-term if courses do not begin and end within a set period, and progress can be measured in credit or clock hours. except for subscription-based programs, self-paced and independent study courses that overlap terms make a program non-term.'},\n",
              " {'user_input': 'How do the disbursement requirements for federal student aid programs differ between clock-hour or non-term credit-hour programs and subscription-based programs, particularly regarding the timing and prerequisites for receiving subsequent disbursements?',\n",
              "  'reference_contexts': ['<1-hop>\\n\\nboth the credit or clock hours and the weeks of instructional time in a payment period before receiving a disbursement of Pell Grant, FSEOG, TEACH Grant or Direct Loan funds for the next payment period. For the Direct Loan Program only, this same requirement applies to students who are enrolled in programs with nonstandard terms that are not substantially equal in length. Effect of Accelerated Progression on Disbursement Timing in a Clock-Hour or Non-Term Credit-Hour Program The Pell Grant or TEACH Grant amount that a student is eligible to receive for a payment period in a clock-hour or non- term credit-hour program is based on the number of hours and weeks in the scheduled payment periods for the program that are established at the beginning of the program based on the program length (as described earlier in this chapter). These scheduled payment periods do not change, regardless of a student9s rate of progression through a clock-hour or non-term credit-hour program. This means that if a student completes additional weeks of instructional time or hours while completing the other measure of a payment period, the actual number of weeks or hours that the student completes before a disbursement can be made for the next payment period may differ from the number of weeks or hours in the scheduled payment period used to determine the student9s grant amount for the payment period. Although a student9s completion of additional weeks or hours in a payment period has no effect on the scheduled payment periods for purposes of determining Pell Grant and TEACH Grant payment amounts, an undergraduate student who accelerates in a clock-hour or non-term credit-hour program may have reduced Direct Loan eligibility in the final academic year of a program. Specifically, if a student enrolled in a program that is greater than one academic year in length completes additional clock or credit hours prior to the final academic year of the program, this may result in a final period of study that contains fewer clock or credit hours than the number of hours in the program9s defined academic year. In this circumstance, the Direct Loan annual loan limit for an undergraduate student must be prorated (reduced). The principles described above are illustrated by the examples in Appendix A at the end of this chapter. For guidance on calculating Pell Grant and TEACH Grant awards for clock-hour and non-term credit-hour programs, see Volume 7. For information on Direct Loan annual loan limit proration and annual loan limit progression in clock-hour and non-term credit- hour programs, see Volume 8, Chapters 5 and 6. If your school is unable to determine when a student has successfully completed half of the credit or clock hours in a program, academic year, or remainder of a program, the student is considered to have begun the second payment period of the program, academic year, or remainder of a program at the later of the date (identified by your school) that the student has successfully completed: half of the academic coursework in the program, academic year, or remainder of the program; or half of the number of weeks of instructional time in the program, academic year, or remainder of the program.',\n",
              "   '<2-hop>\\n\\nDisbursement Timing in Subscription-Based Programs For the first two subscription periods (terms) that a student attends in a subscription-based program, there is no requirement for the student to have completed a certain amount of coursework before receiving a disbursement of Title IV funds (the same as in any other term-based program using credit hours). However, to receive a disbursement of Title IV aid for each subsequent subscription period in the program, the student must have completed a cumulative number of credit hours equal to the total of the number of hours for which the student was enrolled in all previously attended subscription periods in the program, excluding the number of hours for which the student was enrolled in the most recently attended subscription period. For more detailed guidance on the disbursement rules for subscription-based programs, including examples, refer to Appendix B at the end of this chapter. Multiple Disbursements Within a Payment Period The regulations governing the Title IV programs generally permit schools to pay Title IV funds at such times and in such installments within each payment period as will best meet students9 needs. This gives schools the ability to apportion the payment if doing so will be in the best interest of the student. For example, if a payment period is particularly long, a school might choose to pay in multiple installments to the extent program requirements permit to ensure that a student will have funds to pay rent later in the payment period. If a school chooses to schedule multiple Direct Loan disbursements within a single payment period, the disbursements must be substantially equal. Note also that if the loan period for a Direct Loan is a single payment period, the loan must be disbursed in at least two installments unless the school qualifies for an exception to the multiple disbursement requirement. See Volume 8, Chapter 3 for more'],\n",
              "  'reference': \"In clock-hour or non-term credit-hour programs, students must complete both the required credit or clock hours and the weeks of instructional time in a payment period before they can receive a disbursement of Pell Grant, FSEOG, TEACH Grant, or Direct Loan funds for the next payment period. The scheduled payment periods are established at the beginning of the program and do not change based on a student's rate of progression. If a student accelerates and completes additional weeks or hours, this does not affect the scheduled payment periods for Pell Grant and TEACH Grant amounts, but may result in reduced Direct Loan eligibility in the final academic year if the last period contains fewer hours than the defined academic year, requiring proration of the loan limit. In contrast, for subscription-based programs, there is no requirement for students to complete a certain amount of coursework before receiving a disbursement of Title IV funds for the first two subscription periods. However, for each subsequent subscription period, the student must have completed a cumulative number of credit hours equal to the total hours enrolled in all previously attended subscription periods, excluding the most recent one. This difference highlights that while clock-hour and non-term credit-hour programs require completion of specific academic progress before each disbursement, subscription-based programs have more flexible requirements for the initial periods but impose cumulative completion requirements for later disbursements.\"},\n",
              " {'user_input': 'What are the disbursement requirements for federal student aid programs in clock-hour or non-term credit-hour programs compared to the disbursement timing rules in subscription-based programs, and how do these requirements affect when students can receive Title IV funds?',\n",
              "  'reference_contexts': ['<1-hop>\\n\\nboth the credit or clock hours and the weeks of instructional time in a payment period before receiving a disbursement of Pell Grant, FSEOG, TEACH Grant or Direct Loan funds for the next payment period. For the Direct Loan Program only, this same requirement applies to students who are enrolled in programs with nonstandard terms that are not substantially equal in length. Effect of Accelerated Progression on Disbursement Timing in a Clock-Hour or Non-Term Credit-Hour Program The Pell Grant or TEACH Grant amount that a student is eligible to receive for a payment period in a clock-hour or non- term credit-hour program is based on the number of hours and weeks in the scheduled payment periods for the program that are established at the beginning of the program based on the program length (as described earlier in this chapter). These scheduled payment periods do not change, regardless of a student9s rate of progression through a clock-hour or non-term credit-hour program. This means that if a student completes additional weeks of instructional time or hours while completing the other measure of a payment period, the actual number of weeks or hours that the student completes before a disbursement can be made for the next payment period may differ from the number of weeks or hours in the scheduled payment period used to determine the student9s grant amount for the payment period. Although a student9s completion of additional weeks or hours in a payment period has no effect on the scheduled payment periods for purposes of determining Pell Grant and TEACH Grant payment amounts, an undergraduate student who accelerates in a clock-hour or non-term credit-hour program may have reduced Direct Loan eligibility in the final academic year of a program. Specifically, if a student enrolled in a program that is greater than one academic year in length completes additional clock or credit hours prior to the final academic year of the program, this may result in a final period of study that contains fewer clock or credit hours than the number of hours in the program9s defined academic year. In this circumstance, the Direct Loan annual loan limit for an undergraduate student must be prorated (reduced). The principles described above are illustrated by the examples in Appendix A at the end of this chapter. For guidance on calculating Pell Grant and TEACH Grant awards for clock-hour and non-term credit-hour programs, see Volume 7. For information on Direct Loan annual loan limit proration and annual loan limit progression in clock-hour and non-term credit- hour programs, see Volume 8, Chapters 5 and 6. If your school is unable to determine when a student has successfully completed half of the credit or clock hours in a program, academic year, or remainder of a program, the student is considered to have begun the second payment period of the program, academic year, or remainder of a program at the later of the date (identified by your school) that the student has successfully completed: half of the academic coursework in the program, academic year, or remainder of the program; or half of the number of weeks of instructional time in the program, academic year, or remainder of the program.',\n",
              "   '<2-hop>\\n\\nDisbursement Timing in Subscription-Based Programs For the first two subscription periods (terms) that a student attends in a subscription-based program, there is no requirement for the student to have completed a certain amount of coursework before receiving a disbursement of Title IV funds (the same as in any other term-based program using credit hours). However, to receive a disbursement of Title IV aid for each subsequent subscription period in the program, the student must have completed a cumulative number of credit hours equal to the total of the number of hours for which the student was enrolled in all previously attended subscription periods in the program, excluding the number of hours for which the student was enrolled in the most recently attended subscription period. For more detailed guidance on the disbursement rules for subscription-based programs, including examples, refer to Appendix B at the end of this chapter. Multiple Disbursements Within a Payment Period The regulations governing the Title IV programs generally permit schools to pay Title IV funds at such times and in such installments within each payment period as will best meet students9 needs. This gives schools the ability to apportion the payment if doing so will be in the best interest of the student. For example, if a payment period is particularly long, a school might choose to pay in multiple installments to the extent program requirements permit to ensure that a student will have funds to pay rent later in the payment period. If a school chooses to schedule multiple Direct Loan disbursements within a single payment period, the disbursements must be substantially equal. Note also that if the loan period for a Direct Loan is a single payment period, the loan must be disbursed in at least two installments unless the school qualifies for an exception to the multiple disbursement requirement. See Volume 8, Chapter 3 for more'],\n",
              "  'reference': 'In clock-hour or non-term credit-hour programs, students must complete both the required credit or clock hours and the weeks of instructional time in a payment period before receiving a disbursement of Pell Grant, FSEOG, TEACH Grant, or Direct Loan funds for the next payment period. The scheduled payment periods are established at the beginning of the program and do not change based on a student’s rate of progression. In contrast, for subscription-based programs, there is no requirement for students to complete a certain amount of coursework before receiving a disbursement of Title IV funds for the first two subscription periods. However, for each subsequent subscription period, students must have completed a cumulative number of credit hours equal to the total hours enrolled in all previously attended subscription periods, excluding the most recent one. These differing requirements determine when students are eligible to receive Title IV funds, with clock-hour and non-term credit-hour programs requiring completion of specific academic measures before disbursement, while subscription-based programs have more flexible timing for the initial periods but cumulative completion requirements for later periods.'},\n",
              " {'user_input': 'Wat r the disbursement requirements for federal student aid programs, and how does disbursement timing differ in subscription-based programs?',\n",
              "  'reference_contexts': ['<1-hop>\\n\\nboth the credit or clock hours and the weeks of instructional time in a payment period before receiving a disbursement of Pell Grant, FSEOG, TEACH Grant or Direct Loan funds for the next payment period. For the Direct Loan Program only, this same requirement applies to students who are enrolled in programs with nonstandard terms that are not substantially equal in length. Effect of Accelerated Progression on Disbursement Timing in a Clock-Hour or Non-Term Credit-Hour Program The Pell Grant or TEACH Grant amount that a student is eligible to receive for a payment period in a clock-hour or non- term credit-hour program is based on the number of hours and weeks in the scheduled payment periods for the program that are established at the beginning of the program based on the program length (as described earlier in this chapter). These scheduled payment periods do not change, regardless of a student9s rate of progression through a clock-hour or non-term credit-hour program. This means that if a student completes additional weeks of instructional time or hours while completing the other measure of a payment period, the actual number of weeks or hours that the student completes before a disbursement can be made for the next payment period may differ from the number of weeks or hours in the scheduled payment period used to determine the student9s grant amount for the payment period. Although a student9s completion of additional weeks or hours in a payment period has no effect on the scheduled payment periods for purposes of determining Pell Grant and TEACH Grant payment amounts, an undergraduate student who accelerates in a clock-hour or non-term credit-hour program may have reduced Direct Loan eligibility in the final academic year of a program. Specifically, if a student enrolled in a program that is greater than one academic year in length completes additional clock or credit hours prior to the final academic year of the program, this may result in a final period of study that contains fewer clock or credit hours than the number of hours in the program9s defined academic year. In this circumstance, the Direct Loan annual loan limit for an undergraduate student must be prorated (reduced). The principles described above are illustrated by the examples in Appendix A at the end of this chapter. For guidance on calculating Pell Grant and TEACH Grant awards for clock-hour and non-term credit-hour programs, see Volume 7. For information on Direct Loan annual loan limit proration and annual loan limit progression in clock-hour and non-term credit- hour programs, see Volume 8, Chapters 5 and 6. If your school is unable to determine when a student has successfully completed half of the credit or clock hours in a program, academic year, or remainder of a program, the student is considered to have begun the second payment period of the program, academic year, or remainder of a program at the later of the date (identified by your school) that the student has successfully completed: half of the academic coursework in the program, academic year, or remainder of the program; or half of the number of weeks of instructional time in the program, academic year, or remainder of the program.',\n",
              "   '<2-hop>\\n\\nDisbursement Timing in Subscription-Based Programs For the first two subscription periods (terms) that a student attends in a subscription-based program, there is no requirement for the student to have completed a certain amount of coursework before receiving a disbursement of Title IV funds (the same as in any other term-based program using credit hours). However, to receive a disbursement of Title IV aid for each subsequent subscription period in the program, the student must have completed a cumulative number of credit hours equal to the total of the number of hours for which the student was enrolled in all previously attended subscription periods in the program, excluding the number of hours for which the student was enrolled in the most recently attended subscription period. For more detailed guidance on the disbursement rules for subscription-based programs, including examples, refer to Appendix B at the end of this chapter. Multiple Disbursements Within a Payment Period The regulations governing the Title IV programs generally permit schools to pay Title IV funds at such times and in such installments within each payment period as will best meet students9 needs. This gives schools the ability to apportion the payment if doing so will be in the best interest of the student. For example, if a payment period is particularly long, a school might choose to pay in multiple installments to the extent program requirements permit to ensure that a student will have funds to pay rent later in the payment period. If a school chooses to schedule multiple Direct Loan disbursements within a single payment period, the disbursements must be substantially equal. Note also that if the loan period for a Direct Loan is a single payment period, the loan must be disbursed in at least two installments unless the school qualifies for an exception to the multiple disbursement requirement. See Volume 8, Chapter 3 for more'],\n",
              "  'reference': 'For federal student aid programs like Pell Grant, FSEOG, TEACH Grant, or Direct Loan, students must complete both the required credit or clock hours and weeks of instructional time in a payment period before receiving a disbursement for the next payment period. In subscription-based programs, for the first two subscription periods, there is no requirement to complete a certain amount of coursework before receiving Title IV funds. However, for each subsequent subscription period, the student must have completed a cumulative number of credit hours equal to the total enrolled in all previously attended subscription periods, excluding the most recent one.'},\n",
              " {'user_input': 'What are the disbursement requirements for Title IV programs in subscription-based programs compared to non-term programs, and how do payment periods affect the timing and installment of Title IV aid?',\n",
              "  'reference_contexts': ['<1-hop>\\n\\nDisbursement Timing in Subscription-Based Programs For the first two subscription periods (terms) that a student attends in a subscription-based program, there is no requirement for the student to have completed a certain amount of coursework before receiving a disbursement of Title IV funds (the same as in any other term-based program using credit hours). However, to receive a disbursement of Title IV aid for each subsequent subscription period in the program, the student must have completed a cumulative number of credit hours equal to the total of the number of hours for which the student was enrolled in all previously attended subscription periods in the program, excluding the number of hours for which the student was enrolled in the most recently attended subscription period. For more detailed guidance on the disbursement rules for subscription-based programs, including examples, refer to Appendix B at the end of this chapter. Multiple Disbursements Within a Payment Period The regulations governing the Title IV programs generally permit schools to pay Title IV funds at such times and in such installments within each payment period as will best meet students9 needs. This gives schools the ability to apportion the payment if doing so will be in the best interest of the student. For example, if a payment period is particularly long, a school might choose to pay in multiple installments to the extent program requirements permit to ensure that a student will have funds to pay rent later in the payment period. If a school chooses to schedule multiple Direct Loan disbursements within a single payment period, the disbursements must be substantially equal. Note also that if the loan period for a Direct Loan is a single payment period, the loan must be disbursed in at least two installments unless the school qualifies for an exception to the multiple disbursement requirement. See Volume 8, Chapter 3 for more',\n",
              "   '<2-hop>\\n\\nNon-Term Characteristics A program that measures progress in clock hours is always treated as a non-term program. Except for subscription-based programs, a program that measures progress in credit-hours is considered to have a non- term calendar if it has: Courses that do not begin and end within a set period of time such as a term; Courses that overlap terms; Self-paced and independent study courses that overlap terms; or Sequential courses that do not begin and end within a term. Payment Periods The payment period is applicable to all Title IV programs except the Federal Work-Study (FWS) Program. For example, Title IV program disbursements (except FWS payments) must be made on a payment period basis, as discussed in detail'],\n",
              "  'reference': 'In subscription-based programs, for the first two subscription periods, there is no requirement for students to complete a certain amount of coursework before receiving a disbursement of Title IV funds, similar to other term-based credit hour programs. For subsequent subscription periods, students must have completed a cumulative number of credit hours equal to the total enrolled in all previously attended subscription periods, excluding the most recent one, to receive further disbursements. In non-term programs, which include those measured in clock hours or certain credit-hour programs with non-term characteristics, payment periods apply to all Title IV programs except Federal Work-Study. Title IV program disbursements (except FWS) must be made on a payment period basis. Additionally, regulations allow schools to pay Title IV funds in multiple, substantially equal installments within each payment period to best meet student needs, and if a Direct Loan period is a single payment period, it must be disbursed in at least two installments unless an exception applies.'},\n",
              " {'user_input': 'According to the guidance provided in Appendix A and Appendix B, how do the disbursement timing requirements differ between clock-hour or non-term credit-hour programs and subscription-based programs, and where can examples illustrating these differences be found?',\n",
              "  'reference_contexts': ['<1-hop>\\n\\nboth the credit or clock hours and the weeks of instructional time in a payment period before receiving a disbursement of Pell Grant, FSEOG, TEACH Grant or Direct Loan funds for the next payment period. For the Direct Loan Program only, this same requirement applies to students who are enrolled in programs with nonstandard terms that are not substantially equal in length. Effect of Accelerated Progression on Disbursement Timing in a Clock-Hour or Non-Term Credit-Hour Program The Pell Grant or TEACH Grant amount that a student is eligible to receive for a payment period in a clock-hour or non- term credit-hour program is based on the number of hours and weeks in the scheduled payment periods for the program that are established at the beginning of the program based on the program length (as described earlier in this chapter). These scheduled payment periods do not change, regardless of a student9s rate of progression through a clock-hour or non-term credit-hour program. This means that if a student completes additional weeks of instructional time or hours while completing the other measure of a payment period, the actual number of weeks or hours that the student completes before a disbursement can be made for the next payment period may differ from the number of weeks or hours in the scheduled payment period used to determine the student9s grant amount for the payment period. Although a student9s completion of additional weeks or hours in a payment period has no effect on the scheduled payment periods for purposes of determining Pell Grant and TEACH Grant payment amounts, an undergraduate student who accelerates in a clock-hour or non-term credit-hour program may have reduced Direct Loan eligibility in the final academic year of a program. Specifically, if a student enrolled in a program that is greater than one academic year in length completes additional clock or credit hours prior to the final academic year of the program, this may result in a final period of study that contains fewer clock or credit hours than the number of hours in the program9s defined academic year. In this circumstance, the Direct Loan annual loan limit for an undergraduate student must be prorated (reduced). The principles described above are illustrated by the examples in Appendix A at the end of this chapter. For guidance on calculating Pell Grant and TEACH Grant awards for clock-hour and non-term credit-hour programs, see Volume 7. For information on Direct Loan annual loan limit proration and annual loan limit progression in clock-hour and non-term credit- hour programs, see Volume 8, Chapters 5 and 6. If your school is unable to determine when a student has successfully completed half of the credit or clock hours in a program, academic year, or remainder of a program, the student is considered to have begun the second payment period of the program, academic year, or remainder of a program at the later of the date (identified by your school) that the student has successfully completed: half of the academic coursework in the program, academic year, or remainder of the program; or half of the number of weeks of instructional time in the program, academic year, or remainder of the program.',\n",
              "   '<2-hop>\\n\\nDisbursement Timing in Subscription-Based Programs For the first two subscription periods (terms) that a student attends in a subscription-based program, there is no requirement for the student to have completed a certain amount of coursework before receiving a disbursement of Title IV funds (the same as in any other term-based program using credit hours). However, to receive a disbursement of Title IV aid for each subsequent subscription period in the program, the student must have completed a cumulative number of credit hours equal to the total of the number of hours for which the student was enrolled in all previously attended subscription periods in the program, excluding the number of hours for which the student was enrolled in the most recently attended subscription period. For more detailed guidance on the disbursement rules for subscription-based programs, including examples, refer to Appendix B at the end of this chapter. Multiple Disbursements Within a Payment Period The regulations governing the Title IV programs generally permit schools to pay Title IV funds at such times and in such installments within each payment period as will best meet students9 needs. This gives schools the ability to apportion the payment if doing so will be in the best interest of the student. For example, if a payment period is particularly long, a school might choose to pay in multiple installments to the extent program requirements permit to ensure that a student will have funds to pay rent later in the payment period. If a school chooses to schedule multiple Direct Loan disbursements within a single payment period, the disbursements must be substantially equal. Note also that if the loan period for a Direct Loan is a single payment period, the loan must be disbursed in at least two installments unless the school qualifies for an exception to the multiple disbursement requirement. See Volume 8, Chapter 3 for more'],\n",
              "  'reference': 'The disbursement timing requirements differ between clock-hour or non-term credit-hour programs and subscription-based programs as follows: In clock-hour or non-term credit-hour programs, students must complete both the required credit or clock hours and weeks of instructional time in a payment period before receiving a disbursement for the next payment period. The scheduled payment periods are established at the beginning of the program and do not change based on a student’s rate of progression. Examples illustrating these principles are provided in Appendix A at the end of the chapter. In subscription-based programs, for the first two subscription periods, there is no requirement for completion of a certain amount of coursework before disbursement. However, for subsequent subscription periods, students must have completed a cumulative number of credit hours equal to the total of the hours for which they were enrolled in all previously attended subscription periods, excluding the most recently attended period. More detailed guidance and examples for subscription-based programs can be found in Appendix B at the end of the chapter.'},\n",
              " {'user_input': 'According to Volume 8, Chapter 3, how do the rules for Direct Loan disbursement timing differ when clinical work that meets specific criteria is included in a standard term, and what are the requirements for multiple disbursements within a payment period in both standard and subscription-based programs?',\n",
              "  'reference_contexts': ['<1-hop>\\n\\nInclusion of Clinical Work in a Standard Term Periods of medical and education program clinical work which is conducted outside the classroom may not be included in a standard term, unless all of the following apply: All students in the program must participate in the practicum or clinical experience, and they must be required to complete the practicum or clinical experience as a condition for applying for licensure or authorization to practice the occupation they intend to pursue; The school has little or no control over the length or starting and ending dates of the practicum or clinical experience. This may be due to constraints imposed by outside licensing bodies or the need to accommodate schedules of entities with which students are being placed (e.g., school districts or hospitals); and Credit hours associated with the practicum or clinical experience must be associated with the term in which most of the training occurs, even if the starting and ending dates do not exactly align with the term dates and/or overlap with another term. If the clinical work meets all the above criteria, terms which include such clinical work are not required to be considered nonstandard, nor are such programs required to be considered non-term, even if the clinical work overlaps another term. This flexibility is limited to required clinical periods associated with standard term programs in medicine (including, but not limited to, allopathic, osteopathic, nursing, veterinary, dentistry, pharmacy, and physical therapy), and student teaching required to obtain a state teaching certificate. See Volume 8, Chapter 3 for additional guidance on certain exceptions to the normal loan period and disbursement timing rules for Direct Loans when clinical work that meets the criteria described above is included in a standard term. Nonstandard Terms Generally, nonstandard terms are terms that are not semesters, trimesters, or quarters. For example, a 5-week term or a 23-week term would be considered a nonstandard term because no standard term can be fewer than nine weeks or greater than 21 weeks in length. Like standard terms, nonstandard terms may be equal in length or may be of different lengths. If a program is offered in a combination of standard terms and nonstandard terms, the program is considered to be offered in nonstandard terms. Also, like standard terms, nonstandard terms may not overlap within a program. Even if a school calls its terms semesters, trimesters, or quarters, they are considered to be nonstandard terms if they do not comply with the policy on standard term length, as described earlier. For instance, a 22-week semester or an 8-week quarter must be treated as a nonstandard term, because a semester cannot contain more than 21 weeks and a quarter must include a minimum of nine weeks. Semesters, trimesters, or quarters are also considered to be nonstandard terms if academic progress is not measured in the manner normally associated with the type of term. For example, if a program is offered in 15-week semesters but measures academic progress in quarter credit hours, the semesters would be considered nonstandard terms.',\n",
              "   '<2-hop>\\n\\nDisbursement Timing in Subscription-Based Programs For the first two subscription periods (terms) that a student attends in a subscription-based program, there is no requirement for the student to have completed a certain amount of coursework before receiving a disbursement of Title IV funds (the same as in any other term-based program using credit hours). However, to receive a disbursement of Title IV aid for each subsequent subscription period in the program, the student must have completed a cumulative number of credit hours equal to the total of the number of hours for which the student was enrolled in all previously attended subscription periods in the program, excluding the number of hours for which the student was enrolled in the most recently attended subscription period. For more detailed guidance on the disbursement rules for subscription-based programs, including examples, refer to Appendix B at the end of this chapter. Multiple Disbursements Within a Payment Period The regulations governing the Title IV programs generally permit schools to pay Title IV funds at such times and in such installments within each payment period as will best meet students9 needs. This gives schools the ability to apportion the payment if doing so will be in the best interest of the student. For example, if a payment period is particularly long, a school might choose to pay in multiple installments to the extent program requirements permit to ensure that a student will have funds to pay rent later in the payment period. If a school chooses to schedule multiple Direct Loan disbursements within a single payment period, the disbursements must be substantially equal. Note also that if the loan period for a Direct Loan is a single payment period, the loan must be disbursed in at least two installments unless the school qualifies for an exception to the multiple disbursement requirement. See Volume 8, Chapter 3 for more'],\n",
              "  'reference': \"Volume 8, Chapter 3 provides guidance on exceptions to the normal loan period and disbursement timing rules for Direct Loans when clinical work that meets certain criteria is included in a standard term. Specifically, if all students must participate in the clinical experience as a licensure requirement, the school has little or no control over the clinical schedule, and credit hours are associated with the term in which most training occurs, then the clinical work can be included in a standard term without requiring the program to be considered nonstandard, even if the clinical work overlaps another term. For disbursement timing, regulations generally allow schools to pay Title IV funds in such installments within each payment period as best meets students' needs, including multiple substantially equal disbursements within a single payment period. If the loan period is a single payment period, the loan must be disbursed in at least two installments unless an exception applies. In subscription-based programs, for the first two subscription periods, there is no coursework completion requirement before disbursement, but for subsequent periods, students must have completed a cumulative number of credit hours as specified. For more detailed rules and examples, schools are directed to consult Volume 8, Chapter 3.\"},\n",
              " {'user_input': 'According to Volume 1, Chapter 1 and Volume 8, Chapter 3, how are clinical work periods in standard term programs treated for federal financial aid purposes, and what exceptions exist for Direct Loan disbursement timing when such clinical work is included?',\n",
              "  'reference_contexts': ['<1-hop>\\n\\nInclusion of Clinical Work in a Standard Term Periods of medical and education program clinical work which is conducted outside the classroom may not be included in a standard term, unless all of the following apply: All students in the program must participate in the practicum or clinical experience, and they must be required to complete the practicum or clinical experience as a condition for applying for licensure or authorization to practice the occupation they intend to pursue; The school has little or no control over the length or starting and ending dates of the practicum or clinical experience. This may be due to constraints imposed by outside licensing bodies or the need to accommodate schedules of entities with which students are being placed (e.g., school districts or hospitals); and Credit hours associated with the practicum or clinical experience must be associated with the term in which most of the training occurs, even if the starting and ending dates do not exactly align with the term dates and/or overlap with another term. If the clinical work meets all the above criteria, terms which include such clinical work are not required to be considered nonstandard, nor are such programs required to be considered non-term, even if the clinical work overlaps another term. This flexibility is limited to required clinical periods associated with standard term programs in medicine (including, but not limited to, allopathic, osteopathic, nursing, veterinary, dentistry, pharmacy, and physical therapy), and student teaching required to obtain a state teaching certificate. See Volume 8, Chapter 3 for additional guidance on certain exceptions to the normal loan period and disbursement timing rules for Direct Loans when clinical work that meets the criteria described above is included in a standard term. Nonstandard Terms Generally, nonstandard terms are terms that are not semesters, trimesters, or quarters. For example, a 5-week term or a 23-week term would be considered a nonstandard term because no standard term can be fewer than nine weeks or greater than 21 weeks in length. Like standard terms, nonstandard terms may be equal in length or may be of different lengths. If a program is offered in a combination of standard terms and nonstandard terms, the program is considered to be offered in nonstandard terms. Also, like standard terms, nonstandard terms may not overlap within a program. Even if a school calls its terms semesters, trimesters, or quarters, they are considered to be nonstandard terms if they do not comply with the policy on standard term length, as described earlier. For instance, a 22-week semester or an 8-week quarter must be treated as a nonstandard term, because a semester cannot contain more than 21 weeks and a quarter must include a minimum of nine weeks. Semesters, trimesters, or quarters are also considered to be nonstandard terms if academic progress is not measured in the manner normally associated with the type of term. For example, if a program is offered in 15-week semesters but measures academic progress in quarter credit hours, the semesters would be considered nonstandard terms.',\n",
              "   '<2-hop>\\n\\nnon-term (includes clock-hour calendars), or subscription-based. In a standard term or nonstandard term academic calendar, a term is generally a period in which all classes are scheduled to begin and end within a set time frame, and academic progress is measured in credit hours. In a non-term academic calendar, classes do not begin and end within a set time frame, such as a term. Academic progress in a non-term program can be measured in either credit or clock hours. In some cases (as discussed below), a program with terms must be treated as a non-term program for Title IV purposes. A subscription-based academic calendar is used only by subscription-based programs. A subscription-based program is a term-based program in which the school charges a student for each term on a subscription basis with the expectation that the student will complete a specified number of credit hours (or the equivalent) during that term. However, classes in a subscription-based program are not required to begin or end within a specific timeframe in each term, as is the case in a term-based calendar that is not subscription-based. For more detail on subscription-based programs, see Volume 2, Chapter 2. A subscription-based academic calendar consists of \"subscription periods\" that are either standard terms or substantially equal nonstandard terms (for guidance on when terms are considered to be substantially equal in length, see <Payment periods for programs using standard terms or substantially equal nonstandard terms= later in this chapter). Substantially equal nonstandard terms may be of any length, but if they are not at least nine weeks in length, the program must use BBAY 3 for purposes of monitoring Direct Loan annual loan limit progression (see Volume 8, Chapter 6 for more information on BBAY 3). Nonstandard terms that are not substantially equal in length are not permissible in a subscription-based academic calendar. The term \"subscription period\" is synonymous with \"term\" and \"payment period\" (payment periods are covered later in this chapter). Except for the fact that classes are not required to start and end within a term, the rules and requirements for term-based programs that are not subscription-based also apply to subscription-based programs. These requirements include: minimum and maximum term length restrictions for standard terms (see the discussion in the next section of this chapter); requirements for determining full-time enrollment (see Volume 1, Chapter 1); use of a Scheduled Academic Year (SAY), BBAY 1, BBAY 2, or BBAY 3 for monitoring Direct Loan annual loan limit progression (see Volume 8, Chapter 6); and use of Pell Grant formulas 1, 2, or 3 to calculate Pell Grant awards (see Volume 7, Chapter 4). Whether an academic calendar is standard term, nonstandard term, non-term, or subscription-based has implications for how aid is awarded and disbursed under the Title IV programs. Standard Terms: Semesters, Trimesters, and Quarters Semesters and trimesters contain between 14 and 21 weeks of instructional time. However, a summer term in a program using semesters or trimesters may contain fewer than 14 weeks. An academic calendar that uses semesters or trimesters traditionally has three terms, one each in the fall, spring, and summer, two of which comprise an academic year. For example, in a program using an SAY calendar, fall and spring would comprise an academic year. In a program using a'],\n",
              "  'reference': 'Clinical work periods in standard term programs, such as those in medicine or student teaching, may be included in a standard term if all students are required to participate, the experience is necessary for licensure, the school has little control over the schedule, and credit hours are assigned to the term where most training occurs. When these criteria are met, the terms are not required to be considered nonstandard, even if the clinical work overlaps another term. Volume 8, Chapter 3 provides additional guidance on exceptions to the normal loan period and disbursement timing rules for Direct Loans when such clinical work is included in a standard term.'}]"
            ]
          },
          "execution_count": 75,
          "metadata": {},
          "output_type": "execute_result"
        }
      ],
      "source": [
        "evaluation_samples"
      ]
    },
    {
      "cell_type": "code",
      "execution_count": null,
      "metadata": {},
      "outputs": [
        {
          "name": "stdout",
          "output_type": "stream",
          "text": [
            "Evaluating BM25 retriever...\n"
          ]
        },
        {
          "data": {
            "application/vnd.jupyter.widget-view+json": {
              "model_id": "808f00c0ad51475b9eedce46635198dd",
              "version_major": 2,
              "version_minor": 0
            },
            "text/plain": [
              "Evaluating:   0%|          | 0/36 [00:00<?, ?it/s]"
            ]
          },
          "metadata": {},
          "output_type": "display_data"
        }
      ],
      "source": [
        "retrievers = {\n",
        "    \"BM25\": bm25_retriever,\n",
        "    \"Naive\": naive_retriever,\n",
        "    \"Parent Document\": parent_document_retriever,\n",
        "    \"Compression\": compression_retriever,\n",
        "    \"Multi Query\": multi_query_retriever,\n",
        "    \"Ensemble\": ensemble_retriever\n",
        "}\n",
        "\n",
        "# Create a shorter version of evaluation samples with just 5 rows\n",
        "evaluation_samples_short = evaluation_samples\n",
        "\n",
        "\n",
        "\n",
        "all_results = {}\n",
        "for name, retriever in retrievers.items():\n",
        "    print(f\"Evaluating {name} retriever...\")\n",
        "    scores = evaluate_retriever(retriever, name, evaluation_samples_short)\n",
        "    all_results[name] = scores"
      ]
    },
    {
      "cell_type": "code",
      "execution_count": null,
      "metadata": {},
      "outputs": [
        {
          "data": {
            "text/plain": [
              "{}"
            ]
          },
          "metadata": {},
          "output_type": "display_data"
        }
      ],
      "source": [
        "all_results"
      ]
    },
    {
      "cell_type": "code",
      "execution_count": null,
      "metadata": {},
      "outputs": [
        {
          "data": {
            "text/plain": [
              "{}"
            ]
          },
          "metadata": {},
          "output_type": "display_data"
        }
      ],
      "source": [
        "all_results"
      ]
    },
    {
      "cell_type": "code",
      "execution_count": 68,
      "metadata": {},
      "outputs": [
        {
          "data": {
            "text/plain": [
              "{}"
            ]
          },
          "execution_count": 68,
          "metadata": {},
          "output_type": "execute_result"
        }
      ],
      "source": [
        "all_results"
      ]
    }
  ],
  "metadata": {
    "colab": {
      "provenance": [],
      "toc_visible": true
    },
    "kernelspec": {
      "display_name": ".venv",
      "language": "python",
      "name": "python3"
    },
    "language_info": {
      "codemirror_mode": {
        "name": "ipython",
        "version": 3
      },
      "file_extension": ".py",
      "mimetype": "text/x-python",
      "name": "python",
      "nbconvert_exporter": "python",
      "pygments_lexer": "ipython3",
      "version": "3.13.5"
    }
  },
  "nbformat": 4,
  "nbformat_minor": 0
}
