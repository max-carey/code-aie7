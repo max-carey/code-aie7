{
  "cells": [
    {
      "cell_type": "markdown",
      "metadata": {
        "id": "e-IqJAMkwnCF"
      },
      "source": [
        "# Advanced Retrieval with LangChain\n",
        "\n",
        "In the following notebook, we'll explore various methods of advanced retrieval using LangChain!\n",
        "\n",
        "We'll touch on:\n",
        "\n",
        "- Naive Retrieval\n",
        "- Best-Matching 25 (BM25)\n",
        "- Multi-Query Retrieval\n",
        "- Parent-Document Retrieval\n",
        "- Contextual Compression (a.k.a. Rerank)\n",
        "- Ensemble Retrieval\n",
        "- Semantic chunking\n",
        "\n",
        "We'll also discuss how these methods impact performance on our set of documents with a simple RAG chain.\n",
        "\n",
        "There will be two breakout rooms:\n",
        "\n",
        "- 🤝 Breakout Room Part #1\n",
        "  - Task 1: Getting Dependencies!\n",
        "  - Task 2: Data Collection and Preparation\n",
        "  - Task 3: Setting Up QDrant!\n",
        "  - Task 4-10: Retrieval Strategies\n",
        "- 🤝 Breakout Room Part #2\n",
        "  - Activity: Evaluate with Ragas"
      ]
    },
    {
      "cell_type": "markdown",
      "metadata": {
        "id": "4rKP3hgHivpe"
      },
      "source": [
        "# 🤝 Breakout Room Part #1"
      ]
    },
    {
      "cell_type": "markdown",
      "metadata": {
        "id": "3xes8oT-xHN7"
      },
      "source": [
        "## Task 1: Getting Dependencies!\n",
        "\n",
        "We're going to need a few specific LangChain community packages, like OpenAI (for our [LLM](https://platform.openai.com/docs/models) and [Embedding Model](https://platform.openai.com/docs/guides/embeddings)) and Cohere (for our [Reranker](https://cohere.com/rerank))."
      ]
    },
    {
      "cell_type": "markdown",
      "metadata": {
        "id": "Z7OHJXzfyJyA"
      },
      "source": [
        "We'll also provide our OpenAI key, as well as our Cohere API key."
      ]
    },
    {
      "cell_type": "code",
      "execution_count": 1,
      "metadata": {
        "colab": {
          "base_uri": "https://localhost:8080/"
        },
        "id": "7LttlDQUYgSI",
        "outputId": "9dca95ab-4d02-4adf-ec3f-cb831326dc54"
      },
      "outputs": [],
      "source": [
        "import os\n",
        "import getpass\n",
        "\n",
        "os.environ[\"OPENAI_API_KEY\"] = getpass.getpass(\"Enter your OpenAI API Key:\")"
      ]
    },
    {
      "cell_type": "code",
      "execution_count": 2,
      "metadata": {
        "colab": {
          "base_uri": "https://localhost:8080/"
        },
        "id": "3iUahNiJyQbv",
        "outputId": "78bf06ef-2ee8-46c3-f73d-27958b4dd79b"
      },
      "outputs": [],
      "source": [
        "os.environ[\"COHERE_API_KEY\"] = getpass.getpass(\"Cohere API Key:\")"
      ]
    },
    {
      "cell_type": "markdown",
      "metadata": {
        "id": "mw304iAFyRtl"
      },
      "source": [
        "## Task 2: Data Collection and Preparation\n",
        "\n",
        "We'll be using our Loan Data once again - this time the strutured data available through the CSV!"
      ]
    },
    {
      "cell_type": "markdown",
      "metadata": {
        "id": "A92NC2QZzCsi"
      },
      "source": [
        "### Data Preparation\n",
        "\n",
        "We want to make sure all our documents have the relevant metadata for the various retrieval strategies we're going to be applying today."
      ]
    },
    {
      "cell_type": "code",
      "execution_count": 3,
      "metadata": {
        "id": "GshBjVRJZ6p8"
      },
      "outputs": [],
      "source": [
        "from langchain_community.document_loaders.csv_loader import CSVLoader\n",
        "from datetime import datetime, timedelta\n",
        "\n",
        "loader = CSVLoader(\n",
        "    file_path=f\"./data/complaints.csv\",\n",
        "    metadata_columns=[\n",
        "      \"Date received\", \n",
        "      \"Product\", \n",
        "      \"Sub-product\", \n",
        "      \"Issue\", \n",
        "      \"Sub-issue\", \n",
        "      \"Consumer complaint narrative\", \n",
        "      \"Company public response\", \n",
        "      \"Company\", \n",
        "      \"State\", \n",
        "      \"ZIP code\", \n",
        "      \"Tags\", \n",
        "      \"Consumer consent provided?\", \n",
        "      \"Submitted via\", \n",
        "      \"Date sent to company\", \n",
        "      \"Company response to consumer\", \n",
        "      \"Timely response?\", \n",
        "      \"Consumer disputed?\", \n",
        "      \"Complaint ID\"\n",
        "    ]\n",
        ")\n",
        "\n",
        "loan_complaint_data = loader.load()\n",
        "\n",
        "for doc in loan_complaint_data:\n",
        "    doc.page_content = doc.metadata[\"Consumer complaint narrative\"]"
      ]
    },
    {
      "cell_type": "markdown",
      "metadata": {
        "id": "9gQphb6y0C0S"
      },
      "source": [
        "Let's look at an example document to see if everything worked as expected!"
      ]
    },
    {
      "cell_type": "code",
      "execution_count": 4,
      "metadata": {
        "colab": {
          "base_uri": "https://localhost:8080/"
        },
        "id": "PkUkCf7DaMiq",
        "outputId": "e90bd5da-1d87-423b-838a-cb6efc16b199"
      },
      "outputs": [
        {
          "data": {
            "text/plain": [
              "Document(metadata={'source': './data/complaints.csv', 'row': 0, 'Date received': '03/27/25', 'Product': 'Student loan', 'Sub-product': 'Federal student loan servicing', 'Issue': 'Dealing with your lender or servicer', 'Sub-issue': 'Trouble with how payments are being handled', 'Consumer complaint narrative': \"The federal student loan COVID-19 forbearance program ended in XX/XX/XXXX. However, payments were not re-amortized on my federal student loans currently serviced by Nelnet until very recently. The new payment amount that is effective starting with the XX/XX/XXXX payment will nearly double my payment from {$180.00} per month to {$360.00} per month. I'm fortunate that my current financial position allows me to be able to handle the increased payment amount, but I am sure there are likely many borrowers who are not in the same position. The re-amortization should have occurred once the forbearance ended to reduce the impact to borrowers.\", 'Company public response': 'None', 'Company': 'Nelnet, Inc.', 'State': 'IL', 'ZIP code': '60030', 'Tags': 'None', 'Consumer consent provided?': 'Consent provided', 'Submitted via': 'Web', 'Date sent to company': '03/27/25', 'Company response to consumer': 'Closed with explanation', 'Timely response?': 'Yes', 'Consumer disputed?': 'N/A', 'Complaint ID': '12686613'}, page_content=\"The federal student loan COVID-19 forbearance program ended in XX/XX/XXXX. However, payments were not re-amortized on my federal student loans currently serviced by Nelnet until very recently. The new payment amount that is effective starting with the XX/XX/XXXX payment will nearly double my payment from {$180.00} per month to {$360.00} per month. I'm fortunate that my current financial position allows me to be able to handle the increased payment amount, but I am sure there are likely many borrowers who are not in the same position. The re-amortization should have occurred once the forbearance ended to reduce the impact to borrowers.\")"
            ]
          },
          "execution_count": 4,
          "metadata": {},
          "output_type": "execute_result"
        }
      ],
      "source": [
        "loan_complaint_data[0]"
      ]
    },
    {
      "cell_type": "markdown",
      "metadata": {
        "id": "lWaQpdHl0Gzc"
      },
      "source": [
        "## Task 3: Setting up QDrant!\n",
        "\n",
        "Now that we have our documents, let's create a QDrant VectorStore with the collection name \"LoanComplaints\".\n",
        "\n",
        "We'll leverage OpenAI's [`text-embedding-3-small`](https://openai.com/blog/new-embedding-models-and-api-updates) because it's a very powerful (and low-cost) embedding model.\n",
        "\n",
        "> NOTE: We'll be creating additional vectorstores where necessary, but this pattern is still extremely useful."
      ]
    },
    {
      "cell_type": "code",
      "execution_count": 5,
      "metadata": {
        "id": "NT8ihRJbYmMT"
      },
      "outputs": [],
      "source": [
        "from langchain_community.vectorstores import Qdrant\n",
        "from langchain_openai import OpenAIEmbeddings\n",
        "\n",
        "embeddings = OpenAIEmbeddings(model=\"text-embedding-3-small\")\n",
        "\n",
        "vectorstore = Qdrant.from_documents(\n",
        "    loan_complaint_data,\n",
        "    embeddings,\n",
        "    location=\":memory:\",\n",
        "    collection_name=\"LoanComplaints\"\n",
        ")"
      ]
    },
    {
      "cell_type": "markdown",
      "metadata": {
        "id": "-x2SS4Rh0hiN"
      },
      "source": [
        "## Task 4: Naive RAG Chain\n",
        "\n",
        "Since we're focusing on the \"R\" in RAG today - we'll create our Retriever first."
      ]
    },
    {
      "cell_type": "markdown",
      "metadata": {
        "id": "NEH7X5Ai08FH"
      },
      "source": [
        "### R - Retrieval\n",
        "\n",
        "This naive retriever will simply look at each review as a document, and use cosine-similarity to fetch the 10 most relevant documents.\n",
        "\n",
        "> NOTE: We're choosing `10` as our `k` here to provide enough documents for our reranking process later"
      ]
    },
    {
      "cell_type": "code",
      "execution_count": 6,
      "metadata": {
        "id": "GFDPrNBtb72o"
      },
      "outputs": [],
      "source": [
        "naive_retriever = vectorstore.as_retriever(search_kwargs={\"k\" : 10})"
      ]
    },
    {
      "cell_type": "markdown",
      "metadata": {
        "id": "MbBhyQjz06dx"
      },
      "source": [
        "### A - Augmented\n",
        "\n",
        "We're going to go with a standard prompt for our simple RAG chain today! Nothing fancy here, we want this to mostly be about the Retrieval process."
      ]
    },
    {
      "cell_type": "code",
      "execution_count": 7,
      "metadata": {
        "id": "7uSz-Dbqcoki"
      },
      "outputs": [],
      "source": [
        "from langchain_core.prompts import ChatPromptTemplate\n",
        "\n",
        "RAG_TEMPLATE = \"\"\"\\\n",
        "You are a helpful and kind assistant. Use the context provided below to answer the question.\n",
        "\n",
        "If you do not know the answer, or are unsure, say you don't know.\n",
        "\n",
        "Query:\n",
        "{question}\n",
        "\n",
        "Context:\n",
        "{context}\n",
        "\"\"\"\n",
        "\n",
        "rag_prompt = ChatPromptTemplate.from_template(RAG_TEMPLATE)"
      ]
    },
    {
      "cell_type": "markdown",
      "metadata": {
        "id": "BlRzpb231GGJ"
      },
      "source": [
        "### G - Generation\n",
        "\n",
        "We're going to leverage `gpt-4.1-nano` as our LLM today, as - again - we want this to largely be about the Retrieval process."
      ]
    },
    {
      "cell_type": "code",
      "execution_count": 8,
      "metadata": {
        "id": "c-1t9H60dJLg"
      },
      "outputs": [],
      "source": [
        "from langchain_openai import ChatOpenAI\n",
        "\n",
        "chat_model = ChatOpenAI(model=\"gpt-4.1-nano\")"
      ]
    },
    {
      "cell_type": "markdown",
      "metadata": {
        "id": "mg3QRGzA1M2x"
      },
      "source": [
        "### LCEL RAG Chain\n",
        "\n",
        "We're going to use LCEL to construct our chain.\n",
        "\n",
        "> NOTE: This chain will be exactly the same across the various examples with the exception of our Retriever!"
      ]
    },
    {
      "cell_type": "code",
      "execution_count": 9,
      "metadata": {
        "id": "0bvstS7mdOW3"
      },
      "outputs": [],
      "source": [
        "from langchain_core.runnables import RunnablePassthrough\n",
        "from operator import itemgetter\n",
        "from langchain_core.output_parsers import StrOutputParser\n",
        "\n",
        "naive_retrieval_chain = (\n",
        "    # INVOKE CHAIN WITH: {\"question\" : \"<<SOME USER QUESTION>>\"}\n",
        "    # \"question\" : populated by getting the value of the \"question\" key\n",
        "    # \"context\"  : populated by getting the value of the \"question\" key and chaining it into the base_retriever\n",
        "    {\"context\": itemgetter(\"question\") | naive_retriever, \"question\": itemgetter(\"question\")}\n",
        "    # \"context\"  : is assigned to a RunnablePassthrough object (will not be called or considered in the next step)\n",
        "    #              by getting the value of the \"context\" key from the previous step\n",
        "    | RunnablePassthrough.assign(context=itemgetter(\"context\"))\n",
        "    # \"response\" : the \"context\" and \"question\" values are used to format our prompt object and then piped\n",
        "    #              into the LLM and stored in a key called \"response\"\n",
        "    # \"context\"  : populated by getting the value of the \"context\" key from the previous step\n",
        "    | {\"response\": rag_prompt | chat_model, \"context\": itemgetter(\"context\")}\n",
        ")"
      ]
    },
    {
      "cell_type": "markdown",
      "metadata": {
        "id": "izKujhNb1ZG8"
      },
      "source": [
        "Let's see how this simple chain does on a few different prompts.\n",
        "\n",
        "> NOTE: You might think that we've cherry picked prompts that showcase the individual skill of each of the retrieval strategies - you'd be correct!"
      ]
    },
    {
      "cell_type": "code",
      "execution_count": 10,
      "metadata": {
        "colab": {
          "base_uri": "https://localhost:8080/",
          "height": 36
        },
        "id": "LI-5ueEddku9",
        "outputId": "7f3cec18-5f4e-41bb-cf71-51ba0be5388e"
      },
      "outputs": [
        {
          "data": {
            "text/plain": [
              "'The most common issue with loans, based on the provided complaints, appears to be mishandling by loan servicers, including errors in loan balances, misapplied payments, improper transfer or sale of loans without proper notification, and faulty or confusing information about account status and repayment terms. A significant theme is the frustration with how payments are applied, inaccurate reporting to credit bureaus, and lack of transparency or communication from loan servicers.'"
            ]
          },
          "execution_count": 10,
          "metadata": {},
          "output_type": "execute_result"
        }
      ],
      "source": [
        "naive_retrieval_chain.invoke({\"question\" : \"What is the most common issue with loans?\"})[\"response\"].content"
      ]
    },
    {
      "cell_type": "code",
      "execution_count": 11,
      "metadata": {
        "colab": {
          "base_uri": "https://localhost:8080/",
          "height": 36
        },
        "id": "43zdcdUydtXh",
        "outputId": "db874e67-f568-4ed1-b863-b7c17b387052"
      },
      "outputs": [
        {
          "data": {
            "text/plain": [
              "'Based on the provided information, yes, there were complaints that did not get handled in a timely manner. For example, the complaint submitted to MOHELA on 03/28/25 was marked as \"Not timely\" response, indicating that the company failed to respond within the expected timeframe. Similarly, a complaint to Maximus Federal Services on 04/14/25 was handled \"within\" the expected window. Overall, at least one complaint was not handled in a timely manner.'"
            ]
          },
          "execution_count": 11,
          "metadata": {},
          "output_type": "execute_result"
        }
      ],
      "source": [
        "naive_retrieval_chain.invoke({\"question\" : \"Did any complaints not get handled in a timely manner?\"})[\"response\"].content"
      ]
    },
    {
      "cell_type": "code",
      "execution_count": 12,
      "metadata": {
        "colab": {
          "base_uri": "https://localhost:8080/",
          "height": 70
        },
        "id": "lpG6rlvvvKFq",
        "outputId": "a1b330b0-628e-41be-d829-9c1d55e781f5"
      },
      "outputs": [
        {
          "data": {
            "text/plain": [
              "\"Based on the provided information, people failed to pay back their loans mainly because of a combination of factors, including:\\n\\n1. **Accumulating interest during forbearance or deferment:** Borrowers often lowered or paused payments but interest continued to accrue, increasing the total amount owed and making it difficult to pay off the principal later.\\n\\n2. **Inadequate or confusing communication from loan servicers:** Many borrowers reported not being properly notified about payment resumption, loan transfer, or changes in repayment status, leading to missed payments or delinquency.\\n\\n3. **Financial hardships and stagnant wages:** Many borrowers faced economic challenges, making it difficult to increase payments or manage existing debt, especially when repayment options would extend the loan term and increase overall costs.\\n\\n4. **Complex and restrictive repayment options:** Some found that available options like income-driven repayment or loan forgiveness programs were inaccessible or insufficient to manage their debt effectively.\\n\\n5. **Mismanagement or lack of transparency:** Several complaints highlighted issues with inaccurate or inconsistent account information, unnotified loan transfers, and failure to provide clear explanations of loan balances and interest, which contributed to difficulties in repayment.\\n\\n6. **Additional adverse actions:** Issues such as loans being reported as delinquent without proper notification, or the inability to apply extra payments directly to principal, further hindered borrowers' ability to pay off their loans timely.\\n\\nIn summary, these combined issues—interest accumulation, poor communication, financial hardship, and systemic mismanagement—contributed to many borrowers being unable to successfully pay back their loans.\""
            ]
          },
          "execution_count": 12,
          "metadata": {},
          "output_type": "execute_result"
        }
      ],
      "source": [
        "naive_retrieval_chain.invoke({\"question\" : \"Why did people fail to pay back their loans?\"})[\"response\"].content"
      ]
    },
    {
      "cell_type": "markdown",
      "metadata": {
        "id": "jsbfQmbr1leg"
      },
      "source": [
        "Overall, this is not bad! Let's see if we can make it better!"
      ]
    },
    {
      "cell_type": "markdown",
      "metadata": {
        "id": "Ft1vt8HPR16w"
      },
      "source": [
        "## Task 5: Best-Matching 25 (BM25) Retriever\n",
        "\n",
        "Taking a step back in time - [BM25](https://www.nowpublishers.com/article/Details/INR-019) is based on [Bag-Of-Words](https://en.wikipedia.org/wiki/Bag-of-words_model) which is a sparse representation of text.\n",
        "\n",
        "In essence, it's a way to compare how similar two pieces of text are based on the words they both contain.\n",
        "\n",
        "This retriever is very straightforward to set-up! Let's see it happen down below!\n"
      ]
    },
    {
      "cell_type": "code",
      "execution_count": 13,
      "metadata": {
        "id": "qdF4wuj5R-cG"
      },
      "outputs": [],
      "source": [
        "from langchain_community.retrievers import BM25Retriever\n",
        "\n",
        "bm25_retriever = BM25Retriever.from_documents(loan_complaint_data, )"
      ]
    },
    {
      "cell_type": "markdown",
      "metadata": {
        "id": "KIjJlBQ8drKH"
      },
      "source": [
        "We'll construct the same chain - only changing the retriever."
      ]
    },
    {
      "cell_type": "code",
      "execution_count": 14,
      "metadata": {
        "id": "WR15EQG7SLuw"
      },
      "outputs": [],
      "source": [
        "bm25_retrieval_chain = (\n",
        "    {\"context\": itemgetter(\"question\") | bm25_retriever, \"question\": itemgetter(\"question\")}\n",
        "    | RunnablePassthrough.assign(context=itemgetter(\"context\"))\n",
        "    | {\"response\": rag_prompt | chat_model, \"context\": itemgetter(\"context\")}\n",
        ")"
      ]
    },
    {
      "cell_type": "markdown",
      "metadata": {
        "id": "0Gi-yXCDdvJk"
      },
      "source": [
        "Let's look at the responses!"
      ]
    },
    {
      "cell_type": "code",
      "execution_count": 15,
      "metadata": {
        "colab": {
          "base_uri": "https://localhost:8080/",
          "height": 53
        },
        "id": "oY9qzmm3SOrF",
        "outputId": "4d4f450f-5978-460f-f242-b32407868353"
      },
      "outputs": [
        {
          "data": {
            "text/plain": [
              "'Based on the provided context, one of the most common issues with loans appears to be problems related to dealing with lenders or servicers. Specific sub-issues include disputes over fees charged, difficulties in applying payments correctly, receiving bad or unclear information about loan balances or terms, and issues with loan repayment calculations. These problems often involve miscommunication, lack of transparency, or predatory practices by loan servicers.'"
            ]
          },
          "execution_count": 15,
          "metadata": {},
          "output_type": "execute_result"
        }
      ],
      "source": [
        "bm25_retrieval_chain.invoke({\"question\" : \"What is the most common issue with loans?\"})[\"response\"].content"
      ]
    },
    {
      "cell_type": "code",
      "execution_count": 16,
      "metadata": {
        "colab": {
          "base_uri": "https://localhost:8080/",
          "height": 36
        },
        "id": "igfinyneSQkh",
        "outputId": "9752d4a9-dd16-45b1-f63f-a76e93a05eb3"
      },
      "outputs": [
        {
          "data": {
            "text/plain": [
              "'Based on the provided complaints, it appears that at least one complaint was handled in a timely manner, as indicated by the \"Timely response?\" field being marked \"Yes\" for multiple complaints. However, there are also complaints where the individual reports ongoing issues and indicates delays or insufficient responses. Specifically, there is mention of repeated issues over several years and frustration with response times, but the records show that many responses were marked as \"Closed with explanation\" and responded to within the legal or organizational deadlines.\\n\\nTherefore, the answer is: Yes, some complaints did get handled in a timely manner.'"
            ]
          },
          "execution_count": 16,
          "metadata": {},
          "output_type": "execute_result"
        }
      ],
      "source": [
        "bm25_retrieval_chain.invoke({\"question\" : \"Did any complaints not get handled in a timely manner?\"})[\"response\"].content"
      ]
    },
    {
      "cell_type": "code",
      "execution_count": 17,
      "metadata": {
        "colab": {
          "base_uri": "https://localhost:8080/",
          "height": 53
        },
        "id": "w0H7pV_USSMQ",
        "outputId": "bdead654-3109-4143-9a30-e1d6ca8dc534"
      },
      "outputs": [
        {
          "data": {
            "text/plain": [
              "\"People failed to pay back their loans for various reasons, including issues with payment plans, miscommunications, and disputes with loan servicers. Some specific reasons include:\\n\\n1. Problems with repayment plans, such as being steered into the wrong types of forbearances or having their autopayments discontinued without proper notification.\\n2. Lack of communication from the loan servicer, leading borrowers to be unaware of their payment status or changes, resulting in missed or late payments.\\n3. Technical issues with payment processing, such as payments being reversed repeatedly or not being correctly credited due to errors or misunderstandings.\\n4. Disputes over loan transfers and the management of automatic payments, especially when borrowers are unaware of transfers to new servicers.\\n5. Failure of loan servicers to respond to requests for deferment or forbearance, leading to continued billing and financial hardship.\\n6. Borrowers experiencing confusion or frustration because they did not receive proper notices or because their communication channels (like email) were ignored or flagged as spam.\\n\\nOverall, systemic issues such as mismanagement, poor communication, and procedural errors by loan servicers often contribute to borrowers' inability to keep up with their repayment obligations.\""
            ]
          },
          "execution_count": 17,
          "metadata": {},
          "output_type": "execute_result"
        }
      ],
      "source": [
        "bm25_retrieval_chain.invoke({\"question\" : \"Why did people fail to pay back their loans?\"})[\"response\"].content"
      ]
    },
    {
      "cell_type": "markdown",
      "metadata": {
        "id": "zvg5xHaUdxCl"
      },
      "source": [
        "It's not clear that this is better or worse, if only we had a way to test this (SPOILERS: We do, the second half of the notebook will cover this)"
      ]
    },
    {
      "cell_type": "markdown",
      "metadata": {},
      "source": [
        "#### ❓ Question #1:\n",
        "\n",
        "Give an example query where BM25 is better than embeddings and justify your answer.\n",
        "\n",
        "#### ✅ Answer\n",
        "\n",
        "BM25 is likely to perform better than embeddings when searching for specific keywords or phrases that appear verbatim in the complaints. For example, when searching for \"FASFA deadline\", BM25 might give higher weight to documents that contain this exact phrase. BM25 is based on FREQUENCY not SEMANTICS. I found this viedo to be very helpful to explain the difference: https://www.youtube.com/watch?v=3FbJOKhLv9M.\n",
        "\n"
      ]
    },
    {
      "cell_type": "markdown",
      "metadata": {
        "id": "Q-dcbFn2vpZF"
      },
      "source": [
        "## Task 6: Contextual Compression (Using Reranking)\n",
        "\n",
        "Contextual Compression is a fairly straightforward idea: We want to \"compress\" our retrieved context into just the most useful bits.\n",
        "\n",
        "There are a few ways we can achieve this - but we're going to look at a specific example called reranking.\n",
        "\n",
        "The basic idea here is this:\n",
        "\n",
        "- We retrieve lots of documents that are very likely related to our query vector\n",
        "- We \"compress\" those documents into a smaller set of *more* related documents using a reranking algorithm.\n",
        "\n",
        "We'll be leveraging Cohere's Rerank model for our reranker today!\n",
        "\n",
        "All we need to do is the following:\n",
        "\n",
        "- Create a basic retriever\n",
        "- Create a compressor (reranker, in this case)\n",
        "\n",
        "That's it!\n",
        "\n",
        "Let's see it in the code below!"
      ]
    },
    {
      "cell_type": "code",
      "execution_count": 18,
      "metadata": {
        "id": "psHvO2K1v_ZQ"
      },
      "outputs": [],
      "source": [
        "from langchain.retrievers.contextual_compression import ContextualCompressionRetriever\n",
        "from langchain_cohere import CohereRerank\n",
        "\n",
        "compressor = CohereRerank(model=\"rerank-v3.5\")\n",
        "compression_retriever = ContextualCompressionRetriever(\n",
        "    base_compressor=compressor, base_retriever=naive_retriever\n",
        ")"
      ]
    },
    {
      "cell_type": "markdown",
      "metadata": {
        "id": "_TA9RB2x-j7P"
      },
      "source": [
        "Let's create our chain again, and see how this does!"
      ]
    },
    {
      "cell_type": "code",
      "execution_count": 19,
      "metadata": {
        "id": "1BXqmxvHwX6T"
      },
      "outputs": [],
      "source": [
        "contextual_compression_retrieval_chain = (\n",
        "    {\"context\": itemgetter(\"question\") | compression_retriever, \"question\": itemgetter(\"question\")}\n",
        "    | RunnablePassthrough.assign(context=itemgetter(\"context\"))\n",
        "    | {\"response\": rag_prompt | chat_model, \"context\": itemgetter(\"context\")}\n",
        ")"
      ]
    },
    {
      "cell_type": "code",
      "execution_count": 20,
      "metadata": {
        "colab": {
          "base_uri": "https://localhost:8080/",
          "height": 36
        },
        "id": "V3iGpokswcBb",
        "outputId": "f15d2aa1-5e8b-417d-f623-eb835d072e59"
      },
      "outputs": [
        {
          "data": {
            "text/plain": [
              "'The most common issue with loans, based on the provided complaints, appears to be problems related to dealing with loan servicers, including receiving bad or incorrect information about the loan, errors in loan balances, misapplied payments, wrongful denials of payment plans, and mishandling or mishandling of loan data. Many complaints highlight issues such as lack of communication, inaccurate information, unauthorized transfers, privacy violations, and difficulties in resolving disputes with loan servicers.'"
            ]
          },
          "execution_count": 20,
          "metadata": {},
          "output_type": "execute_result"
        }
      ],
      "source": [
        "contextual_compression_retrieval_chain.invoke({\"question\" : \"What is the most common issue with loans?\"})[\"response\"].content"
      ]
    },
    {
      "cell_type": "code",
      "execution_count": 21,
      "metadata": {
        "colab": {
          "base_uri": "https://localhost:8080/",
          "height": 53
        },
        "id": "7u_k0i4OweUd",
        "outputId": "be5fccc8-2352-4189-c524-bbeaa28cf799"
      },
      "outputs": [
        {
          "data": {
            "text/plain": [
              "'Based on the provided information, yes, there are complaints that have not been handled in a timely manner. Specifically, one complaint regarding the student loan account review has been open for over 18 months without resolution, and the complainant has not received a response despite multiple requests over that period.'"
            ]
          },
          "execution_count": 21,
          "metadata": {},
          "output_type": "execute_result"
        }
      ],
      "source": [
        "contextual_compression_retrieval_chain.invoke({\"question\" : \"Did any complaints not get handled in a timely manner?\"})[\"response\"].content"
      ]
    },
    {
      "cell_type": "code",
      "execution_count": 22,
      "metadata": {
        "colab": {
          "base_uri": "https://localhost:8080/",
          "height": 70
        },
        "id": "zn1EqaGqweXN",
        "outputId": "42bc5972-4164-46eb-f49d-4272f39bb89b"
      },
      "outputs": [
        {
          "data": {
            "text/plain": [
              "'People have failed to pay back their loans for several reasons, including:\\n\\n1. Lack of Awareness and Information: Some borrowers were not informed or aware that they would need to repay their financial aid or student loans, especially if they did not receive clear communication from financial aid officers about repayment obligations.\\n\\n2. Issues with Loan Management and Transfers: Borrowers experienced problems such as loans being transferred between servicers without their knowledge or consent, and difficulty accessing or understanding their online account information and balances.\\n\\n3. Accumulation of Interest and Unmanageable Payments: Many borrowers found that interest continued to accrue even when they entered forbearance or deferment, making it difficult to pay down the principal. Lowering payments often resulted in interest compounding, extending the loan payoff period and increasing total debt.\\n\\n4. Insufficient or Poor Communication: Borrowers reported not receiving notifications about payment due dates, account changes, or when their loans were bought out or transferred to different servicers.\\n\\n5. Financial Hardships and Economic Conditions: The economic reality, including stagnant wages and limited job opportunities, makes it hard for borrowers to keep up with payments. Many took loans at a young age expecting to pay them off with stable employment, but financial hardships prevented them from doing so.\\n\\n6. Lack of Favorable Repayment Options: Offered options like forbearance or deferment could lead to increased interest, making repayment even more difficult over time. The available options often did not address the root financial challenges borrowers faced.\\n\\nIn summary, a combination of inadequate information, administrative errors, rising interest, economic hardship, and ineffective communication contributed to why many people failed to pay back their loans.'"
            ]
          },
          "execution_count": 22,
          "metadata": {},
          "output_type": "execute_result"
        }
      ],
      "source": [
        "contextual_compression_retrieval_chain.invoke({\"question\" : \"Why did people fail to pay back their loans?\"})[\"response\"].content"
      ]
    },
    {
      "cell_type": "markdown",
      "metadata": {
        "id": "OEbT0g2S-mZ4"
      },
      "source": [
        "We'll need to rely on something like Ragas to help us get a better sense of how this is performing overall - but it \"feels\" better!"
      ]
    },
    {
      "cell_type": "markdown",
      "metadata": {
        "id": "qqbghrBEQNn5"
      },
      "source": [
        "## Task 7: Multi-Query Retriever\n",
        "\n",
        "Typically in RAG we have a single query - the one provided by the user.\n",
        "\n",
        "What if we had....more than one query!\n",
        "\n",
        "In essence, a Multi-Query Retriever works by:\n",
        "\n",
        "1. Taking the original user query and creating `n` number of new user queries using an LLM.\n",
        "2. Retrieving documents for each query.\n",
        "3. Using all unique retrieved documents as context\n",
        "\n",
        "So, how is it to set-up? Not bad! Let's see it down below!\n",
        "\n"
      ]
    },
    {
      "cell_type": "code",
      "execution_count": 23,
      "metadata": {
        "id": "pfM26ReXQjzU"
      },
      "outputs": [],
      "source": [
        "from langchain.retrievers.multi_query import MultiQueryRetriever\n",
        "\n",
        "multi_query_retriever = MultiQueryRetriever.from_llm(\n",
        "    retriever=naive_retriever, llm=chat_model\n",
        ")"
      ]
    },
    {
      "cell_type": "code",
      "execution_count": 24,
      "metadata": {
        "id": "1vRc129jQ5WW"
      },
      "outputs": [],
      "source": [
        "multi_query_retrieval_chain = (\n",
        "    {\"context\": itemgetter(\"question\") | multi_query_retriever, \"question\": itemgetter(\"question\")}\n",
        "    | RunnablePassthrough.assign(context=itemgetter(\"context\"))\n",
        "    | {\"response\": rag_prompt | chat_model, \"context\": itemgetter(\"context\")}\n",
        ")"
      ]
    },
    {
      "cell_type": "code",
      "execution_count": 25,
      "metadata": {
        "colab": {
          "base_uri": "https://localhost:8080/",
          "height": 53
        },
        "id": "CGgNuOb3Q3M9",
        "outputId": "c5273ecf-da35-40b8-fbdb-0f8beab425f7"
      },
      "outputs": [
        {
          "data": {
            "text/plain": [
              "\"Based on the provided context, the most common issues with loans, particularly student loans, involve problems with loan servicing and mismanagement. Specifically, the frequent issues include:\\n\\n- Trouble with how payments are being handled or applied, often leading to delayed or incorrect payments and difficulties in making extra payments toward principal.\\n- Receiving bad or inaccurate information about loan balances, interest, or repayment options.\\n- Problems with loan transfers, such as unauthorized or unnotified transfers between servicers.\\n- Errors in reported account status, such as incorrect delinquency or balance information affecting credit scores.\\n- Failure to provide legally required documentation like original Master Promissory Notes (MPNs).\\n- Unsatisfactory customer service, including unhelpful or dismissive interactions and lack of support in managing repayment difficulties.\\n- Alleged predatory practices like forbearance steering, coercive consolidation, and incorrect or unfair fees.\\n\\nOverall, a pattern emerges that a key and most common issue is poor or problematic loan servicing—errors, miscommunication, and unfair practices that hinder borrowers' ability to manage and repay their loans effectively.\""
            ]
          },
          "execution_count": 25,
          "metadata": {},
          "output_type": "execute_result"
        }
      ],
      "source": [
        "multi_query_retrieval_chain.invoke({\"question\" : \"What is the most common issue with loans?\"})[\"response\"].content"
      ]
    },
    {
      "cell_type": "code",
      "execution_count": 26,
      "metadata": {
        "colab": {
          "base_uri": "https://localhost:8080/",
          "height": 36
        },
        "id": "aAlSthxrRDBC",
        "outputId": "230ff807-23ae-4d25-8d11-cfdbed0b77cb"
      },
      "outputs": [
        {
          "data": {
            "text/plain": [
              "'Based on the provided complaints, yes, some complaints indicate that complaints did not get handled in a timely manner. Specifically, there are instances where:\\n\\n- The company response was marked as \"Closed with explanation,\" and in some cases, the responses were categorized as \"timely response\" but still did not resolve the issues (e.g., pages with complaints received in April 2025 where the consumer indicated lack of response over extended periods).\\n- Multiple complaints state that the complainants have been waiting over a year (and in some cases nearly 18 months or more) without resolution despite follow-ups and repeated efforts.\\n- Several complaints mention that the issue remains unresolved despite the consumer repeatedly reaching out over months or years.\\n- In at least one case (page with complaint received 04/14/25, complaint ID 13056764), the response was \"Closed with explanation,\" yet the complainant reports ongoing issues and no resolution.\\n\\nTherefore, it appears that some complaints did not get handled in a timely manner, as evidenced by delays, repeated follow-ups, and unresolved issues over long periods.'"
            ]
          },
          "execution_count": 26,
          "metadata": {},
          "output_type": "execute_result"
        }
      ],
      "source": [
        "multi_query_retrieval_chain.invoke({\"question\" : \"Did any complaints not get handled in a timely manner?\"})[\"response\"].content"
      ]
    },
    {
      "cell_type": "code",
      "execution_count": 27,
      "metadata": {
        "colab": {
          "base_uri": "https://localhost:8080/",
          "height": 88
        },
        "id": "Uv1mpCK8REs4",
        "outputId": "00fbc22a-ed9b-4613-9695-0b179e3f8369"
      },
      "outputs": [
        {
          "data": {
            "text/plain": [
              "\"People often fail to pay back their loans due to a variety of systemic and servicer-related issues, including:\\n\\n- Misinformation or lack of proper communication from loan servicers about repayment options, leading borrowers to remain unaware of income-driven repayment plans, loan rehabilitation, or forgiveness programs.\\n- Being steered into long-term forbearances or consolidations without being adequately informed of the consequences, such as interest capitalization, increased balances, and reset forgiveness periods.\\n- Errors in loan balance reporting, improper account handling, or mismanagement that create confusion and hinder timely repayment.\\n- Difficulty applying extra payments toward principal or reducing debt more quickly due to servicer policies, which can be interpreted as predatory or unhelpful.\\n- Lack of transparency and documentation, errors in loan attribution, or transfer of loans without proper notice, causing miscalculations and credit reporting issues.\\n- Insufficient support or guidance from servicers when borrowers face financial hardship, leading to defaults or negative credit impacts.\\n- Systemic failures, such as failure to retain or provide access to loan documentation, inaccurate reporting to credit bureaus, and violations of legal borrower rights, which undermine borrowers' ability to manage or repay their loans effectively.\\n\\nOverall, these issues contribute to increased debt burdens and repayment failure, often compounded by systemic misconduct and inadequate servicing practices.\""
            ]
          },
          "execution_count": 27,
          "metadata": {},
          "output_type": "execute_result"
        }
      ],
      "source": [
        "multi_query_retrieval_chain.invoke({\"question\" : \"Why did people fail to pay back their loans?\"})[\"response\"].content"
      ]
    },
    {
      "cell_type": "markdown",
      "metadata": {},
      "source": [
        "#### ❓ Question #2:\n",
        "\n",
        "Explain how generating multiple reformulations of a user query can improve recall.\n",
        "\n",
        "##### ✅ Answer:\n",
        "Generating multiple reformulations of a user query improves recall in a similar way to how image generators expand user prompts. Just like how an image generator might take a simple prompt like \"dog\" and expand it to \"a golden retriever puppy sitting in a grassy field on a sunny day\" to get more specific and relevant results, the MultiQueryRetriever takes a basic query and generates multiple variations that capture different aspects and phrasings of the same information need.\n",
        "\n",
        "This improves recall because:\n",
        "1. Different phrasings may match different relevant documents that use varying terminology\n",
        "2. Multiple queries explore different semantic angles of the same question\n",
        "3. By casting a wider net with related queries, we're more likely to catch relevant documents that might be missed by a single query\n",
        "4. The LLM can add helpful context and specifications, just like how image generators flesh out scene details\n",
        "\n",
        "For example, a query about \"loan issues\" might be expanded to:\n",
        "\"What are common problems people face with their loan servicers?\"\n",
        "\"What types of complaints do borrowers report about loan payments?\"\n",
        "\"What difficulties do people encounter when dealing with student loan companies?\"\n",
        "Each variation increases the chance of matching relevant documents in the corpus.\n",
        "\n"
      ]
    },
    {
      "cell_type": "markdown",
      "metadata": {
        "id": "EDEawBf_d_3G"
      },
      "source": [
        "## Task 8: Parent Document Retriever\n",
        "\n",
        "A \"small-to-big\" strategy - the Parent Document Retriever works based on a simple strategy:\n",
        "\n",
        "1. Each un-split \"document\" will be designated as a \"parent document\" (You could use larger chunks of document as well, but our data format allows us to consider the overall document as the parent chunk)\n",
        "2. Store those \"parent documents\" in a memory store (not a VectorStore)\n",
        "3. We will chunk each of those documents into smaller documents, and associate them with their respective parents, and store those in a VectorStore. We'll call those \"child chunks\".\n",
        "4. When we query our Retriever, we will do a similarity search comparing our query vector to the \"child chunks\".\n",
        "5. Instead of returning the \"child chunks\", we'll return their associated \"parent chunks\".\n",
        "\n",
        "Okay, maybe that was a few steps - but the basic idea is this:\n",
        "\n",
        "- Search for small documents\n",
        "- Return big documents\n",
        "\n",
        "The intuition is that we're likely to find the most relevant information by limiting the amount of semantic information that is encoded in each embedding vector - but we're likely to miss relevant surrounding context if we only use that information.\n",
        "\n",
        "Let's start by creating our \"parent documents\" and defining a `RecursiveCharacterTextSplitter`."
      ]
    },
    {
      "cell_type": "code",
      "execution_count": 28,
      "metadata": {
        "id": "qJ53JJuMd_ZH"
      },
      "outputs": [],
      "source": [
        "from langchain.retrievers import ParentDocumentRetriever\n",
        "from langchain.storage import InMemoryStore\n",
        "from langchain_text_splitters import RecursiveCharacterTextSplitter\n",
        "from qdrant_client import QdrantClient, models\n",
        "\n",
        "parent_docs = loan_complaint_data\n",
        "child_splitter = RecursiveCharacterTextSplitter(chunk_size=750)"
      ]
    },
    {
      "cell_type": "markdown",
      "metadata": {
        "id": "oOpXfVUH3gL3"
      },
      "source": [
        "We'll need to set up a new QDrant vectorstore - and we'll use another useful pattern to do so!\n",
        "\n",
        "> NOTE: We are manually defining our embedding dimension, you'll need to change this if you're using a different embedding model."
      ]
    },
    {
      "cell_type": "code",
      "execution_count": 29,
      "metadata": {
        "colab": {
          "base_uri": "https://localhost:8080/"
        },
        "id": "rzFc-_9HlGQ-",
        "outputId": "223662dd-c36f-42f7-d1b0-b086e571484e"
      },
      "outputs": [],
      "source": [
        "from langchain_qdrant import QdrantVectorStore\n",
        "\n",
        "client = QdrantClient(location=\":memory:\")\n",
        "\n",
        "client.create_collection(\n",
        "    collection_name=\"full_documents\",\n",
        "    vectors_config=models.VectorParams(size=1536, distance=models.Distance.COSINE)\n",
        ")\n",
        "\n",
        "parent_document_vectorstore = QdrantVectorStore(\n",
        "    collection_name=\"full_documents\", embedding=OpenAIEmbeddings(model=\"text-embedding-3-small\"), client=client\n",
        ")"
      ]
    },
    {
      "cell_type": "markdown",
      "metadata": {
        "id": "sf_g95FA3s6w"
      },
      "source": [
        "Now we can create our `InMemoryStore` that will hold our \"parent documents\" - and build our retriever!"
      ]
    },
    {
      "cell_type": "code",
      "execution_count": 30,
      "metadata": {
        "id": "BpWVjPf4fLUp"
      },
      "outputs": [],
      "source": [
        "store = InMemoryStore()\n",
        "\n",
        "parent_document_retriever = ParentDocumentRetriever(\n",
        "    vectorstore = parent_document_vectorstore,\n",
        "    docstore=store,\n",
        "    child_splitter=child_splitter,\n",
        ")"
      ]
    },
    {
      "cell_type": "markdown",
      "metadata": {
        "id": "KoYmSWfE32Zo"
      },
      "source": [
        "By default, this is empty as we haven't added any documents - let's add some now!"
      ]
    },
    {
      "cell_type": "code",
      "execution_count": 31,
      "metadata": {
        "id": "iQ2ZzfKigMZc"
      },
      "outputs": [],
      "source": [
        "parent_document_retriever.add_documents(parent_docs, ids=None)"
      ]
    },
    {
      "cell_type": "markdown",
      "metadata": {
        "id": "bI7Tip1335rE"
      },
      "source": [
        "We'll create the same chain we did before - but substitute our new `parent_document_retriever`."
      ]
    },
    {
      "cell_type": "code",
      "execution_count": 32,
      "metadata": {
        "id": "Qq_adt2KlSqp"
      },
      "outputs": [],
      "source": [
        "parent_document_retrieval_chain = (\n",
        "    {\"context\": itemgetter(\"question\") | parent_document_retriever, \"question\": itemgetter(\"question\")}\n",
        "    | RunnablePassthrough.assign(context=itemgetter(\"context\"))\n",
        "    | {\"response\": rag_prompt | chat_model, \"context\": itemgetter(\"context\")}\n",
        ")"
      ]
    },
    {
      "cell_type": "markdown",
      "metadata": {
        "id": "jNolUVQb4Apt"
      },
      "source": [
        "Let's give it a whirl!"
      ]
    },
    {
      "cell_type": "code",
      "execution_count": 33,
      "metadata": {
        "colab": {
          "base_uri": "https://localhost:8080/",
          "height": 70
        },
        "id": "TXB5i89Zly5W",
        "outputId": "94c240be-7c5b-4c58-9eee-56d93285a054"
      },
      "outputs": [
        {
          "data": {
            "text/plain": [
              "'The most common issue with loans, based on the provided complaints, appears to be related to problems with federal student loan servicing. Specific issues include errors in loan balances, misapplied payments, wrongful denials of payment plans, and misconduct by servicers such as providing bad or incorrect information about loans, errors in balances, and collection problems. Additionally, issues with loan reporting, unfair practices, and disputes over interest rates and terms are frequent concerns.'"
            ]
          },
          "execution_count": 33,
          "metadata": {},
          "output_type": "execute_result"
        }
      ],
      "source": [
        "parent_document_retrieval_chain.invoke({\"question\" : \"What is the most common issue with loans?\"})[\"response\"].content"
      ]
    },
    {
      "cell_type": "code",
      "execution_count": 34,
      "metadata": {
        "colab": {
          "base_uri": "https://localhost:8080/",
          "height": 36
        },
        "id": "V5F1T-wNl3cg",
        "outputId": "9b81e72e-5db7-4b8a-b25b-400ea0df5335"
      },
      "outputs": [
        {
          "data": {
            "text/plain": [
              "'Based on the provided information, it appears that several complaints were not handled in a timely manner. Specifically, in the cases involving Mohela (complaint IDs 12709087 and 12935889), the responses were marked as \"No\" for timely response, indicating delays in handling these complaints. Additionally, in the complaint involving Aidvantage, the response was marked as \"Yes\" for timely response, suggesting it was handled promptly. The complaint about credit bureau disputes (complaint ID 13205525) was responded to in a timely manner as well.\\n\\nTherefore, yes, some complaints did not get handled in a timely manner, specifically those related to Mohela.'"
            ]
          },
          "execution_count": 34,
          "metadata": {},
          "output_type": "execute_result"
        }
      ],
      "source": [
        "parent_document_retrieval_chain.invoke({\"question\" : \"Did any complaints not get handled in a timely manner?\"})[\"response\"].content"
      ]
    },
    {
      "cell_type": "code",
      "execution_count": 35,
      "metadata": {
        "colab": {
          "base_uri": "https://localhost:8080/",
          "height": 70
        },
        "id": "ZqARszGzvGcG",
        "outputId": "8867f83c-db13-4db4-d57f-9bd51d32cd8a"
      },
      "outputs": [
        {
          "data": {
            "text/plain": [
              "'People often fail to pay back their loans due to various reasons such as financial hardship, lack of proper information, or mismanagement. For example, some borrowers experience severe financial difficulties after graduation, relying on deferment or forbearance, which can increase the overall debt due to accrued interest. Others may be misinformed or unaware of when their payments are expected to start, especially if loan servicers do not communicate payment schedules clearly or fail to notify them about changes in their loan status. In some cases, inability to secure employment or adverse personal circumstances also contribute to their difficulty in repaying loans.'"
            ]
          },
          "execution_count": 35,
          "metadata": {},
          "output_type": "execute_result"
        }
      ],
      "source": [
        "parent_document_retrieval_chain.invoke({\"question\" : \"Why did people fail to pay back their loans?\"})[\"response\"].content"
      ]
    },
    {
      "cell_type": "markdown",
      "metadata": {
        "id": "B41cj42s4DPM"
      },
      "source": [
        "Overall, the performance *seems* largely the same. We can leverage a tool like [Ragas]() to more effectively answer the question about the performance."
      ]
    },
    {
      "cell_type": "markdown",
      "metadata": {
        "id": "VUrIBKl_TwS9"
      },
      "source": [
        "## Task 9: Ensemble Retriever\n",
        "\n",
        "In brief, an Ensemble Retriever simply takes 2, or more, retrievers and combines their retrieved documents based on a rank-fusion algorithm.\n",
        "\n",
        "In this case - we're using the [Reciprocal Rank Fusion](https://plg.uwaterloo.ca/~gvcormac/cormacksigir09-rrf.pdf) algorithm.\n",
        "\n",
        "Setting it up is as easy as providing a list of our desired retrievers - and the weights for each retriever."
      ]
    },
    {
      "cell_type": "code",
      "execution_count": 37,
      "metadata": {
        "id": "8j7jpZsKTxic"
      },
      "outputs": [],
      "source": [
        "from langchain.retrievers import EnsembleRetriever\n",
        "\n",
        "retriever_list = [bm25_retriever, naive_retriever, parent_document_retriever, compression_retriever, multi_query_retriever]\n",
        "equal_weighting = [1/len(retriever_list)] * len(retriever_list)\n",
        "\n",
        "ensemble_retriever = EnsembleRetriever(\n",
        "    retrievers=retriever_list, weights=equal_weighting\n",
        ")"
      ]
    },
    {
      "cell_type": "markdown",
      "metadata": {
        "id": "kpo9Psl5hhJ-"
      },
      "source": [
        "We'll pack *all* of these retrievers together in an ensemble."
      ]
    },
    {
      "cell_type": "code",
      "execution_count": 38,
      "metadata": {
        "id": "KZ__EZwpUKkd"
      },
      "outputs": [],
      "source": [
        "ensemble_retrieval_chain = (\n",
        "    {\"context\": itemgetter(\"question\") | ensemble_retriever, \"question\": itemgetter(\"question\")}\n",
        "    | RunnablePassthrough.assign(context=itemgetter(\"context\"))\n",
        "    | {\"response\": rag_prompt | chat_model, \"context\": itemgetter(\"context\")}\n",
        ")"
      ]
    },
    {
      "cell_type": "markdown",
      "metadata": {
        "id": "SSsvHpRMj24L"
      },
      "source": [
        "Let's look at our results!"
      ]
    },
    {
      "cell_type": "code",
      "execution_count": 39,
      "metadata": {
        "colab": {
          "base_uri": "https://localhost:8080/",
          "height": 70
        },
        "id": "0lMvqL88UQI-",
        "outputId": "d86dd5f7-0a13-4836-c0ce-cc4c431fd889"
      },
      "outputs": [
        {
          "data": {
            "text/plain": [
              "'Based on the provided complaints and data, the most common issues with loans appear to be:\\n\\n1. **Dealing with lenders or servicers**, including problems with how payments are being handled, incorrect or bad information about loans, and difficulty communicating effectively.\\n2. **Errors or discrepancies in loan account information**, such as incorrect balance reporting, missing or misreported payment history, or inaccurate account status updates.\\n3. **Problems with loan management practices**, including improper transfer of loans, lack of transparency, mismanagement during consolidation, and issues with loan servicing companies.\\n4. **Problems related to credit reporting**, such as inaccurate credit reports showing late payments or increased balances without explanation.\\n5. **Struggles to understand or access loan terms**, including difficulty in obtaining clear loan information, interest calculations, or proper documentation.\\n6. **Issues with repayment plans**, including problems with payment options, interest accumulation during forbearance, or wrongful denials of forgiveness programs.\\n\\nWhile specific data on the absolute most common issue isn\\'t explicitly stated, the recurring themes in complaints indicate that **\"Dealing with your lender or servicer,\" especially issues related to incorrect information, poor communication, and management errors** is likely the most frequent problem.\\n\\nIf you need a more precise answer, I would say:\\n\\n**The most common issue with loans is problems related to the handling and communication from loan servicers, including errors in account information, mismanagement, and inadequate customer support.**'"
            ]
          },
          "execution_count": 39,
          "metadata": {},
          "output_type": "execute_result"
        }
      ],
      "source": [
        "ensemble_retrieval_chain.invoke({\"question\" : \"What is the most common issue with loans?\"})[\"response\"].content"
      ]
    },
    {
      "cell_type": "code",
      "execution_count": 40,
      "metadata": {
        "colab": {
          "base_uri": "https://localhost:8080/",
          "height": 53
        },
        "id": "MNFWLYECURI1",
        "outputId": "b17973b5-66a9-4481-97d5-880b5754b5c5"
      },
      "outputs": [
        {
          "data": {
            "text/plain": [
              "'Based on the provided complaints, yes, several complaints indicate that complaints did not get handled in a timely manner. Specifically:\\n\\n- Complaint ID 12935889 (Maximus Federal Services, NJ): The response was marked as \"No\" for timely response.\\n- Complaint ID 12668396 (MOHELA, NJ): The response was marked \"No\" for timely response.\\n- Complaint ID 12739706 (MOHELA, NJ): The response was marked \"No\" for timely response.\\n- Complaint ID 12650717 (MOHELA, NJ): The response was marked \"No\" for timely response.\\n\\nAdditionally, multiple other complaints mention delays in responses, failed follow-ups, or prolonged wait times, suggesting that a number of complaints were not handled in a timely manner.'"
            ]
          },
          "execution_count": 40,
          "metadata": {},
          "output_type": "execute_result"
        }
      ],
      "source": [
        "ensemble_retrieval_chain.invoke({\"question\" : \"Did any complaints not get handled in a timely manner?\"})[\"response\"].content"
      ]
    },
    {
      "cell_type": "code",
      "execution_count": 41,
      "metadata": {
        "colab": {
          "base_uri": "https://localhost:8080/",
          "height": 88
        },
        "id": "A7qbHfWgUR4c",
        "outputId": "f7373144-59ef-4fc7-b75d-ca00e7df881e"
      },
      "outputs": [
        {
          "data": {
            "text/plain": [
              "'People failed to pay back their loans primarily due to a combination of factors highlighted in the complaints:\\n\\n1. **Unfavorable repayment options and interest accumulation:** Borrowers were often limited to options like forbearance or deferment, which allowed interest to continue to accrue, making the total payoff amount grow over time and prolonging the repayment period.\\n\\n2. **Misleading or lack of clear information:** Many borrowers reported not being properly informed about interest capitalization, repayment options, loan transfers, or the true extent of their debt, leading to unawareness of their obligations or the growth of their balances.\\n\\n3. **Financial hardship and unrealistic expectations:** Borrowers took loans expecting to repay them easily after graduation, but stagnant wages, economic downturns, job instability, or health issues prevented them from making payments.\\n\\n4. **Servicer misconduct and poor communication:** Complaints include lack of notifications, mismanagement of payments, errors in loan balances, and misrepresented repayment status. This confusion and mismanagement make it difficult for borrowers to stay on track.\\n\\n5. **Problems with loan handling and transfer issues:** Multiple complaints mention loans being transferred or sold without proper notification, leading to missed payments, credit report errors, and difficulty managing or understanding loan status.\\n\\n6. **Inability to qualify for forgiveness programs:** Many borrowers were misled into or unaware of programs like income-driven repayment or loan rehabilitation, which could have made repayment manageable, but they did not get proper guidance.\\n\\n7. **Systemic issues and intentional steering:** Several complaints describe practices like forbearance steering, where borrowers are kept in long-term forbearance instead of being offered manageable repayment plans, leading to ballooning balances and default risks.\\n\\n8. **Technical and administrative errors:** Payment reversals, missing or incorrect reporting, and failure to notify borrowers about their account status cause confusion, credit damage, and sometimes forced defaults.\\n\\nOverall, the failure to pay back loans often stems from a mix of economic hardship, mismanagement by servicers, lack of transparent communication, and systemic issues leading to unmanageable debt accumulation.'"
            ]
          },
          "execution_count": 41,
          "metadata": {},
          "output_type": "execute_result"
        }
      ],
      "source": [
        "ensemble_retrieval_chain.invoke({\"question\" : \"Why did people fail to pay back their loans?\"})[\"response\"].content"
      ]
    },
    {
      "cell_type": "markdown",
      "metadata": {
        "id": "MopbkNJAXVaN"
      },
      "source": [
        "## Task 10: Semantic Chunking\n",
        "\n",
        "While this is not a retrieval method - it *is* an effective way of increasing retrieval performance on corpora that have clean semantic breaks in them.\n",
        "\n",
        "Essentially, Semantic Chunking is implemented by:\n",
        "\n",
        "1. Embedding all sentences in the corpus.\n",
        "2. Combining or splitting sequences of sentences based on their semantic similarity based on a number of [possible thresholding methods](https://python.langchain.com/docs/how_to/semantic-chunker/):\n",
        "  - `percentile`\n",
        "  - `standard_deviation`\n",
        "  - `interquartile`\n",
        "  - `gradient`\n",
        "3. Each sequence of related sentences is kept as a document!\n",
        "\n",
        "Let's see how to implement this!"
      ]
    },
    {
      "cell_type": "markdown",
      "metadata": {
        "id": "U9ciZbFEldv_"
      },
      "source": [
        "We'll use the `percentile` thresholding method for this example which will:\n",
        "\n",
        "Calculate all distances between sentences, and then break apart sequences of setences that exceed a given percentile among all distances."
      ]
    },
    {
      "cell_type": "code",
      "execution_count": 42,
      "metadata": {
        "id": "66EIEWiEYl5y"
      },
      "outputs": [],
      "source": [
        "from langchain_experimental.text_splitter import SemanticChunker\n",
        "\n",
        "semantic_chunker = SemanticChunker(\n",
        "    embeddings,\n",
        "    breakpoint_threshold_type=\"percentile\"\n",
        ")"
      ]
    },
    {
      "cell_type": "markdown",
      "metadata": {
        "id": "YqoKmz12mhRW"
      },
      "source": [
        "Now we can split our documents."
      ]
    },
    {
      "cell_type": "code",
      "execution_count": 43,
      "metadata": {
        "id": "ROcV7o68ZIq7"
      },
      "outputs": [],
      "source": [
        "semantic_documents = semantic_chunker.split_documents(loan_complaint_data[:20])"
      ]
    },
    {
      "cell_type": "markdown",
      "metadata": {
        "id": "L8-LNC-Xmjex"
      },
      "source": [
        "Let's create a new vector store."
      ]
    },
    {
      "cell_type": "code",
      "execution_count": 44,
      "metadata": {
        "id": "h3sl9QjyZhIe"
      },
      "outputs": [],
      "source": [
        "semantic_vectorstore = Qdrant.from_documents(\n",
        "    semantic_documents,\n",
        "    embeddings,\n",
        "    location=\":memory:\",\n",
        "    collection_name=\"Loan_Complaint_Data_Semantic_Chunks\"\n",
        ")"
      ]
    },
    {
      "cell_type": "markdown",
      "metadata": {
        "id": "Eh_r_-LHmmKn"
      },
      "source": [
        "We'll use naive retrieval for this example."
      ]
    },
    {
      "cell_type": "code",
      "execution_count": 45,
      "metadata": {
        "id": "odVyDUHwZftc"
      },
      "outputs": [],
      "source": [
        "semantic_retriever = semantic_vectorstore.as_retriever(search_kwargs={\"k\" : 10})"
      ]
    },
    {
      "cell_type": "markdown",
      "metadata": {
        "id": "Mkeiv_ojmp6G"
      },
      "source": [
        "Finally we can create our classic chain!"
      ]
    },
    {
      "cell_type": "code",
      "execution_count": 46,
      "metadata": {
        "id": "xWE_0J0mZveG"
      },
      "outputs": [],
      "source": [
        "semantic_retrieval_chain = (\n",
        "    {\"context\": itemgetter(\"question\") | semantic_retriever, \"question\": itemgetter(\"question\")}\n",
        "    | RunnablePassthrough.assign(context=itemgetter(\"context\"))\n",
        "    | {\"response\": rag_prompt | chat_model, \"context\": itemgetter(\"context\")}\n",
        ")"
      ]
    },
    {
      "cell_type": "markdown",
      "metadata": {
        "id": "R5pfjLQ3ms9_"
      },
      "source": [
        "And view the results!"
      ]
    },
    {
      "cell_type": "code",
      "execution_count": 47,
      "metadata": {
        "colab": {
          "base_uri": "https://localhost:8080/",
          "height": 70
        },
        "id": "0lN2j-e4Z0SD",
        "outputId": "ef483e21-7200-4dfc-b8bf-aed4f23587b2"
      },
      "outputs": [
        {
          "data": {
            "text/plain": [
              "'Based on the provided data, the most common issue with loans appears to be related to problems with loan servicing and communication. Many complaints involve difficulties in accurate reporting, understanding loan balances, payment processing, and administrative errors such as incorrect repayment amounts, delayed or missing notifications about servicer changes, and issues with auto-debit setups. While specific issues like loan repayment struggles and improper reporting are prominent, overall, administrative and communication-related problems with loan servicers seem to be the most frequent issues reported.'"
            ]
          },
          "execution_count": 47,
          "metadata": {},
          "output_type": "execute_result"
        }
      ],
      "source": [
        "semantic_retrieval_chain.invoke({\"question\" : \"What is the most common issue with loans?\"})[\"response\"].content"
      ]
    },
    {
      "cell_type": "code",
      "execution_count": 48,
      "metadata": {
        "colab": {
          "base_uri": "https://localhost:8080/",
          "height": 53
        },
        "id": "xdqfBH1SZ3f9",
        "outputId": "ed62b2d1-7586-46cc-aaf4-c54192a56155"
      },
      "outputs": [
        {
          "data": {
            "text/plain": [
              "'Based on the provided complaints, yes, there are multiple complaints indicating that complaints were not handled in a timely manner. Specifically, several complaints mention that the companies did not respond promptly or at all:\\n\\n- One complaint states that despite multiple letters and acknowledgment of receipt, Nelnet never responded to the complainant\\'s letters, indicating a lack of timely handling.\\n- Other complaints mention issues with delays or lack of response from companies like Maximus Federal Services and EdFinancial Services, although these are noted as responses being \"Closed with explanation,\" which might suggest the matter was resolved or closed without timely communication.\\n\\nTherefore, it appears that several complaints were not handled promptly or in a timely manner.'"
            ]
          },
          "execution_count": 48,
          "metadata": {},
          "output_type": "execute_result"
        }
      ],
      "source": [
        "semantic_retrieval_chain.invoke({\"question\" : \"Did any complaints not get handled in a timely manner?\"})[\"response\"].content"
      ]
    },
    {
      "cell_type": "code",
      "execution_count": 49,
      "metadata": {
        "colab": {
          "base_uri": "https://localhost:8080/",
          "height": 70
        },
        "id": "rAcAObZnZ4o6",
        "outputId": "3f1cade3-41e4-4e42-ef71-048dd18e5e3a"
      },
      "outputs": [
        {
          "data": {
            "text/plain": [
              "'People failed to pay back their loans for various reasons, including issues related to mismanagement, lack of transparency, and legal complications. Specific examples from the provided data include:\\n\\n- Difficulties in understanding or receiving proper information about their loan status or repayment obligations, leading to unintentional default.\\n- Problems with loan servicing processes, such as missing or unrecorded payments, technical errors, or miscommunication from servicers like Navient or Nelnet, which can result in being incorrectly reported as delinquent or in default.\\n- Disputes over the legitimacy of debt, especially when loans are reported as legally void or when there are breaches of privacy and legal violations by loan servicers or the Department of Education, causing confusion and hindering repayment efforts.\\n- In some cases, borrowers reported that their efforts to provide documentation or resolve issues were met with stall tactics or unhelpful responses, leading to frustration and an inability to meet repayment terms.\\n\\nOverall, failure to pay back loans was often due to administrative errors, lack of clear communication, legal disputes, or issues with the management and reporting of loans by servicing companies.'"
            ]
          },
          "execution_count": 49,
          "metadata": {},
          "output_type": "execute_result"
        }
      ],
      "source": [
        "semantic_retrieval_chain.invoke({\"question\" : \"Why did people fail to pay back their loans?\"})[\"response\"].content"
      ]
    },
    {
      "cell_type": "markdown",
      "metadata": {},
      "source": [
        "#### ❓ Question #3:\n",
        "\n",
        "If sentences are short and highly repetitive (e.g., FAQs), how might semantic chunking behave, and how would you adjust the algorithm?\n",
        "\n",
        "##### ✅ Answer:\n",
        "With short, repetitive sentences like FAQs, semantic chunking may face several challenges:\n",
        "\n",
        "1. Overlapping Embeddings: Similar/repetitive sentences will have very similar embeddings, making it harder to distinguish between chunks and potentially leading to redundant retrievals\n",
        "\n",
        "2. Loss of Context: Short sentences may lack sufficient context for the embedding model to capture meaningful semantic relationships\n",
        "\n",
        "3. Inefficient Chunking: The algorithm may create many small chunks that don't effectively group related content\n",
        "\n",
        "To address these issues, you could:\n",
        "\n",
        "Increase chunk size to capture more context around each FAQ\n",
        "Use custom chunking rules that keep question-answer pairs together\n",
        "Add metadata/tags to help distinguish between similar FAQs\n",
        "Consider alternative chunking strategies like combining related FAQs into topical groups\n",
        "Use hybrid retrieval approaches that combine semantic and keyword matching\n"
      ]
    },
    {
      "cell_type": "markdown",
      "metadata": {
        "id": "xk2n3-pnVWDJ"
      },
      "source": [
        "# 🤝 Breakout Room Part #2"
      ]
    },
    {
      "cell_type": "markdown",
      "metadata": {
        "id": "2SkJLYwMVZkj"
      },
      "source": [
        "#### 🏗️ Activity #1\n",
        "\n",
        "Your task is to evaluate the various Retriever methods against eachother.\n",
        "\n",
        "You are expected to:\n",
        "\n",
        "1. Create a \"golden dataset\"\n",
        " - Use Synthetic Data Generation (powered by Ragas, or otherwise) to create this dataset\n",
        "2. Evaluate each retriever with *retriever specific* Ragas metrics\n",
        " - Semantic Chunking is not considered a retriever method and will not be required for marks, but you may find it useful to do a \"semantic chunking on\" vs. \"semantic chunking off\" comparision between them\n",
        "3. Compile these in a list and write a small paragraph about which is best for this particular data and why.\n",
        "\n",
        "Your analysis should factor in:\n",
        "  - Cost\n",
        "  - Latency\n",
        "  - Performance\n",
        "\n",
        "> NOTE: This is **NOT** required to be completed in class. Please spend time in your breakout rooms creating a plan before moving on to writing code."
      ]
    },
    {
      "cell_type": "markdown",
      "metadata": {
        "id": "TWAr16a5XMub"
      },
      "source": [
        "##### HINTS:\n",
        "\n",
        "- LangSmith provides detailed information about latency and cost."
      ]
    },
    {
      "cell_type": "code",
      "execution_count": 51,
      "metadata": {
        "id": "tgDICngKXLGK"
      },
      "outputs": [],
      "source": [
        "from langchain_community.document_loaders import DirectoryLoader\n",
        "from langchain_community.document_loaders import PyMuPDFLoader\n",
        "\n",
        "\n",
        "path = \"data/\"\n",
        "loader = DirectoryLoader(path, glob=\"*.pdf\", loader_cls=PyMuPDFLoader)\n",
        "docs = loader.load()"
      ]
    },
    {
      "cell_type": "code",
      "execution_count": 54,
      "metadata": {},
      "outputs": [],
      "source": [
        "from ragas.llms import LangchainLLMWrapper\n",
        "from ragas.embeddings import LangchainEmbeddingsWrapper\n",
        "from langchain_openai import ChatOpenAI\n",
        "from langchain_openai import OpenAIEmbeddings\n",
        "generator_llm = LangchainLLMWrapper(ChatOpenAI(model=\"gpt-4.1\"))\n",
        "generator_embeddings = LangchainEmbeddingsWrapper(OpenAIEmbeddings())"
      ]
    },
    {
      "cell_type": "code",
      "execution_count": 57,
      "metadata": {},
      "outputs": [
        {
          "data": {
            "application/vnd.jupyter.widget-view+json": {
              "model_id": "ab10628e21fe4adaaf18a76239e93f37",
              "version_major": 2,
              "version_minor": 0
            },
            "text/plain": [
              "Applying HeadlinesExtractor:   0%|          | 0/17 [00:00<?, ?it/s]"
            ]
          },
          "metadata": {},
          "output_type": "display_data"
        },
        {
          "data": {
            "application/vnd.jupyter.widget-view+json": {
              "model_id": "c6a73f239beb433fa0c13c1458a9bdb0",
              "version_major": 2,
              "version_minor": 0
            },
            "text/plain": [
              "Applying HeadlineSplitter:   0%|          | 0/20 [00:00<?, ?it/s]"
            ]
          },
          "metadata": {},
          "output_type": "display_data"
        },
        {
          "name": "stderr",
          "output_type": "stream",
          "text": [
            "unable to apply transformation: 'headlines' property not found in this node\n",
            "unable to apply transformation: 'headlines' property not found in this node\n",
            "unable to apply transformation: 'headlines' property not found in this node\n"
          ]
        },
        {
          "data": {
            "application/vnd.jupyter.widget-view+json": {
              "model_id": "09d74f246bb1478c826ea536a7f7f685",
              "version_major": 2,
              "version_minor": 0
            },
            "text/plain": [
              "Applying SummaryExtractor:   0%|          | 0/31 [00:00<?, ?it/s]"
            ]
          },
          "metadata": {},
          "output_type": "display_data"
        },
        {
          "name": "stderr",
          "output_type": "stream",
          "text": [
            "Property 'summary' already exists in node '6d17f9'. Skipping!\n",
            "Property 'summary' already exists in node 'a9cc5c'. Skipping!\n",
            "Property 'summary' already exists in node '14dd9b'. Skipping!\n",
            "Property 'summary' already exists in node 'e907f3'. Skipping!\n",
            "Property 'summary' already exists in node 'f3298d'. Skipping!\n",
            "Property 'summary' already exists in node 'd02815'. Skipping!\n",
            "Property 'summary' already exists in node '1e1fea'. Skipping!\n",
            "Property 'summary' already exists in node '990718'. Skipping!\n",
            "Property 'summary' already exists in node 'd33e7f'. Skipping!\n",
            "Property 'summary' already exists in node '125488'. Skipping!\n",
            "Property 'summary' already exists in node '6c1c65'. Skipping!\n",
            "Property 'summary' already exists in node '1cc769'. Skipping!\n",
            "Property 'summary' already exists in node 'c56073'. Skipping!\n",
            "Property 'summary' already exists in node 'bd7040'. Skipping!\n"
          ]
        },
        {
          "data": {
            "application/vnd.jupyter.widget-view+json": {
              "model_id": "37429e9c6d724bc190b28e1e7dd26f7c",
              "version_major": 2,
              "version_minor": 0
            },
            "text/plain": [
              "Applying CustomNodeFilter:   0%|          | 0/6 [00:00<?, ?it/s]"
            ]
          },
          "metadata": {},
          "output_type": "display_data"
        },
        {
          "data": {
            "application/vnd.jupyter.widget-view+json": {
              "model_id": "f29c92cee3c34defa49d079a95f9c188",
              "version_major": 2,
              "version_minor": 0
            },
            "text/plain": [
              "Applying [EmbeddingExtractor, ThemesExtractor, NERExtractor]:   0%|          | 0/41 [00:00<?, ?it/s]"
            ]
          },
          "metadata": {},
          "output_type": "display_data"
        },
        {
          "name": "stderr",
          "output_type": "stream",
          "text": [
            "Property 'summary_embedding' already exists in node '1cc769'. Skipping!\n",
            "Property 'summary_embedding' already exists in node 'c56073'. Skipping!\n",
            "Property 'summary_embedding' already exists in node '990718'. Skipping!\n",
            "Property 'summary_embedding' already exists in node '6d17f9'. Skipping!\n",
            "Property 'summary_embedding' already exists in node 'e907f3'. Skipping!\n",
            "Property 'summary_embedding' already exists in node 'f3298d'. Skipping!\n",
            "Property 'summary_embedding' already exists in node 'bd7040'. Skipping!\n",
            "Property 'summary_embedding' already exists in node '1e1fea'. Skipping!\n",
            "Property 'summary_embedding' already exists in node '125488'. Skipping!\n",
            "Property 'summary_embedding' already exists in node 'd33e7f'. Skipping!\n",
            "Property 'summary_embedding' already exists in node '6c1c65'. Skipping!\n",
            "Property 'summary_embedding' already exists in node '14dd9b'. Skipping!\n",
            "Property 'summary_embedding' already exists in node 'd02815'. Skipping!\n",
            "Property 'summary_embedding' already exists in node 'a9cc5c'. Skipping!\n"
          ]
        },
        {
          "data": {
            "application/vnd.jupyter.widget-view+json": {
              "model_id": "811d847cfc004c25abb0d1b5f41f843d",
              "version_major": 2,
              "version_minor": 0
            },
            "text/plain": [
              "Applying [CosineSimilarityBuilder, OverlapScoreBuilder]:   0%|          | 0/2 [00:00<?, ?it/s]"
            ]
          },
          "metadata": {},
          "output_type": "display_data"
        },
        {
          "data": {
            "application/vnd.jupyter.widget-view+json": {
              "model_id": "5d57f2b06d7c4ecaa301fdca2d3c4247",
              "version_major": 2,
              "version_minor": 0
            },
            "text/plain": [
              "Generating personas:   0%|          | 0/3 [00:00<?, ?it/s]"
            ]
          },
          "metadata": {},
          "output_type": "display_data"
        },
        {
          "data": {
            "application/vnd.jupyter.widget-view+json": {
              "model_id": "290b63e75b9d449e895ae303c8dbdc3a",
              "version_major": 2,
              "version_minor": 0
            },
            "text/plain": [
              "Generating Scenarios:   0%|          | 0/3 [00:00<?, ?it/s]"
            ]
          },
          "metadata": {},
          "output_type": "display_data"
        },
        {
          "data": {
            "application/vnd.jupyter.widget-view+json": {
              "model_id": "4acb78c6f86b4cec9865b22e00bc2cb0",
              "version_major": 2,
              "version_minor": 0
            },
            "text/plain": [
              "Generating Samples:   0%|          | 0/12 [00:00<?, ?it/s]"
            ]
          },
          "metadata": {},
          "output_type": "display_data"
        }
      ],
      "source": [
        "from ragas.testset import TestsetGenerator\n",
        "\n",
        "generator = TestsetGenerator(\n",
        "    llm=generator_llm, embedding_model=generator_embeddings)\n",
        "dataset = generator.generate_with_langchain_docs(docs[:20], testset_size=10)"
      ]
    },
    {
      "cell_type": "code",
      "execution_count": 58,
      "metadata": {},
      "outputs": [
        {
          "data": {
            "text/html": [
              "<div>\n",
              "<style scoped>\n",
              "    .dataframe tbody tr th:only-of-type {\n",
              "        vertical-align: middle;\n",
              "    }\n",
              "\n",
              "    .dataframe tbody tr th {\n",
              "        vertical-align: top;\n",
              "    }\n",
              "\n",
              "    .dataframe thead th {\n",
              "        text-align: right;\n",
              "    }\n",
              "</style>\n",
              "<table border=\"1\" class=\"dataframe\">\n",
              "  <thead>\n",
              "    <tr style=\"text-align: right;\">\n",
              "      <th></th>\n",
              "      <th>user_input</th>\n",
              "      <th>reference_contexts</th>\n",
              "      <th>reference</th>\n",
              "      <th>synthesizer_name</th>\n",
              "    </tr>\n",
              "  </thead>\n",
              "  <tbody>\n",
              "    <tr>\n",
              "      <th>0</th>\n",
              "      <td>Howw doo the Pell Grant formulas 1, 2, or 3 ap...</td>\n",
              "      <td>[non-term (includes clock-hour calendars), or ...</td>\n",
              "      <td>In a subscription-based academic calendar, the...</td>\n",
              "      <td>single_hop_specifc_query_synthesizer</td>\n",
              "    </tr>\n",
              "    <tr>\n",
              "      <th>1</th>\n",
              "      <td>Whaat aree thee exseptions to thee normal disb...</td>\n",
              "      <td>[Inclusion of Clinical Work in a Standard Term...</td>\n",
              "      <td>See Volume 8, Chapter 3 for additional guidanc...</td>\n",
              "      <td>single_hop_specifc_query_synthesizer</td>\n",
              "    </tr>\n",
              "    <tr>\n",
              "      <th>2</th>\n",
              "      <td>How are credit-hours related to determining wh...</td>\n",
              "      <td>[Non-Term Characteristics A program that measu...</td>\n",
              "      <td>A program that measures progress in credit-hou...</td>\n",
              "      <td>single_hop_specifc_query_synthesizer</td>\n",
              "    </tr>\n",
              "    <tr>\n",
              "      <th>3</th>\n",
              "      <td>where i find examples in Appendix A?</td>\n",
              "      <td>[both the credit or clock hours and the weeks ...</td>\n",
              "      <td>The principles described above are illustrated...</td>\n",
              "      <td>single_hop_specifc_query_synthesizer</td>\n",
              "    </tr>\n",
              "    <tr>\n",
              "      <th>4</th>\n",
              "      <td>What are the disbursement requirements for fed...</td>\n",
              "      <td>[&lt;1-hop&gt;\\n\\nboth the credit or clock hours and...</td>\n",
              "      <td>In clock-hour or non-term credit-hour programs...</td>\n",
              "      <td>multi_hop_abstract_query_synthesizer</td>\n",
              "    </tr>\n",
              "  </tbody>\n",
              "</table>\n",
              "</div>"
            ],
            "text/plain": [
              "                                          user_input  \\\n",
              "0  Howw doo the Pell Grant formulas 1, 2, or 3 ap...   \n",
              "1  Whaat aree thee exseptions to thee normal disb...   \n",
              "2  How are credit-hours related to determining wh...   \n",
              "3               where i find examples in Appendix A?   \n",
              "4  What are the disbursement requirements for fed...   \n",
              "\n",
              "                                  reference_contexts  \\\n",
              "0  [non-term (includes clock-hour calendars), or ...   \n",
              "1  [Inclusion of Clinical Work in a Standard Term...   \n",
              "2  [Non-Term Characteristics A program that measu...   \n",
              "3  [both the credit or clock hours and the weeks ...   \n",
              "4  [<1-hop>\\n\\nboth the credit or clock hours and...   \n",
              "\n",
              "                                           reference  \\\n",
              "0  In a subscription-based academic calendar, the...   \n",
              "1  See Volume 8, Chapter 3 for additional guidanc...   \n",
              "2  A program that measures progress in credit-hou...   \n",
              "3  The principles described above are illustrated...   \n",
              "4  In clock-hour or non-term credit-hour programs...   \n",
              "\n",
              "                       synthesizer_name  \n",
              "0  single_hop_specifc_query_synthesizer  \n",
              "1  single_hop_specifc_query_synthesizer  \n",
              "2  single_hop_specifc_query_synthesizer  \n",
              "3  single_hop_specifc_query_synthesizer  \n",
              "4  multi_hop_abstract_query_synthesizer  "
            ]
          },
          "execution_count": 58,
          "metadata": {},
          "output_type": "execute_result"
        }
      ],
      "source": [
        "dataset.to_pandas().head()"
      ]
    },
    {
      "cell_type": "code",
      "execution_count": 59,
      "metadata": {},
      "outputs": [],
      "source": [
        "# Import required libraries for evaluation\n",
        "from ragas.metrics import ContextPrecision, ContextRecall, ContextRelevance\n",
        "from ragas import evaluate\n",
        "from ragas.llms import LangchainLLMWrapper\n",
        "from ragas.embeddings import LangchainEmbeddingsWrapper\n",
        "from ragas.dataset_schema import SingleTurnSample, EvaluationDataset\n",
        "import pandas as pd\n",
        "import time\n",
        "from langsmith import traceable\n",
        "from datetime import datetime\n",
        "import os\n",
        "import getpass"
      ]
    },
    {
      "cell_type": "code",
      "execution_count": 60,
      "metadata": {},
      "outputs": [
        {
          "name": "stdout",
          "output_type": "stream",
          "text": [
            "✅ LangSmith tracing enabled!\n",
            "📊 Project: retriever-evaluation-max\n",
            "🔗 Visit https://smith.langchain.com to view your traces\n"
          ]
        }
      ],
      "source": [
        "# # Get LangSmith API key\n",
        "# langsmith_key = getpass.getpass(\"LangSmith API Key:\")\n",
        "os.environ[\"LANGSMITH_API_KEY\"] = getpass.getpass(\"LangSmith API Key:\")\n",
        "\n",
        "# Enable LangSmith tracing\n",
        "os.environ[\"LANGSMITH_TRACING\"] = \"true\"\n",
        "os.environ[\"LANGSMITH_PROJECT\"] = \"retriever-evaluation-max\"\n",
        "\n",
        "print(\"✅ LangSmith tracing enabled!\")\n",
        "print(f\"📊 Project: {os.environ['LANGSMITH_PROJECT']}\")\n",
        "print(\"🔗 Visit https://smith.langchain.com to view your traces\")"
      ]
    },
    {
      "cell_type": "code",
      "execution_count": 61,
      "metadata": {},
      "outputs": [
        {
          "name": "stdout",
          "output_type": "stream",
          "text": [
            "RAGAS evaluator setup complete!\n"
          ]
        }
      ],
      "source": [
        "evaluator_llm = LangchainLLMWrapper(ChatOpenAI(model=\"gpt-4.1-mini\"))\n",
        "evaluator_embeddings = LangchainEmbeddingsWrapper(OpenAIEmbeddings())\n",
        "\n",
        "# Define RAGAS metrics for retriever evaluation\n",
        "ragas_metrics = [\n",
        "    ContextPrecision(llm=evaluator_llm),\n",
        "    ContextRecall(llm=evaluator_llm), \n",
        "    ContextRelevance(llm=evaluator_llm)\n",
        "]\n",
        "\n",
        "print(\"RAGAS evaluator setup complete!\")"
      ]
    },
    {
      "cell_type": "code",
      "execution_count": 62,
      "metadata": {},
      "outputs": [
        {
          "name": "stdout",
          "output_type": "stream",
          "text": [
            "Created 12 evaluation samples\n",
            "Sample structure: dict_keys(['user_input', 'reference_contexts', 'reference'])\n"
          ]
        }
      ],
      "source": [
        "# Convert the generated dataset to RAGAS format\n",
        "test_df = dataset.to_pandas()\n",
        "\n",
        "# Create evaluation samples from the test dataset\n",
        "evaluation_samples = []\n",
        "for idx, row in test_df.iterrows():\n",
        "    sample = {\n",
        "        'user_input': row['user_input'],\n",
        "        'reference_contexts': row['reference_contexts'],\n",
        "        'reference': row['reference']\n",
        "    }\n",
        "    evaluation_samples.append(sample)\n",
        "\n",
        "print(f\"Created {len(evaluation_samples)} evaluation samples\")\n",
        "print(\"Sample structure:\", evaluation_samples[0].keys())"
      ]
    },
    {
      "cell_type": "code",
      "execution_count": 64,
      "metadata": {},
      "outputs": [
        {
          "data": {
            "text/plain": [
              "[{'user_input': 'Howw doo the Pell Grant formulas 1, 2, or 3 applyy to subscription-based academic calendars?',\n",
              "  'reference_contexts': ['non-term (includes clock-hour calendars), or subscription-based. In a standard term or nonstandard term academic calendar, a term is generally a period in which all classes are scheduled to begin and end within a set time frame, and academic progress is measured in credit hours. In a non-term academic calendar, classes do not begin and end within a set time frame, such as a term. Academic progress in a non-term program can be measured in either credit or clock hours. In some cases (as discussed below), a program with terms must be treated as a non-term program for Title IV purposes. A subscription-based academic calendar is used only by subscription-based programs. A subscription-based program is a term-based program in which the school charges a student for each term on a subscription basis with the expectation that the student will complete a specified number of credit hours (or the equivalent) during that term. However, classes in a subscription-based program are not required to begin or end within a specific timeframe in each term, as is the case in a term-based calendar that is not subscription-based. For more detail on subscription-based programs, see Volume 2, Chapter 2. A subscription-based academic calendar consists of \"subscription periods\" that are either standard terms or substantially equal nonstandard terms (for guidance on when terms are considered to be substantially equal in length, see <Payment periods for programs using standard terms or substantially equal nonstandard terms= later in this chapter). Substantially equal nonstandard terms may be of any length, but if they are not at least nine weeks in length, the program must use BBAY 3 for purposes of monitoring Direct Loan annual loan limit progression (see Volume 8, Chapter 6 for more information on BBAY 3). Nonstandard terms that are not substantially equal in length are not permissible in a subscription-based academic calendar. The term \"subscription period\" is synonymous with \"term\" and \"payment period\" (payment periods are covered later in this chapter). Except for the fact that classes are not required to start and end within a term, the rules and requirements for term-based programs that are not subscription-based also apply to subscription-based programs. These requirements include: minimum and maximum term length restrictions for standard terms (see the discussion in the next section of this chapter); requirements for determining full-time enrollment (see Volume 1, Chapter 1); use of a Scheduled Academic Year (SAY), BBAY 1, BBAY 2, or BBAY 3 for monitoring Direct Loan annual loan limit progression (see Volume 8, Chapter 6); and use of Pell Grant formulas 1, 2, or 3 to calculate Pell Grant awards (see Volume 7, Chapter 4). Whether an academic calendar is standard term, nonstandard term, non-term, or subscription-based has implications for how aid is awarded and disbursed under the Title IV programs. Standard Terms: Semesters, Trimesters, and Quarters Semesters and trimesters contain between 14 and 21 weeks of instructional time. However, a summer term in a program using semesters or trimesters may contain fewer than 14 weeks. An academic calendar that uses semesters or trimesters traditionally has three terms, one each in the fall, spring, and summer, two of which comprise an academic year. For example, in a program using an SAY calendar, fall and spring would comprise an academic year. In a program using a'],\n",
              "  'reference': 'In a subscription-based academic calendar, the rules and requirements for term-based programs that are not subscription-based also apply, including the use of Pell Grant formulas 1, 2, or 3 to calculate Pell Grant awards.'},\n",
              " {'user_input': 'Whaat aree thee exseptions to thee normal disbursment timingg rules for Direct Loanss whenn clinical workk thatt meetss thee criteriia describedd abovee is includedd in a standard termm, andd howw doess thiss affectt compliancee forr financial aid administrattors?',\n",
              "  'reference_contexts': ['Inclusion of Clinical Work in a Standard Term Periods of medical and education program clinical work which is conducted outside the classroom may not be included in a standard term, unless all of the following apply: All students in the program must participate in the practicum or clinical experience, and they must be required to complete the practicum or clinical experience as a condition for applying for licensure or authorization to practice the occupation they intend to pursue; The school has little or no control over the length or starting and ending dates of the practicum or clinical experience. This may be due to constraints imposed by outside licensing bodies or the need to accommodate schedules of entities with which students are being placed (e.g., school districts or hospitals); and Credit hours associated with the practicum or clinical experience must be associated with the term in which most of the training occurs, even if the starting and ending dates do not exactly align with the term dates and/or overlap with another term. If the clinical work meets all the above criteria, terms which include such clinical work are not required to be considered nonstandard, nor are such programs required to be considered non-term, even if the clinical work overlaps another term. This flexibility is limited to required clinical periods associated with standard term programs in medicine (including, but not limited to, allopathic, osteopathic, nursing, veterinary, dentistry, pharmacy, and physical therapy), and student teaching required to obtain a state teaching certificate. See Volume 8, Chapter 3 for additional guidance on certain exceptions to the normal loan period and disbursement timing rules for Direct Loans when clinical work that meets the criteria described above is included in a standard term. Nonstandard Terms Generally, nonstandard terms are terms that are not semesters, trimesters, or quarters. For example, a 5-week term or a 23-week term would be considered a nonstandard term because no standard term can be fewer than nine weeks or greater than 21 weeks in length. Like standard terms, nonstandard terms may be equal in length or may be of different lengths. If a program is offered in a combination of standard terms and nonstandard terms, the program is considered to be offered in nonstandard terms. Also, like standard terms, nonstandard terms may not overlap within a program. Even if a school calls its terms semesters, trimesters, or quarters, they are considered to be nonstandard terms if they do not comply with the policy on standard term length, as described earlier. For instance, a 22-week semester or an 8-week quarter must be treated as a nonstandard term, because a semester cannot contain more than 21 weeks and a quarter must include a minimum of nine weeks. Semesters, trimesters, or quarters are also considered to be nonstandard terms if academic progress is not measured in the manner normally associated with the type of term. For example, if a program is offered in 15-week semesters but measures academic progress in quarter credit hours, the semesters would be considered nonstandard terms.'],\n",
              "  'reference': 'See Volume 8, Chapter 3 for additional guidance on certain exceptions to the normal loan period and disbursement timing rules for Direct Loans when clinical work that meets the criteria described above is included in a standard term.'},\n",
              " {'user_input': 'How are credit-hours related to determining whether a program is considered non-term?',\n",
              "  'reference_contexts': ['Non-Term Characteristics A program that measures progress in clock hours is always treated as a non-term program. Except for subscription-based programs, a program that measures progress in credit-hours is considered to have a non- term calendar if it has: Courses that do not begin and end within a set period of time such as a term; Courses that overlap terms; Self-paced and independent study courses that overlap terms; or Sequential courses that do not begin and end within a term. Payment Periods The payment period is applicable to all Title IV programs except the Federal Work-Study (FWS) Program. For example, Title IV program disbursements (except FWS payments) must be made on a payment period basis, as discussed in detail'],\n",
              "  'reference': 'A program that measures progress in credit-hours is considered to have a non-term calendar if it includes courses that do not begin and end within a set period of time such as a term, courses that overlap terms, self-paced and independent study courses that overlap terms, or sequential courses that do not begin and end within a term.'},\n",
              " {'user_input': 'where i find examples in Appendix A?',\n",
              "  'reference_contexts': ['both the credit or clock hours and the weeks of instructional time in a payment period before receiving a disbursement of Pell Grant, FSEOG, TEACH Grant or Direct Loan funds for the next payment period. For the Direct Loan Program only, this same requirement applies to students who are enrolled in programs with nonstandard terms that are not substantially equal in length. Effect of Accelerated Progression on Disbursement Timing in a Clock-Hour or Non-Term Credit-Hour Program The Pell Grant or TEACH Grant amount that a student is eligible to receive for a payment period in a clock-hour or non- term credit-hour program is based on the number of hours and weeks in the scheduled payment periods for the program that are established at the beginning of the program based on the program length (as described earlier in this chapter). These scheduled payment periods do not change, regardless of a student9s rate of progression through a clock-hour or non-term credit-hour program. This means that if a student completes additional weeks of instructional time or hours while completing the other measure of a payment period, the actual number of weeks or hours that the student completes before a disbursement can be made for the next payment period may differ from the number of weeks or hours in the scheduled payment period used to determine the student9s grant amount for the payment period. Although a student9s completion of additional weeks or hours in a payment period has no effect on the scheduled payment periods for purposes of determining Pell Grant and TEACH Grant payment amounts, an undergraduate student who accelerates in a clock-hour or non-term credit-hour program may have reduced Direct Loan eligibility in the final academic year of a program. Specifically, if a student enrolled in a program that is greater than one academic year in length completes additional clock or credit hours prior to the final academic year of the program, this may result in a final period of study that contains fewer clock or credit hours than the number of hours in the program9s defined academic year. In this circumstance, the Direct Loan annual loan limit for an undergraduate student must be prorated (reduced). The principles described above are illustrated by the examples in Appendix A at the end of this chapter. For guidance on calculating Pell Grant and TEACH Grant awards for clock-hour and non-term credit-hour programs, see Volume 7. For information on Direct Loan annual loan limit proration and annual loan limit progression in clock-hour and non-term credit- hour programs, see Volume 8, Chapters 5 and 6. If your school is unable to determine when a student has successfully completed half of the credit or clock hours in a program, academic year, or remainder of a program, the student is considered to have begun the second payment period of the program, academic year, or remainder of a program at the later of the date (identified by your school) that the student has successfully completed: half of the academic coursework in the program, academic year, or remainder of the program; or half of the number of weeks of instructional time in the program, academic year, or remainder of the program.'],\n",
              "  'reference': 'The principles described above are illustrated by the examples in Appendix A at the end of this chapter.'},\n",
              " {'user_input': 'What are the disbursement requirements for federal student aid programs, specifically Pell Grant, TEACH Grant, and Direct Loan, in both clock-hour or non-term credit-hour programs and subscription-based programs, and how does the timing of disbursement differ between these program types?',\n",
              "  'reference_contexts': ['<1-hop>\\n\\nboth the credit or clock hours and the weeks of instructional time in a payment period before receiving a disbursement of Pell Grant, FSEOG, TEACH Grant or Direct Loan funds for the next payment period. For the Direct Loan Program only, this same requirement applies to students who are enrolled in programs with nonstandard terms that are not substantially equal in length. Effect of Accelerated Progression on Disbursement Timing in a Clock-Hour or Non-Term Credit-Hour Program The Pell Grant or TEACH Grant amount that a student is eligible to receive for a payment period in a clock-hour or non- term credit-hour program is based on the number of hours and weeks in the scheduled payment periods for the program that are established at the beginning of the program based on the program length (as described earlier in this chapter). These scheduled payment periods do not change, regardless of a student9s rate of progression through a clock-hour or non-term credit-hour program. This means that if a student completes additional weeks of instructional time or hours while completing the other measure of a payment period, the actual number of weeks or hours that the student completes before a disbursement can be made for the next payment period may differ from the number of weeks or hours in the scheduled payment period used to determine the student9s grant amount for the payment period. Although a student9s completion of additional weeks or hours in a payment period has no effect on the scheduled payment periods for purposes of determining Pell Grant and TEACH Grant payment amounts, an undergraduate student who accelerates in a clock-hour or non-term credit-hour program may have reduced Direct Loan eligibility in the final academic year of a program. Specifically, if a student enrolled in a program that is greater than one academic year in length completes additional clock or credit hours prior to the final academic year of the program, this may result in a final period of study that contains fewer clock or credit hours than the number of hours in the program9s defined academic year. In this circumstance, the Direct Loan annual loan limit for an undergraduate student must be prorated (reduced). The principles described above are illustrated by the examples in Appendix A at the end of this chapter. For guidance on calculating Pell Grant and TEACH Grant awards for clock-hour and non-term credit-hour programs, see Volume 7. For information on Direct Loan annual loan limit proration and annual loan limit progression in clock-hour and non-term credit- hour programs, see Volume 8, Chapters 5 and 6. If your school is unable to determine when a student has successfully completed half of the credit or clock hours in a program, academic year, or remainder of a program, the student is considered to have begun the second payment period of the program, academic year, or remainder of a program at the later of the date (identified by your school) that the student has successfully completed: half of the academic coursework in the program, academic year, or remainder of the program; or half of the number of weeks of instructional time in the program, academic year, or remainder of the program.',\n",
              "   '<2-hop>\\n\\nDisbursement Timing in Subscription-Based Programs For the first two subscription periods (terms) that a student attends in a subscription-based program, there is no requirement for the student to have completed a certain amount of coursework before receiving a disbursement of Title IV funds (the same as in any other term-based program using credit hours). However, to receive a disbursement of Title IV aid for each subsequent subscription period in the program, the student must have completed a cumulative number of credit hours equal to the total of the number of hours for which the student was enrolled in all previously attended subscription periods in the program, excluding the number of hours for which the student was enrolled in the most recently attended subscription period. For more detailed guidance on the disbursement rules for subscription-based programs, including examples, refer to Appendix B at the end of this chapter. Multiple Disbursements Within a Payment Period The regulations governing the Title IV programs generally permit schools to pay Title IV funds at such times and in such installments within each payment period as will best meet students9 needs. This gives schools the ability to apportion the payment if doing so will be in the best interest of the student. For example, if a payment period is particularly long, a school might choose to pay in multiple installments to the extent program requirements permit to ensure that a student will have funds to pay rent later in the payment period. If a school chooses to schedule multiple Direct Loan disbursements within a single payment period, the disbursements must be substantially equal. Note also that if the loan period for a Direct Loan is a single payment period, the loan must be disbursed in at least two installments unless the school qualifies for an exception to the multiple disbursement requirement. See Volume 8, Chapter 3 for more'],\n",
              "  'reference': 'In clock-hour or non-term credit-hour programs, students must complete both the required credit or clock hours and the weeks of instructional time in a payment period before receiving a disbursement of Pell Grant, FSEOG, TEACH Grant, or Direct Loan funds for the next payment period. The scheduled payment periods are established at the beginning of the program and do not change based on a student’s rate of progression. If a student accelerates and completes additional weeks or hours, this does not affect the scheduled payment periods for Pell Grant and TEACH Grant amounts, but may result in reduced Direct Loan eligibility in the final academic year if the last period contains fewer hours than the defined academic year, requiring proration of the annual loan limit. In subscription-based programs, for the first two subscription periods, there is no requirement for completion of a certain amount of coursework before disbursement of Title IV funds. For subsequent subscription periods, the student must have completed a cumulative number of credit hours equal to the total hours enrolled in all previously attended subscription periods, excluding the most recent one, to receive further disbursements. Additionally, schools may choose to make multiple disbursements within a payment period, provided they are substantially equal, and if the loan period is a single payment period, the Direct Loan must be disbursed in at least two installments unless an exception applies.'},\n",
              " {'user_input': 'What are the disbursement requirements for federal student aid programs in clock-hour or non-term credit-hour programs compared to the disbursement timing in subscription-based programs, and how do these requirements affect when students can receive their aid?',\n",
              "  'reference_contexts': ['<1-hop>\\n\\nboth the credit or clock hours and the weeks of instructional time in a payment period before receiving a disbursement of Pell Grant, FSEOG, TEACH Grant or Direct Loan funds for the next payment period. For the Direct Loan Program only, this same requirement applies to students who are enrolled in programs with nonstandard terms that are not substantially equal in length. Effect of Accelerated Progression on Disbursement Timing in a Clock-Hour or Non-Term Credit-Hour Program The Pell Grant or TEACH Grant amount that a student is eligible to receive for a payment period in a clock-hour or non- term credit-hour program is based on the number of hours and weeks in the scheduled payment periods for the program that are established at the beginning of the program based on the program length (as described earlier in this chapter). These scheduled payment periods do not change, regardless of a student9s rate of progression through a clock-hour or non-term credit-hour program. This means that if a student completes additional weeks of instructional time or hours while completing the other measure of a payment period, the actual number of weeks or hours that the student completes before a disbursement can be made for the next payment period may differ from the number of weeks or hours in the scheduled payment period used to determine the student9s grant amount for the payment period. Although a student9s completion of additional weeks or hours in a payment period has no effect on the scheduled payment periods for purposes of determining Pell Grant and TEACH Grant payment amounts, an undergraduate student who accelerates in a clock-hour or non-term credit-hour program may have reduced Direct Loan eligibility in the final academic year of a program. Specifically, if a student enrolled in a program that is greater than one academic year in length completes additional clock or credit hours prior to the final academic year of the program, this may result in a final period of study that contains fewer clock or credit hours than the number of hours in the program9s defined academic year. In this circumstance, the Direct Loan annual loan limit for an undergraduate student must be prorated (reduced). The principles described above are illustrated by the examples in Appendix A at the end of this chapter. For guidance on calculating Pell Grant and TEACH Grant awards for clock-hour and non-term credit-hour programs, see Volume 7. For information on Direct Loan annual loan limit proration and annual loan limit progression in clock-hour and non-term credit- hour programs, see Volume 8, Chapters 5 and 6. If your school is unable to determine when a student has successfully completed half of the credit or clock hours in a program, academic year, or remainder of a program, the student is considered to have begun the second payment period of the program, academic year, or remainder of a program at the later of the date (identified by your school) that the student has successfully completed: half of the academic coursework in the program, academic year, or remainder of the program; or half of the number of weeks of instructional time in the program, academic year, or remainder of the program.',\n",
              "   '<2-hop>\\n\\nDisbursement Timing in Subscription-Based Programs For the first two subscription periods (terms) that a student attends in a subscription-based program, there is no requirement for the student to have completed a certain amount of coursework before receiving a disbursement of Title IV funds (the same as in any other term-based program using credit hours). However, to receive a disbursement of Title IV aid for each subsequent subscription period in the program, the student must have completed a cumulative number of credit hours equal to the total of the number of hours for which the student was enrolled in all previously attended subscription periods in the program, excluding the number of hours for which the student was enrolled in the most recently attended subscription period. For more detailed guidance on the disbursement rules for subscription-based programs, including examples, refer to Appendix B at the end of this chapter. Multiple Disbursements Within a Payment Period The regulations governing the Title IV programs generally permit schools to pay Title IV funds at such times and in such installments within each payment period as will best meet students9 needs. This gives schools the ability to apportion the payment if doing so will be in the best interest of the student. For example, if a payment period is particularly long, a school might choose to pay in multiple installments to the extent program requirements permit to ensure that a student will have funds to pay rent later in the payment period. If a school chooses to schedule multiple Direct Loan disbursements within a single payment period, the disbursements must be substantially equal. Note also that if the loan period for a Direct Loan is a single payment period, the loan must be disbursed in at least two installments unless the school qualifies for an exception to the multiple disbursement requirement. See Volume 8, Chapter 3 for more'],\n",
              "  'reference': 'In clock-hour or non-term credit-hour programs, students must complete both the required credit or clock hours and the weeks of instructional time in a payment period before receiving a disbursement of Pell Grant, FSEOG, TEACH Grant, or Direct Loan funds for the next payment period. The scheduled payment periods are established at the beginning of the program and do not change based on a student’s rate of progression. In contrast, for subscription-based programs, there is no requirement for students to complete a certain amount of coursework before receiving a disbursement of Title IV funds for the first two subscription periods. However, for each subsequent subscription period, students must have completed a cumulative number of credit hours equal to the total hours for which they were enrolled in all previously attended subscription periods, excluding the most recently attended period. These differing requirements determine when students are eligible to receive their federal student aid disbursements in each program type.'},\n",
              " {'user_input': 'Considering the disbursement requirements for federal student aid programs, how do the disbursement timing rules differ between clock-hour or non-term credit-hour programs and subscription-based programs, particularly regarding the completion of coursework or credit hours before receiving subsequent disbursements?',\n",
              "  'reference_contexts': ['<1-hop>\\n\\nboth the credit or clock hours and the weeks of instructional time in a payment period before receiving a disbursement of Pell Grant, FSEOG, TEACH Grant or Direct Loan funds for the next payment period. For the Direct Loan Program only, this same requirement applies to students who are enrolled in programs with nonstandard terms that are not substantially equal in length. Effect of Accelerated Progression on Disbursement Timing in a Clock-Hour or Non-Term Credit-Hour Program The Pell Grant or TEACH Grant amount that a student is eligible to receive for a payment period in a clock-hour or non- term credit-hour program is based on the number of hours and weeks in the scheduled payment periods for the program that are established at the beginning of the program based on the program length (as described earlier in this chapter). These scheduled payment periods do not change, regardless of a student9s rate of progression through a clock-hour or non-term credit-hour program. This means that if a student completes additional weeks of instructional time or hours while completing the other measure of a payment period, the actual number of weeks or hours that the student completes before a disbursement can be made for the next payment period may differ from the number of weeks or hours in the scheduled payment period used to determine the student9s grant amount for the payment period. Although a student9s completion of additional weeks or hours in a payment period has no effect on the scheduled payment periods for purposes of determining Pell Grant and TEACH Grant payment amounts, an undergraduate student who accelerates in a clock-hour or non-term credit-hour program may have reduced Direct Loan eligibility in the final academic year of a program. Specifically, if a student enrolled in a program that is greater than one academic year in length completes additional clock or credit hours prior to the final academic year of the program, this may result in a final period of study that contains fewer clock or credit hours than the number of hours in the program9s defined academic year. In this circumstance, the Direct Loan annual loan limit for an undergraduate student must be prorated (reduced). The principles described above are illustrated by the examples in Appendix A at the end of this chapter. For guidance on calculating Pell Grant and TEACH Grant awards for clock-hour and non-term credit-hour programs, see Volume 7. For information on Direct Loan annual loan limit proration and annual loan limit progression in clock-hour and non-term credit- hour programs, see Volume 8, Chapters 5 and 6. If your school is unable to determine when a student has successfully completed half of the credit or clock hours in a program, academic year, or remainder of a program, the student is considered to have begun the second payment period of the program, academic year, or remainder of a program at the later of the date (identified by your school) that the student has successfully completed: half of the academic coursework in the program, academic year, or remainder of the program; or half of the number of weeks of instructional time in the program, academic year, or remainder of the program.',\n",
              "   '<2-hop>\\n\\nDisbursement Timing in Subscription-Based Programs For the first two subscription periods (terms) that a student attends in a subscription-based program, there is no requirement for the student to have completed a certain amount of coursework before receiving a disbursement of Title IV funds (the same as in any other term-based program using credit hours). However, to receive a disbursement of Title IV aid for each subsequent subscription period in the program, the student must have completed a cumulative number of credit hours equal to the total of the number of hours for which the student was enrolled in all previously attended subscription periods in the program, excluding the number of hours for which the student was enrolled in the most recently attended subscription period. For more detailed guidance on the disbursement rules for subscription-based programs, including examples, refer to Appendix B at the end of this chapter. Multiple Disbursements Within a Payment Period The regulations governing the Title IV programs generally permit schools to pay Title IV funds at such times and in such installments within each payment period as will best meet students9 needs. This gives schools the ability to apportion the payment if doing so will be in the best interest of the student. For example, if a payment period is particularly long, a school might choose to pay in multiple installments to the extent program requirements permit to ensure that a student will have funds to pay rent later in the payment period. If a school chooses to schedule multiple Direct Loan disbursements within a single payment period, the disbursements must be substantially equal. Note also that if the loan period for a Direct Loan is a single payment period, the loan must be disbursed in at least two installments unless the school qualifies for an exception to the multiple disbursement requirement. See Volume 8, Chapter 3 for more'],\n",
              "  'reference': \"In clock-hour or non-term credit-hour programs, students must complete both the required credit or clock hours and the weeks of instructional time in a payment period before they can receive a disbursement of Pell Grant, FSEOG, TEACH Grant, or Direct Loan funds for the next payment period. The scheduled payment periods are established at the beginning of the program and do not change based on a student's rate of progression. If a student completes additional weeks or hours, it does not affect the scheduled payment periods for determining grant amounts, but it may impact Direct Loan eligibility in the final academic year if the final period contains fewer hours than the defined academic year, requiring proration of the loan limit. In contrast, for subscription-based programs, there is no requirement for students to complete a certain amount of coursework before receiving a disbursement of Title IV funds for the first two subscription periods. However, for each subsequent subscription period, the student must have completed a cumulative number of credit hours equal to the total number of hours for which they were enrolled in all previously attended subscription periods, excluding the most recently attended period, before receiving additional disbursements. Thus, while clock-hour and non-term credit-hour programs require completion of both hours and weeks for each payment period, subscription-based programs impose cumulative credit hour completion requirements only after the first two subscription periods.\"},\n",
              " {'user_input': 'if a school got clinical or practicum experiences that students gotta do for licensure, and the school got terms that sometimes overlap cause of outside schedules, but the clinical work is required for all students, does that mean the program is non-term or nonstandard term, and how does that compare to a program that got non-term characteristics like courses not starting and ending in a set period or overlapping terms?',\n",
              "  'reference_contexts': ['<1-hop>\\n\\nInclusion of Clinical Work in a Standard Term Periods of medical and education program clinical work which is conducted outside the classroom may not be included in a standard term, unless all of the following apply: All students in the program must participate in the practicum or clinical experience, and they must be required to complete the practicum or clinical experience as a condition for applying for licensure or authorization to practice the occupation they intend to pursue; The school has little or no control over the length or starting and ending dates of the practicum or clinical experience. This may be due to constraints imposed by outside licensing bodies or the need to accommodate schedules of entities with which students are being placed (e.g., school districts or hospitals); and Credit hours associated with the practicum or clinical experience must be associated with the term in which most of the training occurs, even if the starting and ending dates do not exactly align with the term dates and/or overlap with another term. If the clinical work meets all the above criteria, terms which include such clinical work are not required to be considered nonstandard, nor are such programs required to be considered non-term, even if the clinical work overlaps another term. This flexibility is limited to required clinical periods associated with standard term programs in medicine (including, but not limited to, allopathic, osteopathic, nursing, veterinary, dentistry, pharmacy, and physical therapy), and student teaching required to obtain a state teaching certificate. See Volume 8, Chapter 3 for additional guidance on certain exceptions to the normal loan period and disbursement timing rules for Direct Loans when clinical work that meets the criteria described above is included in a standard term. Nonstandard Terms Generally, nonstandard terms are terms that are not semesters, trimesters, or quarters. For example, a 5-week term or a 23-week term would be considered a nonstandard term because no standard term can be fewer than nine weeks or greater than 21 weeks in length. Like standard terms, nonstandard terms may be equal in length or may be of different lengths. If a program is offered in a combination of standard terms and nonstandard terms, the program is considered to be offered in nonstandard terms. Also, like standard terms, nonstandard terms may not overlap within a program. Even if a school calls its terms semesters, trimesters, or quarters, they are considered to be nonstandard terms if they do not comply with the policy on standard term length, as described earlier. For instance, a 22-week semester or an 8-week quarter must be treated as a nonstandard term, because a semester cannot contain more than 21 weeks and a quarter must include a minimum of nine weeks. Semesters, trimesters, or quarters are also considered to be nonstandard terms if academic progress is not measured in the manner normally associated with the type of term. For example, if a program is offered in 15-week semesters but measures academic progress in quarter credit hours, the semesters would be considered nonstandard terms.',\n",
              "   '<2-hop>\\n\\nNon-Term Characteristics A program that measures progress in clock hours is always treated as a non-term program. Except for subscription-based programs, a program that measures progress in credit-hours is considered to have a non- term calendar if it has: Courses that do not begin and end within a set period of time such as a term; Courses that overlap terms; Self-paced and independent study courses that overlap terms; or Sequential courses that do not begin and end within a term. Payment Periods The payment period is applicable to all Title IV programs except the Federal Work-Study (FWS) Program. For example, Title IV program disbursements (except FWS payments) must be made on a payment period basis, as discussed in detail'],\n",
              "  'reference': 'if all students in a program gotta do clinical or practicum experiences for licensure, and the school don’t control the length or dates cause of outside stuff like hospitals, and the credit hours go with the term where most training happens, then even if the clinical work overlaps another term, the program don’t gotta be non-term or nonstandard term, it can still be standard term. but if a program got stuff like courses that don’t start and end in a set period, or courses that overlap terms, or self-paced courses that overlap, or sequential courses not fitting in a term, then that program is considered non-term. so, required clinical work with overlapping terms don’t make a program non-term if it meets all the rules, but if the program got non-term characteristics like courses not matching up with terms, then it’s non-term.'},\n",
              " {'user_input': 'Wherre in Volume 8, Chapter 3 can I find guidanse on disbursement timing for subscription-based programs and exceptions for Direct Loan disbursement rules when clinical work is included in a standard term?',\n",
              "  'reference_contexts': ['<1-hop>\\n\\nDisbursement Timing in Subscription-Based Programs For the first two subscription periods (terms) that a student attends in a subscription-based program, there is no requirement for the student to have completed a certain amount of coursework before receiving a disbursement of Title IV funds (the same as in any other term-based program using credit hours). However, to receive a disbursement of Title IV aid for each subsequent subscription period in the program, the student must have completed a cumulative number of credit hours equal to the total of the number of hours for which the student was enrolled in all previously attended subscription periods in the program, excluding the number of hours for which the student was enrolled in the most recently attended subscription period. For more detailed guidance on the disbursement rules for subscription-based programs, including examples, refer to Appendix B at the end of this chapter. Multiple Disbursements Within a Payment Period The regulations governing the Title IV programs generally permit schools to pay Title IV funds at such times and in such installments within each payment period as will best meet students9 needs. This gives schools the ability to apportion the payment if doing so will be in the best interest of the student. For example, if a payment period is particularly long, a school might choose to pay in multiple installments to the extent program requirements permit to ensure that a student will have funds to pay rent later in the payment period. If a school chooses to schedule multiple Direct Loan disbursements within a single payment period, the disbursements must be substantially equal. Note also that if the loan period for a Direct Loan is a single payment period, the loan must be disbursed in at least two installments unless the school qualifies for an exception to the multiple disbursement requirement. See Volume 8, Chapter 3 for more',\n",
              "   '<2-hop>\\n\\nInclusion of Clinical Work in a Standard Term Periods of medical and education program clinical work which is conducted outside the classroom may not be included in a standard term, unless all of the following apply: All students in the program must participate in the practicum or clinical experience, and they must be required to complete the practicum or clinical experience as a condition for applying for licensure or authorization to practice the occupation they intend to pursue; The school has little or no control over the length or starting and ending dates of the practicum or clinical experience. This may be due to constraints imposed by outside licensing bodies or the need to accommodate schedules of entities with which students are being placed (e.g., school districts or hospitals); and Credit hours associated with the practicum or clinical experience must be associated with the term in which most of the training occurs, even if the starting and ending dates do not exactly align with the term dates and/or overlap with another term. If the clinical work meets all the above criteria, terms which include such clinical work are not required to be considered nonstandard, nor are such programs required to be considered non-term, even if the clinical work overlaps another term. This flexibility is limited to required clinical periods associated with standard term programs in medicine (including, but not limited to, allopathic, osteopathic, nursing, veterinary, dentistry, pharmacy, and physical therapy), and student teaching required to obtain a state teaching certificate. See Volume 8, Chapter 3 for additional guidance on certain exceptions to the normal loan period and disbursement timing rules for Direct Loans when clinical work that meets the criteria described above is included in a standard term. Nonstandard Terms Generally, nonstandard terms are terms that are not semesters, trimesters, or quarters. For example, a 5-week term or a 23-week term would be considered a nonstandard term because no standard term can be fewer than nine weeks or greater than 21 weeks in length. Like standard terms, nonstandard terms may be equal in length or may be of different lengths. If a program is offered in a combination of standard terms and nonstandard terms, the program is considered to be offered in nonstandard terms. Also, like standard terms, nonstandard terms may not overlap within a program. Even if a school calls its terms semesters, trimesters, or quarters, they are considered to be nonstandard terms if they do not comply with the policy on standard term length, as described earlier. For instance, a 22-week semester or an 8-week quarter must be treated as a nonstandard term, because a semester cannot contain more than 21 weeks and a quarter must include a minimum of nine weeks. Semesters, trimesters, or quarters are also considered to be nonstandard terms if academic progress is not measured in the manner normally associated with the type of term. For example, if a program is offered in 15-week semesters but measures academic progress in quarter credit hours, the semesters would be considered nonstandard terms.'],\n",
              "  'reference': 'Guidance on disbursement timing for subscription-based programs, as well as exceptions to the normal loan period and disbursement timing rules for Direct Loans when clinical work is included in a standard term, can be found in Volume 8, Chapter 3. Both topics are specifically referenced for further details in that chapter.'},\n",
              " {'user_input': 'According to the guidance in Volume 1, Chapter 1 and Volume 8, Chapter 3, how do the requirements for standard terms and nonstandard terms affect the inclusion of clinical work in academic calendars, and what are the implications for Direct Loan disbursement timing when clinical work overlaps with standard terms?',\n",
              "  'reference_contexts': ['<1-hop>\\n\\nnon-term (includes clock-hour calendars), or subscription-based. In a standard term or nonstandard term academic calendar, a term is generally a period in which all classes are scheduled to begin and end within a set time frame, and academic progress is measured in credit hours. In a non-term academic calendar, classes do not begin and end within a set time frame, such as a term. Academic progress in a non-term program can be measured in either credit or clock hours. In some cases (as discussed below), a program with terms must be treated as a non-term program for Title IV purposes. A subscription-based academic calendar is used only by subscription-based programs. A subscription-based program is a term-based program in which the school charges a student for each term on a subscription basis with the expectation that the student will complete a specified number of credit hours (or the equivalent) during that term. However, classes in a subscription-based program are not required to begin or end within a specific timeframe in each term, as is the case in a term-based calendar that is not subscription-based. For more detail on subscription-based programs, see Volume 2, Chapter 2. A subscription-based academic calendar consists of \"subscription periods\" that are either standard terms or substantially equal nonstandard terms (for guidance on when terms are considered to be substantially equal in length, see <Payment periods for programs using standard terms or substantially equal nonstandard terms= later in this chapter). Substantially equal nonstandard terms may be of any length, but if they are not at least nine weeks in length, the program must use BBAY 3 for purposes of monitoring Direct Loan annual loan limit progression (see Volume 8, Chapter 6 for more information on BBAY 3). Nonstandard terms that are not substantially equal in length are not permissible in a subscription-based academic calendar. The term \"subscription period\" is synonymous with \"term\" and \"payment period\" (payment periods are covered later in this chapter). Except for the fact that classes are not required to start and end within a term, the rules and requirements for term-based programs that are not subscription-based also apply to subscription-based programs. These requirements include: minimum and maximum term length restrictions for standard terms (see the discussion in the next section of this chapter); requirements for determining full-time enrollment (see Volume 1, Chapter 1); use of a Scheduled Academic Year (SAY), BBAY 1, BBAY 2, or BBAY 3 for monitoring Direct Loan annual loan limit progression (see Volume 8, Chapter 6); and use of Pell Grant formulas 1, 2, or 3 to calculate Pell Grant awards (see Volume 7, Chapter 4). Whether an academic calendar is standard term, nonstandard term, non-term, or subscription-based has implications for how aid is awarded and disbursed under the Title IV programs. Standard Terms: Semesters, Trimesters, and Quarters Semesters and trimesters contain between 14 and 21 weeks of instructional time. However, a summer term in a program using semesters or trimesters may contain fewer than 14 weeks. An academic calendar that uses semesters or trimesters traditionally has three terms, one each in the fall, spring, and summer, two of which comprise an academic year. For example, in a program using an SAY calendar, fall and spring would comprise an academic year. In a program using a',\n",
              "   '<2-hop>\\n\\nInclusion of Clinical Work in a Standard Term Periods of medical and education program clinical work which is conducted outside the classroom may not be included in a standard term, unless all of the following apply: All students in the program must participate in the practicum or clinical experience, and they must be required to complete the practicum or clinical experience as a condition for applying for licensure or authorization to practice the occupation they intend to pursue; The school has little or no control over the length or starting and ending dates of the practicum or clinical experience. This may be due to constraints imposed by outside licensing bodies or the need to accommodate schedules of entities with which students are being placed (e.g., school districts or hospitals); and Credit hours associated with the practicum or clinical experience must be associated with the term in which most of the training occurs, even if the starting and ending dates do not exactly align with the term dates and/or overlap with another term. If the clinical work meets all the above criteria, terms which include such clinical work are not required to be considered nonstandard, nor are such programs required to be considered non-term, even if the clinical work overlaps another term. This flexibility is limited to required clinical periods associated with standard term programs in medicine (including, but not limited to, allopathic, osteopathic, nursing, veterinary, dentistry, pharmacy, and physical therapy), and student teaching required to obtain a state teaching certificate. See Volume 8, Chapter 3 for additional guidance on certain exceptions to the normal loan period and disbursement timing rules for Direct Loans when clinical work that meets the criteria described above is included in a standard term. Nonstandard Terms Generally, nonstandard terms are terms that are not semesters, trimesters, or quarters. For example, a 5-week term or a 23-week term would be considered a nonstandard term because no standard term can be fewer than nine weeks or greater than 21 weeks in length. Like standard terms, nonstandard terms may be equal in length or may be of different lengths. If a program is offered in a combination of standard terms and nonstandard terms, the program is considered to be offered in nonstandard terms. Also, like standard terms, nonstandard terms may not overlap within a program. Even if a school calls its terms semesters, trimesters, or quarters, they are considered to be nonstandard terms if they do not comply with the policy on standard term length, as described earlier. For instance, a 22-week semester or an 8-week quarter must be treated as a nonstandard term, because a semester cannot contain more than 21 weeks and a quarter must include a minimum of nine weeks. Semesters, trimesters, or quarters are also considered to be nonstandard terms if academic progress is not measured in the manner normally associated with the type of term. For example, if a program is offered in 15-week semesters but measures academic progress in quarter credit hours, the semesters would be considered nonstandard terms.'],\n",
              "  'reference': 'The requirements for standard terms, as outlined in Volume 1, Chapter 1, specify that semesters and trimesters must contain between 14 and 21 weeks of instructional time, and academic progress is typically measured in credit hours. Nonstandard terms, on the other hand, are terms that do not fit the standard length requirements (e.g., fewer than nine weeks or more than 21 weeks) and may be of equal or different lengths. According to Volume 8, Chapter 3, clinical work in medical and education programs may be included in a standard term if all students are required to participate as a condition for licensure, the school has little or no control over the clinical schedule, and the credit hours are associated with the term in which most training occurs, even if the dates do not align exactly with the term. If these criteria are met, the terms do not have to be considered nonstandard, nor does the program have to be considered non-term, even if the clinical work overlaps another term. Additionally, Volume 8, Chapter 3 provides guidance on exceptions to the normal Direct Loan period and disbursement timing rules when such clinical work is included in a standard term, allowing for flexibility in loan disbursement when clinical periods overlap with standard terms.'},\n",
              " {'user_input': 'How do the requirements for Direct Loan annual loan limit progression in subscription-based programs, as described in Volume 8, Chapter 6, relate to the rules for multiple disbursements within a payment period outlined in Volume 8, Chapter 3?',\n",
              "  'reference_contexts': ['<1-hop>\\n\\nnon-term (includes clock-hour calendars), or subscription-based. In a standard term or nonstandard term academic calendar, a term is generally a period in which all classes are scheduled to begin and end within a set time frame, and academic progress is measured in credit hours. In a non-term academic calendar, classes do not begin and end within a set time frame, such as a term. Academic progress in a non-term program can be measured in either credit or clock hours. In some cases (as discussed below), a program with terms must be treated as a non-term program for Title IV purposes. A subscription-based academic calendar is used only by subscription-based programs. A subscription-based program is a term-based program in which the school charges a student for each term on a subscription basis with the expectation that the student will complete a specified number of credit hours (or the equivalent) during that term. However, classes in a subscription-based program are not required to begin or end within a specific timeframe in each term, as is the case in a term-based calendar that is not subscription-based. For more detail on subscription-based programs, see Volume 2, Chapter 2. A subscription-based academic calendar consists of \"subscription periods\" that are either standard terms or substantially equal nonstandard terms (for guidance on when terms are considered to be substantially equal in length, see <Payment periods for programs using standard terms or substantially equal nonstandard terms= later in this chapter). Substantially equal nonstandard terms may be of any length, but if they are not at least nine weeks in length, the program must use BBAY 3 for purposes of monitoring Direct Loan annual loan limit progression (see Volume 8, Chapter 6 for more information on BBAY 3). Nonstandard terms that are not substantially equal in length are not permissible in a subscription-based academic calendar. The term \"subscription period\" is synonymous with \"term\" and \"payment period\" (payment periods are covered later in this chapter). Except for the fact that classes are not required to start and end within a term, the rules and requirements for term-based programs that are not subscription-based also apply to subscription-based programs. These requirements include: minimum and maximum term length restrictions for standard terms (see the discussion in the next section of this chapter); requirements for determining full-time enrollment (see Volume 1, Chapter 1); use of a Scheduled Academic Year (SAY), BBAY 1, BBAY 2, or BBAY 3 for monitoring Direct Loan annual loan limit progression (see Volume 8, Chapter 6); and use of Pell Grant formulas 1, 2, or 3 to calculate Pell Grant awards (see Volume 7, Chapter 4). Whether an academic calendar is standard term, nonstandard term, non-term, or subscription-based has implications for how aid is awarded and disbursed under the Title IV programs. Standard Terms: Semesters, Trimesters, and Quarters Semesters and trimesters contain between 14 and 21 weeks of instructional time. However, a summer term in a program using semesters or trimesters may contain fewer than 14 weeks. An academic calendar that uses semesters or trimesters traditionally has three terms, one each in the fall, spring, and summer, two of which comprise an academic year. For example, in a program using an SAY calendar, fall and spring would comprise an academic year. In a program using a',\n",
              "   '<2-hop>\\n\\nDisbursement Timing in Subscription-Based Programs For the first two subscription periods (terms) that a student attends in a subscription-based program, there is no requirement for the student to have completed a certain amount of coursework before receiving a disbursement of Title IV funds (the same as in any other term-based program using credit hours). However, to receive a disbursement of Title IV aid for each subsequent subscription period in the program, the student must have completed a cumulative number of credit hours equal to the total of the number of hours for which the student was enrolled in all previously attended subscription periods in the program, excluding the number of hours for which the student was enrolled in the most recently attended subscription period. For more detailed guidance on the disbursement rules for subscription-based programs, including examples, refer to Appendix B at the end of this chapter. Multiple Disbursements Within a Payment Period The regulations governing the Title IV programs generally permit schools to pay Title IV funds at such times and in such installments within each payment period as will best meet students9 needs. This gives schools the ability to apportion the payment if doing so will be in the best interest of the student. For example, if a payment period is particularly long, a school might choose to pay in multiple installments to the extent program requirements permit to ensure that a student will have funds to pay rent later in the payment period. If a school chooses to schedule multiple Direct Loan disbursements within a single payment period, the disbursements must be substantially equal. Note also that if the loan period for a Direct Loan is a single payment period, the loan must be disbursed in at least two installments unless the school qualifies for an exception to the multiple disbursement requirement. See Volume 8, Chapter 3 for more'],\n",
              "  'reference': 'In subscription-based programs, the requirements for monitoring Direct Loan annual loan limit progression include the use of BBAY 3, as detailed in Volume 8, Chapter 6. This is necessary when substantially equal nonstandard terms are less than nine weeks in length. Additionally, the rules for multiple disbursements within a payment period, as outlined in Volume 8, Chapter 3, state that if a school chooses to schedule multiple Direct Loan disbursements within a single payment period, the disbursements must be substantially equal, and if the loan period is a single payment period, the loan must be disbursed in at least two installments unless an exception applies. Therefore, both chapters provide guidance on how Direct Loan funds are monitored and disbursed in subscription-based programs, ensuring compliance with federal requirements.'},\n",
              " {'user_input': 'how do appendix a and appendix b help with understanding disbursement timing and credit hour completion requirements for title iv funds in subscription-based and clock-hour or non-term credit-hour programs, and what examples or guidance do they provide for financial aid administrators?',\n",
              "  'reference_contexts': ['<1-hop>\\n\\nDisbursement Timing in Subscription-Based Programs For the first two subscription periods (terms) that a student attends in a subscription-based program, there is no requirement for the student to have completed a certain amount of coursework before receiving a disbursement of Title IV funds (the same as in any other term-based program using credit hours). However, to receive a disbursement of Title IV aid for each subsequent subscription period in the program, the student must have completed a cumulative number of credit hours equal to the total of the number of hours for which the student was enrolled in all previously attended subscription periods in the program, excluding the number of hours for which the student was enrolled in the most recently attended subscription period. For more detailed guidance on the disbursement rules for subscription-based programs, including examples, refer to Appendix B at the end of this chapter. Multiple Disbursements Within a Payment Period The regulations governing the Title IV programs generally permit schools to pay Title IV funds at such times and in such installments within each payment period as will best meet students9 needs. This gives schools the ability to apportion the payment if doing so will be in the best interest of the student. For example, if a payment period is particularly long, a school might choose to pay in multiple installments to the extent program requirements permit to ensure that a student will have funds to pay rent later in the payment period. If a school chooses to schedule multiple Direct Loan disbursements within a single payment period, the disbursements must be substantially equal. Note also that if the loan period for a Direct Loan is a single payment period, the loan must be disbursed in at least two installments unless the school qualifies for an exception to the multiple disbursement requirement. See Volume 8, Chapter 3 for more',\n",
              "   '<2-hop>\\n\\nboth the credit or clock hours and the weeks of instructional time in a payment period before receiving a disbursement of Pell Grant, FSEOG, TEACH Grant or Direct Loan funds for the next payment period. For the Direct Loan Program only, this same requirement applies to students who are enrolled in programs with nonstandard terms that are not substantially equal in length. Effect of Accelerated Progression on Disbursement Timing in a Clock-Hour or Non-Term Credit-Hour Program The Pell Grant or TEACH Grant amount that a student is eligible to receive for a payment period in a clock-hour or non- term credit-hour program is based on the number of hours and weeks in the scheduled payment periods for the program that are established at the beginning of the program based on the program length (as described earlier in this chapter). These scheduled payment periods do not change, regardless of a student9s rate of progression through a clock-hour or non-term credit-hour program. This means that if a student completes additional weeks of instructional time or hours while completing the other measure of a payment period, the actual number of weeks or hours that the student completes before a disbursement can be made for the next payment period may differ from the number of weeks or hours in the scheduled payment period used to determine the student9s grant amount for the payment period. Although a student9s completion of additional weeks or hours in a payment period has no effect on the scheduled payment periods for purposes of determining Pell Grant and TEACH Grant payment amounts, an undergraduate student who accelerates in a clock-hour or non-term credit-hour program may have reduced Direct Loan eligibility in the final academic year of a program. Specifically, if a student enrolled in a program that is greater than one academic year in length completes additional clock or credit hours prior to the final academic year of the program, this may result in a final period of study that contains fewer clock or credit hours than the number of hours in the program9s defined academic year. In this circumstance, the Direct Loan annual loan limit for an undergraduate student must be prorated (reduced). The principles described above are illustrated by the examples in Appendix A at the end of this chapter. For guidance on calculating Pell Grant and TEACH Grant awards for clock-hour and non-term credit-hour programs, see Volume 7. For information on Direct Loan annual loan limit proration and annual loan limit progression in clock-hour and non-term credit- hour programs, see Volume 8, Chapters 5 and 6. If your school is unable to determine when a student has successfully completed half of the credit or clock hours in a program, academic year, or remainder of a program, the student is considered to have begun the second payment period of the program, academic year, or remainder of a program at the later of the date (identified by your school) that the student has successfully completed: half of the academic coursework in the program, academic year, or remainder of the program; or half of the number of weeks of instructional time in the program, academic year, or remainder of the program.'],\n",
              "  'reference': 'appendix a and appendix b at the end of the chapter provide important examples and guidance for financial aid administrators about disbursement timing and credit hour completion requirements for title iv funds. appendix a illustrates the principles related to the effect of accelerated progression on disbursement timing in clock-hour or non-term credit-hour programs, such as how completing additional hours before the final academic year can lead to a reduced direct loan annual limit due to proration. appendix b gives more detailed guidance and examples on the disbursement rules for subscription-based programs, including how students must complete a cumulative number of credit hours before receiving disbursements for subsequent subscription periods. together, these appendices help administrators apply the correct rules and understand how to handle complex situations involving disbursement timing and eligibility in different program structures.'}]"
            ]
          },
          "execution_count": 64,
          "metadata": {},
          "output_type": "execute_result"
        }
      ],
      "source": [
        "evaluation_samples"
      ]
    },
    {
      "cell_type": "code",
      "execution_count": 63,
      "metadata": {},
      "outputs": [
        {
          "name": "stdout",
          "output_type": "stream",
          "text": [
            "Will evaluate 7 retrieval methods\n"
          ]
        }
      ],
      "source": [
        "retrievers_to_evaluate = {\n",
        "    \"naive\": naive_retriever,\n",
        "    \"bm25\": bm25_retriever, \n",
        "    \"contextual_compression\": compression_retriever,\n",
        "    \"multi_query\": multi_query_retriever,\n",
        "    \"parent_document\": parent_document_retriever,\n",
        "    \"ensemble\": ensemble_retriever,\n",
        "    \"semantic\": semantic_retriever\n",
        "}\n",
        "\n",
        "print(f\"Will evaluate {len(retrievers_to_evaluate)} retrieval methods\")"
      ]
    },
    {
      "cell_type": "code",
      "execution_count": null,
      "metadata": {},
      "outputs": [
        {
          "name": "stdout",
          "output_type": "stream",
          "text": [
            "Evaluation function defined!\n"
          ]
        }
      ],
      "source": [
        "from langsmith import trace_as_chain\n",
        "\n",
        "@traceable\n",
        "def evaluate_retriever(retriever, retriever_name, evaluation_samples):\n",
        "    \"\"\"Evaluate a single retriever using RAGAS metrics\"\"\"\n",
        "    \n",
        "    print(f\"Evaluating {retriever_name}...\")\n",
        "    start_time = time.time()\n",
        "    \n",
        "    # Prepare evaluation data\n",
        "    ragas_samples = []\n",
        "    successful_samples = 0\n",
        "    \n",
        "    for sample in evaluation_samples:\n",
        "        try:\n",
        "            # Retrieve documents for this question\n",
        "            with trace_as_chain(name=f\"{retriever_name}_retrieval\") as manager:\n",
        "                retrieved_docs = retriever.invoke(sample['user_input'])\n",
        "                retrieved_contexts = [doc.page_content for doc in retrieved_docs]\n",
        "                \n",
        "                # Log metadata about the retrieval\n",
        "                manager.on_chain_end({\n",
        "                    \"question\": sample['user_input'],\n",
        "                    \"num_docs_retrieved\": len(retrieved_docs),\n",
        "                    \"retriever_type\": retriever_name\n",
        "                })\n",
        "            \n",
        "            # Create RAGAS sample\n",
        "            ragas_sample = SingleTurnSample(\n",
        "                user_input=sample['user_input'],\n",
        "                retrieved_contexts=retrieved_contexts,\n",
        "                reference_contexts=sample['reference_contexts'],\n",
        "                reference=sample['reference']\n",
        "            )\n",
        "            ragas_samples.append(ragas_sample)\n",
        "            successful_samples += 1\n",
        "            \n",
        "        except Exception as e:\n",
        "            print(f\"Error processing sample for {retriever_name}: {e}\")\n",
        "            continue\n",
        "    \n",
        "    # Calculate timing\n",
        "    end_time = time.time()\n",
        "    avg_latency = (end_time - start_time) / len(evaluation_samples)\n",
        "    \n",
        "    # Evaluate with RAGAS\n",
        "    if ragas_samples:\n",
        "        eval_dataset = EvaluationDataset(samples=ragas_samples)\n",
        "        with trace_as_chain(name=f\"{retriever_name}_ragas_evaluation\") as manager:\n",
        "            evaluation_results = evaluate(dataset=eval_dataset, metrics=ragas_metrics)\n",
        "            \n",
        "            # Log the evaluation results to LangSmith\n",
        "            manager.on_chain_end({\n",
        "                \"retriever_name\": retriever_name,\n",
        "                \"metrics\": evaluation_results.to_dict(),\n",
        "                \"avg_latency_seconds\": avg_latency,\n",
        "                \"total_samples\": len(evaluation_samples),\n",
        "                \"successful_samples\": successful_samples\n",
        "            })\n",
        "        \n",
        "        return {\n",
        "            'retriever_name': retriever_name,\n",
        "            'metrics': evaluation_results,\n",
        "            'avg_latency_seconds': avg_latency,\n",
        "            'total_samples': len(evaluation_samples),\n",
        "            'successful_samples': successful_samples\n",
        "        }\n",
        "    else:\n",
        "        return None\n",
        "\n",
        "print(\"Evaluation function defined with LangSmith integration!\")"
      ]
    },
    {
      "cell_type": "code",
      "execution_count": null,
      "metadata": {},
      "outputs": [
        {
          "name": "stdout",
          "output_type": "stream",
          "text": [
            "Starting retriever evaluation...\n",
            "============================================================\n",
            "Evaluating naive...\n"
          ]
        },
        {
          "data": {
            "application/vnd.jupyter.widget-view+json": {
              "model_id": "f74be643f308418faf93297960fa929d",
              "version_major": 2,
              "version_minor": 0
            },
            "text/plain": [
              "Evaluating:   0%|          | 0/36 [00:00<?, ?it/s]"
            ]
          },
          "metadata": {},
          "output_type": "display_data"
        },
        {
          "name": "stdout",
          "output_type": "stream",
          "text": [
            "✅ naive evaluation completed\n",
            "Evaluating bm25...\n"
          ]
        },
        {
          "data": {
            "application/vnd.jupyter.widget-view+json": {
              "model_id": "97208b90a53b445abb1b79b670821a6e",
              "version_major": 2,
              "version_minor": 0
            },
            "text/plain": [
              "Evaluating:   0%|          | 0/36 [00:00<?, ?it/s]"
            ]
          },
          "metadata": {},
          "output_type": "display_data"
        },
        {
          "name": "stdout",
          "output_type": "stream",
          "text": [
            "✅ bm25 evaluation completed\n",
            "Evaluating contextual_compression...\n"
          ]
        },
        {
          "data": {
            "application/vnd.jupyter.widget-view+json": {
              "model_id": "a271c3ecd8db4f078d7e825a4d6dfc80",
              "version_major": 2,
              "version_minor": 0
            },
            "text/plain": [
              "Evaluating:   0%|          | 0/36 [00:00<?, ?it/s]"
            ]
          },
          "metadata": {},
          "output_type": "display_data"
        },
        {
          "name": "stdout",
          "output_type": "stream",
          "text": [
            "✅ contextual_compression evaluation completed\n",
            "Evaluating multi_query...\n"
          ]
        }
      ],
      "source": [
        "print(\"Starting retriever evaluation...\")\n",
        "print(\"=\"*60)\n",
        "\n",
        "results = []\n",
        "for retriever_name, retriever in retrievers_to_evaluate.items():\n",
        "    try:\n",
        "        result = evaluate_retriever(retriever, retriever_name, evaluation_samples)\n",
        "        if result:\n",
        "            results.append(result)\n",
        "            print(f\"✅ {retriever_name} evaluation completed\")\n",
        "        else:\n",
        "            print(f\"❌ {retriever_name} evaluation failed\")\n",
        "    except Exception as e:\n",
        "        print(f\"❌ Error evaluating {retriever_name}: {e}\")\n",
        "        continue\n",
        "    time.sleep(60)\n",
        "\n",
        "print(f\"\\nCompleted evaluation of {len(results)} retrievers\")"
      ]
    }
  ],
  "metadata": {
    "colab": {
      "provenance": [],
      "toc_visible": true
    },
    "kernelspec": {
      "display_name": ".venv",
      "language": "python",
      "name": "python3"
    },
    "language_info": {
      "codemirror_mode": {
        "name": "ipython",
        "version": 3
      },
      "file_extension": ".py",
      "mimetype": "text/x-python",
      "name": "python",
      "nbconvert_exporter": "python",
      "pygments_lexer": "ipython3",
      "version": "3.13.5"
    }
  },
  "nbformat": 4,
  "nbformat_minor": 0
}
