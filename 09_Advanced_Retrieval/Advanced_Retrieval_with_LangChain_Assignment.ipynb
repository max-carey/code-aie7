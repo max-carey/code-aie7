{
  "cells": [
    {
      "cell_type": "markdown",
      "metadata": {
        "id": "e-IqJAMkwnCF"
      },
      "source": [
        "# Advanced Retrieval with LangChain\n",
        "\n",
        "In the following notebook, we'll explore various methods of advanced retrieval using LangChain!\n",
        "\n",
        "We'll touch on:\n",
        "\n",
        "- Naive Retrieval\n",
        "- Best-Matching 25 (BM25)\n",
        "- Multi-Query Retrieval\n",
        "- Parent-Document Retrieval\n",
        "- Contextual Compression (a.k.a. Rerank)\n",
        "- Ensemble Retrieval\n",
        "- Semantic chunking\n",
        "\n",
        "We'll also discuss how these methods impact performance on our set of documents with a simple RAG chain.\n",
        "\n",
        "There will be two breakout rooms:\n",
        "\n",
        "- 🤝 Breakout Room Part #1\n",
        "  - Task 1: Getting Dependencies!\n",
        "  - Task 2: Data Collection and Preparation\n",
        "  - Task 3: Setting Up QDrant!\n",
        "  - Task 4-10: Retrieval Strategies\n",
        "- 🤝 Breakout Room Part #2\n",
        "  - Activity: Evaluate with Ragas"
      ]
    },
    {
      "cell_type": "markdown",
      "metadata": {
        "id": "4rKP3hgHivpe"
      },
      "source": [
        "# 🤝 Breakout Room Part #1"
      ]
    },
    {
      "cell_type": "markdown",
      "metadata": {
        "id": "3xes8oT-xHN7"
      },
      "source": [
        "## Task 1: Getting Dependencies!\n",
        "\n",
        "We're going to need a few specific LangChain community packages, like OpenAI (for our [LLM](https://platform.openai.com/docs/models) and [Embedding Model](https://platform.openai.com/docs/guides/embeddings)) and Cohere (for our [Reranker](https://cohere.com/rerank))."
      ]
    },
    {
      "cell_type": "markdown",
      "metadata": {
        "id": "Z7OHJXzfyJyA"
      },
      "source": [
        "We'll also provide our OpenAI key, as well as our Cohere API key."
      ]
    },
    {
      "cell_type": "code",
      "execution_count": 1,
      "metadata": {
        "colab": {
          "base_uri": "https://localhost:8080/"
        },
        "id": "7LttlDQUYgSI",
        "outputId": "9dca95ab-4d02-4adf-ec3f-cb831326dc54"
      },
      "outputs": [],
      "source": [
        "import os\n",
        "import getpass\n",
        "\n",
        "os.environ[\"OPENAI_API_KEY\"] = getpass.getpass(\"Enter your OpenAI API Key:\")"
      ]
    },
    {
      "cell_type": "code",
      "execution_count": 2,
      "metadata": {
        "colab": {
          "base_uri": "https://localhost:8080/"
        },
        "id": "3iUahNiJyQbv",
        "outputId": "78bf06ef-2ee8-46c3-f73d-27958b4dd79b"
      },
      "outputs": [],
      "source": [
        "os.environ[\"COHERE_API_KEY\"] = getpass.getpass(\"Cohere API Key:\")"
      ]
    },
    {
      "cell_type": "markdown",
      "metadata": {
        "id": "mw304iAFyRtl"
      },
      "source": [
        "## Task 2: Data Collection and Preparation\n",
        "\n",
        "We'll be using our Loan Data once again - this time the strutured data available through the CSV!"
      ]
    },
    {
      "cell_type": "markdown",
      "metadata": {
        "id": "A92NC2QZzCsi"
      },
      "source": [
        "### Data Preparation\n",
        "\n",
        "We want to make sure all our documents have the relevant metadata for the various retrieval strategies we're going to be applying today."
      ]
    },
    {
      "cell_type": "code",
      "execution_count": 3,
      "metadata": {
        "id": "GshBjVRJZ6p8"
      },
      "outputs": [],
      "source": [
        "from langchain_community.document_loaders.csv_loader import CSVLoader\n",
        "from datetime import datetime, timedelta\n",
        "\n",
        "loader = CSVLoader(\n",
        "    file_path=f\"./data/complaints.csv\",\n",
        "    metadata_columns=[\n",
        "      \"Date received\", \n",
        "      \"Product\", \n",
        "      \"Sub-product\", \n",
        "      \"Issue\", \n",
        "      \"Sub-issue\", \n",
        "      \"Consumer complaint narrative\", \n",
        "      \"Company public response\", \n",
        "      \"Company\", \n",
        "      \"State\", \n",
        "      \"ZIP code\", \n",
        "      \"Tags\", \n",
        "      \"Consumer consent provided?\", \n",
        "      \"Submitted via\", \n",
        "      \"Date sent to company\", \n",
        "      \"Company response to consumer\", \n",
        "      \"Timely response?\", \n",
        "      \"Consumer disputed?\", \n",
        "      \"Complaint ID\"\n",
        "    ]\n",
        ")\n",
        "\n",
        "loan_complaint_data = loader.load()\n",
        "\n",
        "for doc in loan_complaint_data:\n",
        "    doc.page_content = doc.metadata[\"Consumer complaint narrative\"]"
      ]
    },
    {
      "cell_type": "markdown",
      "metadata": {
        "id": "9gQphb6y0C0S"
      },
      "source": [
        "Let's look at an example document to see if everything worked as expected!"
      ]
    },
    {
      "cell_type": "code",
      "execution_count": 4,
      "metadata": {
        "colab": {
          "base_uri": "https://localhost:8080/"
        },
        "id": "PkUkCf7DaMiq",
        "outputId": "e90bd5da-1d87-423b-838a-cb6efc16b199"
      },
      "outputs": [
        {
          "data": {
            "text/plain": [
              "Document(metadata={'source': './data/complaints.csv', 'row': 0, 'Date received': '03/27/25', 'Product': 'Student loan', 'Sub-product': 'Federal student loan servicing', 'Issue': 'Dealing with your lender or servicer', 'Sub-issue': 'Trouble with how payments are being handled', 'Consumer complaint narrative': \"The federal student loan COVID-19 forbearance program ended in XX/XX/XXXX. However, payments were not re-amortized on my federal student loans currently serviced by Nelnet until very recently. The new payment amount that is effective starting with the XX/XX/XXXX payment will nearly double my payment from {$180.00} per month to {$360.00} per month. I'm fortunate that my current financial position allows me to be able to handle the increased payment amount, but I am sure there are likely many borrowers who are not in the same position. The re-amortization should have occurred once the forbearance ended to reduce the impact to borrowers.\", 'Company public response': 'None', 'Company': 'Nelnet, Inc.', 'State': 'IL', 'ZIP code': '60030', 'Tags': 'None', 'Consumer consent provided?': 'Consent provided', 'Submitted via': 'Web', 'Date sent to company': '03/27/25', 'Company response to consumer': 'Closed with explanation', 'Timely response?': 'Yes', 'Consumer disputed?': 'N/A', 'Complaint ID': '12686613'}, page_content=\"The federal student loan COVID-19 forbearance program ended in XX/XX/XXXX. However, payments were not re-amortized on my federal student loans currently serviced by Nelnet until very recently. The new payment amount that is effective starting with the XX/XX/XXXX payment will nearly double my payment from {$180.00} per month to {$360.00} per month. I'm fortunate that my current financial position allows me to be able to handle the increased payment amount, but I am sure there are likely many borrowers who are not in the same position. The re-amortization should have occurred once the forbearance ended to reduce the impact to borrowers.\")"
            ]
          },
          "execution_count": 4,
          "metadata": {},
          "output_type": "execute_result"
        }
      ],
      "source": [
        "loan_complaint_data[0]"
      ]
    },
    {
      "cell_type": "markdown",
      "metadata": {
        "id": "lWaQpdHl0Gzc"
      },
      "source": [
        "## Task 3: Setting up QDrant!\n",
        "\n",
        "Now that we have our documents, let's create a QDrant VectorStore with the collection name \"LoanComplaints\".\n",
        "\n",
        "We'll leverage OpenAI's [`text-embedding-3-small`](https://openai.com/blog/new-embedding-models-and-api-updates) because it's a very powerful (and low-cost) embedding model.\n",
        "\n",
        "> NOTE: We'll be creating additional vectorstores where necessary, but this pattern is still extremely useful."
      ]
    },
    {
      "cell_type": "code",
      "execution_count": 5,
      "metadata": {
        "id": "NT8ihRJbYmMT"
      },
      "outputs": [],
      "source": [
        "from langchain_community.vectorstores import Qdrant\n",
        "from langchain_openai import OpenAIEmbeddings\n",
        "\n",
        "embeddings = OpenAIEmbeddings(model=\"text-embedding-3-small\")\n",
        "\n",
        "vectorstore = Qdrant.from_documents(\n",
        "    loan_complaint_data,\n",
        "    embeddings,\n",
        "    location=\":memory:\",\n",
        "    collection_name=\"LoanComplaints\"\n",
        ")"
      ]
    },
    {
      "cell_type": "markdown",
      "metadata": {
        "id": "-x2SS4Rh0hiN"
      },
      "source": [
        "## Task 4: Naive RAG Chain\n",
        "\n",
        "Since we're focusing on the \"R\" in RAG today - we'll create our Retriever first."
      ]
    },
    {
      "cell_type": "markdown",
      "metadata": {
        "id": "NEH7X5Ai08FH"
      },
      "source": [
        "### R - Retrieval\n",
        "\n",
        "This naive retriever will simply look at each review as a document, and use cosine-similarity to fetch the 10 most relevant documents.\n",
        "\n",
        "> NOTE: We're choosing `10` as our `k` here to provide enough documents for our reranking process later"
      ]
    },
    {
      "cell_type": "code",
      "execution_count": 6,
      "metadata": {
        "id": "GFDPrNBtb72o"
      },
      "outputs": [],
      "source": [
        "naive_retriever = vectorstore.as_retriever(search_kwargs={\"k\" : 10})"
      ]
    },
    {
      "cell_type": "markdown",
      "metadata": {
        "id": "MbBhyQjz06dx"
      },
      "source": [
        "### A - Augmented\n",
        "\n",
        "We're going to go with a standard prompt for our simple RAG chain today! Nothing fancy here, we want this to mostly be about the Retrieval process."
      ]
    },
    {
      "cell_type": "code",
      "execution_count": 7,
      "metadata": {
        "id": "7uSz-Dbqcoki"
      },
      "outputs": [],
      "source": [
        "from langchain_core.prompts import ChatPromptTemplate\n",
        "\n",
        "RAG_TEMPLATE = \"\"\"\\\n",
        "You are a helpful and kind assistant. Use the context provided below to answer the question.\n",
        "\n",
        "If you do not know the answer, or are unsure, say you don't know.\n",
        "\n",
        "Query:\n",
        "{question}\n",
        "\n",
        "Context:\n",
        "{context}\n",
        "\"\"\"\n",
        "\n",
        "rag_prompt = ChatPromptTemplate.from_template(RAG_TEMPLATE)"
      ]
    },
    {
      "cell_type": "markdown",
      "metadata": {
        "id": "BlRzpb231GGJ"
      },
      "source": [
        "### G - Generation\n",
        "\n",
        "We're going to leverage `gpt-4.1-nano` as our LLM today, as - again - we want this to largely be about the Retrieval process."
      ]
    },
    {
      "cell_type": "code",
      "execution_count": 8,
      "metadata": {
        "id": "c-1t9H60dJLg"
      },
      "outputs": [],
      "source": [
        "from langchain_openai import ChatOpenAI\n",
        "\n",
        "chat_model = ChatOpenAI(model=\"gpt-4.1-nano\")"
      ]
    },
    {
      "cell_type": "markdown",
      "metadata": {
        "id": "mg3QRGzA1M2x"
      },
      "source": [
        "### LCEL RAG Chain\n",
        "\n",
        "We're going to use LCEL to construct our chain.\n",
        "\n",
        "> NOTE: This chain will be exactly the same across the various examples with the exception of our Retriever!"
      ]
    },
    {
      "cell_type": "code",
      "execution_count": 9,
      "metadata": {
        "id": "0bvstS7mdOW3"
      },
      "outputs": [],
      "source": [
        "from langchain_core.runnables import RunnablePassthrough\n",
        "from operator import itemgetter\n",
        "from langchain_core.output_parsers import StrOutputParser\n",
        "\n",
        "naive_retrieval_chain = (\n",
        "    # INVOKE CHAIN WITH: {\"question\" : \"<<SOME USER QUESTION>>\"}\n",
        "    # \"question\" : populated by getting the value of the \"question\" key\n",
        "    # \"context\"  : populated by getting the value of the \"question\" key and chaining it into the base_retriever\n",
        "    {\"context\": itemgetter(\"question\") | naive_retriever, \"question\": itemgetter(\"question\")}\n",
        "    # \"context\"  : is assigned to a RunnablePassthrough object (will not be called or considered in the next step)\n",
        "    #              by getting the value of the \"context\" key from the previous step\n",
        "    | RunnablePassthrough.assign(context=itemgetter(\"context\"))\n",
        "    # \"response\" : the \"context\" and \"question\" values are used to format our prompt object and then piped\n",
        "    #              into the LLM and stored in a key called \"response\"\n",
        "    # \"context\"  : populated by getting the value of the \"context\" key from the previous step\n",
        "    | {\"response\": rag_prompt | chat_model, \"context\": itemgetter(\"context\")}\n",
        ")"
      ]
    },
    {
      "cell_type": "markdown",
      "metadata": {
        "id": "izKujhNb1ZG8"
      },
      "source": [
        "Let's see how this simple chain does on a few different prompts.\n",
        "\n",
        "> NOTE: You might think that we've cherry picked prompts that showcase the individual skill of each of the retrieval strategies - you'd be correct!"
      ]
    },
    {
      "cell_type": "code",
      "execution_count": 10,
      "metadata": {
        "colab": {
          "base_uri": "https://localhost:8080/",
          "height": 36
        },
        "id": "LI-5ueEddku9",
        "outputId": "7f3cec18-5f4e-41bb-cf71-51ba0be5388e"
      },
      "outputs": [
        {
          "data": {
            "text/plain": [
              "'The most common issue with loans, based on the provided complaints, appears to be dealing with the mishandling and mismanagement of the loans by lenders or servicers. This includes errors in loan balances, misapplied payments, wrongful denials of payment plans, unnotified transfers of loan accounts, inaccurate reporting of account status, and improper handling of loan data. Many complaints also highlight issues with incorrect information on credit reports, difficulties in applying payments correctly, and challenges in obtaining clear and accurate information regarding their loans.\\n\\nIn summary, a prevalent issue is the mishandling of loans by servicers, leading to errors, misinformation, and financial hardship for borrowers.'"
            ]
          },
          "execution_count": 10,
          "metadata": {},
          "output_type": "execute_result"
        }
      ],
      "source": [
        "naive_retrieval_chain.invoke({\"question\" : \"What is the most common issue with loans?\"})[\"response\"].content"
      ]
    },
    {
      "cell_type": "code",
      "execution_count": 11,
      "metadata": {
        "colab": {
          "base_uri": "https://localhost:8080/",
          "height": 36
        },
        "id": "43zdcdUydtXh",
        "outputId": "db874e67-f568-4ed1-b863-b7c17b387052"
      },
      "outputs": [
        {
          "data": {
            "text/plain": [
              "'Based on the provided information, it appears that some complaints did not get handled in a timely manner. Specifically, one complaint (Complaint ID: 12709087) submitted to MOHELA on 03/28/25 was marked with \"Timely response?\": \"No,\" indicating it was not addressed promptly. The complaint involved delays in processing a loan application, with the consumer noting that they had not heard from the company despite previous assurances, and that the issue remained unresolved despite being ongoing for months.\\n\\nAdditionally, multiple other complaints involve delays or lack of response, such as a complaint to Maximus Federal Services on 04/24/25, which was marked as \"Timely response?\": \"Yes,\" but still involved ongoing issues and delays in correcting loan information, suggesting some resolutions after delays.\\n\\nIn summary, at least some complaints, notably the one to MOHELA, were not handled in a timely manner.'"
            ]
          },
          "execution_count": 11,
          "metadata": {},
          "output_type": "execute_result"
        }
      ],
      "source": [
        "naive_retrieval_chain.invoke({\"question\" : \"Did any complaints not get handled in a timely manner?\"})[\"response\"].content"
      ]
    },
    {
      "cell_type": "code",
      "execution_count": 12,
      "metadata": {
        "colab": {
          "base_uri": "https://localhost:8080/",
          "height": 70
        },
        "id": "lpG6rlvvvKFq",
        "outputId": "a1b330b0-628e-41be-d829-9c1d55e781f5"
      },
      "outputs": [
        {
          "data": {
            "text/plain": [
              "'People failed to pay back their loans primarily due to issues such as lack of clear communication from loan servicers about loan status and repayment requirements, unexpected resumption of payments without proper notification, and difficulties in managing or understanding complex interest accumulation and account information. Additionally, some borrowers faced hardships like financial instability, stagnant wages, or increased interest that made repayments unmanageable, especially when options like forbearance or deferment led to ongoing interest accrual that extended the repayment period and increased total debt. In some cases, borrowers were not adequately informed about changes in their loan servicing or transfer of their loans between different companies, which contributed to missed payments and credit impact. Overall, these factors—mismanagement, poor communication, and financial hardship—contributed to failure to repay loans.'"
            ]
          },
          "execution_count": 12,
          "metadata": {},
          "output_type": "execute_result"
        }
      ],
      "source": [
        "naive_retrieval_chain.invoke({\"question\" : \"Why did people fail to pay back their loans?\"})[\"response\"].content"
      ]
    },
    {
      "cell_type": "markdown",
      "metadata": {
        "id": "jsbfQmbr1leg"
      },
      "source": [
        "Overall, this is not bad! Let's see if we can make it better!"
      ]
    },
    {
      "cell_type": "markdown",
      "metadata": {
        "id": "Ft1vt8HPR16w"
      },
      "source": [
        "## Task 5: Best-Matching 25 (BM25) Retriever\n",
        "\n",
        "Taking a step back in time - [BM25](https://www.nowpublishers.com/article/Details/INR-019) is based on [Bag-Of-Words](https://en.wikipedia.org/wiki/Bag-of-words_model) which is a sparse representation of text.\n",
        "\n",
        "In essence, it's a way to compare how similar two pieces of text are based on the words they both contain.\n",
        "\n",
        "This retriever is very straightforward to set-up! Let's see it happen down below!\n"
      ]
    },
    {
      "cell_type": "code",
      "execution_count": 13,
      "metadata": {
        "id": "qdF4wuj5R-cG"
      },
      "outputs": [],
      "source": [
        "from langchain_community.retrievers import BM25Retriever\n",
        "\n",
        "bm25_retriever = BM25Retriever.from_documents(loan_complaint_data, )"
      ]
    },
    {
      "cell_type": "markdown",
      "metadata": {
        "id": "KIjJlBQ8drKH"
      },
      "source": [
        "We'll construct the same chain - only changing the retriever."
      ]
    },
    {
      "cell_type": "code",
      "execution_count": 14,
      "metadata": {
        "id": "WR15EQG7SLuw"
      },
      "outputs": [],
      "source": [
        "bm25_retrieval_chain = (\n",
        "    {\"context\": itemgetter(\"question\") | bm25_retriever, \"question\": itemgetter(\"question\")}\n",
        "    | RunnablePassthrough.assign(context=itemgetter(\"context\"))\n",
        "    | {\"response\": rag_prompt | chat_model, \"context\": itemgetter(\"context\")}\n",
        ")"
      ]
    },
    {
      "cell_type": "markdown",
      "metadata": {
        "id": "0Gi-yXCDdvJk"
      },
      "source": [
        "Let's look at the responses!"
      ]
    },
    {
      "cell_type": "code",
      "execution_count": 15,
      "metadata": {
        "colab": {
          "base_uri": "https://localhost:8080/",
          "height": 53
        },
        "id": "oY9qzmm3SOrF",
        "outputId": "4d4f450f-5978-460f-f242-b32407868353"
      },
      "outputs": [
        {
          "data": {
            "text/plain": [
              "'Based on the provided context, the most common issue with loans appears to be dealing with the lender or servicer, particularly related to misunderstandings or disputes about fees, payments, interest calculations, and loan information. Many complaints highlight problems such as incorrect fees, difficulty in applying payments correctly, incorrect or confusing loan data, and inadequate or unhelpful responses from the companies managing the loans.'"
            ]
          },
          "execution_count": 15,
          "metadata": {},
          "output_type": "execute_result"
        }
      ],
      "source": [
        "bm25_retrieval_chain.invoke({\"question\" : \"What is the most common issue with loans?\"})[\"response\"].content"
      ]
    },
    {
      "cell_type": "code",
      "execution_count": 16,
      "metadata": {
        "colab": {
          "base_uri": "https://localhost:8080/",
          "height": 36
        },
        "id": "igfinyneSQkh",
        "outputId": "9752d4a9-dd16-45b1-f63f-a76e93a05eb3"
      },
      "outputs": [
        {
          "data": {
            "text/plain": [
              "'Based on the information provided, all the complaints listed in the context indicate that the companies responded with a public response of \"Closed with explanation\" and are marked as \"Timely response?\": \"Yes.\" This suggests that the complaints were handled in a timely manner according to their records. \\n\\nTherefore, no complaints appear to have been left unhandled or not handled in a timely manner.'"
            ]
          },
          "execution_count": 16,
          "metadata": {},
          "output_type": "execute_result"
        }
      ],
      "source": [
        "bm25_retrieval_chain.invoke({\"question\" : \"Did any complaints not get handled in a timely manner?\"})[\"response\"].content"
      ]
    },
    {
      "cell_type": "code",
      "execution_count": 17,
      "metadata": {
        "colab": {
          "base_uri": "https://localhost:8080/",
          "height": 53
        },
        "id": "w0H7pV_USSMQ",
        "outputId": "bdead654-3109-4143-9a30-e1d6ca8dc534"
      },
      "outputs": [
        {
          "data": {
            "text/plain": [
              "\"People failed to pay back their loans for various reasons, including issues with their payment plans, mismanagement or misdirection by lenders, and poor communication. Some specific causes highlighted in the complaints include:\\n\\n- Being steered into the wrong types of forbearances or unable to access the appropriate repayment options.\\n- Lack of response or acknowledgment from loan servicers after applying for forbearance or deferment.\\n- Automatic payment systems not functioning correctly, leading to missed or reversed payments, and a lack of clear communication about payment status.\\n- Being unaware of transferring or changes in loan management, such as loans being transferred to new servicers without proper notification.\\n- Errors or deceptive practices by loan servicers that result in increased loan balances, negative reporting to credit bureaus, and unexpected bills.\\n- Poor customer service and failure to respond to borrower inquiries or concerns, which hampers borrowers' ability to manage and repay their loans effectively.\\n\\nOverall, these issues stem from a combination of administrative errors, inadequate communication, and, in some cases, deceptive or unlawful practices by loan servicing companies.\""
            ]
          },
          "execution_count": 17,
          "metadata": {},
          "output_type": "execute_result"
        }
      ],
      "source": [
        "bm25_retrieval_chain.invoke({\"question\" : \"Why did people fail to pay back their loans?\"})[\"response\"].content"
      ]
    },
    {
      "cell_type": "markdown",
      "metadata": {
        "id": "zvg5xHaUdxCl"
      },
      "source": [
        "It's not clear that this is better or worse, if only we had a way to test this (SPOILERS: We do, the second half of the notebook will cover this)"
      ]
    },
    {
      "cell_type": "markdown",
      "metadata": {},
      "source": [
        "#### ❓ Question #1:\n",
        "\n",
        "Give an example query where BM25 is better than embeddings and justify your answer.\n",
        "\n",
        "#### ✅ Answer\n",
        "\n",
        "BM25 is likely to perform better than embeddings when searching for specific keywords or phrases that appear verbatim in the complaints. For example, when searching for \"FASFA deadline\", BM25 might give higher weight to documents that contain this exact phrase. BM25 is based on FREQUENCY not SEMANTICS. I found this viedo to be very helpful to explain the difference: https://www.youtube.com/watch?v=3FbJOKhLv9M.\n",
        "\n"
      ]
    },
    {
      "cell_type": "markdown",
      "metadata": {
        "id": "Q-dcbFn2vpZF"
      },
      "source": [
        "## Task 6: Contextual Compression (Using Reranking)\n",
        "\n",
        "Contextual Compression is a fairly straightforward idea: We want to \"compress\" our retrieved context into just the most useful bits.\n",
        "\n",
        "There are a few ways we can achieve this - but we're going to look at a specific example called reranking.\n",
        "\n",
        "The basic idea here is this:\n",
        "\n",
        "- We retrieve lots of documents that are very likely related to our query vector\n",
        "- We \"compress\" those documents into a smaller set of *more* related documents using a reranking algorithm.\n",
        "\n",
        "We'll be leveraging Cohere's Rerank model for our reranker today!\n",
        "\n",
        "All we need to do is the following:\n",
        "\n",
        "- Create a basic retriever\n",
        "- Create a compressor (reranker, in this case)\n",
        "\n",
        "That's it!\n",
        "\n",
        "Let's see it in the code below!"
      ]
    },
    {
      "cell_type": "code",
      "execution_count": 18,
      "metadata": {
        "id": "psHvO2K1v_ZQ"
      },
      "outputs": [],
      "source": [
        "from langchain.retrievers.contextual_compression import ContextualCompressionRetriever\n",
        "from langchain_cohere import CohereRerank\n",
        "\n",
        "compressor = CohereRerank(model=\"rerank-v3.5\")\n",
        "compression_retriever = ContextualCompressionRetriever(\n",
        "    base_compressor=compressor, base_retriever=naive_retriever\n",
        ")"
      ]
    },
    {
      "cell_type": "markdown",
      "metadata": {
        "id": "_TA9RB2x-j7P"
      },
      "source": [
        "Let's create our chain again, and see how this does!"
      ]
    },
    {
      "cell_type": "code",
      "execution_count": 19,
      "metadata": {
        "id": "1BXqmxvHwX6T"
      },
      "outputs": [],
      "source": [
        "contextual_compression_retrieval_chain = (\n",
        "    {\"context\": itemgetter(\"question\") | compression_retriever, \"question\": itemgetter(\"question\")}\n",
        "    | RunnablePassthrough.assign(context=itemgetter(\"context\"))\n",
        "    | {\"response\": rag_prompt | chat_model, \"context\": itemgetter(\"context\")}\n",
        ")"
      ]
    },
    {
      "cell_type": "code",
      "execution_count": 20,
      "metadata": {
        "colab": {
          "base_uri": "https://localhost:8080/",
          "height": 36
        },
        "id": "V3iGpokswcBb",
        "outputId": "f15d2aa1-5e8b-417d-f623-eb835d072e59"
      },
      "outputs": [
        {
          "data": {
            "text/plain": [
              "'Based on the provided context, the most common issues with loans, particularly student loans, involve errors and mismanagement related to the handling of loans by servicers. These issues include receiving bad information about loans, errors in loan balances, misapplied payments, wrongful denials of payment plans, and mishandling of loan data. Additionally, complaints often involve lack of communication, incorrect or inconsistent loan information, unauthorized transfers, privacy violations, and administrative errors.'"
            ]
          },
          "execution_count": 20,
          "metadata": {},
          "output_type": "execute_result"
        }
      ],
      "source": [
        "contextual_compression_retrieval_chain.invoke({\"question\" : \"What is the most common issue with loans?\"})[\"response\"].content"
      ]
    },
    {
      "cell_type": "code",
      "execution_count": 21,
      "metadata": {
        "colab": {
          "base_uri": "https://localhost:8080/",
          "height": 53
        },
        "id": "7u_k0i4OweUd",
        "outputId": "be5fccc8-2352-4189-c524-bbeaa28cf799"
      },
      "outputs": [
        {
          "data": {
            "text/plain": [
              "'Based on the provided information, some complaints did not get handled in a timely manner. For example, one complaint about student loan issues with Maximus Federal Services has been open for over a year with no resolution, and the complainant is still awaiting a response. Additionally, a prior complaint regarding EdFinancial Services involved ongoing issues with no resolution within a few weeks to months despite multiple follow-ups. \\n\\nHowever, for the complaint about EdFinancial Services regarding the unmapped payments, the response indicates that it was closed with an explanation, and the response was timely.\\n\\nIn summary, at least some complaints, such as the case with Maximus Federal Services, appeared to not be handled in a timely manner.'"
            ]
          },
          "execution_count": 21,
          "metadata": {},
          "output_type": "execute_result"
        }
      ],
      "source": [
        "contextual_compression_retrieval_chain.invoke({\"question\" : \"Did any complaints not get handled in a timely manner?\"})[\"response\"].content"
      ]
    },
    {
      "cell_type": "code",
      "execution_count": 22,
      "metadata": {
        "colab": {
          "base_uri": "https://localhost:8080/",
          "height": 70
        },
        "id": "zn1EqaGqweXN",
        "outputId": "42bc5972-4164-46eb-f49d-4272f39bb89b"
      },
      "outputs": [
        {
          "data": {
            "text/plain": [
              "'People failed to pay back their loans mainly due to lack of awareness, misinformation, and communication issues. Some borrowers were unaware that they needed to repay their loans after receiving financial aid, often because financial aid officers did not inform them about repayment requirements. Others faced difficulties because their loan information was transferred without their knowledge or consent, leading to confusion about payment obligations. Additionally, many borrowers encountered problems with their loan servicers, such as incorrect or inconsistent account information, inability to access their online accounts, and inadequate notifications about payments or due dates. \\n\\nFurthermore, borrowers faced challenges related to the accumulation of interest during periods of forbearance or deferment, making it harder to pay off the loan over time. Some found that the available repayment options, like decreased monthly payments, caused their interest to grow faster than they could pay, resulting in increased debt. Collectively, these issues created a situation where borrowers either struggled to keep up with payments or were misled about their repayment obligations, leading to default or failure to pay back their loans.'"
            ]
          },
          "execution_count": 22,
          "metadata": {},
          "output_type": "execute_result"
        }
      ],
      "source": [
        "contextual_compression_retrieval_chain.invoke({\"question\" : \"Why did people fail to pay back their loans?\"})[\"response\"].content"
      ]
    },
    {
      "cell_type": "markdown",
      "metadata": {
        "id": "OEbT0g2S-mZ4"
      },
      "source": [
        "We'll need to rely on something like Ragas to help us get a better sense of how this is performing overall - but it \"feels\" better!"
      ]
    },
    {
      "cell_type": "markdown",
      "metadata": {
        "id": "qqbghrBEQNn5"
      },
      "source": [
        "## Task 7: Multi-Query Retriever\n",
        "\n",
        "Typically in RAG we have a single query - the one provided by the user.\n",
        "\n",
        "What if we had....more than one query!\n",
        "\n",
        "In essence, a Multi-Query Retriever works by:\n",
        "\n",
        "1. Taking the original user query and creating `n` number of new user queries using an LLM.\n",
        "2. Retrieving documents for each query.\n",
        "3. Using all unique retrieved documents as context\n",
        "\n",
        "So, how is it to set-up? Not bad! Let's see it down below!\n",
        "\n"
      ]
    },
    {
      "cell_type": "code",
      "execution_count": 23,
      "metadata": {
        "id": "pfM26ReXQjzU"
      },
      "outputs": [],
      "source": [
        "from langchain.retrievers.multi_query import MultiQueryRetriever\n",
        "\n",
        "multi_query_retriever = MultiQueryRetriever.from_llm(\n",
        "    retriever=naive_retriever, llm=chat_model\n",
        ")"
      ]
    },
    {
      "cell_type": "code",
      "execution_count": 24,
      "metadata": {
        "id": "1vRc129jQ5WW"
      },
      "outputs": [],
      "source": [
        "multi_query_retrieval_chain = (\n",
        "    {\"context\": itemgetter(\"question\") | multi_query_retriever, \"question\": itemgetter(\"question\")}\n",
        "    | RunnablePassthrough.assign(context=itemgetter(\"context\"))\n",
        "    | {\"response\": rag_prompt | chat_model, \"context\": itemgetter(\"context\")}\n",
        ")"
      ]
    },
    {
      "cell_type": "code",
      "execution_count": 25,
      "metadata": {
        "colab": {
          "base_uri": "https://localhost:8080/",
          "height": 53
        },
        "id": "CGgNuOb3Q3M9",
        "outputId": "c5273ecf-da35-40b8-fbdb-0f8beab425f7"
      },
      "outputs": [
        {
          "data": {
            "text/plain": [
              "'Based on the provided complaints and concerns, the most common issues with loans, particularly student loans, appear to be:\\n\\n- Trouble with how payments are being handled, including misapplied payments, cancellations, or delays in processing payments.\\n- Errors in loan balances, interest calculations, and inaccurate reporting of account status to credit bureaus.\\n- Lack of proper communication or notification from servicers regarding loan status, default, or transfer of loan ownership.\\n- Unauthorized access or transfer of loans without proper notice.\\n- Problems with loan forgiveness, cancellation, or discharge not being processed correctly.\\n- Disputes over incorrect or outdated information on credit reports.\\n- Harassment or repeated calls without resolution.\\n\\nOverall, a key and recurring theme is **mismanagement and communication issues by loan servicers**, leading to errors in account status, incorrect reporting, and financial hardship for borrowers. This includes failure to notify borrowers of important changes, mishandling payments, and inaccurate information affecting credit scores.\\n\\nIf you have further questions or need assistance, please let me know!'"
            ]
          },
          "execution_count": 25,
          "metadata": {},
          "output_type": "execute_result"
        }
      ],
      "source": [
        "multi_query_retrieval_chain.invoke({\"question\" : \"What is the most common issue with loans?\"})[\"response\"].content"
      ]
    },
    {
      "cell_type": "code",
      "execution_count": 26,
      "metadata": {
        "colab": {
          "base_uri": "https://localhost:8080/",
          "height": 36
        },
        "id": "aAlSthxrRDBC",
        "outputId": "230ff807-23ae-4d25-8d11-cfdbed0b77cb"
      },
      "outputs": [
        {
          "data": {
            "text/plain": [
              "'Based on the information provided in the context, yes, some complaints were not handled in a timely manner. For example, one complaint filed on 04/18/25 with EdFinancial Services was responded to \"Closed with explanation\" and marked as \"Timely response?\": Yes, but the complainant indicated ongoing issues with delayed or unaddressed concerns spanning over months, including unrecorded payments and failure to respond adequately. \\n\\nAdditionally, a complaint against Mohela reported delays in processing documentation and continued reporting of delinquency despite proof of payments, with wait times for customer service exceeding 3 hours and messages left without reply. Another complaint regarding a dispute settlement with Nelnet noted that over 30 days had passed without response.\\n\\nFurthermore, there are multiple complaints where the issue persisted for months or over a year without proper resolution or acknowledgment, indicating that some complaints did not get handled promptly.\\n\\nIn summary, while some responses were marked as timely, numerous complaints reflect unresolved or delayed handling, implying that not all complaints were managed in a timely manner.'"
            ]
          },
          "execution_count": 26,
          "metadata": {},
          "output_type": "execute_result"
        }
      ],
      "source": [
        "multi_query_retrieval_chain.invoke({\"question\" : \"Did any complaints not get handled in a timely manner?\"})[\"response\"].content"
      ]
    },
    {
      "cell_type": "code",
      "execution_count": 27,
      "metadata": {
        "colab": {
          "base_uri": "https://localhost:8080/",
          "height": 88
        },
        "id": "Uv1mpCK8REs4",
        "outputId": "00fbc22a-ed9b-4613-9695-0b179e3f8369"
      },
      "outputs": [
        {
          "data": {
            "text/plain": [
              "'People failed to pay back their loans mainly because of financial hardships, mismanagement, and lack of clear information about repayment options. Many borrowers faced difficulties such as not qualifying for forgiveness programs, experiencing unexpected interest accumulation due to forbearance or deferment, or being misled about repayment obligations. Additionally, systemic issues like poor communication from lenders and servicers, incorrect reporting of account status, and obstacles in managing payments contributed to their inability to repay loans. In some cases, borrowers also encountered longstanding complex procedures, unreliable customer support, or were steered into arrangements like long-term forbearance that increased their debt over time, making repayment unmanageable.\\n\\nIf you need more specific details or examples from the complaints, I can provide that as well.'"
            ]
          },
          "execution_count": 27,
          "metadata": {},
          "output_type": "execute_result"
        }
      ],
      "source": [
        "multi_query_retrieval_chain.invoke({\"question\" : \"Why did people fail to pay back their loans?\"})[\"response\"].content"
      ]
    },
    {
      "cell_type": "markdown",
      "metadata": {},
      "source": [
        "#### ❓ Question #2:\n",
        "\n",
        "Explain how generating multiple reformulations of a user query can improve recall.\n",
        "\n",
        "##### ✅ Answer:\n",
        "Generating multiple reformulations of a user query improves recall in a similar way to how image generators expand user prompts. Just like how an image generator might take a simple prompt like \"dog\" and expand it to \"a golden retriever puppy sitting in a grassy field on a sunny day\" to get more specific and relevant results, the MultiQueryRetriever takes a basic query and generates multiple variations that capture different aspects and phrasings of the same information need.\n",
        "\n",
        "This improves recall because:\n",
        "1. Different phrasings may match different relevant documents that use varying terminology\n",
        "2. Multiple queries explore different semantic angles of the same question\n",
        "3. By casting a wider net with related queries, we're more likely to catch relevant documents that might be missed by a single query\n",
        "4. The LLM can add helpful context and specifications, just like how image generators flesh out scene details\n",
        "\n",
        "For example, a query about \"loan issues\" might be expanded to:\n",
        "\"What are common problems people face with their loan servicers?\"\n",
        "\"What types of complaints do borrowers report about loan payments?\"\n",
        "\"What difficulties do people encounter when dealing with student loan companies?\"\n",
        "Each variation increases the chance of matching relevant documents in the corpus.\n",
        "\n"
      ]
    },
    {
      "cell_type": "markdown",
      "metadata": {
        "id": "EDEawBf_d_3G"
      },
      "source": [
        "## Task 8: Parent Document Retriever\n",
        "\n",
        "A \"small-to-big\" strategy - the Parent Document Retriever works based on a simple strategy:\n",
        "\n",
        "1. Each un-split \"document\" will be designated as a \"parent document\" (You could use larger chunks of document as well, but our data format allows us to consider the overall document as the parent chunk)\n",
        "2. Store those \"parent documents\" in a memory store (not a VectorStore)\n",
        "3. We will chunk each of those documents into smaller documents, and associate them with their respective parents, and store those in a VectorStore. We'll call those \"child chunks\".\n",
        "4. When we query our Retriever, we will do a similarity search comparing our query vector to the \"child chunks\".\n",
        "5. Instead of returning the \"child chunks\", we'll return their associated \"parent chunks\".\n",
        "\n",
        "Okay, maybe that was a few steps - but the basic idea is this:\n",
        "\n",
        "- Search for small documents\n",
        "- Return big documents\n",
        "\n",
        "The intuition is that we're likely to find the most relevant information by limiting the amount of semantic information that is encoded in each embedding vector - but we're likely to miss relevant surrounding context if we only use that information.\n",
        "\n",
        "Let's start by creating our \"parent documents\" and defining a `RecursiveCharacterTextSplitter`."
      ]
    },
    {
      "cell_type": "code",
      "execution_count": 28,
      "metadata": {
        "id": "qJ53JJuMd_ZH"
      },
      "outputs": [],
      "source": [
        "from langchain.retrievers import ParentDocumentRetriever\n",
        "from langchain.storage import InMemoryStore\n",
        "from langchain_text_splitters import RecursiveCharacterTextSplitter\n",
        "from qdrant_client import QdrantClient, models\n",
        "\n",
        "parent_docs = loan_complaint_data\n",
        "child_splitter = RecursiveCharacterTextSplitter(chunk_size=750)"
      ]
    },
    {
      "cell_type": "markdown",
      "metadata": {
        "id": "oOpXfVUH3gL3"
      },
      "source": [
        "We'll need to set up a new QDrant vectorstore - and we'll use another useful pattern to do so!\n",
        "\n",
        "> NOTE: We are manually defining our embedding dimension, you'll need to change this if you're using a different embedding model."
      ]
    },
    {
      "cell_type": "code",
      "execution_count": 29,
      "metadata": {
        "colab": {
          "base_uri": "https://localhost:8080/"
        },
        "id": "rzFc-_9HlGQ-",
        "outputId": "223662dd-c36f-42f7-d1b0-b086e571484e"
      },
      "outputs": [],
      "source": [
        "from langchain_qdrant import QdrantVectorStore\n",
        "\n",
        "client = QdrantClient(location=\":memory:\")\n",
        "\n",
        "client.create_collection(\n",
        "    collection_name=\"full_documents\",\n",
        "    vectors_config=models.VectorParams(size=1536, distance=models.Distance.COSINE)\n",
        ")\n",
        "\n",
        "parent_document_vectorstore = QdrantVectorStore(\n",
        "    collection_name=\"full_documents\", embedding=OpenAIEmbeddings(model=\"text-embedding-3-small\"), client=client\n",
        ")"
      ]
    },
    {
      "cell_type": "markdown",
      "metadata": {
        "id": "sf_g95FA3s6w"
      },
      "source": [
        "Now we can create our `InMemoryStore` that will hold our \"parent documents\" - and build our retriever!"
      ]
    },
    {
      "cell_type": "code",
      "execution_count": 30,
      "metadata": {
        "id": "BpWVjPf4fLUp"
      },
      "outputs": [],
      "source": [
        "store = InMemoryStore()\n",
        "\n",
        "parent_document_retriever = ParentDocumentRetriever(\n",
        "    vectorstore = parent_document_vectorstore,\n",
        "    docstore=store,\n",
        "    child_splitter=child_splitter,\n",
        ")"
      ]
    },
    {
      "cell_type": "markdown",
      "metadata": {
        "id": "KoYmSWfE32Zo"
      },
      "source": [
        "By default, this is empty as we haven't added any documents - let's add some now!"
      ]
    },
    {
      "cell_type": "code",
      "execution_count": 31,
      "metadata": {
        "id": "iQ2ZzfKigMZc"
      },
      "outputs": [],
      "source": [
        "parent_document_retriever.add_documents(parent_docs, ids=None)"
      ]
    },
    {
      "cell_type": "markdown",
      "metadata": {
        "id": "bI7Tip1335rE"
      },
      "source": [
        "We'll create the same chain we did before - but substitute our new `parent_document_retriever`."
      ]
    },
    {
      "cell_type": "code",
      "execution_count": 32,
      "metadata": {
        "id": "Qq_adt2KlSqp"
      },
      "outputs": [],
      "source": [
        "parent_document_retrieval_chain = (\n",
        "    {\"context\": itemgetter(\"question\") | parent_document_retriever, \"question\": itemgetter(\"question\")}\n",
        "    | RunnablePassthrough.assign(context=itemgetter(\"context\"))\n",
        "    | {\"response\": rag_prompt | chat_model, \"context\": itemgetter(\"context\")}\n",
        ")"
      ]
    },
    {
      "cell_type": "markdown",
      "metadata": {
        "id": "jNolUVQb4Apt"
      },
      "source": [
        "Let's give it a whirl!"
      ]
    },
    {
      "cell_type": "code",
      "execution_count": 33,
      "metadata": {
        "colab": {
          "base_uri": "https://localhost:8080/",
          "height": 70
        },
        "id": "TXB5i89Zly5W",
        "outputId": "94c240be-7c5b-4c58-9eee-56d93285a054"
      },
      "outputs": [
        {
          "data": {
            "text/plain": [
              "'The most common issue with loans, based on the provided complaints, appears to be related to misconduct by loan servicers, including errors in loan balances, misapplied payments, wrongful denials of payment plans, and issues with loan reporting and legitimacy. Many complaints involve inaccurate information on credit reports, unexpected interest rate increases, and difficulties in managing or understanding loan accounts.'"
            ]
          },
          "execution_count": 33,
          "metadata": {},
          "output_type": "execute_result"
        }
      ],
      "source": [
        "parent_document_retrieval_chain.invoke({\"question\" : \"What is the most common issue with loans?\"})[\"response\"].content"
      ]
    },
    {
      "cell_type": "code",
      "execution_count": 34,
      "metadata": {
        "colab": {
          "base_uri": "https://localhost:8080/",
          "height": 36
        },
        "id": "V5F1T-wNl3cg",
        "outputId": "9b81e72e-5db7-4b8a-b25b-400ea0df5335"
      },
      "outputs": [
        {
          "data": {
            "text/plain": [
              "'Based on the provided complaints, it appears that at least one complaint was not handled in a timely manner. Specifically, the complaint lodged with MOHELA regarding the unprocessed graduate loan application (Complaint ID: 12709087) indicates that the consumer was told it would take 15 days for someone to reach out, but as of the date of the complaint, no one had contacted them. Additionally, similar complaints about delays and unresolved issues with Mohela suggest that timely handling was not achieved. \\n\\nTherefore, yes, there were complaints that did not get handled in a timely manner.'"
            ]
          },
          "execution_count": 34,
          "metadata": {},
          "output_type": "execute_result"
        }
      ],
      "source": [
        "parent_document_retrieval_chain.invoke({\"question\" : \"Did any complaints not get handled in a timely manner?\"})[\"response\"].content"
      ]
    },
    {
      "cell_type": "code",
      "execution_count": 35,
      "metadata": {
        "colab": {
          "base_uri": "https://localhost:8080/",
          "height": 70
        },
        "id": "ZqARszGzvGcG",
        "outputId": "8867f83c-db13-4db4-d57f-9bd51d32cd8a"
      },
      "outputs": [
        {
          "data": {
            "text/plain": [
              "'People failed to pay back their loans primarily due to various issues such as being unaware of payment obligations, experiencing severe financial hardship, and facing challenges related to loan mismanagement. For example, some individuals had their payments incorrectly resumed before the end of the grace period without proper notification, or they were not informed about when payments were due. Others faced difficulties because their educational institution misrepresented the value of their degree, closed unexpectedly, and failed to provide adequate financial guidance, leading to long-term financial hardship and inability to repay loans. Additionally, issues like unverified debts, legal complications, and poor communication from loan servicers have also contributed to difficulties in repayment.'"
            ]
          },
          "execution_count": 35,
          "metadata": {},
          "output_type": "execute_result"
        }
      ],
      "source": [
        "parent_document_retrieval_chain.invoke({\"question\" : \"Why did people fail to pay back their loans?\"})[\"response\"].content"
      ]
    },
    {
      "cell_type": "markdown",
      "metadata": {
        "id": "B41cj42s4DPM"
      },
      "source": [
        "Overall, the performance *seems* largely the same. We can leverage a tool like [Ragas]() to more effectively answer the question about the performance."
      ]
    },
    {
      "cell_type": "markdown",
      "metadata": {
        "id": "VUrIBKl_TwS9"
      },
      "source": [
        "## Task 9: Ensemble Retriever\n",
        "\n",
        "In brief, an Ensemble Retriever simply takes 2, or more, retrievers and combines their retrieved documents based on a rank-fusion algorithm.\n",
        "\n",
        "In this case - we're using the [Reciprocal Rank Fusion](https://plg.uwaterloo.ca/~gvcormac/cormacksigir09-rrf.pdf) algorithm.\n",
        "\n",
        "Setting it up is as easy as providing a list of our desired retrievers - and the weights for each retriever."
      ]
    },
    {
      "cell_type": "code",
      "execution_count": 36,
      "metadata": {
        "id": "8j7jpZsKTxic"
      },
      "outputs": [],
      "source": [
        "from langchain.retrievers import EnsembleRetriever\n",
        "\n",
        "retriever_list = [bm25_retriever, naive_retriever, parent_document_retriever, compression_retriever, multi_query_retriever]\n",
        "equal_weighting = [1/len(retriever_list)] * len(retriever_list)\n",
        "\n",
        "ensemble_retriever = EnsembleRetriever(\n",
        "    retrievers=retriever_list, weights=equal_weighting\n",
        ")"
      ]
    },
    {
      "cell_type": "markdown",
      "metadata": {
        "id": "kpo9Psl5hhJ-"
      },
      "source": [
        "We'll pack *all* of these retrievers together in an ensemble."
      ]
    },
    {
      "cell_type": "code",
      "execution_count": 37,
      "metadata": {
        "id": "KZ__EZwpUKkd"
      },
      "outputs": [],
      "source": [
        "ensemble_retrieval_chain = (\n",
        "    {\"context\": itemgetter(\"question\") | ensemble_retriever, \"question\": itemgetter(\"question\")}\n",
        "    | RunnablePassthrough.assign(context=itemgetter(\"context\"))\n",
        "    | {\"response\": rag_prompt | chat_model, \"context\": itemgetter(\"context\")}\n",
        ")"
      ]
    },
    {
      "cell_type": "markdown",
      "metadata": {
        "id": "SSsvHpRMj24L"
      },
      "source": [
        "Let's look at our results!"
      ]
    },
    {
      "cell_type": "code",
      "execution_count": 38,
      "metadata": {
        "colab": {
          "base_uri": "https://localhost:8080/",
          "height": 70
        },
        "id": "0lMvqL88UQI-",
        "outputId": "d86dd5f7-0a13-4836-c0ce-cc4c431fd889"
      },
      "outputs": [
        {
          "data": {
            "text/plain": [
              "\"The most common issue with loans, based on the provided complaints, appears to be dealing with the lender or servicer, specifically problems related to inaccurate or misleading information, errors in loan balances, misapplied payments, wrongful denials of repayment or forgiveness, and poor communication or lack of transparency from the loan servicers. These issues frequently lead to negative impacts on borrowers' credit reports, scores, and financial well-being.\""
            ]
          },
          "execution_count": 38,
          "metadata": {},
          "output_type": "execute_result"
        }
      ],
      "source": [
        "ensemble_retrieval_chain.invoke({\"question\" : \"What is the most common issue with loans?\"})[\"response\"].content"
      ]
    },
    {
      "cell_type": "code",
      "execution_count": 39,
      "metadata": {
        "colab": {
          "base_uri": "https://localhost:8080/",
          "height": 53
        },
        "id": "MNFWLYECURI1",
        "outputId": "b17973b5-66a9-4481-97d5-880b5754b5c5"
      },
      "outputs": [
        {
          "data": {
            "text/plain": [
              "'Yes, some complaints were not handled in a timely manner. For example, one complaint (Complaint ID: 12935889) filed on 04/11/25 by Mohela had a response marked as \"No\" for being timely, indicating it was handled past the expected timeframe. Additionally, several other complaints, such as those involving unresolved issues with student loan servicing and credit reporting errors, show delays in responses or resolutions despite ongoing follow-up efforts.'"
            ]
          },
          "execution_count": 39,
          "metadata": {},
          "output_type": "execute_result"
        }
      ],
      "source": [
        "ensemble_retrieval_chain.invoke({\"question\" : \"Did any complaints not get handled in a timely manner?\"})[\"response\"].content"
      ]
    },
    {
      "cell_type": "code",
      "execution_count": 40,
      "metadata": {
        "colab": {
          "base_uri": "https://localhost:8080/",
          "height": 88
        },
        "id": "A7qbHfWgUR4c",
        "outputId": "f7373144-59ef-4fc7-b75d-ca00e7df881e"
      },
      "outputs": [
        {
          "data": {
            "text/plain": [
              "\"People failed to pay back their loans primarily due to several interconnected reasons highlighted in the complaints:\\n\\n1. **Complex and Opaque Repayment Options:** Borrowers often were not adequately informed about available repayment plans like income-driven repayment, rehabilitation, or forgiveness programs, leading them to rely on forbearance or deferment, which often resulted in accruing interest and growing balances.\\n\\n2. **Mismanagement and Lack of Communication:** Many borrowers reported that loan servicers failed to notify them of important changes, such as transfer of loan accounts, upcoming payments, or delinquency notices—sometimes delivering notices via email or mail they did not receive—leading to unintentional delinquencies.\\n\\n3. **Interest Accumulation and Compounding:** A common theme was the escalation of debt due to unanticipated interest, especially when loans were placed into long-term forbearance, which allowed interest to accrue and capitalize, increasing the total repayment burden.\\n\\n4. **Difficulty Applying Payments Properly:** Some borrowers experienced issues with loan servicers not applying payments toward principal, or having payments reversed, further complicating repayment efforts and increasing balances.\\n\\n5. **Financial Hardship and Unemployment:** Many borrowers faced severe financial hardships, unemployment, medical issues, or unexpected life crises that made consistent repayment impossible despite their willingness to pay.\\n\\n6. **Lack of Transparency and Unfair Practices:** Several complaints addressed improper reporting to credit bureaus, wrongful delinquency notices, and illegal account handling, which undermined borrowers' credit scores and financial stability.\\n\\n7. **Misleading or Inaccurate Information:** Borrowers felt misled about their debt, repayment obligations, and options, which sometimes resulted in them being in default despite not intending to default.\\n\\nIn summary, persistent failure to pay back loans was often caused by a combination of mismanagement by servicers, lack of clear information about repayment options, interest accumulation, and genuine financial hardships.\""
            ]
          },
          "execution_count": 40,
          "metadata": {},
          "output_type": "execute_result"
        }
      ],
      "source": [
        "ensemble_retrieval_chain.invoke({\"question\" : \"Why did people fail to pay back their loans?\"})[\"response\"].content"
      ]
    },
    {
      "cell_type": "markdown",
      "metadata": {
        "id": "MopbkNJAXVaN"
      },
      "source": [
        "## Task 10: Semantic Chunking\n",
        "\n",
        "While this is not a retrieval method - it *is* an effective way of increasing retrieval performance on corpora that have clean semantic breaks in them.\n",
        "\n",
        "Essentially, Semantic Chunking is implemented by:\n",
        "\n",
        "1. Embedding all sentences in the corpus.\n",
        "2. Combining or splitting sequences of sentences based on their semantic similarity based on a number of [possible thresholding methods](https://python.langchain.com/docs/how_to/semantic-chunker/):\n",
        "  - `percentile`\n",
        "  - `standard_deviation`\n",
        "  - `interquartile`\n",
        "  - `gradient`\n",
        "3. Each sequence of related sentences is kept as a document!\n",
        "\n",
        "Let's see how to implement this!"
      ]
    },
    {
      "cell_type": "markdown",
      "metadata": {
        "id": "U9ciZbFEldv_"
      },
      "source": [
        "We'll use the `percentile` thresholding method for this example which will:\n",
        "\n",
        "Calculate all distances between sentences, and then break apart sequences of setences that exceed a given percentile among all distances."
      ]
    },
    {
      "cell_type": "code",
      "execution_count": 41,
      "metadata": {
        "id": "66EIEWiEYl5y"
      },
      "outputs": [],
      "source": [
        "from langchain_experimental.text_splitter import SemanticChunker\n",
        "\n",
        "semantic_chunker = SemanticChunker(\n",
        "    embeddings,\n",
        "    breakpoint_threshold_type=\"percentile\"\n",
        ")"
      ]
    },
    {
      "cell_type": "markdown",
      "metadata": {
        "id": "YqoKmz12mhRW"
      },
      "source": [
        "Now we can split our documents."
      ]
    },
    {
      "cell_type": "code",
      "execution_count": 42,
      "metadata": {
        "id": "ROcV7o68ZIq7"
      },
      "outputs": [],
      "source": [
        "semantic_documents = semantic_chunker.split_documents(loan_complaint_data[:20])"
      ]
    },
    {
      "cell_type": "markdown",
      "metadata": {
        "id": "L8-LNC-Xmjex"
      },
      "source": [
        "Let's create a new vector store."
      ]
    },
    {
      "cell_type": "code",
      "execution_count": 43,
      "metadata": {
        "id": "h3sl9QjyZhIe"
      },
      "outputs": [],
      "source": [
        "semantic_vectorstore = Qdrant.from_documents(\n",
        "    semantic_documents,\n",
        "    embeddings,\n",
        "    location=\":memory:\",\n",
        "    collection_name=\"Loan_Complaint_Data_Semantic_Chunks\"\n",
        ")"
      ]
    },
    {
      "cell_type": "markdown",
      "metadata": {
        "id": "Eh_r_-LHmmKn"
      },
      "source": [
        "We'll use naive retrieval for this example."
      ]
    },
    {
      "cell_type": "code",
      "execution_count": 44,
      "metadata": {
        "id": "odVyDUHwZftc"
      },
      "outputs": [],
      "source": [
        "semantic_retriever = semantic_vectorstore.as_retriever(search_kwargs={\"k\" : 10})"
      ]
    },
    {
      "cell_type": "markdown",
      "metadata": {
        "id": "Mkeiv_ojmp6G"
      },
      "source": [
        "Finally we can create our classic chain!"
      ]
    },
    {
      "cell_type": "code",
      "execution_count": 45,
      "metadata": {
        "id": "xWE_0J0mZveG"
      },
      "outputs": [],
      "source": [
        "semantic_retrieval_chain = (\n",
        "    {\"context\": itemgetter(\"question\") | semantic_retriever, \"question\": itemgetter(\"question\")}\n",
        "    | RunnablePassthrough.assign(context=itemgetter(\"context\"))\n",
        "    | {\"response\": rag_prompt | chat_model, \"context\": itemgetter(\"context\")}\n",
        ")"
      ]
    },
    {
      "cell_type": "markdown",
      "metadata": {
        "id": "R5pfjLQ3ms9_"
      },
      "source": [
        "And view the results!"
      ]
    },
    {
      "cell_type": "code",
      "execution_count": 46,
      "metadata": {
        "colab": {
          "base_uri": "https://localhost:8080/",
          "height": 70
        },
        "id": "0lN2j-e4Z0SD",
        "outputId": "ef483e21-7200-4dfc-b8bf-aed4f23587b2"
      },
      "outputs": [
        {
          "data": {
            "text/plain": [
              "'Based on the provided complaints, a common issue with loans appears to be problems related to loan servicing and reporting, including:\\n\\n- Struggling to repay or issues with repayment plans.\\n- Errors in loan account status, such as loans being reported in default without proper cause.\\n- Disputes over loan information, including incorrect reporting, account status, or unauthorized disclosure.\\n- Difficulties in communication with servicers, delays, or lack of transparency.\\n- Problems with accessing or understanding loan details and documentation.\\n\\nWhile these complaints highlight various specific issues, a recurring theme is dissatisfaction with loan servicing processes, errors in reporting or account status, and communication problems. \\n\\nTherefore, the most common issues seem to involve **errors or disputes related to loan reporting, status, and servicing communications**.'"
            ]
          },
          "execution_count": 46,
          "metadata": {},
          "output_type": "execute_result"
        }
      ],
      "source": [
        "semantic_retrieval_chain.invoke({\"question\" : \"What is the most common issue with loans?\"})[\"response\"].content"
      ]
    },
    {
      "cell_type": "code",
      "execution_count": 47,
      "metadata": {
        "colab": {
          "base_uri": "https://localhost:8080/",
          "height": 53
        },
        "id": "xdqfBH1SZ3f9",
        "outputId": "ed62b2d1-7586-46cc-aaf4-c54192a56155"
      },
      "outputs": [
        {
          "data": {
            "text/plain": [
              "'Based on the provided complaints, all of the complaints indicate that the issues were addressed in a timely manner. Specifically, each complaint shows a response status of \"Closed with explanation,\" and the responses are marked as \"Yes\" for being timely. Therefore, there do not appear to be any complaints that were not handled in a timely manner.'"
            ]
          },
          "execution_count": 47,
          "metadata": {},
          "output_type": "execute_result"
        }
      ],
      "source": [
        "semantic_retrieval_chain.invoke({\"question\" : \"Did any complaints not get handled in a timely manner?\"})[\"response\"].content"
      ]
    },
    {
      "cell_type": "code",
      "execution_count": 48,
      "metadata": {
        "colab": {
          "base_uri": "https://localhost:8080/",
          "height": 70
        },
        "id": "rAcAObZnZ4o6",
        "outputId": "3f1cade3-41e4-4e42-ef71-048dd18e5e3a"
      },
      "outputs": [
        {
          "data": {
            "text/plain": [
              "'People often failed to pay back their loans due to a variety of issues, including:\\n\\n1. Miscommunication or lack of transparency from loan servicers, leading borrowers to be unsure about their loan status or repayment obligations.\\n2. Problems with the handling and verification of documentation, which can delay or complicate forgiveness or discharge processes.\\n3. Disputes over the legitimacy or accuracy of their debt, including incorrect reporting or records showing false defaults.\\n4. Errors or delays in re-amortization after forbearance periods, resulting in higher payments than expected.\\n5. technical or administrative issues, such as payments not being processed correctly despite being made.\\n6. Allegations of improper or illegal collection and reporting practices, which can cause borrowers to believe they are ineligible to repay or have their debts invalidated.\\n7. Personal or financial difficulties, though these are less explicitly mentioned in the provided complaints, can also be a cause in general.\\n\\nIt appears that many borrowers also faced systemic or administrative obstacles, such as unresolved documentation issues, misreporting, or legal disputes, which hindered their ability to repay or pursue forgiveness.'"
            ]
          },
          "execution_count": 48,
          "metadata": {},
          "output_type": "execute_result"
        }
      ],
      "source": [
        "semantic_retrieval_chain.invoke({\"question\" : \"Why did people fail to pay back their loans?\"})[\"response\"].content"
      ]
    },
    {
      "cell_type": "markdown",
      "metadata": {},
      "source": [
        "#### ❓ Question #3:\n",
        "\n",
        "If sentences are short and highly repetitive (e.g., FAQs), how might semantic chunking behave, and how would you adjust the algorithm?\n",
        "\n",
        "##### ✅ Answer:\n",
        "With short, repetitive sentences like FAQs, semantic chunking may face several challenges:\n",
        "\n",
        "1. Overlapping Embeddings: Similar/repetitive sentences will have very similar embeddings, making it harder to distinguish between chunks and potentially leading to redundant retrievals\n",
        "\n",
        "2. Loss of Context: Short sentences may lack sufficient context for the embedding model to capture meaningful semantic relationships\n",
        "\n",
        "3. Inefficient Chunking: The algorithm may create many small chunks that don't effectively group related content\n",
        "\n",
        "To address these issues, you could:\n",
        "\n",
        "Increase chunk size to capture more context around each FAQ\n",
        "Use custom chunking rules that keep question-answer pairs together\n",
        "Add metadata/tags to help distinguish between similar FAQs\n",
        "Consider alternative chunking strategies like combining related FAQs into topical groups\n",
        "Use hybrid retrieval approaches that combine semantic and keyword matching\n"
      ]
    },
    {
      "cell_type": "markdown",
      "metadata": {
        "id": "xk2n3-pnVWDJ"
      },
      "source": [
        "# 🤝 Breakout Room Part #2"
      ]
    },
    {
      "cell_type": "markdown",
      "metadata": {
        "id": "2SkJLYwMVZkj"
      },
      "source": [
        "#### 🏗️ Activity #1\n",
        "\n",
        "Your task is to evaluate the various Retriever methods against eachother.\n",
        "\n",
        "You are expected to:\n",
        "\n",
        "1. Create a \"golden dataset\"\n",
        " - Use Synthetic Data Generation (powered by Ragas, or otherwise) to create this dataset\n",
        "2. Evaluate each retriever with *retriever specific* Ragas metrics\n",
        " - Semantic Chunking is not considered a retriever method and will not be required for marks, but you may find it useful to do a \"semantic chunking on\" vs. \"semantic chunking off\" comparision between them\n",
        "3. Compile these in a list and write a small paragraph about which is best for this particular data and why.\n",
        "\n",
        "Your analysis should factor in:\n",
        "  - Cost\n",
        "  - Latency\n",
        "  - Performance\n",
        "\n",
        "> NOTE: This is **NOT** required to be completed in class. Please spend time in your breakout rooms creating a plan before moving on to writing code."
      ]
    },
    {
      "cell_type": "markdown",
      "metadata": {
        "id": "TWAr16a5XMub"
      },
      "source": [
        "##### HINTS:\n",
        "\n",
        "- LangSmith provides detailed information about latency and cost."
      ]
    },
    {
      "cell_type": "code",
      "execution_count": 49,
      "metadata": {
        "id": "tgDICngKXLGK"
      },
      "outputs": [],
      "source": [
        "from langchain_community.document_loaders import DirectoryLoader\n",
        "from langchain_community.document_loaders import PyMuPDFLoader\n",
        "\n",
        "\n",
        "path = \"data/\"\n",
        "loader = DirectoryLoader(path, glob=\"*.pdf\", loader_cls=PyMuPDFLoader)\n",
        "docs = loader.load()"
      ]
    },
    {
      "cell_type": "code",
      "execution_count": 50,
      "metadata": {},
      "outputs": [],
      "source": [
        "from ragas.llms import LangchainLLMWrapper\n",
        "from ragas.embeddings import LangchainEmbeddingsWrapper\n",
        "from langchain_openai import ChatOpenAI\n",
        "from langchain_openai import OpenAIEmbeddings\n",
        "generator_llm = LangchainLLMWrapper(ChatOpenAI(model=\"gpt-4.1\"))\n",
        "generator_embeddings = LangchainEmbeddingsWrapper(OpenAIEmbeddings())"
      ]
    },
    {
      "cell_type": "code",
      "execution_count": 51,
      "metadata": {},
      "outputs": [
        {
          "data": {
            "application/vnd.jupyter.widget-view+json": {
              "model_id": "7219f30fa253454381ae61b9ae955903",
              "version_major": 2,
              "version_minor": 0
            },
            "text/plain": [
              "Applying HeadlinesExtractor:   0%|          | 0/17 [00:00<?, ?it/s]"
            ]
          },
          "metadata": {},
          "output_type": "display_data"
        },
        {
          "data": {
            "application/vnd.jupyter.widget-view+json": {
              "model_id": "8736285162c04eb19f23050d89de1596",
              "version_major": 2,
              "version_minor": 0
            },
            "text/plain": [
              "Applying HeadlineSplitter:   0%|          | 0/20 [00:00<?, ?it/s]"
            ]
          },
          "metadata": {},
          "output_type": "display_data"
        },
        {
          "name": "stderr",
          "output_type": "stream",
          "text": [
            "unable to apply transformation: 'headlines' property not found in this node\n",
            "unable to apply transformation: 'headlines' property not found in this node\n",
            "unable to apply transformation: 'headlines' property not found in this node\n"
          ]
        },
        {
          "data": {
            "application/vnd.jupyter.widget-view+json": {
              "model_id": "5b4afcfcb14d4b73b56666c61783a416",
              "version_major": 2,
              "version_minor": 0
            },
            "text/plain": [
              "Applying SummaryExtractor:   0%|          | 0/31 [00:00<?, ?it/s]"
            ]
          },
          "metadata": {},
          "output_type": "display_data"
        },
        {
          "name": "stderr",
          "output_type": "stream",
          "text": [
            "Property 'summary' already exists in node 'f85bbf'. Skipping!\n",
            "Property 'summary' already exists in node '418762'. Skipping!\n",
            "Property 'summary' already exists in node '9a591f'. Skipping!\n",
            "Property 'summary' already exists in node 'c77b54'. Skipping!\n",
            "Property 'summary' already exists in node '2e2d9f'. Skipping!\n",
            "Property 'summary' already exists in node '650612'. Skipping!\n",
            "Property 'summary' already exists in node 'ae87a8'. Skipping!\n",
            "Property 'summary' already exists in node 'b678f1'. Skipping!\n",
            "Property 'summary' already exists in node '7c757a'. Skipping!\n",
            "Property 'summary' already exists in node '309804'. Skipping!\n",
            "Property 'summary' already exists in node '043daf'. Skipping!\n",
            "Property 'summary' already exists in node 'c04c06'. Skipping!\n",
            "Property 'summary' already exists in node '73e646'. Skipping!\n",
            "Property 'summary' already exists in node '5f8aa8'. Skipping!\n"
          ]
        },
        {
          "data": {
            "application/vnd.jupyter.widget-view+json": {
              "model_id": "4b6f06dc1e914f9e944199d7668c9fb4",
              "version_major": 2,
              "version_minor": 0
            },
            "text/plain": [
              "Applying CustomNodeFilter:   0%|          | 0/6 [00:00<?, ?it/s]"
            ]
          },
          "metadata": {},
          "output_type": "display_data"
        },
        {
          "data": {
            "application/vnd.jupyter.widget-view+json": {
              "model_id": "8fe864371ce04479b0c7a9579e732316",
              "version_major": 2,
              "version_minor": 0
            },
            "text/plain": [
              "Applying [EmbeddingExtractor, ThemesExtractor, NERExtractor]:   0%|          | 0/41 [00:00<?, ?it/s]"
            ]
          },
          "metadata": {},
          "output_type": "display_data"
        },
        {
          "name": "stderr",
          "output_type": "stream",
          "text": [
            "Property 'summary_embedding' already exists in node '9a591f'. Skipping!\n",
            "Property 'summary_embedding' already exists in node '73e646'. Skipping!\n",
            "Property 'summary_embedding' already exists in node 'c04c06'. Skipping!\n",
            "Property 'summary_embedding' already exists in node 'ae87a8'. Skipping!\n",
            "Property 'summary_embedding' already exists in node '5f8aa8'. Skipping!\n",
            "Property 'summary_embedding' already exists in node '043daf'. Skipping!\n",
            "Property 'summary_embedding' already exists in node '650612'. Skipping!\n",
            "Property 'summary_embedding' already exists in node '418762'. Skipping!\n",
            "Property 'summary_embedding' already exists in node 'b678f1'. Skipping!\n",
            "Property 'summary_embedding' already exists in node '7c757a'. Skipping!\n",
            "Property 'summary_embedding' already exists in node '2e2d9f'. Skipping!\n",
            "Property 'summary_embedding' already exists in node 'f85bbf'. Skipping!\n",
            "Property 'summary_embedding' already exists in node '309804'. Skipping!\n",
            "Property 'summary_embedding' already exists in node 'c77b54'. Skipping!\n"
          ]
        },
        {
          "data": {
            "application/vnd.jupyter.widget-view+json": {
              "model_id": "99c180a4532c428882ff83abea2dfebd",
              "version_major": 2,
              "version_minor": 0
            },
            "text/plain": [
              "Applying [CosineSimilarityBuilder, OverlapScoreBuilder]:   0%|          | 0/2 [00:00<?, ?it/s]"
            ]
          },
          "metadata": {},
          "output_type": "display_data"
        },
        {
          "data": {
            "application/vnd.jupyter.widget-view+json": {
              "model_id": "eb0e115772504c5ead0474e73f3ddb21",
              "version_major": 2,
              "version_minor": 0
            },
            "text/plain": [
              "Generating personas:   0%|          | 0/3 [00:00<?, ?it/s]"
            ]
          },
          "metadata": {},
          "output_type": "display_data"
        },
        {
          "data": {
            "application/vnd.jupyter.widget-view+json": {
              "model_id": "9689e3cd33bc420f92a7ae578b3ba39b",
              "version_major": 2,
              "version_minor": 0
            },
            "text/plain": [
              "Generating Scenarios:   0%|          | 0/3 [00:00<?, ?it/s]"
            ]
          },
          "metadata": {},
          "output_type": "display_data"
        },
        {
          "data": {
            "application/vnd.jupyter.widget-view+json": {
              "model_id": "2acada684a1f4beabe51385325bdbc4a",
              "version_major": 2,
              "version_minor": 0
            },
            "text/plain": [
              "Generating Samples:   0%|          | 0/12 [00:00<?, ?it/s]"
            ]
          },
          "metadata": {},
          "output_type": "display_data"
        }
      ],
      "source": [
        "from ragas.testset import TestsetGenerator\n",
        "\n",
        "generator = TestsetGenerator(\n",
        "    llm=generator_llm, embedding_model=generator_embeddings)\n",
        "dataset = generator.generate_with_langchain_docs(docs[:20], testset_size=10)"
      ]
    },
    {
      "cell_type": "code",
      "execution_count": 52,
      "metadata": {},
      "outputs": [
        {
          "data": {
            "text/html": [
              "<div>\n",
              "<style scoped>\n",
              "    .dataframe tbody tr th:only-of-type {\n",
              "        vertical-align: middle;\n",
              "    }\n",
              "\n",
              "    .dataframe tbody tr th {\n",
              "        vertical-align: top;\n",
              "    }\n",
              "\n",
              "    .dataframe thead th {\n",
              "        text-align: right;\n",
              "    }\n",
              "</style>\n",
              "<table border=\"1\" class=\"dataframe\">\n",
              "  <thead>\n",
              "    <tr style=\"text-align: right;\">\n",
              "      <th></th>\n",
              "      <th>user_input</th>\n",
              "      <th>reference_contexts</th>\n",
              "      <th>reference</th>\n",
              "      <th>synthesizer_name</th>\n",
              "    </tr>\n",
              "  </thead>\n",
              "  <tbody>\n",
              "    <tr>\n",
              "      <th>0</th>\n",
              "      <td>What is BBAY 2 in the context of monitoring Di...</td>\n",
              "      <td>[non-term (includes clock-hour calendars), or ...</td>\n",
              "      <td>BBAY 2 is one of the options, along with Sched...</td>\n",
              "      <td>single_hop_specifc_query_synthesizer</td>\n",
              "    </tr>\n",
              "    <tr>\n",
              "      <th>1</th>\n",
              "      <td>How do skool districs affect the includsion of...</td>\n",
              "      <td>[Inclusion of Clinical Work in a Standard Term...</td>\n",
              "      <td>School districts may affect the inclusion of c...</td>\n",
              "      <td>single_hop_specifc_query_synthesizer</td>\n",
              "    </tr>\n",
              "    <tr>\n",
              "      <th>2</th>\n",
              "      <td>Is the Federal Work-Study program subject to p...</td>\n",
              "      <td>[Non-Term Characteristics A program that measu...</td>\n",
              "      <td>The payment period is applicable to all Title ...</td>\n",
              "      <td>single_hop_specifc_query_synthesizer</td>\n",
              "    </tr>\n",
              "    <tr>\n",
              "      <th>3</th>\n",
              "      <td>How Direct Loan work if student finish more ho...</td>\n",
              "      <td>[both the credit or clock hours and the weeks ...</td>\n",
              "      <td>If a student in a clock-hour or non-term credi...</td>\n",
              "      <td>single_hop_specifc_query_synthesizer</td>\n",
              "    </tr>\n",
              "    <tr>\n",
              "      <th>4</th>\n",
              "      <td>How do the disbursement requirements for feder...</td>\n",
              "      <td>[&lt;1-hop&gt;\\n\\nboth the credit or clock hours and...</td>\n",
              "      <td>In clock-hour or non-term credit-hour programs...</td>\n",
              "      <td>multi_hop_abstract_query_synthesizer</td>\n",
              "    </tr>\n",
              "  </tbody>\n",
              "</table>\n",
              "</div>"
            ],
            "text/plain": [
              "                                          user_input  \\\n",
              "0  What is BBAY 2 in the context of monitoring Di...   \n",
              "1  How do skool districs affect the includsion of...   \n",
              "2  Is the Federal Work-Study program subject to p...   \n",
              "3  How Direct Loan work if student finish more ho...   \n",
              "4  How do the disbursement requirements for feder...   \n",
              "\n",
              "                                  reference_contexts  \\\n",
              "0  [non-term (includes clock-hour calendars), or ...   \n",
              "1  [Inclusion of Clinical Work in a Standard Term...   \n",
              "2  [Non-Term Characteristics A program that measu...   \n",
              "3  [both the credit or clock hours and the weeks ...   \n",
              "4  [<1-hop>\\n\\nboth the credit or clock hours and...   \n",
              "\n",
              "                                           reference  \\\n",
              "0  BBAY 2 is one of the options, along with Sched...   \n",
              "1  School districts may affect the inclusion of c...   \n",
              "2  The payment period is applicable to all Title ...   \n",
              "3  If a student in a clock-hour or non-term credi...   \n",
              "4  In clock-hour or non-term credit-hour programs...   \n",
              "\n",
              "                       synthesizer_name  \n",
              "0  single_hop_specifc_query_synthesizer  \n",
              "1  single_hop_specifc_query_synthesizer  \n",
              "2  single_hop_specifc_query_synthesizer  \n",
              "3  single_hop_specifc_query_synthesizer  \n",
              "4  multi_hop_abstract_query_synthesizer  "
            ]
          },
          "execution_count": 52,
          "metadata": {},
          "output_type": "execute_result"
        }
      ],
      "source": [
        "dataset.to_pandas().head()"
      ]
    },
    {
      "cell_type": "code",
      "execution_count": 53,
      "metadata": {},
      "outputs": [],
      "source": [
        "# Import required libraries for evaluation\n",
        "from ragas.metrics import ContextPrecision, ContextRecall, ContextRelevance\n",
        "from ragas import evaluate\n",
        "from ragas.llms import LangchainLLMWrapper\n",
        "from ragas.embeddings import LangchainEmbeddingsWrapper\n",
        "from ragas.dataset_schema import SingleTurnSample, EvaluationDataset\n",
        "import pandas as pd\n",
        "import time\n",
        "from langsmith import traceable\n",
        "from datetime import datetime\n",
        "import os\n",
        "import getpass"
      ]
    },
    {
      "cell_type": "code",
      "execution_count": 74,
      "metadata": {},
      "outputs": [
        {
          "name": "stdout",
          "output_type": "stream",
          "text": [
            "✅ LangSmith tracing enabled!\n",
            "🔗 Visit https://smith.langchain.com to view your traces\n"
          ]
        }
      ],
      "source": [
        "# # Get LangSmith API key\n",
        "# langsmith_key = getpass.getpass(\"LangSmith API Key:\")\n",
        "os.environ[\"LANGSMITH_API_KEY\"] = \"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\"\n",
        "\n",
        "# Enable LangSmith tracing\n",
        "os.environ[\"LANGSMITH_TRACING\"] = \"true\"\n",
        "#os.environ[\"LANGSMITH_PROJECT\"] = \"retriever-evaluation-max\"\n",
        "os.environ[\"LANGSMITH_ENDPOINT\"] = \"https://api.smith.langchain.com\"\n",
        "\n",
        "print(\"✅ LangSmith tracing enabled!\")\n",
        "#print(f\"📊 Project: {os.environ['LANGSMITH_PROJECT']}\")\n",
        "print(\"🔗 Visit https://smith.langchain.com to view your traces\")"
      ]
    },
    {
      "cell_type": "code",
      "execution_count": null,
      "metadata": {},
      "outputs": [
        {
          "name": "stdout",
          "output_type": "stream",
          "text": [
            "RAGAS evaluator setup complete!\n"
          ]
        }
      ],
      "source": [
        "# Create LLM with rate limit handling\n",
        "from langchain.chat_models import ChatOpenAI\n",
        "from langchain.schema.output_parser import BaseOutputParser\n",
        "import time\n",
        "\n",
        "class RateLimitRetryLLM(ChatOpenAI):\n",
        "    def __init__(self, *args, max_retries=5, **kwargs):\n",
        "        super().__init__(*args, **kwargs)\n",
        "        self.max_retries = max_retries\n",
        "    \n",
        "    def invoke(self, *args, **kwargs):\n",
        "        for attempt in range(self.max_retries):\n",
        "            try:\n",
        "                return super().invoke(*args, **kwargs)\n",
        "            except Exception as e:\n",
        "                if \"rate_limit\" in str(e).lower() and attempt < self.max_retries - 1:\n",
        "                    wait_time = 1 + attempt * 2  # Exponential backoff\n",
        "                    print(f\"\\n⏳ Rate limit hit, waiting {wait_time}s before retry...\")\n",
        "                    time.sleep(wait_time)\n",
        "                    continue\n",
        "                raise\n",
        "\n",
        "evaluator_llm = LangchainLLMWrapper(RateLimitRetryLLM(\n",
        "    model=\"gpt-4.1-mini\",\n",
        "    max_retries=5,\n",
        "    request_timeout=30\n",
        "))\n",
        "evaluator_embeddings = LangchainEmbeddingsWrapper(OpenAIEmbeddings())\n",
        "\n",
        "# Define RAGAS metrics for retriever evaluation\n",
        "ragas_metrics = [\n",
        "    ContextPrecision(llm=evaluator_llm),\n",
        "    ContextRecall(llm=evaluator_llm), \n",
        "    ContextRelevance(llm=evaluator_llm)\n",
        "]\n",
        "\n",
        "print(\"RAGAS evaluator setup complete with rate limit handling!\")"
      ]
    },
    {
      "cell_type": "code",
      "execution_count": 56,
      "metadata": {},
      "outputs": [
        {
          "name": "stdout",
          "output_type": "stream",
          "text": [
            "Created 12 evaluation samples\n",
            "Sample structure: dict_keys(['user_input', 'reference_contexts', 'reference'])\n"
          ]
        }
      ],
      "source": [
        "# Convert the generated dataset to RAGAS format\n",
        "test_df = dataset.to_pandas()\n",
        "\n",
        "# Create evaluation samples from the test dataset\n",
        "evaluation_samples = []\n",
        "for idx, row in test_df.iterrows():\n",
        "    sample = {\n",
        "        'user_input': row['user_input'],\n",
        "        'reference_contexts': row['reference_contexts'],\n",
        "        'reference': row['reference']\n",
        "    }\n",
        "    evaluation_samples.append(sample)\n",
        "\n",
        "print(f\"Created {len(evaluation_samples)} evaluation samples\")\n",
        "print(\"Sample structure:\", evaluation_samples[0].keys())"
      ]
    },
    {
      "cell_type": "code",
      "execution_count": 57,
      "metadata": {},
      "outputs": [
        {
          "data": {
            "text/plain": [
              "[{'user_input': 'What is BBAY 2 in the context of monitoring Direct Loan annual loan limit progression?',\n",
              "  'reference_contexts': ['non-term (includes clock-hour calendars), or subscription-based. In a standard term or nonstandard term academic calendar, a term is generally a period in which all classes are scheduled to begin and end within a set time frame, and academic progress is measured in credit hours. In a non-term academic calendar, classes do not begin and end within a set time frame, such as a term. Academic progress in a non-term program can be measured in either credit or clock hours. In some cases (as discussed below), a program with terms must be treated as a non-term program for Title IV purposes. A subscription-based academic calendar is used only by subscription-based programs. A subscription-based program is a term-based program in which the school charges a student for each term on a subscription basis with the expectation that the student will complete a specified number of credit hours (or the equivalent) during that term. However, classes in a subscription-based program are not required to begin or end within a specific timeframe in each term, as is the case in a term-based calendar that is not subscription-based. For more detail on subscription-based programs, see Volume 2, Chapter 2. A subscription-based academic calendar consists of \"subscription periods\" that are either standard terms or substantially equal nonstandard terms (for guidance on when terms are considered to be substantially equal in length, see <Payment periods for programs using standard terms or substantially equal nonstandard terms= later in this chapter). Substantially equal nonstandard terms may be of any length, but if they are not at least nine weeks in length, the program must use BBAY 3 for purposes of monitoring Direct Loan annual loan limit progression (see Volume 8, Chapter 6 for more information on BBAY 3). Nonstandard terms that are not substantially equal in length are not permissible in a subscription-based academic calendar. The term \"subscription period\" is synonymous with \"term\" and \"payment period\" (payment periods are covered later in this chapter). Except for the fact that classes are not required to start and end within a term, the rules and requirements for term-based programs that are not subscription-based also apply to subscription-based programs. These requirements include: minimum and maximum term length restrictions for standard terms (see the discussion in the next section of this chapter); requirements for determining full-time enrollment (see Volume 1, Chapter 1); use of a Scheduled Academic Year (SAY), BBAY 1, BBAY 2, or BBAY 3 for monitoring Direct Loan annual loan limit progression (see Volume 8, Chapter 6); and use of Pell Grant formulas 1, 2, or 3 to calculate Pell Grant awards (see Volume 7, Chapter 4). Whether an academic calendar is standard term, nonstandard term, non-term, or subscription-based has implications for how aid is awarded and disbursed under the Title IV programs. Standard Terms: Semesters, Trimesters, and Quarters Semesters and trimesters contain between 14 and 21 weeks of instructional time. However, a summer term in a program using semesters or trimesters may contain fewer than 14 weeks. An academic calendar that uses semesters or trimesters traditionally has three terms, one each in the fall, spring, and summer, two of which comprise an academic year. For example, in a program using an SAY calendar, fall and spring would comprise an academic year. In a program using a'],\n",
              "  'reference': 'BBAY 2 is one of the options, along with Scheduled Academic Year (SAY), BBAY 1, and BBAY 3, that can be used for monitoring Direct Loan annual loan limit progression.'},\n",
              " {'user_input': 'How do skool districs affect the includsion of clinical work in standerd term programs?',\n",
              "  'reference_contexts': ['Inclusion of Clinical Work in a Standard Term Periods of medical and education program clinical work which is conducted outside the classroom may not be included in a standard term, unless all of the following apply: All students in the program must participate in the practicum or clinical experience, and they must be required to complete the practicum or clinical experience as a condition for applying for licensure or authorization to practice the occupation they intend to pursue; The school has little or no control over the length or starting and ending dates of the practicum or clinical experience. This may be due to constraints imposed by outside licensing bodies or the need to accommodate schedules of entities with which students are being placed (e.g., school districts or hospitals); and Credit hours associated with the practicum or clinical experience must be associated with the term in which most of the training occurs, even if the starting and ending dates do not exactly align with the term dates and/or overlap with another term. If the clinical work meets all the above criteria, terms which include such clinical work are not required to be considered nonstandard, nor are such programs required to be considered non-term, even if the clinical work overlaps another term. This flexibility is limited to required clinical periods associated with standard term programs in medicine (including, but not limited to, allopathic, osteopathic, nursing, veterinary, dentistry, pharmacy, and physical therapy), and student teaching required to obtain a state teaching certificate. See Volume 8, Chapter 3 for additional guidance on certain exceptions to the normal loan period and disbursement timing rules for Direct Loans when clinical work that meets the criteria described above is included in a standard term. Nonstandard Terms Generally, nonstandard terms are terms that are not semesters, trimesters, or quarters. For example, a 5-week term or a 23-week term would be considered a nonstandard term because no standard term can be fewer than nine weeks or greater than 21 weeks in length. Like standard terms, nonstandard terms may be equal in length or may be of different lengths. If a program is offered in a combination of standard terms and nonstandard terms, the program is considered to be offered in nonstandard terms. Also, like standard terms, nonstandard terms may not overlap within a program. Even if a school calls its terms semesters, trimesters, or quarters, they are considered to be nonstandard terms if they do not comply with the policy on standard term length, as described earlier. For instance, a 22-week semester or an 8-week quarter must be treated as a nonstandard term, because a semester cannot contain more than 21 weeks and a quarter must include a minimum of nine weeks. Semesters, trimesters, or quarters are also considered to be nonstandard terms if academic progress is not measured in the manner normally associated with the type of term. For example, if a program is offered in 15-week semesters but measures academic progress in quarter credit hours, the semesters would be considered nonstandard terms.'],\n",
              "  'reference': 'School districts may affect the inclusion of clinical work in standard term programs because the school has little or no control over the length or starting and ending dates of the practicum or clinical experience, which may be due to the need to accommodate schedules of entities with which students are being placed, such as school districts.'},\n",
              " {'user_input': 'Is the Federal Work-Study program subject to payment period requirements for Title IV programs?',\n",
              "  'reference_contexts': ['Non-Term Characteristics A program that measures progress in clock hours is always treated as a non-term program. Except for subscription-based programs, a program that measures progress in credit-hours is considered to have a non- term calendar if it has: Courses that do not begin and end within a set period of time such as a term; Courses that overlap terms; Self-paced and independent study courses that overlap terms; or Sequential courses that do not begin and end within a term. Payment Periods The payment period is applicable to all Title IV programs except the Federal Work-Study (FWS) Program. For example, Title IV program disbursements (except FWS payments) must be made on a payment period basis, as discussed in detail'],\n",
              "  'reference': 'The payment period is applicable to all Title IV programs except the Federal Work-Study (FWS) Program.'},\n",
              " {'user_input': 'How Direct Loan work if student finish more hours or weeks fast in clock-hour or non-term credit-hour program, and what happen to loan amount in last year if student finish extra hours before final year?',\n",
              "  'reference_contexts': ['both the credit or clock hours and the weeks of instructional time in a payment period before receiving a disbursement of Pell Grant, FSEOG, TEACH Grant or Direct Loan funds for the next payment period. For the Direct Loan Program only, this same requirement applies to students who are enrolled in programs with nonstandard terms that are not substantially equal in length. Effect of Accelerated Progression on Disbursement Timing in a Clock-Hour or Non-Term Credit-Hour Program The Pell Grant or TEACH Grant amount that a student is eligible to receive for a payment period in a clock-hour or non- term credit-hour program is based on the number of hours and weeks in the scheduled payment periods for the program that are established at the beginning of the program based on the program length (as described earlier in this chapter). These scheduled payment periods do not change, regardless of a student9s rate of progression through a clock-hour or non-term credit-hour program. This means that if a student completes additional weeks of instructional time or hours while completing the other measure of a payment period, the actual number of weeks or hours that the student completes before a disbursement can be made for the next payment period may differ from the number of weeks or hours in the scheduled payment period used to determine the student9s grant amount for the payment period. Although a student9s completion of additional weeks or hours in a payment period has no effect on the scheduled payment periods for purposes of determining Pell Grant and TEACH Grant payment amounts, an undergraduate student who accelerates in a clock-hour or non-term credit-hour program may have reduced Direct Loan eligibility in the final academic year of a program. Specifically, if a student enrolled in a program that is greater than one academic year in length completes additional clock or credit hours prior to the final academic year of the program, this may result in a final period of study that contains fewer clock or credit hours than the number of hours in the program9s defined academic year. In this circumstance, the Direct Loan annual loan limit for an undergraduate student must be prorated (reduced). The principles described above are illustrated by the examples in Appendix A at the end of this chapter. For guidance on calculating Pell Grant and TEACH Grant awards for clock-hour and non-term credit-hour programs, see Volume 7. For information on Direct Loan annual loan limit proration and annual loan limit progression in clock-hour and non-term credit- hour programs, see Volume 8, Chapters 5 and 6. If your school is unable to determine when a student has successfully completed half of the credit or clock hours in a program, academic year, or remainder of a program, the student is considered to have begun the second payment period of the program, academic year, or remainder of a program at the later of the date (identified by your school) that the student has successfully completed: half of the academic coursework in the program, academic year, or remainder of the program; or half of the number of weeks of instructional time in the program, academic year, or remainder of the program.'],\n",
              "  'reference': \"If a student in a clock-hour or non-term credit-hour program completes additional clock or credit hours before the final academic year, the final period of study may have fewer hours than the program's defined academic year. In this case, the Direct Loan annual loan limit for an undergraduate student must be prorated (reduced).\"},\n",
              " {'user_input': 'How do the disbursement requirements for federal student aid programs differ between clock-hour or non-term credit-hour programs and subscription-based programs, particularly regarding the timing of disbursements and the completion of coursework or credit hours?',\n",
              "  'reference_contexts': ['<1-hop>\\n\\nboth the credit or clock hours and the weeks of instructional time in a payment period before receiving a disbursement of Pell Grant, FSEOG, TEACH Grant or Direct Loan funds for the next payment period. For the Direct Loan Program only, this same requirement applies to students who are enrolled in programs with nonstandard terms that are not substantially equal in length. Effect of Accelerated Progression on Disbursement Timing in a Clock-Hour or Non-Term Credit-Hour Program The Pell Grant or TEACH Grant amount that a student is eligible to receive for a payment period in a clock-hour or non- term credit-hour program is based on the number of hours and weeks in the scheduled payment periods for the program that are established at the beginning of the program based on the program length (as described earlier in this chapter). These scheduled payment periods do not change, regardless of a student9s rate of progression through a clock-hour or non-term credit-hour program. This means that if a student completes additional weeks of instructional time or hours while completing the other measure of a payment period, the actual number of weeks or hours that the student completes before a disbursement can be made for the next payment period may differ from the number of weeks or hours in the scheduled payment period used to determine the student9s grant amount for the payment period. Although a student9s completion of additional weeks or hours in a payment period has no effect on the scheduled payment periods for purposes of determining Pell Grant and TEACH Grant payment amounts, an undergraduate student who accelerates in a clock-hour or non-term credit-hour program may have reduced Direct Loan eligibility in the final academic year of a program. Specifically, if a student enrolled in a program that is greater than one academic year in length completes additional clock or credit hours prior to the final academic year of the program, this may result in a final period of study that contains fewer clock or credit hours than the number of hours in the program9s defined academic year. In this circumstance, the Direct Loan annual loan limit for an undergraduate student must be prorated (reduced). The principles described above are illustrated by the examples in Appendix A at the end of this chapter. For guidance on calculating Pell Grant and TEACH Grant awards for clock-hour and non-term credit-hour programs, see Volume 7. For information on Direct Loan annual loan limit proration and annual loan limit progression in clock-hour and non-term credit- hour programs, see Volume 8, Chapters 5 and 6. If your school is unable to determine when a student has successfully completed half of the credit or clock hours in a program, academic year, or remainder of a program, the student is considered to have begun the second payment period of the program, academic year, or remainder of a program at the later of the date (identified by your school) that the student has successfully completed: half of the academic coursework in the program, academic year, or remainder of the program; or half of the number of weeks of instructional time in the program, academic year, or remainder of the program.',\n",
              "   '<2-hop>\\n\\nDisbursement Timing in Subscription-Based Programs For the first two subscription periods (terms) that a student attends in a subscription-based program, there is no requirement for the student to have completed a certain amount of coursework before receiving a disbursement of Title IV funds (the same as in any other term-based program using credit hours). However, to receive a disbursement of Title IV aid for each subsequent subscription period in the program, the student must have completed a cumulative number of credit hours equal to the total of the number of hours for which the student was enrolled in all previously attended subscription periods in the program, excluding the number of hours for which the student was enrolled in the most recently attended subscription period. For more detailed guidance on the disbursement rules for subscription-based programs, including examples, refer to Appendix B at the end of this chapter. Multiple Disbursements Within a Payment Period The regulations governing the Title IV programs generally permit schools to pay Title IV funds at such times and in such installments within each payment period as will best meet students9 needs. This gives schools the ability to apportion the payment if doing so will be in the best interest of the student. For example, if a payment period is particularly long, a school might choose to pay in multiple installments to the extent program requirements permit to ensure that a student will have funds to pay rent later in the payment period. If a school chooses to schedule multiple Direct Loan disbursements within a single payment period, the disbursements must be substantially equal. Note also that if the loan period for a Direct Loan is a single payment period, the loan must be disbursed in at least two installments unless the school qualifies for an exception to the multiple disbursement requirement. See Volume 8, Chapter 3 for more'],\n",
              "  'reference': \"In clock-hour or non-term credit-hour programs, students must complete both the required credit or clock hours and the weeks of instructional time in a payment period before receiving a disbursement of Pell Grant, FSEOG, TEACH Grant, or Direct Loan funds for the next payment period. The scheduled payment periods are established at the beginning of the program and do not change based on a student's rate of progression. If a student accelerates and completes additional weeks or hours, it does not affect the scheduled payment periods for Pell Grant and TEACH Grant amounts, but may result in reduced Direct Loan eligibility in the final academic year if the last period contains fewer hours than the defined academic year, requiring proration of the loan limit. In contrast, for subscription-based programs, there is no requirement for students to complete a certain amount of coursework before receiving a disbursement of Title IV funds for the first two subscription periods. However, for each subsequent subscription period, the student must have completed a cumulative number of credit hours equal to the total hours enrolled in all previously attended subscription periods, excluding the most recent one. Additionally, schools may choose to make multiple disbursements within a payment period, provided they are substantially equal and comply with program requirements.\"},\n",
              " {'user_input': 'According to federal student aid regulations, under what specific conditions can clinical work be included in standard term periods for medical and education programs, and how do these conditions differ from the characteristics that define non-term programs, particularly regarding the structure and timing of courses?',\n",
              "  'reference_contexts': ['<1-hop>\\n\\nInclusion of Clinical Work in a Standard Term Periods of medical and education program clinical work which is conducted outside the classroom may not be included in a standard term, unless all of the following apply: All students in the program must participate in the practicum or clinical experience, and they must be required to complete the practicum or clinical experience as a condition for applying for licensure or authorization to practice the occupation they intend to pursue; The school has little or no control over the length or starting and ending dates of the practicum or clinical experience. This may be due to constraints imposed by outside licensing bodies or the need to accommodate schedules of entities with which students are being placed (e.g., school districts or hospitals); and Credit hours associated with the practicum or clinical experience must be associated with the term in which most of the training occurs, even if the starting and ending dates do not exactly align with the term dates and/or overlap with another term. If the clinical work meets all the above criteria, terms which include such clinical work are not required to be considered nonstandard, nor are such programs required to be considered non-term, even if the clinical work overlaps another term. This flexibility is limited to required clinical periods associated with standard term programs in medicine (including, but not limited to, allopathic, osteopathic, nursing, veterinary, dentistry, pharmacy, and physical therapy), and student teaching required to obtain a state teaching certificate. See Volume 8, Chapter 3 for additional guidance on certain exceptions to the normal loan period and disbursement timing rules for Direct Loans when clinical work that meets the criteria described above is included in a standard term. Nonstandard Terms Generally, nonstandard terms are terms that are not semesters, trimesters, or quarters. For example, a 5-week term or a 23-week term would be considered a nonstandard term because no standard term can be fewer than nine weeks or greater than 21 weeks in length. Like standard terms, nonstandard terms may be equal in length or may be of different lengths. If a program is offered in a combination of standard terms and nonstandard terms, the program is considered to be offered in nonstandard terms. Also, like standard terms, nonstandard terms may not overlap within a program. Even if a school calls its terms semesters, trimesters, or quarters, they are considered to be nonstandard terms if they do not comply with the policy on standard term length, as described earlier. For instance, a 22-week semester or an 8-week quarter must be treated as a nonstandard term, because a semester cannot contain more than 21 weeks and a quarter must include a minimum of nine weeks. Semesters, trimesters, or quarters are also considered to be nonstandard terms if academic progress is not measured in the manner normally associated with the type of term. For example, if a program is offered in 15-week semesters but measures academic progress in quarter credit hours, the semesters would be considered nonstandard terms.',\n",
              "   '<2-hop>\\n\\nNon-Term Characteristics A program that measures progress in clock hours is always treated as a non-term program. Except for subscription-based programs, a program that measures progress in credit-hours is considered to have a non- term calendar if it has: Courses that do not begin and end within a set period of time such as a term; Courses that overlap terms; Self-paced and independent study courses that overlap terms; or Sequential courses that do not begin and end within a term. Payment Periods The payment period is applicable to all Title IV programs except the Federal Work-Study (FWS) Program. For example, Title IV program disbursements (except FWS payments) must be made on a payment period basis, as discussed in detail'],\n",
              "  'reference': 'Clinical work in medical and education programs may be included in standard term periods only if all of the following conditions are met: all students in the program must participate in the practicum or clinical experience as a requirement for licensure or authorization to practice; the school has little or no control over the length or the starting and ending dates of the practicum or clinical experience, often due to constraints from outside licensing bodies or placement entities; and the credit hours for the practicum or clinical experience must be associated with the term in which most of the training occurs, even if the dates do not exactly align with the term or overlap another term. If these criteria are satisfied, the terms are not required to be considered nonstandard, nor is the program required to be considered non-term, even if the clinical work overlaps another term. In contrast, non-term programs are defined by characteristics such as measuring progress in clock hours, or, for credit-hour programs (except subscription-based), having courses that do not begin and end within a set term, courses that overlap terms, self-paced or independent study courses that overlap terms, or sequential courses that do not fit within a term structure. Thus, the inclusion of clinical work in standard terms is permitted under strict conditions, whereas non-term programs are characterized by flexible or overlapping course structures and timing.'},\n",
              " {'user_input': 'What are the disbursement requirements for federal student aid programs such as Pell Grants, FSEOG, TEACH Grants, and Direct Loans in both clock-hour or non-term credit-hour programs and subscription-based programs, and how does the timing of disbursements differ between these program structures?',\n",
              "  'reference_contexts': ['<1-hop>\\n\\nboth the credit or clock hours and the weeks of instructional time in a payment period before receiving a disbursement of Pell Grant, FSEOG, TEACH Grant or Direct Loan funds for the next payment period. For the Direct Loan Program only, this same requirement applies to students who are enrolled in programs with nonstandard terms that are not substantially equal in length. Effect of Accelerated Progression on Disbursement Timing in a Clock-Hour or Non-Term Credit-Hour Program The Pell Grant or TEACH Grant amount that a student is eligible to receive for a payment period in a clock-hour or non- term credit-hour program is based on the number of hours and weeks in the scheduled payment periods for the program that are established at the beginning of the program based on the program length (as described earlier in this chapter). These scheduled payment periods do not change, regardless of a student9s rate of progression through a clock-hour or non-term credit-hour program. This means that if a student completes additional weeks of instructional time or hours while completing the other measure of a payment period, the actual number of weeks or hours that the student completes before a disbursement can be made for the next payment period may differ from the number of weeks or hours in the scheduled payment period used to determine the student9s grant amount for the payment period. Although a student9s completion of additional weeks or hours in a payment period has no effect on the scheduled payment periods for purposes of determining Pell Grant and TEACH Grant payment amounts, an undergraduate student who accelerates in a clock-hour or non-term credit-hour program may have reduced Direct Loan eligibility in the final academic year of a program. Specifically, if a student enrolled in a program that is greater than one academic year in length completes additional clock or credit hours prior to the final academic year of the program, this may result in a final period of study that contains fewer clock or credit hours than the number of hours in the program9s defined academic year. In this circumstance, the Direct Loan annual loan limit for an undergraduate student must be prorated (reduced). The principles described above are illustrated by the examples in Appendix A at the end of this chapter. For guidance on calculating Pell Grant and TEACH Grant awards for clock-hour and non-term credit-hour programs, see Volume 7. For information on Direct Loan annual loan limit proration and annual loan limit progression in clock-hour and non-term credit- hour programs, see Volume 8, Chapters 5 and 6. If your school is unable to determine when a student has successfully completed half of the credit or clock hours in a program, academic year, or remainder of a program, the student is considered to have begun the second payment period of the program, academic year, or remainder of a program at the later of the date (identified by your school) that the student has successfully completed: half of the academic coursework in the program, academic year, or remainder of the program; or half of the number of weeks of instructional time in the program, academic year, or remainder of the program.',\n",
              "   '<2-hop>\\n\\nDisbursement Timing in Subscription-Based Programs For the first two subscription periods (terms) that a student attends in a subscription-based program, there is no requirement for the student to have completed a certain amount of coursework before receiving a disbursement of Title IV funds (the same as in any other term-based program using credit hours). However, to receive a disbursement of Title IV aid for each subsequent subscription period in the program, the student must have completed a cumulative number of credit hours equal to the total of the number of hours for which the student was enrolled in all previously attended subscription periods in the program, excluding the number of hours for which the student was enrolled in the most recently attended subscription period. For more detailed guidance on the disbursement rules for subscription-based programs, including examples, refer to Appendix B at the end of this chapter. Multiple Disbursements Within a Payment Period The regulations governing the Title IV programs generally permit schools to pay Title IV funds at such times and in such installments within each payment period as will best meet students9 needs. This gives schools the ability to apportion the payment if doing so will be in the best interest of the student. For example, if a payment period is particularly long, a school might choose to pay in multiple installments to the extent program requirements permit to ensure that a student will have funds to pay rent later in the payment period. If a school chooses to schedule multiple Direct Loan disbursements within a single payment period, the disbursements must be substantially equal. Note also that if the loan period for a Direct Loan is a single payment period, the loan must be disbursed in at least two installments unless the school qualifies for an exception to the multiple disbursement requirement. See Volume 8, Chapter 3 for more'],\n",
              "  'reference': 'In clock-hour or non-term credit-hour programs, students must complete both the required credit or clock hours and the weeks of instructional time in a payment period before receiving a disbursement of Pell Grant, FSEOG, TEACH Grant, or Direct Loan funds for the next payment period. The scheduled payment periods, which are established at the beginning of the program based on its length, do not change regardless of a student’s rate of progression. If a student accelerates and completes additional weeks or hours, this does not affect the scheduled payment periods for Pell Grant and TEACH Grant amounts, but may result in reduced Direct Loan eligibility in the final academic year if the last period contains fewer hours than the defined academic year, requiring proration of the annual loan limit.\\n\\nIn subscription-based programs, for the first two subscription periods, there is no requirement for students to complete a certain amount of coursework before receiving a disbursement of Title IV funds. For each subsequent subscription period, however, the student must have completed a cumulative number of credit hours equal to the total hours enrolled in all previously attended subscription periods, excluding the most recent one. Additionally, schools may choose to make multiple disbursements within a payment period, provided the installments are substantially equal, and if a Direct Loan covers a single payment period, it must be disbursed in at least two installments unless an exception applies. Thus, while both program structures have specific requirements, subscription-based programs allow for more flexibility in the initial periods, with cumulative completion requirements applying to later disbursements.'},\n",
              " {'user_input': 'wut is the diffrence betwen nonstandard terms and non-term program charactristics?',\n",
              "  'reference_contexts': ['<1-hop>\\n\\nInclusion of Clinical Work in a Standard Term Periods of medical and education program clinical work which is conducted outside the classroom may not be included in a standard term, unless all of the following apply: All students in the program must participate in the practicum or clinical experience, and they must be required to complete the practicum or clinical experience as a condition for applying for licensure or authorization to practice the occupation they intend to pursue; The school has little or no control over the length or starting and ending dates of the practicum or clinical experience. This may be due to constraints imposed by outside licensing bodies or the need to accommodate schedules of entities with which students are being placed (e.g., school districts or hospitals); and Credit hours associated with the practicum or clinical experience must be associated with the term in which most of the training occurs, even if the starting and ending dates do not exactly align with the term dates and/or overlap with another term. If the clinical work meets all the above criteria, terms which include such clinical work are not required to be considered nonstandard, nor are such programs required to be considered non-term, even if the clinical work overlaps another term. This flexibility is limited to required clinical periods associated with standard term programs in medicine (including, but not limited to, allopathic, osteopathic, nursing, veterinary, dentistry, pharmacy, and physical therapy), and student teaching required to obtain a state teaching certificate. See Volume 8, Chapter 3 for additional guidance on certain exceptions to the normal loan period and disbursement timing rules for Direct Loans when clinical work that meets the criteria described above is included in a standard term. Nonstandard Terms Generally, nonstandard terms are terms that are not semesters, trimesters, or quarters. For example, a 5-week term or a 23-week term would be considered a nonstandard term because no standard term can be fewer than nine weeks or greater than 21 weeks in length. Like standard terms, nonstandard terms may be equal in length or may be of different lengths. If a program is offered in a combination of standard terms and nonstandard terms, the program is considered to be offered in nonstandard terms. Also, like standard terms, nonstandard terms may not overlap within a program. Even if a school calls its terms semesters, trimesters, or quarters, they are considered to be nonstandard terms if they do not comply with the policy on standard term length, as described earlier. For instance, a 22-week semester or an 8-week quarter must be treated as a nonstandard term, because a semester cannot contain more than 21 weeks and a quarter must include a minimum of nine weeks. Semesters, trimesters, or quarters are also considered to be nonstandard terms if academic progress is not measured in the manner normally associated with the type of term. For example, if a program is offered in 15-week semesters but measures academic progress in quarter credit hours, the semesters would be considered nonstandard terms.',\n",
              "   '<2-hop>\\n\\nNon-Term Characteristics A program that measures progress in clock hours is always treated as a non-term program. Except for subscription-based programs, a program that measures progress in credit-hours is considered to have a non- term calendar if it has: Courses that do not begin and end within a set period of time such as a term; Courses that overlap terms; Self-paced and independent study courses that overlap terms; or Sequential courses that do not begin and end within a term. Payment Periods The payment period is applicable to all Title IV programs except the Federal Work-Study (FWS) Program. For example, Title IV program disbursements (except FWS payments) must be made on a payment period basis, as discussed in detail'],\n",
              "  'reference': 'Nonstandard terms are terms that do not fit the standard semester, trimester, or quarter lengths, such as a 5-week or 23-week term, and may be of equal or different lengths, but still have set start and end dates. Non-term program characteristics include programs that measure progress in clock hours or have courses that do not begin and end within a set period, overlap terms, or are self-paced, meaning they do not follow a term structure at all.'},\n",
              " {'user_input': 'how title iv aid get disbursed in subscription-based programs and what rules apply for multiple disbursements in a payment period?',\n",
              "  'reference_contexts': ['<1-hop>\\n\\nnon-term (includes clock-hour calendars), or subscription-based. In a standard term or nonstandard term academic calendar, a term is generally a period in which all classes are scheduled to begin and end within a set time frame, and academic progress is measured in credit hours. In a non-term academic calendar, classes do not begin and end within a set time frame, such as a term. Academic progress in a non-term program can be measured in either credit or clock hours. In some cases (as discussed below), a program with terms must be treated as a non-term program for Title IV purposes. A subscription-based academic calendar is used only by subscription-based programs. A subscription-based program is a term-based program in which the school charges a student for each term on a subscription basis with the expectation that the student will complete a specified number of credit hours (or the equivalent) during that term. However, classes in a subscription-based program are not required to begin or end within a specific timeframe in each term, as is the case in a term-based calendar that is not subscription-based. For more detail on subscription-based programs, see Volume 2, Chapter 2. A subscription-based academic calendar consists of \"subscription periods\" that are either standard terms or substantially equal nonstandard terms (for guidance on when terms are considered to be substantially equal in length, see <Payment periods for programs using standard terms or substantially equal nonstandard terms= later in this chapter). Substantially equal nonstandard terms may be of any length, but if they are not at least nine weeks in length, the program must use BBAY 3 for purposes of monitoring Direct Loan annual loan limit progression (see Volume 8, Chapter 6 for more information on BBAY 3). Nonstandard terms that are not substantially equal in length are not permissible in a subscription-based academic calendar. The term \"subscription period\" is synonymous with \"term\" and \"payment period\" (payment periods are covered later in this chapter). Except for the fact that classes are not required to start and end within a term, the rules and requirements for term-based programs that are not subscription-based also apply to subscription-based programs. These requirements include: minimum and maximum term length restrictions for standard terms (see the discussion in the next section of this chapter); requirements for determining full-time enrollment (see Volume 1, Chapter 1); use of a Scheduled Academic Year (SAY), BBAY 1, BBAY 2, or BBAY 3 for monitoring Direct Loan annual loan limit progression (see Volume 8, Chapter 6); and use of Pell Grant formulas 1, 2, or 3 to calculate Pell Grant awards (see Volume 7, Chapter 4). Whether an academic calendar is standard term, nonstandard term, non-term, or subscription-based has implications for how aid is awarded and disbursed under the Title IV programs. Standard Terms: Semesters, Trimesters, and Quarters Semesters and trimesters contain between 14 and 21 weeks of instructional time. However, a summer term in a program using semesters or trimesters may contain fewer than 14 weeks. An academic calendar that uses semesters or trimesters traditionally has three terms, one each in the fall, spring, and summer, two of which comprise an academic year. For example, in a program using an SAY calendar, fall and spring would comprise an academic year. In a program using a',\n",
              "   '<2-hop>\\n\\nDisbursement Timing in Subscription-Based Programs For the first two subscription periods (terms) that a student attends in a subscription-based program, there is no requirement for the student to have completed a certain amount of coursework before receiving a disbursement of Title IV funds (the same as in any other term-based program using credit hours). However, to receive a disbursement of Title IV aid for each subsequent subscription period in the program, the student must have completed a cumulative number of credit hours equal to the total of the number of hours for which the student was enrolled in all previously attended subscription periods in the program, excluding the number of hours for which the student was enrolled in the most recently attended subscription period. For more detailed guidance on the disbursement rules for subscription-based programs, including examples, refer to Appendix B at the end of this chapter. Multiple Disbursements Within a Payment Period The regulations governing the Title IV programs generally permit schools to pay Title IV funds at such times and in such installments within each payment period as will best meet students9 needs. This gives schools the ability to apportion the payment if doing so will be in the best interest of the student. For example, if a payment period is particularly long, a school might choose to pay in multiple installments to the extent program requirements permit to ensure that a student will have funds to pay rent later in the payment period. If a school chooses to schedule multiple Direct Loan disbursements within a single payment period, the disbursements must be substantially equal. Note also that if the loan period for a Direct Loan is a single payment period, the loan must be disbursed in at least two installments unless the school qualifies for an exception to the multiple disbursement requirement. See Volume 8, Chapter 3 for more'],\n",
              "  'reference': 'in subscription-based programs, title iv aid is disbursed for the first two subscription periods (terms) without the student needing to complete a certain amount of coursework, just like other term-based programs using credit hours. for each subscription period after that, the student must have completed a cumulative number of credit hours equal to all previously attended subscription periods, except the most recent one. for multiple disbursements within a payment period, schools can pay title iv funds in installments as needed, but if they do, the disbursements must be substantially equal. if a direct loan covers only one payment period, it must be disbursed in at least two installments unless the school qualifies for an exception.'},\n",
              " {'user_input': 'How Pell Grant get calculated for student in clock-hour or non-term credit-hour program, and what happen if student finish more weeks or hours than scheduled in payment period?',\n",
              "  'reference_contexts': ['<1-hop>\\n\\nnon-term (includes clock-hour calendars), or subscription-based. In a standard term or nonstandard term academic calendar, a term is generally a period in which all classes are scheduled to begin and end within a set time frame, and academic progress is measured in credit hours. In a non-term academic calendar, classes do not begin and end within a set time frame, such as a term. Academic progress in a non-term program can be measured in either credit or clock hours. In some cases (as discussed below), a program with terms must be treated as a non-term program for Title IV purposes. A subscription-based academic calendar is used only by subscription-based programs. A subscription-based program is a term-based program in which the school charges a student for each term on a subscription basis with the expectation that the student will complete a specified number of credit hours (or the equivalent) during that term. However, classes in a subscription-based program are not required to begin or end within a specific timeframe in each term, as is the case in a term-based calendar that is not subscription-based. For more detail on subscription-based programs, see Volume 2, Chapter 2. A subscription-based academic calendar consists of \"subscription periods\" that are either standard terms or substantially equal nonstandard terms (for guidance on when terms are considered to be substantially equal in length, see <Payment periods for programs using standard terms or substantially equal nonstandard terms= later in this chapter). Substantially equal nonstandard terms may be of any length, but if they are not at least nine weeks in length, the program must use BBAY 3 for purposes of monitoring Direct Loan annual loan limit progression (see Volume 8, Chapter 6 for more information on BBAY 3). Nonstandard terms that are not substantially equal in length are not permissible in a subscription-based academic calendar. The term \"subscription period\" is synonymous with \"term\" and \"payment period\" (payment periods are covered later in this chapter). Except for the fact that classes are not required to start and end within a term, the rules and requirements for term-based programs that are not subscription-based also apply to subscription-based programs. These requirements include: minimum and maximum term length restrictions for standard terms (see the discussion in the next section of this chapter); requirements for determining full-time enrollment (see Volume 1, Chapter 1); use of a Scheduled Academic Year (SAY), BBAY 1, BBAY 2, or BBAY 3 for monitoring Direct Loan annual loan limit progression (see Volume 8, Chapter 6); and use of Pell Grant formulas 1, 2, or 3 to calculate Pell Grant awards (see Volume 7, Chapter 4). Whether an academic calendar is standard term, nonstandard term, non-term, or subscription-based has implications for how aid is awarded and disbursed under the Title IV programs. Standard Terms: Semesters, Trimesters, and Quarters Semesters and trimesters contain between 14 and 21 weeks of instructional time. However, a summer term in a program using semesters or trimesters may contain fewer than 14 weeks. An academic calendar that uses semesters or trimesters traditionally has three terms, one each in the fall, spring, and summer, two of which comprise an academic year. For example, in a program using an SAY calendar, fall and spring would comprise an academic year. In a program using a',\n",
              "   '<2-hop>\\n\\nboth the credit or clock hours and the weeks of instructional time in a payment period before receiving a disbursement of Pell Grant, FSEOG, TEACH Grant or Direct Loan funds for the next payment period. For the Direct Loan Program only, this same requirement applies to students who are enrolled in programs with nonstandard terms that are not substantially equal in length. Effect of Accelerated Progression on Disbursement Timing in a Clock-Hour or Non-Term Credit-Hour Program The Pell Grant or TEACH Grant amount that a student is eligible to receive for a payment period in a clock-hour or non- term credit-hour program is based on the number of hours and weeks in the scheduled payment periods for the program that are established at the beginning of the program based on the program length (as described earlier in this chapter). These scheduled payment periods do not change, regardless of a student9s rate of progression through a clock-hour or non-term credit-hour program. This means that if a student completes additional weeks of instructional time or hours while completing the other measure of a payment period, the actual number of weeks or hours that the student completes before a disbursement can be made for the next payment period may differ from the number of weeks or hours in the scheduled payment period used to determine the student9s grant amount for the payment period. Although a student9s completion of additional weeks or hours in a payment period has no effect on the scheduled payment periods for purposes of determining Pell Grant and TEACH Grant payment amounts, an undergraduate student who accelerates in a clock-hour or non-term credit-hour program may have reduced Direct Loan eligibility in the final academic year of a program. Specifically, if a student enrolled in a program that is greater than one academic year in length completes additional clock or credit hours prior to the final academic year of the program, this may result in a final period of study that contains fewer clock or credit hours than the number of hours in the program9s defined academic year. In this circumstance, the Direct Loan annual loan limit for an undergraduate student must be prorated (reduced). The principles described above are illustrated by the examples in Appendix A at the end of this chapter. For guidance on calculating Pell Grant and TEACH Grant awards for clock-hour and non-term credit-hour programs, see Volume 7. For information on Direct Loan annual loan limit proration and annual loan limit progression in clock-hour and non-term credit- hour programs, see Volume 8, Chapters 5 and 6. If your school is unable to determine when a student has successfully completed half of the credit or clock hours in a program, academic year, or remainder of a program, the student is considered to have begun the second payment period of the program, academic year, or remainder of a program at the later of the date (identified by your school) that the student has successfully completed: half of the academic coursework in the program, academic year, or remainder of the program; or half of the number of weeks of instructional time in the program, academic year, or remainder of the program.'],\n",
              "  'reference': 'Pell Grant amount for student in clock-hour or non-term credit-hour program is based on number of hours and weeks in the scheduled payment periods set at start of program. If student finish more weeks or hours than scheduled in payment period, it do not change the scheduled payment periods used to decide Pell Grant amount for that period. So, even if student complete extra weeks or hours, the Pell Grant payment amount stay based on the original scheduled payment period.'},\n",
              " {'user_input': 'how title iv payment period work for non-term and subscription-based programs',\n",
              "  'reference_contexts': ['<1-hop>\\n\\nNon-Term Characteristics A program that measures progress in clock hours is always treated as a non-term program. Except for subscription-based programs, a program that measures progress in credit-hours is considered to have a non- term calendar if it has: Courses that do not begin and end within a set period of time such as a term; Courses that overlap terms; Self-paced and independent study courses that overlap terms; or Sequential courses that do not begin and end within a term. Payment Periods The payment period is applicable to all Title IV programs except the Federal Work-Study (FWS) Program. For example, Title IV program disbursements (except FWS payments) must be made on a payment period basis, as discussed in detail',\n",
              "   '<2-hop>\\n\\nnon-term (includes clock-hour calendars), or subscription-based. In a standard term or nonstandard term academic calendar, a term is generally a period in which all classes are scheduled to begin and end within a set time frame, and academic progress is measured in credit hours. In a non-term academic calendar, classes do not begin and end within a set time frame, such as a term. Academic progress in a non-term program can be measured in either credit or clock hours. In some cases (as discussed below), a program with terms must be treated as a non-term program for Title IV purposes. A subscription-based academic calendar is used only by subscription-based programs. A subscription-based program is a term-based program in which the school charges a student for each term on a subscription basis with the expectation that the student will complete a specified number of credit hours (or the equivalent) during that term. However, classes in a subscription-based program are not required to begin or end within a specific timeframe in each term, as is the case in a term-based calendar that is not subscription-based. For more detail on subscription-based programs, see Volume 2, Chapter 2. A subscription-based academic calendar consists of \"subscription periods\" that are either standard terms or substantially equal nonstandard terms (for guidance on when terms are considered to be substantially equal in length, see <Payment periods for programs using standard terms or substantially equal nonstandard terms= later in this chapter). Substantially equal nonstandard terms may be of any length, but if they are not at least nine weeks in length, the program must use BBAY 3 for purposes of monitoring Direct Loan annual loan limit progression (see Volume 8, Chapter 6 for more information on BBAY 3). Nonstandard terms that are not substantially equal in length are not permissible in a subscription-based academic calendar. The term \"subscription period\" is synonymous with \"term\" and \"payment period\" (payment periods are covered later in this chapter). Except for the fact that classes are not required to start and end within a term, the rules and requirements for term-based programs that are not subscription-based also apply to subscription-based programs. These requirements include: minimum and maximum term length restrictions for standard terms (see the discussion in the next section of this chapter); requirements for determining full-time enrollment (see Volume 1, Chapter 1); use of a Scheduled Academic Year (SAY), BBAY 1, BBAY 2, or BBAY 3 for monitoring Direct Loan annual loan limit progression (see Volume 8, Chapter 6); and use of Pell Grant formulas 1, 2, or 3 to calculate Pell Grant awards (see Volume 7, Chapter 4). Whether an academic calendar is standard term, nonstandard term, non-term, or subscription-based has implications for how aid is awarded and disbursed under the Title IV programs. Standard Terms: Semesters, Trimesters, and Quarters Semesters and trimesters contain between 14 and 21 weeks of instructional time. However, a summer term in a program using semesters or trimesters may contain fewer than 14 weeks. An academic calendar that uses semesters or trimesters traditionally has three terms, one each in the fall, spring, and summer, two of which comprise an academic year. For example, in a program using an SAY calendar, fall and spring would comprise an academic year. In a program using a'],\n",
              "  'reference': \"Title IV payment periods apply to all Title IV programs except Federal Work-Study and must be made on a payment period basis for non-term and subscription-based programs. In non-term programs, which include clock-hour calendars and credit-hour programs without set term dates, classes do not begin and end within a set timeframe. Subscription-based programs are term-based but do not require classes to start or end within a specific timeframe in each term. The term 'subscription period' is used for these programs and is synonymous with 'term' and 'payment period.' Aid is awarded and disbursed under Title IV based on these payment periods.\"},\n",
              " {'user_input': 'According to the guidance provided in Appendix A and Appendix B, how do the disbursement timing requirements and calculation methods differ between clock-hour or non-term credit-hour programs and subscription-based programs, particularly in relation to Pell Grant, TEACH Grant, and Direct Loan eligibility and proration?',\n",
              "  'reference_contexts': ['<1-hop>\\n\\nboth the credit or clock hours and the weeks of instructional time in a payment period before receiving a disbursement of Pell Grant, FSEOG, TEACH Grant or Direct Loan funds for the next payment period. For the Direct Loan Program only, this same requirement applies to students who are enrolled in programs with nonstandard terms that are not substantially equal in length. Effect of Accelerated Progression on Disbursement Timing in a Clock-Hour or Non-Term Credit-Hour Program The Pell Grant or TEACH Grant amount that a student is eligible to receive for a payment period in a clock-hour or non- term credit-hour program is based on the number of hours and weeks in the scheduled payment periods for the program that are established at the beginning of the program based on the program length (as described earlier in this chapter). These scheduled payment periods do not change, regardless of a student9s rate of progression through a clock-hour or non-term credit-hour program. This means that if a student completes additional weeks of instructional time or hours while completing the other measure of a payment period, the actual number of weeks or hours that the student completes before a disbursement can be made for the next payment period may differ from the number of weeks or hours in the scheduled payment period used to determine the student9s grant amount for the payment period. Although a student9s completion of additional weeks or hours in a payment period has no effect on the scheduled payment periods for purposes of determining Pell Grant and TEACH Grant payment amounts, an undergraduate student who accelerates in a clock-hour or non-term credit-hour program may have reduced Direct Loan eligibility in the final academic year of a program. Specifically, if a student enrolled in a program that is greater than one academic year in length completes additional clock or credit hours prior to the final academic year of the program, this may result in a final period of study that contains fewer clock or credit hours than the number of hours in the program9s defined academic year. In this circumstance, the Direct Loan annual loan limit for an undergraduate student must be prorated (reduced). The principles described above are illustrated by the examples in Appendix A at the end of this chapter. For guidance on calculating Pell Grant and TEACH Grant awards for clock-hour and non-term credit-hour programs, see Volume 7. For information on Direct Loan annual loan limit proration and annual loan limit progression in clock-hour and non-term credit- hour programs, see Volume 8, Chapters 5 and 6. If your school is unable to determine when a student has successfully completed half of the credit or clock hours in a program, academic year, or remainder of a program, the student is considered to have begun the second payment period of the program, academic year, or remainder of a program at the later of the date (identified by your school) that the student has successfully completed: half of the academic coursework in the program, academic year, or remainder of the program; or half of the number of weeks of instructional time in the program, academic year, or remainder of the program.',\n",
              "   '<2-hop>\\n\\nDisbursement Timing in Subscription-Based Programs For the first two subscription periods (terms) that a student attends in a subscription-based program, there is no requirement for the student to have completed a certain amount of coursework before receiving a disbursement of Title IV funds (the same as in any other term-based program using credit hours). However, to receive a disbursement of Title IV aid for each subsequent subscription period in the program, the student must have completed a cumulative number of credit hours equal to the total of the number of hours for which the student was enrolled in all previously attended subscription periods in the program, excluding the number of hours for which the student was enrolled in the most recently attended subscription period. For more detailed guidance on the disbursement rules for subscription-based programs, including examples, refer to Appendix B at the end of this chapter. Multiple Disbursements Within a Payment Period The regulations governing the Title IV programs generally permit schools to pay Title IV funds at such times and in such installments within each payment period as will best meet students9 needs. This gives schools the ability to apportion the payment if doing so will be in the best interest of the student. For example, if a payment period is particularly long, a school might choose to pay in multiple installments to the extent program requirements permit to ensure that a student will have funds to pay rent later in the payment period. If a school chooses to schedule multiple Direct Loan disbursements within a single payment period, the disbursements must be substantially equal. Note also that if the loan period for a Direct Loan is a single payment period, the loan must be disbursed in at least two installments unless the school qualifies for an exception to the multiple disbursement requirement. See Volume 8, Chapter 3 for more'],\n",
              "  'reference': 'The disbursement timing requirements and calculation methods differ between clock-hour or non-term credit-hour programs and subscription-based programs, as illustrated in Appendix A and Appendix B. In clock-hour or non-term credit-hour programs, as described in Appendix A, the Pell Grant or TEACH Grant amount for a payment period is based on the scheduled number of hours and weeks established at the beginning of the program. These scheduled payment periods do not change regardless of a student’s rate of progression. However, if a student accelerates and completes additional hours or weeks before the final academic year, the final period of study may have fewer hours than the defined academic year, requiring proration (reduction) of the Direct Loan annual loan limit. In contrast, for subscription-based programs, as detailed in Appendix B, there is no coursework completion requirement for disbursement of Title IV funds in the first two subscription periods. For subsequent periods, the student must have completed a cumulative number of credit hours equal to the total hours enrolled in all previous subscription periods, excluding the most recent one, before receiving further disbursements. These differences affect how and when students become eligible for Pell Grant, TEACH Grant, and Direct Loan funds, as well as how proration and progression are determined in each program structure.'}]"
            ]
          },
          "execution_count": 57,
          "metadata": {},
          "output_type": "execute_result"
        }
      ],
      "source": [
        "evaluation_samples"
      ]
    },
    {
      "cell_type": "code",
      "execution_count": 58,
      "metadata": {},
      "outputs": [
        {
          "name": "stdout",
          "output_type": "stream",
          "text": [
            "Will evaluate 7 retrieval methods\n"
          ]
        }
      ],
      "source": [
        "retrievers_to_evaluate = {\n",
        "    \"naive\": naive_retriever,\n",
        "    \"bm25\": bm25_retriever, \n",
        "    \"contextual_compression\": compression_retriever,\n",
        "    \"multi_query\": multi_query_retriever,\n",
        "    \"parent_document\": parent_document_retriever,\n",
        "    \"ensemble\": ensemble_retriever,\n",
        "    \"semantic\": semantic_retriever\n",
        "}\n",
        "\n",
        "print(f\"Will evaluate {len(retrievers_to_evaluate)} retrieval methods\")"
      ]
    },
    {
      "cell_type": "code",
      "execution_count": 93,
      "metadata": {},
      "outputs": [
        {
          "name": "stdout",
          "output_type": "stream",
          "text": [
            "Evaluation function defined with LangSmith integration!\n"
          ]
        }
      ],
      "source": [
        "from langsmith.run_helpers import traceable\n",
        "\n",
        "@traceable(run_type=\"chain\", name=\"retriever_evaluation\")\n",
        "def evaluate_retriever(retriever, retriever_name, evaluation_samples):\n",
        "    \"\"\"Evaluate a single retriever using RAGAS metrics\"\"\"\n",
        "    \n",
        "    print(f\"Evaluating {retriever_name}...\")\n",
        "    start_time = time.time()\n",
        "    \n",
        "    # Prepare evaluation data\n",
        "    ragas_samples = []\n",
        "    successful_samples = 0\n",
        "    \n",
        "    for sample in evaluation_samples:\n",
        "        try:\n",
        "            # Retrieve documents for this question\n",
        "            retrieved_docs = retriever.invoke(\n",
        "                sample['user_input'],\n",
        "                config={\"callbacks\": None}  # Disable callbacks for individual retrievals\n",
        "            )\n",
        "            retrieved_contexts = [doc.page_content for doc in retrieved_docs]\n",
        "            \n",
        "            # Create RAGAS sample\n",
        "            ragas_sample = SingleTurnSample(\n",
        "                user_input=sample['user_input'],\n",
        "                retrieved_contexts=retrieved_contexts,\n",
        "                reference_contexts=sample['reference_contexts'],\n",
        "                reference=sample['reference']\n",
        "            )\n",
        "            ragas_samples.append(ragas_sample)\n",
        "            successful_samples += 1\n",
        "            \n",
        "        except Exception as e:\n",
        "            print(f\"Error processing sample for {retriever_name}: {e}\")\n",
        "            continue\n",
        "    \n",
        "    # Calculate timing\n",
        "    end_time = time.time()\n",
        "    avg_latency = (end_time - start_time) / len(evaluation_samples)\n",
        "    \n",
        "    # Evaluate with RAGAS\n",
        "    if ragas_samples:\n",
        "        eval_dataset = EvaluationDataset(samples=ragas_samples)\n",
        "        try:\n",
        "            print(\"Running RAGAS evaluation...\")\n",
        "            # RAGAS evaluate() returns an EvaluationResult object\n",
        "            eval_results = evaluate(dataset=eval_dataset, metrics=ragas_metrics)\n",
        "            \n",
        "            # Extract metrics directly from the evaluation results\n",
        "            metrics_dict = {}\n",
        "            \n",
        "            # Get the raw scores from the evaluation results\n",
        "            try:\n",
        "                # Convert evaluation results to a string and parse it\n",
        "                results_str = str(eval_results)\n",
        "                if '{' in results_str and '}' in results_str:\n",
        "                    # Extract the dictionary part from the string\n",
        "                    dict_str = results_str[results_str.find('{'): results_str.find('}') + 1]\n",
        "                    # Clean up the string and evaluate it\n",
        "                    dict_str = dict_str.replace(\"'\", '\"')  # Ensure proper JSON quotes\n",
        "                    import json\n",
        "                    results_dict = json.loads(dict_str)\n",
        "                    \n",
        "                    # Map the metrics to our names\n",
        "                    if 'context_precision' in results_dict:\n",
        "                        metrics_dict['ContextPrecision'] = float(results_dict['context_precision'])\n",
        "                    if 'context_recall' in results_dict:\n",
        "                        metrics_dict['ContextRecall'] = float(results_dict['context_recall'])\n",
        "                    if 'nv_context_relevance' in results_dict:\n",
        "                        metrics_dict['ContextRelevance'] = float(results_dict['nv_context_relevance'])\n",
        "            except Exception as e:\n",
        "                print(f\"Debug - Error parsing results: {e}\")\n",
        "                print(f\"Debug - Results string: {str(eval_results)}\")\n",
        "            \n",
        "            print(f\"Extracted metrics: {metrics_dict}\")\n",
        "            \n",
        "            if not metrics_dict:\n",
        "                print(\"❌ No metrics were extracted from the evaluation results\")\n",
        "                print(f\"Evaluation results type: {type(eval_results)}\")\n",
        "                print(f\"Evaluation results content: {eval_results}\")\n",
        "                return None\n",
        "            \n",
        "            # Store results in run metadata via the traceable decorator\n",
        "            run = {\n",
        "                'retriever_name': retriever_name,\n",
        "                'metrics': metrics_dict,\n",
        "                'avg_latency_seconds': avg_latency,\n",
        "                'total_samples': len(evaluation_samples),\n",
        "                'successful_samples': successful_samples\n",
        "            }\n",
        "            \n",
        "            return run\n",
        "            \n",
        "        except Exception as e:\n",
        "            print(f\"❌ Error during evaluation: {e}\")\n",
        "            print(f\"Error type: {type(e)}\")\n",
        "            print(f\"Error details: {str(e)}\")\n",
        "            return None\n",
        "    else:\n",
        "        return None\n",
        "\n",
        "print(\"Evaluation function defined with LangSmith integration!\")"
      ]
    },
    {
      "cell_type": "code",
      "execution_count": null,
      "metadata": {},
      "outputs": [
        {
          "name": "stdout",
          "output_type": "stream",
          "text": [
            "Starting retriever evaluation...\n",
            "============================================================\n",
            "\n",
            "Evaluating naive (attempt 1/3)...\n",
            "Evaluating naive...\n",
            "Running RAGAS evaluation...\n"
          ]
        },
        {
          "data": {
            "application/vnd.jupyter.widget-view+json": {
              "model_id": "b2701ffaf9ab415eae8dd0d6fbed8ce0",
              "version_major": 2,
              "version_minor": 0
            },
            "text/plain": [
              "Evaluating:   0%|          | 0/36 [00:00<?, ?it/s]"
            ]
          },
          "metadata": {},
          "output_type": "display_data"
        },
        {
          "name": "stdout",
          "output_type": "stream",
          "text": [
            "An error occurred: Error code: 429 - {'error': {'message': 'Rate limit reached for gpt-4.1-mini in organization org-j1CMbmsNyPI0ZBMA3XAQnXoH on tokens per min (TPM): Limit 200000, Used 199229, Requested 1993. Please try again in 366ms. Visit https://platform.openai.com/account/rate-limits to learn more.', 'type': 'tokens', 'param': None, 'code': 'rate_limit_exceeded'}}. Skipping a sample by assigning it nan score.\n",
            "An error occurred: Error code: 429 - {'error': {'message': 'Rate limit reached for gpt-4.1-mini in organization org-j1CMbmsNyPI0ZBMA3XAQnXoH on tokens per min (TPM): Limit 200000, Used 200000, Requested 2005. Please try again in 601ms. Visit https://platform.openai.com/account/rate-limits to learn more.', 'type': 'tokens', 'param': None, 'code': 'rate_limit_exceeded'}}. Skipping a sample by assigning it nan score.\n",
            "An error occurred: Error code: 429 - {'error': {'message': 'Rate limit reached for gpt-4.1-mini in organization org-j1CMbmsNyPI0ZBMA3XAQnXoH on tokens per min (TPM): Limit 200000, Used 200000, Requested 1878. Please try again in 563ms. Visit https://platform.openai.com/account/rate-limits to learn more.', 'type': 'tokens', 'param': None, 'code': 'rate_limit_exceeded'}}. Skipping a sample by assigning it nan score.\n",
            "Extracted metrics: {'ContextPrecision': 0.0417, 'ContextRecall': 0.0417, 'ContextRelevance': 0.0}\n",
            "✅ naive evaluation completed\n",
            "Waiting 30 seconds before next retriever...\n",
            "\n",
            "Evaluating bm25 (attempt 1/3)...\n",
            "Evaluating bm25...\n",
            "Running RAGAS evaluation...\n"
          ]
        },
        {
          "data": {
            "application/vnd.jupyter.widget-view+json": {
              "model_id": "8d34fa5723cf4b48a033ce6028bc935b",
              "version_major": 2,
              "version_minor": 0
            },
            "text/plain": [
              "Evaluating:   0%|          | 0/36 [00:00<?, ?it/s]"
            ]
          },
          "metadata": {},
          "output_type": "display_data"
        },
        {
          "name": "stdout",
          "output_type": "stream",
          "text": [
            "Extracted metrics: {'ContextPrecision': 0.0833, 'ContextRecall': 0.0, 'ContextRelevance': 0.0625}\n",
            "✅ bm25 evaluation completed\n",
            "Waiting 30 seconds before next retriever...\n"
          ]
        }
      ],
      "source": [
        "print(\"Starting retriever evaluation...\")\n",
        "print(\"=\"*60)\n",
        "\n",
        "results = []\n",
        "for retriever_name, retriever in retrievers_to_evaluate.items():\n",
        "    max_retries = 3\n",
        "    retry_count = 0\n",
        "    \n",
        "    while retry_count < max_retries:\n",
        "        try:\n",
        "            print(f\"\\nEvaluating {retriever_name} (attempt {retry_count + 1}/{max_retries})...\")\n",
        "            result = evaluate_retriever(retriever, retriever_name, evaluation_samples)\n",
        "            if result:\n",
        "                results.append(result)\n",
        "                print(f\"✅ {retriever_name} evaluation completed\")\n",
        "                break  # Success, move to next retriever\n",
        "            else:\n",
        "                print(f\"⚠️ {retriever_name} evaluation returned no results\")\n",
        "                retry_count += 1\n",
        "        except Exception as e:\n",
        "            print(f\"❌ Error evaluating {retriever_name}: {e}\")\n",
        "            if \"rate_limit\" in str(e).lower():\n",
        "                print(f\"⚠️ Rate limit hit, waiting 60 seconds before retry...\")\n",
        "                time.sleep(60)\n",
        "                retry_count += 1\n",
        "            else:\n",
        "                break  # Non-rate-limit error, move to next retriever\n",
        "    \n",
        "    # Wait between retrievers to avoid rate limits\n",
        "    if retry_count < max_retries:  # Only wait if we're continuing to next retriever\n",
        "        print(\"Waiting 30 seconds before next retriever...\")\n",
        "        time.sleep(30)\n",
        "\n",
        "print(f\"\\nCompleted evaluation of {len(results)} retrievers\")\n",
        "\n",
        "# Print results summary if we have any\n",
        "if results:\n",
        "    print(\"\\nResults Summary:\")\n",
        "    print(\"=\"*60)\n",
        "    for result in results:\n",
        "        print(f\"\\n{result['retriever_name']}:\")\n",
        "        print(\"-\" * len(result['retriever_name']))\n",
        "        print(f\"Successful samples: {result['successful_samples']}/{result['total_samples']}\")\n",
        "        print(f\"Average latency: {result['avg_latency_seconds']:.2f} seconds\")\n",
        "        print(\"Metrics:\")\n",
        "        for metric_name, value in result['metrics'].items():\n",
        "            print(f\"  {metric_name}: {value:.4f}\")"
      ]
    }
  ],
  "metadata": {
    "colab": {
      "provenance": [],
      "toc_visible": true
    },
    "kernelspec": {
      "display_name": ".venv",
      "language": "python",
      "name": "python3"
    },
    "language_info": {
      "codemirror_mode": {
        "name": "ipython",
        "version": 3
      },
      "file_extension": ".py",
      "mimetype": "text/x-python",
      "name": "python",
      "nbconvert_exporter": "python",
      "pygments_lexer": "ipython3",
      "version": "3.13.5"
    }
  },
  "nbformat": 4,
  "nbformat_minor": 0
}
