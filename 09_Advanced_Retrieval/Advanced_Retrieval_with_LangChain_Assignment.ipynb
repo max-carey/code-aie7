{
  "cells": [
    {
      "cell_type": "markdown",
      "metadata": {
        "id": "e-IqJAMkwnCF"
      },
      "source": [
        "# Advanced Retrieval with LangChain\n",
        "\n",
        "In the following notebook, we'll explore various methods of advanced retrieval using LangChain!\n",
        "\n",
        "We'll touch on:\n",
        "\n",
        "- Naive Retrieval\n",
        "- Best-Matching 25 (BM25)\n",
        "- Multi-Query Retrieval\n",
        "- Parent-Document Retrieval\n",
        "- Contextual Compression (a.k.a. Rerank)\n",
        "- Ensemble Retrieval\n",
        "- Semantic chunking\n",
        "\n",
        "We'll also discuss how these methods impact performance on our set of documents with a simple RAG chain.\n",
        "\n",
        "There will be two breakout rooms:\n",
        "\n",
        "- 🤝 Breakout Room Part #1\n",
        "  - Task 1: Getting Dependencies!\n",
        "  - Task 2: Data Collection and Preparation\n",
        "  - Task 3: Setting Up QDrant!\n",
        "  - Task 4-10: Retrieval Strategies\n",
        "- 🤝 Breakout Room Part #2\n",
        "  - Activity: Evaluate with Ragas"
      ]
    },
    {
      "cell_type": "markdown",
      "metadata": {
        "id": "4rKP3hgHivpe"
      },
      "source": [
        "# 🤝 Breakout Room Part #1"
      ]
    },
    {
      "cell_type": "markdown",
      "metadata": {
        "id": "3xes8oT-xHN7"
      },
      "source": [
        "## Task 1: Getting Dependencies!\n",
        "\n",
        "We're going to need a few specific LangChain community packages, like OpenAI (for our [LLM](https://platform.openai.com/docs/models) and [Embedding Model](https://platform.openai.com/docs/guides/embeddings)) and Cohere (for our [Reranker](https://cohere.com/rerank))."
      ]
    },
    {
      "cell_type": "markdown",
      "metadata": {
        "id": "Z7OHJXzfyJyA"
      },
      "source": [
        "We'll also provide our OpenAI key, as well as our Cohere API key."
      ]
    },
    {
      "cell_type": "code",
      "execution_count": 2,
      "metadata": {
        "colab": {
          "base_uri": "https://localhost:8080/"
        },
        "id": "7LttlDQUYgSI",
        "outputId": "9dca95ab-4d02-4adf-ec3f-cb831326dc54"
      },
      "outputs": [],
      "source": [
        "import os\n",
        "import getpass\n",
        "\n",
        "os.environ[\"OPENAI_API_KEY\"] = getpass.getpass(\"Enter your OpenAI API Key:\")"
      ]
    },
    {
      "cell_type": "code",
      "execution_count": 3,
      "metadata": {
        "colab": {
          "base_uri": "https://localhost:8080/"
        },
        "id": "3iUahNiJyQbv",
        "outputId": "78bf06ef-2ee8-46c3-f73d-27958b4dd79b"
      },
      "outputs": [],
      "source": [
        "os.environ[\"COHERE_API_KEY\"] = getpass.getpass(\"Cohere API Key:\")"
      ]
    },
    {
      "cell_type": "markdown",
      "metadata": {
        "id": "mw304iAFyRtl"
      },
      "source": [
        "## Task 2: Data Collection and Preparation\n",
        "\n",
        "We'll be using our Loan Data once again - this time the strutured data available through the CSV!"
      ]
    },
    {
      "cell_type": "markdown",
      "metadata": {
        "id": "A92NC2QZzCsi"
      },
      "source": [
        "### Data Preparation\n",
        "\n",
        "We want to make sure all our documents have the relevant metadata for the various retrieval strategies we're going to be applying today."
      ]
    },
    {
      "cell_type": "code",
      "execution_count": 4,
      "metadata": {
        "id": "GshBjVRJZ6p8"
      },
      "outputs": [],
      "source": [
        "from langchain_community.document_loaders.csv_loader import CSVLoader\n",
        "from datetime import datetime, timedelta\n",
        "\n",
        "loader = CSVLoader(\n",
        "    file_path=f\"./data/complaints.csv\",\n",
        "    metadata_columns=[\n",
        "      \"Date received\", \n",
        "      \"Product\", \n",
        "      \"Sub-product\", \n",
        "      \"Issue\", \n",
        "      \"Sub-issue\", \n",
        "      \"Consumer complaint narrative\", \n",
        "      \"Company public response\", \n",
        "      \"Company\", \n",
        "      \"State\", \n",
        "      \"ZIP code\", \n",
        "      \"Tags\", \n",
        "      \"Consumer consent provided?\", \n",
        "      \"Submitted via\", \n",
        "      \"Date sent to company\", \n",
        "      \"Company response to consumer\", \n",
        "      \"Timely response?\", \n",
        "      \"Consumer disputed?\", \n",
        "      \"Complaint ID\"\n",
        "    ]\n",
        ")\n",
        "\n",
        "loan_complaint_data = loader.load()\n",
        "\n",
        "for doc in loan_complaint_data:\n",
        "    doc.page_content = doc.metadata[\"Consumer complaint narrative\"]"
      ]
    },
    {
      "cell_type": "markdown",
      "metadata": {
        "id": "9gQphb6y0C0S"
      },
      "source": [
        "Let's look at an example document to see if everything worked as expected!"
      ]
    },
    {
      "cell_type": "code",
      "execution_count": 5,
      "metadata": {
        "colab": {
          "base_uri": "https://localhost:8080/"
        },
        "id": "PkUkCf7DaMiq",
        "outputId": "e90bd5da-1d87-423b-838a-cb6efc16b199"
      },
      "outputs": [
        {
          "data": {
            "text/plain": [
              "Document(metadata={'source': './data/complaints.csv', 'row': 0, 'Date received': '03/27/25', 'Product': 'Student loan', 'Sub-product': 'Federal student loan servicing', 'Issue': 'Dealing with your lender or servicer', 'Sub-issue': 'Trouble with how payments are being handled', 'Consumer complaint narrative': \"The federal student loan COVID-19 forbearance program ended in XX/XX/XXXX. However, payments were not re-amortized on my federal student loans currently serviced by Nelnet until very recently. The new payment amount that is effective starting with the XX/XX/XXXX payment will nearly double my payment from {$180.00} per month to {$360.00} per month. I'm fortunate that my current financial position allows me to be able to handle the increased payment amount, but I am sure there are likely many borrowers who are not in the same position. The re-amortization should have occurred once the forbearance ended to reduce the impact to borrowers.\", 'Company public response': 'None', 'Company': 'Nelnet, Inc.', 'State': 'IL', 'ZIP code': '60030', 'Tags': 'None', 'Consumer consent provided?': 'Consent provided', 'Submitted via': 'Web', 'Date sent to company': '03/27/25', 'Company response to consumer': 'Closed with explanation', 'Timely response?': 'Yes', 'Consumer disputed?': 'N/A', 'Complaint ID': '12686613'}, page_content=\"The federal student loan COVID-19 forbearance program ended in XX/XX/XXXX. However, payments were not re-amortized on my federal student loans currently serviced by Nelnet until very recently. The new payment amount that is effective starting with the XX/XX/XXXX payment will nearly double my payment from {$180.00} per month to {$360.00} per month. I'm fortunate that my current financial position allows me to be able to handle the increased payment amount, but I am sure there are likely many borrowers who are not in the same position. The re-amortization should have occurred once the forbearance ended to reduce the impact to borrowers.\")"
            ]
          },
          "execution_count": 5,
          "metadata": {},
          "output_type": "execute_result"
        }
      ],
      "source": [
        "loan_complaint_data[0]"
      ]
    },
    {
      "cell_type": "markdown",
      "metadata": {
        "id": "lWaQpdHl0Gzc"
      },
      "source": [
        "## Task 3: Setting up QDrant!\n",
        "\n",
        "Now that we have our documents, let's create a QDrant VectorStore with the collection name \"LoanComplaints\".\n",
        "\n",
        "We'll leverage OpenAI's [`text-embedding-3-small`](https://openai.com/blog/new-embedding-models-and-api-updates) because it's a very powerful (and low-cost) embedding model.\n",
        "\n",
        "> NOTE: We'll be creating additional vectorstores where necessary, but this pattern is still extremely useful."
      ]
    },
    {
      "cell_type": "code",
      "execution_count": 6,
      "metadata": {
        "id": "NT8ihRJbYmMT"
      },
      "outputs": [],
      "source": [
        "from langchain_community.vectorstores import Qdrant\n",
        "from langchain_openai import OpenAIEmbeddings\n",
        "\n",
        "embeddings = OpenAIEmbeddings(model=\"text-embedding-3-small\")\n",
        "\n",
        "vectorstore = Qdrant.from_documents(\n",
        "    loan_complaint_data,\n",
        "    embeddings,\n",
        "    location=\":memory:\",\n",
        "    collection_name=\"LoanComplaints\"\n",
        ")"
      ]
    },
    {
      "cell_type": "markdown",
      "metadata": {
        "id": "-x2SS4Rh0hiN"
      },
      "source": [
        "## Task 4: Naive RAG Chain\n",
        "\n",
        "Since we're focusing on the \"R\" in RAG today - we'll create our Retriever first."
      ]
    },
    {
      "cell_type": "markdown",
      "metadata": {
        "id": "NEH7X5Ai08FH"
      },
      "source": [
        "### R - Retrieval\n",
        "\n",
        "This naive retriever will simply look at each review as a document, and use cosine-similarity to fetch the 10 most relevant documents.\n",
        "\n",
        "> NOTE: We're choosing `10` as our `k` here to provide enough documents for our reranking process later"
      ]
    },
    {
      "cell_type": "code",
      "execution_count": 7,
      "metadata": {
        "id": "GFDPrNBtb72o"
      },
      "outputs": [],
      "source": [
        "naive_retriever = vectorstore.as_retriever(search_kwargs={\"k\" : 10})"
      ]
    },
    {
      "cell_type": "markdown",
      "metadata": {
        "id": "MbBhyQjz06dx"
      },
      "source": [
        "### A - Augmented\n",
        "\n",
        "We're going to go with a standard prompt for our simple RAG chain today! Nothing fancy here, we want this to mostly be about the Retrieval process."
      ]
    },
    {
      "cell_type": "code",
      "execution_count": 8,
      "metadata": {
        "id": "7uSz-Dbqcoki"
      },
      "outputs": [],
      "source": [
        "from langchain_core.prompts import ChatPromptTemplate\n",
        "\n",
        "RAG_TEMPLATE = \"\"\"\\\n",
        "You are a helpful and kind assistant. Use the context provided below to answer the question.\n",
        "\n",
        "If you do not know the answer, or are unsure, say you don't know.\n",
        "\n",
        "Query:\n",
        "{question}\n",
        "\n",
        "Context:\n",
        "{context}\n",
        "\"\"\"\n",
        "\n",
        "rag_prompt = ChatPromptTemplate.from_template(RAG_TEMPLATE)"
      ]
    },
    {
      "cell_type": "markdown",
      "metadata": {
        "id": "BlRzpb231GGJ"
      },
      "source": [
        "### G - Generation\n",
        "\n",
        "We're going to leverage `gpt-4.1-nano` as our LLM today, as - again - we want this to largely be about the Retrieval process."
      ]
    },
    {
      "cell_type": "code",
      "execution_count": 9,
      "metadata": {
        "id": "c-1t9H60dJLg"
      },
      "outputs": [],
      "source": [
        "from langchain_openai import ChatOpenAI\n",
        "\n",
        "chat_model = ChatOpenAI(model=\"gpt-4.1-nano\")"
      ]
    },
    {
      "cell_type": "markdown",
      "metadata": {
        "id": "mg3QRGzA1M2x"
      },
      "source": [
        "### LCEL RAG Chain\n",
        "\n",
        "We're going to use LCEL to construct our chain.\n",
        "\n",
        "> NOTE: This chain will be exactly the same across the various examples with the exception of our Retriever!"
      ]
    },
    {
      "cell_type": "code",
      "execution_count": 10,
      "metadata": {
        "id": "0bvstS7mdOW3"
      },
      "outputs": [],
      "source": [
        "from langchain_core.runnables import RunnablePassthrough\n",
        "from operator import itemgetter\n",
        "from langchain_core.output_parsers import StrOutputParser\n",
        "\n",
        "naive_retrieval_chain = (\n",
        "    # INVOKE CHAIN WITH: {\"question\" : \"<<SOME USER QUESTION>>\"}\n",
        "    # \"question\" : populated by getting the value of the \"question\" key\n",
        "    # \"context\"  : populated by getting the value of the \"question\" key and chaining it into the base_retriever\n",
        "    {\"context\": itemgetter(\"question\") | naive_retriever, \"question\": itemgetter(\"question\")}\n",
        "    # \"context\"  : is assigned to a RunnablePassthrough object (will not be called or considered in the next step)\n",
        "    #              by getting the value of the \"context\" key from the previous step\n",
        "    | RunnablePassthrough.assign(context=itemgetter(\"context\"))\n",
        "    # \"response\" : the \"context\" and \"question\" values are used to format our prompt object and then piped\n",
        "    #              into the LLM and stored in a key called \"response\"\n",
        "    # \"context\"  : populated by getting the value of the \"context\" key from the previous step\n",
        "    | {\"response\": rag_prompt | chat_model, \"context\": itemgetter(\"context\")}\n",
        ")"
      ]
    },
    {
      "cell_type": "markdown",
      "metadata": {
        "id": "izKujhNb1ZG8"
      },
      "source": [
        "Let's see how this simple chain does on a few different prompts.\n",
        "\n",
        "> NOTE: You might think that we've cherry picked prompts that showcase the individual skill of each of the retrieval strategies - you'd be correct!"
      ]
    },
    {
      "cell_type": "code",
      "execution_count": 11,
      "metadata": {
        "colab": {
          "base_uri": "https://localhost:8080/",
          "height": 36
        },
        "id": "LI-5ueEddku9",
        "outputId": "7f3cec18-5f4e-41bb-cf71-51ba0be5388e"
      },
      "outputs": [
        {
          "data": {
            "text/plain": [
              "'Based on the provided data, the most common issue with loans, particularly student loans, appears to be related to mishandling and errors by loan servicers. This includes problems such as:\\n\\n- Dealing with the lender or servicer (e.g., receiving bad information, errors in loan balances, misapplied payments, wrongful denials of payment plans).\\n- Incorrect or conflicting information on credit reports and account status (e.g., accounts shown as delinquent or in default when they are not).\\n- Challenges with payment application (e.g., unable to apply payments toward principal, payments only applied to interest, or payments being misapplied).\\n- Loan transfers and lack of proper notification or transparency during those processes.\\n- Disputes over interest, balances, or settlement eligibility.\\n- Mishandling of forbearance and deferment options, leading to increased debt or prolonged repayment periods.\\n- Privacy violations and improper data handling.\\n\\nOverall, a prevalent issue is the mishandling or mismanagement by loan servicers, leading to incorrect balances, poor communication, and difficulties in managing or repaying loans.'"
            ]
          },
          "execution_count": 11,
          "metadata": {},
          "output_type": "execute_result"
        }
      ],
      "source": [
        "naive_retrieval_chain.invoke({\"question\" : \"What is the most common issue with loans?\"})[\"response\"].content"
      ]
    },
    {
      "cell_type": "code",
      "execution_count": 12,
      "metadata": {
        "colab": {
          "base_uri": "https://localhost:8080/",
          "height": 36
        },
        "id": "43zdcdUydtXh",
        "outputId": "db874e67-f568-4ed1-b863-b7c17b387052"
      },
      "outputs": [
        {
          "data": {
            "text/plain": [
              "'Based on the information in the provided context, yes, some complaints did not get handled in a timely manner. Specifically, there are complaints with the response status marked as \"No\" or indicating a delay:\\n\\n- A complaint received on 03/28/25 (Complaint ID: 12709087) involved a delay in handling, with the consumer stating they had not heard from the company despite multiple follow-ups. The complaint was marked as \"Timely response?\": \"No.\"\\n  \\n- Other complaints from the same period involve significant delays or lack of response, indicating that not all complaints were handled promptly.\\n\\nTherefore, the answer is: Yes, some complaints did not get handled in a timely manner.'"
            ]
          },
          "execution_count": 12,
          "metadata": {},
          "output_type": "execute_result"
        }
      ],
      "source": [
        "naive_retrieval_chain.invoke({\"question\" : \"Did any complaints not get handled in a timely manner?\"})[\"response\"].content"
      ]
    },
    {
      "cell_type": "code",
      "execution_count": 13,
      "metadata": {
        "colab": {
          "base_uri": "https://localhost:8080/",
          "height": 70
        },
        "id": "lpG6rlvvvKFq",
        "outputId": "a1b330b0-628e-41be-d829-9c1d55e781f5"
      },
      "outputs": [
        {
          "data": {
            "text/plain": [
              "'People often fail to pay back their loans due to a combination of factors including:\\n\\n1. **Limited options for manageable repayment:** Many borrowers are only offered forbearance or deferment options, which allow them to temporarily pause payments but continue to accrue interest, making the total debt larger over time and extending the repayment period.\\n\\n2. **Accumulation of interest and growing debt:** Even when making payments, interest can continue to accumulate, especially if payments are lowered or deferred, resulting in a growing balance that is difficult to pay off.\\n\\n3. **Financial hardships and stagnating wages:** Borrowers often face economic challenges such as stagnant wages, unemployment, or unexpected expenses that make consistent repayment difficult.\\n\\n4. **Lack of clear communication and information:** Borrowers report inadequate communication from loan servicers about repayment terms, loan status, interest calculations, or changes in loan servicers, leading to confusion and unintentional delinquency.\\n\\n5. **Unfavorable loan management practices:** Some borrowers experience difficulty applying extra payments directly toward principal, or their payments are applied in a manner that favors interest, prolonging the debt.\\n\\n6. **Loan transfer and mishandling of information:** Transfers between loan servicers occur without proper notification, leading to missed payments, credit report issues, or unawareness of the true loan status.\\n\\n7. **Eligibility issues for loan forgiveness programs:** Many borrowers do not qualify for forgiveness programs like PSLF or TLF, and are left struggling to pay high-interest debt without support or pathways to relief.\\n\\nIn summary, a mix of systemic issues, economic hardships, and opaque communication contribute to why many people are unable to successfully pay back their loans.'"
            ]
          },
          "execution_count": 13,
          "metadata": {},
          "output_type": "execute_result"
        }
      ],
      "source": [
        "naive_retrieval_chain.invoke({\"question\" : \"Why did people fail to pay back their loans?\"})[\"response\"].content"
      ]
    },
    {
      "cell_type": "markdown",
      "metadata": {
        "id": "jsbfQmbr1leg"
      },
      "source": [
        "Overall, this is not bad! Let's see if we can make it better!"
      ]
    },
    {
      "cell_type": "markdown",
      "metadata": {
        "id": "Ft1vt8HPR16w"
      },
      "source": [
        "## Task 5: Best-Matching 25 (BM25) Retriever\n",
        "\n",
        "Taking a step back in time - [BM25](https://www.nowpublishers.com/article/Details/INR-019) is based on [Bag-Of-Words](https://en.wikipedia.org/wiki/Bag-of-words_model) which is a sparse representation of text.\n",
        "\n",
        "In essence, it's a way to compare how similar two pieces of text are based on the words they both contain.\n",
        "\n",
        "This retriever is very straightforward to set-up! Let's see it happen down below!\n"
      ]
    },
    {
      "cell_type": "code",
      "execution_count": 14,
      "metadata": {
        "id": "qdF4wuj5R-cG"
      },
      "outputs": [],
      "source": [
        "from langchain_community.retrievers import BM25Retriever\n",
        "\n",
        "bm25_retriever = BM25Retriever.from_documents(loan_complaint_data, )"
      ]
    },
    {
      "cell_type": "markdown",
      "metadata": {
        "id": "KIjJlBQ8drKH"
      },
      "source": [
        "We'll construct the same chain - only changing the retriever."
      ]
    },
    {
      "cell_type": "code",
      "execution_count": 15,
      "metadata": {
        "id": "WR15EQG7SLuw"
      },
      "outputs": [],
      "source": [
        "bm25_retrieval_chain = (\n",
        "    {\"context\": itemgetter(\"question\") | bm25_retriever, \"question\": itemgetter(\"question\")}\n",
        "    | RunnablePassthrough.assign(context=itemgetter(\"context\"))\n",
        "    | {\"response\": rag_prompt | chat_model, \"context\": itemgetter(\"context\")}\n",
        ")"
      ]
    },
    {
      "cell_type": "markdown",
      "metadata": {
        "id": "0Gi-yXCDdvJk"
      },
      "source": [
        "Let's look at the responses!"
      ]
    },
    {
      "cell_type": "code",
      "execution_count": 16,
      "metadata": {
        "colab": {
          "base_uri": "https://localhost:8080/",
          "height": 53
        },
        "id": "oY9qzmm3SOrF",
        "outputId": "4d4f450f-5978-460f-f242-b32407868353"
      },
      "outputs": [
        {
          "data": {
            "text/plain": [
              "'Based on the provided context, the most common issue with student loan complaints appears to be related to dealing with lenders or servicers, specifically issues like the following:\\n\\n- Disagreements over fees charged\\n- Problems with how payments are being handled, such as applying additional funds or paying off loans more quickly\\n- Receiving incorrect or bad information about loan balances, interest, or repayment terms\\n- Issues with loan information accuracy and transparency\\n\\nMany complaints mention miscommunication, lack of proper explanations, or perceived predatory behavior by servicers and lenders.\\n\\nTherefore, the most common issue with loans, as reflected in these complaints, is difficulties in communication and disputes with loan servicers or lenders regarding fees, payment application, and loan information accuracy.'"
            ]
          },
          "execution_count": 16,
          "metadata": {},
          "output_type": "execute_result"
        }
      ],
      "source": [
        "bm25_retrieval_chain.invoke({\"question\" : \"What is the most common issue with loans?\"})[\"response\"].content"
      ]
    },
    {
      "cell_type": "code",
      "execution_count": 17,
      "metadata": {
        "colab": {
          "base_uri": "https://localhost:8080/",
          "height": 36
        },
        "id": "igfinyneSQkh",
        "outputId": "9752d4a9-dd16-45b1-f63f-a76e93a05eb3"
      },
      "outputs": [
        {
          "data": {
            "text/plain": [
              "'Based on the provided information, all the complaints mentioned in the context received responses labeled as \"Closed with explanation,\" and the responses are indicated as \"Yes\" for being timely. Therefore, there is no evidence or indication that any complaints did not get handled in a timely manner.'"
            ]
          },
          "execution_count": 17,
          "metadata": {},
          "output_type": "execute_result"
        }
      ],
      "source": [
        "bm25_retrieval_chain.invoke({\"question\" : \"Did any complaints not get handled in a timely manner?\"})[\"response\"].content"
      ]
    },
    {
      "cell_type": "code",
      "execution_count": 18,
      "metadata": {
        "colab": {
          "base_uri": "https://localhost:8080/",
          "height": 53
        },
        "id": "w0H7pV_USSMQ",
        "outputId": "bdead654-3109-4143-9a30-e1d6ca8dc534"
      },
      "outputs": [
        {
          "data": {
            "text/plain": [
              "'People failing to pay back their loans often do so because they encounter issues such as improper or confusing payment plans, difficulty with automated payments, or miscommunication from loan servicers. For example, some individuals have reported being misled into unsuitable forbearance options, having their payments or autopayments discontinued without proper notification, or facing unexpected charges due to interest capitalization. Additionally, others have experienced their loans being transferred to new companies without their awareness, leading to missed communications and unaddressed repayment issues. These problems can result in missed or reversed payments, legal penalties, and negative impacts on credit scores, especially when loan servicers do not provide clear guidance or timely assistance.'"
            ]
          },
          "execution_count": 18,
          "metadata": {},
          "output_type": "execute_result"
        }
      ],
      "source": [
        "bm25_retrieval_chain.invoke({\"question\" : \"Why did people fail to pay back their loans?\"})[\"response\"].content"
      ]
    },
    {
      "cell_type": "markdown",
      "metadata": {
        "id": "zvg5xHaUdxCl"
      },
      "source": [
        "It's not clear that this is better or worse, if only we had a way to test this (SPOILERS: We do, the second half of the notebook will cover this)"
      ]
    },
    {
      "cell_type": "markdown",
      "metadata": {},
      "source": [
        "#### ❓ Question #1:\n",
        "\n",
        "Give an example query where BM25 is better than embeddings and justify your answer.\n",
        "\n",
        "#### ✅ Answer\n",
        "\n",
        "BM25 is likely to perform better than embeddings when searching for specific keywords or phrases that appear verbatim in the complaints. For example, when searching for \"FASFA deadline\", BM25 might give higher weight to documents that contain this exact phrase. BM25 is based on FREQUENCY not SEMANTICS. I found this viedo to be very helpful to explain the difference: https://www.youtube.com/watch?v=3FbJOKhLv9M.\n",
        "\n"
      ]
    },
    {
      "cell_type": "markdown",
      "metadata": {
        "id": "Q-dcbFn2vpZF"
      },
      "source": [
        "## Task 6: Contextual Compression (Using Reranking)\n",
        "\n",
        "Contextual Compression is a fairly straightforward idea: We want to \"compress\" our retrieved context into just the most useful bits.\n",
        "\n",
        "There are a few ways we can achieve this - but we're going to look at a specific example called reranking.\n",
        "\n",
        "The basic idea here is this:\n",
        "\n",
        "- We retrieve lots of documents that are very likely related to our query vector\n",
        "- We \"compress\" those documents into a smaller set of *more* related documents using a reranking algorithm.\n",
        "\n",
        "We'll be leveraging Cohere's Rerank model for our reranker today!\n",
        "\n",
        "All we need to do is the following:\n",
        "\n",
        "- Create a basic retriever\n",
        "- Create a compressor (reranker, in this case)\n",
        "\n",
        "That's it!\n",
        "\n",
        "Let's see it in the code below!"
      ]
    },
    {
      "cell_type": "code",
      "execution_count": 19,
      "metadata": {
        "id": "psHvO2K1v_ZQ"
      },
      "outputs": [],
      "source": [
        "from langchain.retrievers.contextual_compression import ContextualCompressionRetriever\n",
        "from langchain_cohere import CohereRerank\n",
        "\n",
        "compressor = CohereRerank(model=\"rerank-v3.5\")\n",
        "compression_retriever = ContextualCompressionRetriever(\n",
        "    base_compressor=compressor, base_retriever=naive_retriever\n",
        ")"
      ]
    },
    {
      "cell_type": "markdown",
      "metadata": {
        "id": "_TA9RB2x-j7P"
      },
      "source": [
        "Let's create our chain again, and see how this does!"
      ]
    },
    {
      "cell_type": "code",
      "execution_count": 20,
      "metadata": {
        "id": "1BXqmxvHwX6T"
      },
      "outputs": [],
      "source": [
        "contextual_compression_retrieval_chain = (\n",
        "    {\"context\": itemgetter(\"question\") | compression_retriever, \"question\": itemgetter(\"question\")}\n",
        "    | RunnablePassthrough.assign(context=itemgetter(\"context\"))\n",
        "    | {\"response\": rag_prompt | chat_model, \"context\": itemgetter(\"context\")}\n",
        ")"
      ]
    },
    {
      "cell_type": "code",
      "execution_count": 21,
      "metadata": {
        "colab": {
          "base_uri": "https://localhost:8080/",
          "height": 36
        },
        "id": "V3iGpokswcBb",
        "outputId": "f15d2aa1-5e8b-417d-f623-eb835d072e59"
      },
      "outputs": [
        {
          "data": {
            "text/plain": [
              "'Based on the provided context, the most common issue with loans appears to be dealing with the borrower’s interactions with their lender or servicer, specifically issues related to incorrect or misleading information, mishandling of loans, and lack of proper communication. Many complaints involve errors in loan balances, misapplication of payments, wrongful denials of payment plans, and disputes over loan details, which can lead to confusion and credit issues for borrowers.'"
            ]
          },
          "execution_count": 21,
          "metadata": {},
          "output_type": "execute_result"
        }
      ],
      "source": [
        "contextual_compression_retrieval_chain.invoke({\"question\" : \"What is the most common issue with loans?\"})[\"response\"].content"
      ]
    },
    {
      "cell_type": "code",
      "execution_count": 22,
      "metadata": {
        "colab": {
          "base_uri": "https://localhost:8080/",
          "height": 53
        },
        "id": "7u_k0i4OweUd",
        "outputId": "be5fccc8-2352-4189-c524-bbeaa28cf799"
      },
      "outputs": [
        {
          "data": {
            "text/plain": [
              "'Based on the provided information, there are indications that some complaints did not get handled in a timely manner. For example, the complaint logged under Complaint ID 12975634 mentions it has been over a year since the initial request and nearly 18 months without resolution, despite the response being marked as \"Timely response? Yes.\" Additionally, in the complaint with Complaint ID 12973003, the issue has persisted for over 2-3 weeks, and the secondary complaint about unpaid payments remains unresolved. \\n\\nTherefore, yes, some complaints appeared to be delayed or not resolved promptly.'"
            ]
          },
          "execution_count": 22,
          "metadata": {},
          "output_type": "execute_result"
        }
      ],
      "source": [
        "contextual_compression_retrieval_chain.invoke({\"question\" : \"Did any complaints not get handled in a timely manner?\"})[\"response\"].content"
      ]
    },
    {
      "cell_type": "code",
      "execution_count": 23,
      "metadata": {
        "colab": {
          "base_uri": "https://localhost:8080/",
          "height": 70
        },
        "id": "zn1EqaGqweXN",
        "outputId": "42bc5972-4164-46eb-f49d-4272f39bb89b"
      },
      "outputs": [
        {
          "data": {
            "text/plain": [
              "\"People failed to pay back their loans for several reasons, based on the provided context:\\n\\n1. **Lack of Awareness and Information:** Many borrowers were not adequately informed about their obligation to repay loans when taking out financial aid, especially if they were the first in their family to attend college. This led to confusion about repayment responsibilities.\\n\\n2. **Administrative Issues and Communication Failures:** Borrowers experienced poor communication from loan servicers, including failure to notify them about payment due dates, loan transfers without their knowledge, and lack of proper notifications or updates about their loan status.\\n\\n3. **Compounding Interest and Payment Difficulties:** Even when borrowers made payments, interest continued to accrue—sometimes outpacing their payments—making it difficult to reduce principal and leading to increasing balances over time.\\n\\n4. **Limited or Unavailable Payment Options:** Borrowers were often only offered options like forbearance or deferment, which allowed interest to accumulate, or payment plans that extended the repayment period unnecessarily.\\n\\n5. **Financial Hardship and Economic Conditions:** Many borrowers faced financial hardships, making it difficult to afford payments while managing day-to-day expenses. Stagnant wages and economic challenges contributed to their inability to keep up with loans.\\n\\n6. **Misleading or Insufficient Information about Loan Terms:** Borrowers were sometimes misled or lacked details about interest calculations, loan balances, and repayment options, which hindered effective management of their debt.\\n\\nOverall, these factors combined contributed to borrowers' inability to successfully repay their loans, resulting in growing balances and financial strain.\""
            ]
          },
          "execution_count": 23,
          "metadata": {},
          "output_type": "execute_result"
        }
      ],
      "source": [
        "contextual_compression_retrieval_chain.invoke({\"question\" : \"Why did people fail to pay back their loans?\"})[\"response\"].content"
      ]
    },
    {
      "cell_type": "markdown",
      "metadata": {
        "id": "OEbT0g2S-mZ4"
      },
      "source": [
        "We'll need to rely on something like Ragas to help us get a better sense of how this is performing overall - but it \"feels\" better!"
      ]
    },
    {
      "cell_type": "markdown",
      "metadata": {
        "id": "qqbghrBEQNn5"
      },
      "source": [
        "## Task 7: Multi-Query Retriever\n",
        "\n",
        "Typically in RAG we have a single query - the one provided by the user.\n",
        "\n",
        "What if we had....more than one query!\n",
        "\n",
        "In essence, a Multi-Query Retriever works by:\n",
        "\n",
        "1. Taking the original user query and creating `n` number of new user queries using an LLM.\n",
        "2. Retrieving documents for each query.\n",
        "3. Using all unique retrieved documents as context\n",
        "\n",
        "So, how is it to set-up? Not bad! Let's see it down below!\n",
        "\n"
      ]
    },
    {
      "cell_type": "code",
      "execution_count": 24,
      "metadata": {
        "id": "pfM26ReXQjzU"
      },
      "outputs": [],
      "source": [
        "from langchain.retrievers.multi_query import MultiQueryRetriever\n",
        "\n",
        "multi_query_retriever = MultiQueryRetriever.from_llm(\n",
        "    retriever=naive_retriever, llm=chat_model\n",
        ")"
      ]
    },
    {
      "cell_type": "code",
      "execution_count": 25,
      "metadata": {
        "id": "1vRc129jQ5WW"
      },
      "outputs": [],
      "source": [
        "multi_query_retrieval_chain = (\n",
        "    {\"context\": itemgetter(\"question\") | multi_query_retriever, \"question\": itemgetter(\"question\")}\n",
        "    | RunnablePassthrough.assign(context=itemgetter(\"context\"))\n",
        "    | {\"response\": rag_prompt | chat_model, \"context\": itemgetter(\"context\")}\n",
        ")"
      ]
    },
    {
      "cell_type": "code",
      "execution_count": 26,
      "metadata": {
        "colab": {
          "base_uri": "https://localhost:8080/",
          "height": 53
        },
        "id": "CGgNuOb3Q3M9",
        "outputId": "c5273ecf-da35-40b8-fbdb-0f8beab425f7"
      },
      "outputs": [
        {
          "data": {
            "text/plain": [
              "'The most common issue with loans, based on the provided context, appears to be problems related to **dealing with lenders or servicers**, specifically:\\n\\n- Mismanagement of loan accounts (errors in balances, misapplied payments)\\n- Problems with payment handling (difficulty applying payments correctly, inability to pay principal)\\n- Receiving bad or conflicting information about loans\\n- Unauthorized account activity or advances in delinquency status\\n- Lack of clear communication, transparency, or proper notices\\n- Inaccurate reporting of account status to credit bureaus\\n- Problems with loan classification or proper handling of deferments and forbearances\\n\\nIn particular, many complaints focus on poor customer service, inaccurate loan information (including balances and delinquency status), and mishandling of payment plans, income-driven repayment options, or loan forgiveness processes. These issues seem to be the most prevalent and recurring in the complaints data.\\n\\nSo, the most common issue with loans, especially student loans as reflected here, is **problems with loan servicing—mismanagement, miscommunication, and inaccuracy of loan account information**.\\n\\nIf you need more specific details or clarification, feel free to ask!'"
            ]
          },
          "execution_count": 26,
          "metadata": {},
          "output_type": "execute_result"
        }
      ],
      "source": [
        "multi_query_retrieval_chain.invoke({\"question\" : \"What is the most common issue with loans?\"})[\"response\"].content"
      ]
    },
    {
      "cell_type": "code",
      "execution_count": 27,
      "metadata": {
        "colab": {
          "base_uri": "https://localhost:8080/",
          "height": 36
        },
        "id": "aAlSthxrRDBC",
        "outputId": "230ff807-23ae-4d25-8d11-cfdbed0b77cb"
      },
      "outputs": [
        {
          "data": {
            "text/plain": [
              "'Based on the provided complaints, yes, some complaints indicate that issues were not handled in a timely manner. Several complaints mention delays, lack of responses, or failure to resolve issues within expected timeframes. For example:\\n\\n- A complaint from 04/18/25 states that Mohela failed to correct inaccuracies within the required time, and response was delayed beyond the expected window.\\n- Multiple complaints mention that the companies did not respond promptly to disputes or inquiries, with some delays exceeding the typical response times.\\n\\nHowever, some responses were marked as \"Timely\" (e.g., responses on 04/05/25 and 04/22/25), but even in these cases, the complaints highlight ongoing unresolved issues or delays in resolution.\\n\\nIn summary, while some organizations responded in a timely manner, many complaints indicate that certain issues were not handled in a timely manner, leading to ongoing frustration for the consumers.'"
            ]
          },
          "execution_count": 27,
          "metadata": {},
          "output_type": "execute_result"
        }
      ],
      "source": [
        "multi_query_retrieval_chain.invoke({\"question\" : \"Did any complaints not get handled in a timely manner?\"})[\"response\"].content"
      ]
    },
    {
      "cell_type": "code",
      "execution_count": 28,
      "metadata": {
        "colab": {
          "base_uri": "https://localhost:8080/",
          "height": 88
        },
        "id": "Uv1mpCK8REs4",
        "outputId": "00fbc22a-ed9b-4613-9695-0b179e3f8369"
      },
      "outputs": [
        {
          "data": {
            "text/plain": [
              "'People failed to pay back their loans for various reasons, including:\\n\\n- Administrative errors or mismanagement by loan servicers, such as inaccurate reporting or transfer of loans without proper notification.\\n- Lack of proper communication and guidance from servicers regarding payment resumption, delinquency notices, and available repayment options.\\n- Excessive accumulation of interest due to forbearance or deferment practices, often leading to balances that grow over time rather than decrease.\\n- Coercive practices like forbearance steering, where borrowers are not informed about income-driven repayment or rehabilitation options, resulting in higher balances and difficulty in repayment.\\n- Financial hardship or misunderstanding of loan terms, including high interest rates and lack of transparency about repayment plans and loan balance details.\\n- Systemic issues and systemic failures in loan servicing, leading to incomplete or incorrect information, negative credit reporting, and difficulty in managing repayment.\\n\\nIn summary, a combination of administrative shortcomings, lack of transparency, aggressive servicing practices, and borrower financial hardships contributed to the failure to repay loans.'"
            ]
          },
          "execution_count": 28,
          "metadata": {},
          "output_type": "execute_result"
        }
      ],
      "source": [
        "multi_query_retrieval_chain.invoke({\"question\" : \"Why did people fail to pay back their loans?\"})[\"response\"].content"
      ]
    },
    {
      "cell_type": "markdown",
      "metadata": {},
      "source": [
        "#### ❓ Question #2:\n",
        "\n",
        "Explain how generating multiple reformulations of a user query can improve recall.\n",
        "\n",
        "##### ✅ Answer:\n",
        "Generating multiple reformulations of a user query improves recall in a similar way to how image generators expand user prompts. Just like how an image generator might take a simple prompt like \"dog\" and expand it to \"a golden retriever puppy sitting in a grassy field on a sunny day\" to get more specific and relevant results, the MultiQueryRetriever takes a basic query and generates multiple variations that capture different aspects and phrasings of the same information need.\n",
        "\n",
        "This improves recall because:\n",
        "1. Different phrasings may match different relevant documents that use varying terminology\n",
        "2. Multiple queries explore different semantic angles of the same question\n",
        "3. By casting a wider net with related queries, we're more likely to catch relevant documents that might be missed by a single query\n",
        "4. The LLM can add helpful context and specifications, just like how image generators flesh out scene details\n",
        "\n",
        "For example, a query about \"loan issues\" might be expanded to:\n",
        "\"What are common problems people face with their loan servicers?\"\n",
        "\"What types of complaints do borrowers report about loan payments?\"\n",
        "\"What difficulties do people encounter when dealing with student loan companies?\"\n",
        "Each variation increases the chance of matching relevant documents in the corpus.\n",
        "\n"
      ]
    },
    {
      "cell_type": "markdown",
      "metadata": {
        "id": "EDEawBf_d_3G"
      },
      "source": [
        "## Task 8: Parent Document Retriever\n",
        "\n",
        "A \"small-to-big\" strategy - the Parent Document Retriever works based on a simple strategy:\n",
        "\n",
        "1. Each un-split \"document\" will be designated as a \"parent document\" (You could use larger chunks of document as well, but our data format allows us to consider the overall document as the parent chunk)\n",
        "2. Store those \"parent documents\" in a memory store (not a VectorStore)\n",
        "3. We will chunk each of those documents into smaller documents, and associate them with their respective parents, and store those in a VectorStore. We'll call those \"child chunks\".\n",
        "4. When we query our Retriever, we will do a similarity search comparing our query vector to the \"child chunks\".\n",
        "5. Instead of returning the \"child chunks\", we'll return their associated \"parent chunks\".\n",
        "\n",
        "Okay, maybe that was a few steps - but the basic idea is this:\n",
        "\n",
        "- Search for small documents\n",
        "- Return big documents\n",
        "\n",
        "The intuition is that we're likely to find the most relevant information by limiting the amount of semantic information that is encoded in each embedding vector - but we're likely to miss relevant surrounding context if we only use that information.\n",
        "\n",
        "Let's start by creating our \"parent documents\" and defining a `RecursiveCharacterTextSplitter`."
      ]
    },
    {
      "cell_type": "code",
      "execution_count": 29,
      "metadata": {
        "id": "qJ53JJuMd_ZH"
      },
      "outputs": [],
      "source": [
        "from langchain.retrievers import ParentDocumentRetriever\n",
        "from langchain.storage import InMemoryStore\n",
        "from langchain_text_splitters import RecursiveCharacterTextSplitter\n",
        "from qdrant_client import QdrantClient, models\n",
        "\n",
        "parent_docs = loan_complaint_data\n",
        "child_splitter = RecursiveCharacterTextSplitter(chunk_size=750)"
      ]
    },
    {
      "cell_type": "markdown",
      "metadata": {
        "id": "oOpXfVUH3gL3"
      },
      "source": [
        "We'll need to set up a new QDrant vectorstore - and we'll use another useful pattern to do so!\n",
        "\n",
        "> NOTE: We are manually defining our embedding dimension, you'll need to change this if you're using a different embedding model."
      ]
    },
    {
      "cell_type": "code",
      "execution_count": 30,
      "metadata": {
        "colab": {
          "base_uri": "https://localhost:8080/"
        },
        "id": "rzFc-_9HlGQ-",
        "outputId": "223662dd-c36f-42f7-d1b0-b086e571484e"
      },
      "outputs": [],
      "source": [
        "from langchain_qdrant import QdrantVectorStore\n",
        "\n",
        "client = QdrantClient(location=\":memory:\")\n",
        "\n",
        "client.create_collection(\n",
        "    collection_name=\"full_documents\",\n",
        "    vectors_config=models.VectorParams(size=1536, distance=models.Distance.COSINE)\n",
        ")\n",
        "\n",
        "parent_document_vectorstore = QdrantVectorStore(\n",
        "    collection_name=\"full_documents\", embedding=OpenAIEmbeddings(model=\"text-embedding-3-small\"), client=client\n",
        ")"
      ]
    },
    {
      "cell_type": "markdown",
      "metadata": {
        "id": "sf_g95FA3s6w"
      },
      "source": [
        "Now we can create our `InMemoryStore` that will hold our \"parent documents\" - and build our retriever!"
      ]
    },
    {
      "cell_type": "code",
      "execution_count": 31,
      "metadata": {
        "id": "BpWVjPf4fLUp"
      },
      "outputs": [],
      "source": [
        "store = InMemoryStore()\n",
        "\n",
        "parent_document_retriever = ParentDocumentRetriever(\n",
        "    vectorstore = parent_document_vectorstore,\n",
        "    docstore=store,\n",
        "    child_splitter=child_splitter,\n",
        ")"
      ]
    },
    {
      "cell_type": "markdown",
      "metadata": {
        "id": "KoYmSWfE32Zo"
      },
      "source": [
        "By default, this is empty as we haven't added any documents - let's add some now!"
      ]
    },
    {
      "cell_type": "code",
      "execution_count": 32,
      "metadata": {
        "id": "iQ2ZzfKigMZc"
      },
      "outputs": [],
      "source": [
        "parent_document_retriever.add_documents(parent_docs, ids=None)"
      ]
    },
    {
      "cell_type": "markdown",
      "metadata": {
        "id": "bI7Tip1335rE"
      },
      "source": [
        "We'll create the same chain we did before - but substitute our new `parent_document_retriever`."
      ]
    },
    {
      "cell_type": "code",
      "execution_count": 33,
      "metadata": {
        "id": "Qq_adt2KlSqp"
      },
      "outputs": [],
      "source": [
        "parent_document_retrieval_chain = (\n",
        "    {\"context\": itemgetter(\"question\") | parent_document_retriever, \"question\": itemgetter(\"question\")}\n",
        "    | RunnablePassthrough.assign(context=itemgetter(\"context\"))\n",
        "    | {\"response\": rag_prompt | chat_model, \"context\": itemgetter(\"context\")}\n",
        ")"
      ]
    },
    {
      "cell_type": "markdown",
      "metadata": {
        "id": "jNolUVQb4Apt"
      },
      "source": [
        "Let's give it a whirl!"
      ]
    },
    {
      "cell_type": "code",
      "execution_count": 34,
      "metadata": {
        "colab": {
          "base_uri": "https://localhost:8080/",
          "height": 70
        },
        "id": "TXB5i89Zly5W",
        "outputId": "94c240be-7c5b-4c58-9eee-56d93285a054"
      },
      "outputs": [
        {
          "data": {
            "text/plain": [
              "'The most common issue with loans, based on the provided complaints, appears to involve misconduct or errors in loan servicing. Specific issues include errors in loan balances, misapplied payments, wrongful denials of payment plans, unfair increases in interest rates, inappropriate credit reporting, and difficulties with loan consolidation or verification. These problems indicate systemic shortcomings in how loans are managed and reported, leading to significant financial and credit impacts on borrowers.'"
            ]
          },
          "execution_count": 34,
          "metadata": {},
          "output_type": "execute_result"
        }
      ],
      "source": [
        "parent_document_retrieval_chain.invoke({\"question\" : \"What is the most common issue with loans?\"})[\"response\"].content"
      ]
    },
    {
      "cell_type": "code",
      "execution_count": 35,
      "metadata": {
        "colab": {
          "base_uri": "https://localhost:8080/",
          "height": 36
        },
        "id": "V5F1T-wNl3cg",
        "outputId": "9b81e72e-5db7-4b8a-b25b-400ea0df5335"
      },
      "outputs": [
        {
          "data": {
            "text/plain": [
              "'Based on the provided information, yes, some complaints did not get handled in a timely manner. Specifically, the complaints regarding student loan servicing by MOHELA (Complaint IDs 12709087 and 12935889) indicate that responses were delayed beyond the expected timeframes (\"Timely response?\": \"No\"). Additionally, one complaint about dispute settlement by Nelnet (Complaint ID 13205525) was responded to within 30 days but still represents a longer-than-acceptable processing time, and the complaint itself highlights ongoing neglect.\\n\\nTherefore, the answer is: Yes, some complaints were not handled in a timely manner.'"
            ]
          },
          "execution_count": 35,
          "metadata": {},
          "output_type": "execute_result"
        }
      ],
      "source": [
        "parent_document_retrieval_chain.invoke({\"question\" : \"Did any complaints not get handled in a timely manner?\"})[\"response\"].content"
      ]
    },
    {
      "cell_type": "code",
      "execution_count": 36,
      "metadata": {
        "colab": {
          "base_uri": "https://localhost:8080/",
          "height": 70
        },
        "id": "ZqARszGzvGcG",
        "outputId": "8867f83c-db13-4db4-d57f-9bd51d32cd8a"
      },
      "outputs": [
        {
          "data": {
            "text/plain": [
              "'People failed to pay back their loans primarily due to a combination of factors such as financial hardship, lack of proper information, mismanagement, and external circumstances. For example, some borrowers experienced severe financial difficulties after graduation, making it difficult to keep up with payments. Others were misled about the manageability of their loans or were not properly informed about payment requirements and changes, such as loan servicers not notifying them about when payments should begin or about loan buyouts and account transfers. Additionally, issues like the closure of educational institutions, employment challenges, and health problems also contributed to their inability to repay loans.'"
            ]
          },
          "execution_count": 36,
          "metadata": {},
          "output_type": "execute_result"
        }
      ],
      "source": [
        "parent_document_retrieval_chain.invoke({\"question\" : \"Why did people fail to pay back their loans?\"})[\"response\"].content"
      ]
    },
    {
      "cell_type": "markdown",
      "metadata": {
        "id": "B41cj42s4DPM"
      },
      "source": [
        "Overall, the performance *seems* largely the same. We can leverage a tool like [Ragas]() to more effectively answer the question about the performance."
      ]
    },
    {
      "cell_type": "markdown",
      "metadata": {
        "id": "VUrIBKl_TwS9"
      },
      "source": [
        "## Task 9: Ensemble Retriever\n",
        "\n",
        "In brief, an Ensemble Retriever simply takes 2, or more, retrievers and combines their retrieved documents based on a rank-fusion algorithm.\n",
        "\n",
        "In this case - we're using the [Reciprocal Rank Fusion](https://plg.uwaterloo.ca/~gvcormac/cormacksigir09-rrf.pdf) algorithm.\n",
        "\n",
        "Setting it up is as easy as providing a list of our desired retrievers - and the weights for each retriever."
      ]
    },
    {
      "cell_type": "code",
      "execution_count": 37,
      "metadata": {
        "id": "8j7jpZsKTxic"
      },
      "outputs": [],
      "source": [
        "from langchain.retrievers import EnsembleRetriever\n",
        "\n",
        "retriever_list = [bm25_retriever, naive_retriever, parent_document_retriever, compression_retriever, multi_query_retriever]\n",
        "equal_weighting = [1/len(retriever_list)] * len(retriever_list)\n",
        "\n",
        "ensemble_retriever = EnsembleRetriever(\n",
        "    retrievers=retriever_list, weights=equal_weighting\n",
        ")"
      ]
    },
    {
      "cell_type": "markdown",
      "metadata": {
        "id": "kpo9Psl5hhJ-"
      },
      "source": [
        "We'll pack *all* of these retrievers together in an ensemble."
      ]
    },
    {
      "cell_type": "code",
      "execution_count": 38,
      "metadata": {
        "id": "KZ__EZwpUKkd"
      },
      "outputs": [],
      "source": [
        "ensemble_retrieval_chain = (\n",
        "    {\"context\": itemgetter(\"question\") | ensemble_retriever, \"question\": itemgetter(\"question\")}\n",
        "    | RunnablePassthrough.assign(context=itemgetter(\"context\"))\n",
        "    | {\"response\": rag_prompt | chat_model, \"context\": itemgetter(\"context\")}\n",
        ")"
      ]
    },
    {
      "cell_type": "markdown",
      "metadata": {
        "id": "SSsvHpRMj24L"
      },
      "source": [
        "Let's look at our results!"
      ]
    },
    {
      "cell_type": "code",
      "execution_count": 39,
      "metadata": {
        "colab": {
          "base_uri": "https://localhost:8080/",
          "height": 70
        },
        "id": "0lMvqL88UQI-",
        "outputId": "d86dd5f7-0a13-4836-c0ce-cc4c431fd889"
      },
      "outputs": [
        {
          "data": {
            "text/plain": [
              "'Based on the provided data, the most common issues with loans, particularly student loans, include:\\n\\n- Dealing with lenders or servicers, including receiving bad information about the loan, disputes over loan balances, and issues with how payments are handled.\\n- Errors and inaccuracies in loan reporting, such as incorrect balances, account statuses, or late payment entries.\\n- Problems with communication, including lack of notice about account changes, default status, or negative credit reporting without prior warning.\\n- Unauthorized or improper transfer of loan accounts and breaches of privacy or data security, including potential FERPA violations.\\n- Challenges with repayment plans, including difficulty applying additional funds, interest accumulation while in forbearance, or issues with income-driven repayment options.\\n- Creditor misconduct, including mismanagement, misrepresentation of loan terms, and failure to follow regulations.\\n\\nOverall, a recurring theme involves poor communication, inaccurate information, and mishandling of loan accounts leading to credit harm and financial hardship.'"
            ]
          },
          "execution_count": 39,
          "metadata": {},
          "output_type": "execute_result"
        }
      ],
      "source": [
        "ensemble_retrieval_chain.invoke({\"question\" : \"What is the most common issue with loans?\"})[\"response\"].content"
      ]
    },
    {
      "cell_type": "code",
      "execution_count": 40,
      "metadata": {
        "colab": {
          "base_uri": "https://localhost:8080/",
          "height": 53
        },
        "id": "MNFWLYECURI1",
        "outputId": "b17973b5-66a9-4481-97d5-880b5754b5c5"
      },
      "outputs": [
        {
          "data": {
            "text/plain": [
              "'Based on the provided complaints data, yes, several complaints indicate that issues were not handled in a timely manner. Specifically:\\n\\n- Complaint ID 12709087 (MOHELA) was marked as \"Not timely response,\" with the user stating the issue was not resolved within 10 days despite promises.\\n- Complaint ID 12823876 (EdFinancial Services) was \"Handled within the response time.\"\\n- Complaint ID 12935889 (Maximus/Aidvantage) was marked \"No,\" indicating a response was not timely, with wait times exceeding four hours or more and no resolution.\\n- Complaint ID 13062402 (Nelnet) was handled \"within the response time.\"\\n- Complaint ID 13197090 (EdFinancial) was \"Handled within response time.\"\\n- Complaint ID 13205525 (Nelnet) was \"Handled within response time.\"\\n- Other complaints similarly indicate delays or failures to respond or resolve issues promptly.\\n\\nIn summary, multiple complaints reflect delays or failures to handle issues in a timely manner.'"
            ]
          },
          "execution_count": 40,
          "metadata": {},
          "output_type": "execute_result"
        }
      ],
      "source": [
        "ensemble_retrieval_chain.invoke({\"question\" : \"Did any complaints not get handled in a timely manner?\"})[\"response\"].content"
      ]
    },
    {
      "cell_type": "code",
      "execution_count": 41,
      "metadata": {
        "colab": {
          "base_uri": "https://localhost:8080/",
          "height": 88
        },
        "id": "A7qbHfWgUR4c",
        "outputId": "f7373144-59ef-4fc7-b75d-ca00e7df881e"
      },
      "outputs": [
        {
          "data": {
            "text/plain": [
              "'People failed to pay back their loans for various reasons, including:\\n\\n1. Lack of proper information about interest accrual and repayment options, leading to unmanageable debt growth.\\n2. Difficulties in affording higher payments due to stagnant wages or financial hardship.\\n3. Poor communication from lenders or servicers, such as failure to notify borrowers of repayment start dates or changes in loan status.\\n4. Mismanagement or mishandling of loans, including transfers without proper notification or inaccurate reporting to credit agencies.\\n5. Being steered into long-term forbearances or aggressive consolidation practices without being fully informed of the consequences.\\n6. Borrowers encountering financial crises, such as unemployment, homelessness, or health issues, that hindered their ability to continue payments.\\n7. Challenges in navigating complex loan repayment programs or lack of access to income-driven repayment options.\\n8. Errors or illegal actions by loan servicers, such as incorrect account reporting, unauthorized disclosures, or failure to verify the legitimacy of debt.\\n\\nOverall, many borrowers struggled because of systemic issues such as inadequate communication, lack of transparency, mismanagement, and unforeseen financial hardships.'"
            ]
          },
          "execution_count": 41,
          "metadata": {},
          "output_type": "execute_result"
        }
      ],
      "source": [
        "ensemble_retrieval_chain.invoke({\"question\" : \"Why did people fail to pay back their loans?\"})[\"response\"].content"
      ]
    },
    {
      "cell_type": "markdown",
      "metadata": {
        "id": "MopbkNJAXVaN"
      },
      "source": [
        "## Task 10: Semantic Chunking\n",
        "\n",
        "While this is not a retrieval method - it *is* an effective way of increasing retrieval performance on corpora that have clean semantic breaks in them.\n",
        "\n",
        "Essentially, Semantic Chunking is implemented by:\n",
        "\n",
        "1. Embedding all sentences in the corpus.\n",
        "2. Combining or splitting sequences of sentences based on their semantic similarity based on a number of [possible thresholding methods](https://python.langchain.com/docs/how_to/semantic-chunker/):\n",
        "  - `percentile`\n",
        "  - `standard_deviation`\n",
        "  - `interquartile`\n",
        "  - `gradient`\n",
        "3. Each sequence of related sentences is kept as a document!\n",
        "\n",
        "Let's see how to implement this!"
      ]
    },
    {
      "cell_type": "markdown",
      "metadata": {
        "id": "U9ciZbFEldv_"
      },
      "source": [
        "We'll use the `percentile` thresholding method for this example which will:\n",
        "\n",
        "Calculate all distances between sentences, and then break apart sequences of setences that exceed a given percentile among all distances."
      ]
    },
    {
      "cell_type": "code",
      "execution_count": 42,
      "metadata": {
        "id": "66EIEWiEYl5y"
      },
      "outputs": [],
      "source": [
        "from langchain_experimental.text_splitter import SemanticChunker\n",
        "\n",
        "semantic_chunker = SemanticChunker(\n",
        "    embeddings,\n",
        "    breakpoint_threshold_type=\"percentile\"\n",
        ")"
      ]
    },
    {
      "cell_type": "markdown",
      "metadata": {
        "id": "YqoKmz12mhRW"
      },
      "source": [
        "Now we can split our documents."
      ]
    },
    {
      "cell_type": "code",
      "execution_count": 43,
      "metadata": {
        "id": "ROcV7o68ZIq7"
      },
      "outputs": [],
      "source": [
        "semantic_documents = semantic_chunker.split_documents(loan_complaint_data[:20])"
      ]
    },
    {
      "cell_type": "markdown",
      "metadata": {
        "id": "L8-LNC-Xmjex"
      },
      "source": [
        "Let's create a new vector store."
      ]
    },
    {
      "cell_type": "code",
      "execution_count": 44,
      "metadata": {
        "id": "h3sl9QjyZhIe"
      },
      "outputs": [],
      "source": [
        "semantic_vectorstore = Qdrant.from_documents(\n",
        "    semantic_documents,\n",
        "    embeddings,\n",
        "    location=\":memory:\",\n",
        "    collection_name=\"Loan_Complaint_Data_Semantic_Chunks\"\n",
        ")"
      ]
    },
    {
      "cell_type": "markdown",
      "metadata": {
        "id": "Eh_r_-LHmmKn"
      },
      "source": [
        "We'll use naive retrieval for this example."
      ]
    },
    {
      "cell_type": "code",
      "execution_count": 45,
      "metadata": {
        "id": "odVyDUHwZftc"
      },
      "outputs": [],
      "source": [
        "semantic_retriever = semantic_vectorstore.as_retriever(search_kwargs={\"k\" : 10})"
      ]
    },
    {
      "cell_type": "markdown",
      "metadata": {
        "id": "Mkeiv_ojmp6G"
      },
      "source": [
        "Finally we can create our classic chain!"
      ]
    },
    {
      "cell_type": "code",
      "execution_count": 46,
      "metadata": {
        "id": "xWE_0J0mZveG"
      },
      "outputs": [],
      "source": [
        "semantic_retrieval_chain = (\n",
        "    {\"context\": itemgetter(\"question\") | semantic_retriever, \"question\": itemgetter(\"question\")}\n",
        "    | RunnablePassthrough.assign(context=itemgetter(\"context\"))\n",
        "    | {\"response\": rag_prompt | chat_model, \"context\": itemgetter(\"context\")}\n",
        ")"
      ]
    },
    {
      "cell_type": "markdown",
      "metadata": {
        "id": "R5pfjLQ3ms9_"
      },
      "source": [
        "And view the results!"
      ]
    },
    {
      "cell_type": "code",
      "execution_count": 47,
      "metadata": {
        "colab": {
          "base_uri": "https://localhost:8080/",
          "height": 70
        },
        "id": "0lN2j-e4Z0SD",
        "outputId": "ef483e21-7200-4dfc-b8bf-aed4f23587b2"
      },
      "outputs": [
        {
          "data": {
            "text/plain": [
              "\"The most common issue with loans, based on the provided complaints data, appears to be problems related to handling and servicing of federal student loans. Specific frequent issues include:\\n\\n- Struggling to repay loans due to confusing or unverified payment plans and re-amortization problems.\\n- Errors in loan reporting, such as incorrect account statuses, defaults, or delinquency notices.\\n- Poor communication from loan servicers regarding account changes, payment amounts, or servicer updates.\\n- Disputes over loan account legitimacy and data breaches.\\n- Auto-debit and payment processing issues, including automatic payments not being processed or being manipulated.\\n- Problems with loan forgiveness, cancellation, discharge processes, or delays in documentation processing.\\n\\nOverall, many complaints revolve around poor servicing, miscommunication, and errors in loan account handling, which significantly impact borrowers' financial and credit situations.\""
            ]
          },
          "execution_count": 47,
          "metadata": {},
          "output_type": "execute_result"
        }
      ],
      "source": [
        "semantic_retrieval_chain.invoke({\"question\" : \"What is the most common issue with loans?\"})[\"response\"].content"
      ]
    },
    {
      "cell_type": "code",
      "execution_count": 48,
      "metadata": {
        "colab": {
          "base_uri": "https://localhost:8080/",
          "height": 53
        },
        "id": "xdqfBH1SZ3f9",
        "outputId": "ed62b2d1-7586-46cc-aaf4-c54192a56155"
      },
      "outputs": [
        {
          "data": {
            "text/plain": [
              "'Based on the information provided, it appears that many complaints were marked as \"Closed with explanation\" and explicitly state that responses were received in a timely manner (\"Timely response?\\': \\'Yes\\'\"). However, several complaints highlight issues such as lack of response, unresolved disputes, or ongoing problems with handling complaints, payments, or errors. \\n\\nSpecifically, the complaint about Nelnet involving serious misconduct, errors, and violations of laws mentions that despite certified mail and acknowledgment of receipt, Nelnet never responded to the complaint or provided answers, indicating it was not handled in a timely manner. \\n\\nOverall, while some complaints were handled promptly, there are notable instances where complaints were not handled in a timely manner or issues remain unresolved. Therefore, **yes, there were complaints that did not get handled in a timely manner.**'"
            ]
          },
          "execution_count": 48,
          "metadata": {},
          "output_type": "execute_result"
        }
      ],
      "source": [
        "semantic_retrieval_chain.invoke({\"question\" : \"Did any complaints not get handled in a timely manner?\"})[\"response\"].content"
      ]
    },
    {
      "cell_type": "code",
      "execution_count": 49,
      "metadata": {
        "colab": {
          "base_uri": "https://localhost:8080/",
          "height": 70
        },
        "id": "rAcAObZnZ4o6",
        "outputId": "3f1cade3-41e4-4e42-ef71-048dd18e5e3a"
      },
      "outputs": [
        {
          "data": {
            "text/plain": [
              "'People failed to pay back their loans for various reasons, including:\\n\\n- Receiving bad or incomplete information about their loans, which caused confusion and delays.\\n- Difficulties in logging into loan accounts or communicating with lenders or servicers.\\n- Delays or disputes in processing payments due to technical issues or mismanagement.\\n- Deliberate stalling or administrative hurdles by loan servicers, which can discourage borrowers from continuing repayment.\\n- Problems with loan forgiveness or discharge programs, where documentation was rejected or delayed.\\n- Issues related to incorrect account status reports, such as being mistakenly marked in default or delinquent.\\n- Disputed or illegitimate reporting of loan status or debt, sometimes involving legal or privacy breaches.\\n- Loss of income or financial hardship, although specific cases do not always mention this explicitly.\\n\\nIn summary, a combination of poor communication, administrative challenges, legal disputes, and sometimes intentional delays contributed to borrowers being unable to repay their loans as expected.'"
            ]
          },
          "execution_count": 49,
          "metadata": {},
          "output_type": "execute_result"
        }
      ],
      "source": [
        "semantic_retrieval_chain.invoke({\"question\" : \"Why did people fail to pay back their loans?\"})[\"response\"].content"
      ]
    },
    {
      "cell_type": "markdown",
      "metadata": {},
      "source": [
        "#### ❓ Question #3:\n",
        "\n",
        "If sentences are short and highly repetitive (e.g., FAQs), how might semantic chunking behave, and how would you adjust the algorithm?\n",
        "\n",
        "##### ✅ Answer:\n",
        "With short, repetitive sentences like FAQs, semantic chunking may face several challenges:\n",
        "\n",
        "1. Overlapping Embeddings: Similar/repetitive sentences will have very similar embeddings, making it harder to distinguish between chunks and potentially leading to redundant retrievals\n",
        "\n",
        "2. Loss of Context: Short sentences may lack sufficient context for the embedding model to capture meaningful semantic relationships\n",
        "\n",
        "3. Inefficient Chunking: The algorithm may create many small chunks that don't effectively group related content\n",
        "\n",
        "To address these issues, you could:\n",
        "\n",
        "Increase chunk size to capture more context around each FAQ\n",
        "Use custom chunking rules that keep question-answer pairs together\n",
        "Add metadata/tags to help distinguish between similar FAQs\n",
        "Consider alternative chunking strategies like combining related FAQs into topical groups\n",
        "Use hybrid retrieval approaches that combine semantic and keyword matching\n"
      ]
    },
    {
      "cell_type": "markdown",
      "metadata": {
        "id": "xk2n3-pnVWDJ"
      },
      "source": [
        "# 🤝 Breakout Room Part #2"
      ]
    },
    {
      "cell_type": "markdown",
      "metadata": {
        "id": "2SkJLYwMVZkj"
      },
      "source": [
        "#### 🏗️ Activity #1\n",
        "\n",
        "Your task is to evaluate the various Retriever methods against eachother.\n",
        "\n",
        "You are expected to:\n",
        "\n",
        "1. Create a \"golden dataset\"\n",
        " - Use Synthetic Data Generation (powered by Ragas, or otherwise) to create this dataset\n",
        "2. Evaluate each retriever with *retriever specific* Ragas metrics\n",
        " - Semantic Chunking is not considered a retriever method and will not be required for marks, but you may find it useful to do a \"semantic chunking on\" vs. \"semantic chunking off\" comparision between them\n",
        "3. Compile these in a list and write a small paragraph about which is best for this particular data and why.\n",
        "\n",
        "Your analysis should factor in:\n",
        "  - Cost\n",
        "  - Latency\n",
        "  - Performance\n",
        "\n",
        "> NOTE: This is **NOT** required to be completed in class. Please spend time in your breakout rooms creating a plan before moving on to writing code."
      ]
    },
    {
      "cell_type": "markdown",
      "metadata": {
        "id": "TWAr16a5XMub"
      },
      "source": [
        "##### HINTS:\n",
        "\n",
        "- LangSmith provides detailed information about latency and cost."
      ]
    },
    {
      "cell_type": "code",
      "execution_count": 50,
      "metadata": {
        "id": "tgDICngKXLGK"
      },
      "outputs": [],
      "source": [
        "from langchain_community.document_loaders import DirectoryLoader\n",
        "from langchain_community.document_loaders import PyMuPDFLoader\n",
        "\n",
        "\n",
        "path = \"data/\"\n",
        "loader = DirectoryLoader(path, glob=\"*.pdf\", loader_cls=PyMuPDFLoader)\n",
        "docs = loader.load()"
      ]
    },
    {
      "cell_type": "code",
      "execution_count": 51,
      "metadata": {},
      "outputs": [],
      "source": [
        "from ragas.llms import LangchainLLMWrapper\n",
        "from ragas.embeddings import LangchainEmbeddingsWrapper\n",
        "from langchain_openai import ChatOpenAI\n",
        "from langchain_openai import OpenAIEmbeddings\n",
        "generator_llm = LangchainLLMWrapper(ChatOpenAI(model=\"gpt-4.1\"))\n",
        "generator_embeddings = LangchainEmbeddingsWrapper(OpenAIEmbeddings())"
      ]
    },
    {
      "cell_type": "code",
      "execution_count": 52,
      "metadata": {},
      "outputs": [
        {
          "data": {
            "application/vnd.jupyter.widget-view+json": {
              "model_id": "836be313b0a74818ab443efa0f68c960",
              "version_major": 2,
              "version_minor": 0
            },
            "text/plain": [
              "Applying HeadlinesExtractor:   0%|          | 0/17 [00:00<?, ?it/s]"
            ]
          },
          "metadata": {},
          "output_type": "display_data"
        },
        {
          "data": {
            "application/vnd.jupyter.widget-view+json": {
              "model_id": "a39b4dd8f0874ac59c49cae5d7fd29e3",
              "version_major": 2,
              "version_minor": 0
            },
            "text/plain": [
              "Applying HeadlineSplitter:   0%|          | 0/20 [00:00<?, ?it/s]"
            ]
          },
          "metadata": {},
          "output_type": "display_data"
        },
        {
          "name": "stderr",
          "output_type": "stream",
          "text": [
            "unable to apply transformation: 'headlines' property not found in this node\n",
            "unable to apply transformation: 'headlines' property not found in this node\n",
            "unable to apply transformation: 'headlines' property not found in this node\n"
          ]
        },
        {
          "data": {
            "application/vnd.jupyter.widget-view+json": {
              "model_id": "3fc98f7effdd46f7b7a65614db10b01d",
              "version_major": 2,
              "version_minor": 0
            },
            "text/plain": [
              "Applying SummaryExtractor:   0%|          | 0/31 [00:00<?, ?it/s]"
            ]
          },
          "metadata": {},
          "output_type": "display_data"
        },
        {
          "name": "stderr",
          "output_type": "stream",
          "text": [
            "Property 'summary' already exists in node 'cc98e0'. Skipping!\n",
            "Property 'summary' already exists in node 'a02163'. Skipping!\n",
            "Property 'summary' already exists in node '05f2b0'. Skipping!\n",
            "Property 'summary' already exists in node '1e0e62'. Skipping!\n",
            "Property 'summary' already exists in node '4e3c5d'. Skipping!\n",
            "Property 'summary' already exists in node 'f7f327'. Skipping!\n",
            "Property 'summary' already exists in node '84d79d'. Skipping!\n",
            "Property 'summary' already exists in node '556ae6'. Skipping!\n",
            "Property 'summary' already exists in node 'fa7032'. Skipping!\n",
            "Property 'summary' already exists in node '8ac78d'. Skipping!\n",
            "Property 'summary' already exists in node '7f3a64'. Skipping!\n",
            "Property 'summary' already exists in node 'd97fbd'. Skipping!\n",
            "Property 'summary' already exists in node '022d1a'. Skipping!\n",
            "Property 'summary' already exists in node '77923e'. Skipping!\n"
          ]
        },
        {
          "data": {
            "application/vnd.jupyter.widget-view+json": {
              "model_id": "5c06c3c39e3b4cce8530decf959d9a9d",
              "version_major": 2,
              "version_minor": 0
            },
            "text/plain": [
              "Applying CustomNodeFilter:   0%|          | 0/6 [00:00<?, ?it/s]"
            ]
          },
          "metadata": {},
          "output_type": "display_data"
        },
        {
          "data": {
            "application/vnd.jupyter.widget-view+json": {
              "model_id": "89b045b3c59f46a89fa37becb3dc4808",
              "version_major": 2,
              "version_minor": 0
            },
            "text/plain": [
              "Applying [EmbeddingExtractor, ThemesExtractor, NERExtractor]:   0%|          | 0/41 [00:00<?, ?it/s]"
            ]
          },
          "metadata": {},
          "output_type": "display_data"
        },
        {
          "name": "stderr",
          "output_type": "stream",
          "text": [
            "Property 'summary_embedding' already exists in node '556ae6'. Skipping!\n",
            "Property 'summary_embedding' already exists in node '05f2b0'. Skipping!\n",
            "Property 'summary_embedding' already exists in node 'd97fbd'. Skipping!\n",
            "Property 'summary_embedding' already exists in node 'fa7032'. Skipping!\n",
            "Property 'summary_embedding' already exists in node '77923e'. Skipping!\n",
            "Property 'summary_embedding' already exists in node '022d1a'. Skipping!\n",
            "Property 'summary_embedding' already exists in node '1e0e62'. Skipping!\n",
            "Property 'summary_embedding' already exists in node 'f7f327'. Skipping!\n",
            "Property 'summary_embedding' already exists in node '84d79d'. Skipping!\n",
            "Property 'summary_embedding' already exists in node '4e3c5d'. Skipping!\n",
            "Property 'summary_embedding' already exists in node '8ac78d'. Skipping!\n",
            "Property 'summary_embedding' already exists in node 'a02163'. Skipping!\n",
            "Property 'summary_embedding' already exists in node '7f3a64'. Skipping!\n",
            "Property 'summary_embedding' already exists in node 'cc98e0'. Skipping!\n"
          ]
        },
        {
          "data": {
            "application/vnd.jupyter.widget-view+json": {
              "model_id": "fae47d7bde27447b826aed50661c238c",
              "version_major": 2,
              "version_minor": 0
            },
            "text/plain": [
              "Applying [CosineSimilarityBuilder, OverlapScoreBuilder]:   0%|          | 0/2 [00:00<?, ?it/s]"
            ]
          },
          "metadata": {},
          "output_type": "display_data"
        },
        {
          "data": {
            "application/vnd.jupyter.widget-view+json": {
              "model_id": "5946d18b0b8d45e5becd83008f1cbb57",
              "version_major": 2,
              "version_minor": 0
            },
            "text/plain": [
              "Generating personas:   0%|          | 0/3 [00:00<?, ?it/s]"
            ]
          },
          "metadata": {},
          "output_type": "display_data"
        },
        {
          "data": {
            "application/vnd.jupyter.widget-view+json": {
              "model_id": "a27b2e0d63304cacbcd72b333211b63f",
              "version_major": 2,
              "version_minor": 0
            },
            "text/plain": [
              "Generating Scenarios:   0%|          | 0/3 [00:00<?, ?it/s]"
            ]
          },
          "metadata": {},
          "output_type": "display_data"
        },
        {
          "data": {
            "application/vnd.jupyter.widget-view+json": {
              "model_id": "05c1fb16271e41c3a8d5b6474546ac22",
              "version_major": 2,
              "version_minor": 0
            },
            "text/plain": [
              "Generating Samples:   0%|          | 0/12 [00:00<?, ?it/s]"
            ]
          },
          "metadata": {},
          "output_type": "display_data"
        }
      ],
      "source": [
        "from ragas.testset import TestsetGenerator\n",
        "\n",
        "generator = TestsetGenerator(\n",
        "    llm=generator_llm, embedding_model=generator_embeddings)\n",
        "dataset = generator.generate_with_langchain_docs(docs[:20], testset_size=10)"
      ]
    },
    {
      "cell_type": "code",
      "execution_count": 57,
      "metadata": {},
      "outputs": [
        {
          "data": {
            "text/html": [
              "<div>\n",
              "<style scoped>\n",
              "    .dataframe tbody tr th:only-of-type {\n",
              "        vertical-align: middle;\n",
              "    }\n",
              "\n",
              "    .dataframe tbody tr th {\n",
              "        vertical-align: top;\n",
              "    }\n",
              "\n",
              "    .dataframe thead th {\n",
              "        text-align: right;\n",
              "    }\n",
              "</style>\n",
              "<table border=\"1\" class=\"dataframe\">\n",
              "  <thead>\n",
              "    <tr style=\"text-align: right;\">\n",
              "      <th></th>\n",
              "      <th>user_input</th>\n",
              "      <th>reference_contexts</th>\n",
              "      <th>reference</th>\n",
              "      <th>synthesizer_name</th>\n",
              "    </tr>\n",
              "  </thead>\n",
              "  <tbody>\n",
              "    <tr>\n",
              "      <th>0</th>\n",
              "      <td>where i find info on BBAY 3 in Volume 8, Chapt...</td>\n",
              "      <td>[non-term (includes clock-hour calendars), or ...</td>\n",
              "      <td>For more information on BBAY 3, see Volume 8, ...</td>\n",
              "      <td>single_hop_specifc_query_synthesizer</td>\n",
              "    </tr>\n",
              "    <tr>\n",
              "      <th>1</th>\n",
              "      <td>what Volume 8, Chapter 3 say about clinical wo...</td>\n",
              "      <td>[Inclusion of Clinical Work in a Standard Term...</td>\n",
              "      <td>Volume 8, Chapter 3 give more guidance on exce...</td>\n",
              "      <td>single_hop_specifc_query_synthesizer</td>\n",
              "    </tr>\n",
              "    <tr>\n",
              "      <th>2</th>\n",
              "      <td>How are subscription-based programs treated di...</td>\n",
              "      <td>[Non-Term Characteristics A program that measu...</td>\n",
              "      <td>A program that measures progress in clock hour...</td>\n",
              "      <td>single_hop_specifc_query_synthesizer</td>\n",
              "    </tr>\n",
              "    <tr>\n",
              "      <th>3</th>\n",
              "      <td>How is a student’s Pell Grant amount determine...</td>\n",
              "      <td>[both the credit or clock hours and the weeks ...</td>\n",
              "      <td>The Pell Grant amount a student is eligible to...</td>\n",
              "      <td>single_hop_specifc_query_synthesizer</td>\n",
              "    </tr>\n",
              "    <tr>\n",
              "      <th>4</th>\n",
              "      <td>how do disbursement requirements for federal s...</td>\n",
              "      <td>[&lt;1-hop&gt;\\n\\nboth the credit or clock hours and...</td>\n",
              "      <td>in clock-hour or non-term credit-hour programs...</td>\n",
              "      <td>multi_hop_abstract_query_synthesizer</td>\n",
              "    </tr>\n",
              "  </tbody>\n",
              "</table>\n",
              "</div>"
            ],
            "text/plain": [
              "                                          user_input  \\\n",
              "0  where i find info on BBAY 3 in Volume 8, Chapt...   \n",
              "1  what Volume 8, Chapter 3 say about clinical wo...   \n",
              "2  How are subscription-based programs treated di...   \n",
              "3  How is a student’s Pell Grant amount determine...   \n",
              "4  how do disbursement requirements for federal s...   \n",
              "\n",
              "                                  reference_contexts  \\\n",
              "0  [non-term (includes clock-hour calendars), or ...   \n",
              "1  [Inclusion of Clinical Work in a Standard Term...   \n",
              "2  [Non-Term Characteristics A program that measu...   \n",
              "3  [both the credit or clock hours and the weeks ...   \n",
              "4  [<1-hop>\\n\\nboth the credit or clock hours and...   \n",
              "\n",
              "                                           reference  \\\n",
              "0  For more information on BBAY 3, see Volume 8, ...   \n",
              "1  Volume 8, Chapter 3 give more guidance on exce...   \n",
              "2  A program that measures progress in clock hour...   \n",
              "3  The Pell Grant amount a student is eligible to...   \n",
              "4  in clock-hour or non-term credit-hour programs...   \n",
              "\n",
              "                       synthesizer_name  \n",
              "0  single_hop_specifc_query_synthesizer  \n",
              "1  single_hop_specifc_query_synthesizer  \n",
              "2  single_hop_specifc_query_synthesizer  \n",
              "3  single_hop_specifc_query_synthesizer  \n",
              "4  multi_hop_abstract_query_synthesizer  "
            ]
          },
          "execution_count": 57,
          "metadata": {},
          "output_type": "execute_result"
        }
      ],
      "source": [
        "dataset.to_pandas().head()"
      ]
    },
    {
      "cell_type": "code",
      "execution_count": 54,
      "metadata": {},
      "outputs": [],
      "source": [
        "# Import required libraries for evaluation\n",
        "from ragas.metrics import ContextPrecision, ContextRecall, ContextRelevance\n",
        "from ragas import evaluate\n",
        "from ragas.llms import LangchainLLMWrapper\n",
        "from ragas.embeddings import LangchainEmbeddingsWrapper\n",
        "from ragas.dataset_schema import SingleTurnSample, EvaluationDataset\n",
        "import pandas as pd\n",
        "import time\n",
        "from langsmith import traceable\n",
        "from datetime import datetime\n",
        "import os\n",
        "import getpass"
      ]
    },
    {
      "cell_type": "code",
      "execution_count": 58,
      "metadata": {},
      "outputs": [
        {
          "name": "stdout",
          "output_type": "stream",
          "text": [
            "✅ LangSmith tracing enabled!\n",
            "🔗 Visit https://smith.langchain.com to view your traces\n"
          ]
        }
      ],
      "source": [
        "# # Get LangSmith API key\n",
        "# langsmith_key = getpass.getpass(\"LangSmith API Key:\")\n",
        "os.environ[\"LANGSMITH_API_KEY\"] = \"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\"\n",
        "\n",
        "# Enable LangSmith tracing\n",
        "os.environ[\"LANGSMITH_TRACING\"] = \"true\"\n",
        "#os.environ[\"LANGSMITH_PROJECT\"] = \"retriever-evaluation-max\"\n",
        "os.environ[\"LANGSMITH_ENDPOINT\"] = \"https://api.smith.langchain.com\"\n",
        "\n",
        "print(\"✅ LangSmith tracing enabled!\")\n",
        "#print(f\"📊 Project: {os.environ['LANGSMITH_PROJECT']}\")\n",
        "print(\"🔗 Visit https://smith.langchain.com to view your traces\")"
      ]
    },
    {
      "cell_type": "code",
      "execution_count": 83,
      "metadata": {},
      "outputs": [
        {
          "name": "stdout",
          "output_type": "stream",
          "text": [
            "RAGAS evaluator setup complete with rate limit handling!\n"
          ]
        }
      ],
      "source": [
        "# Create LLM with rate limit handling\n",
        "from langchain.chat_models import ChatOpenAI\n",
        "from langchain.schema.output_parser import BaseOutputParser\n",
        "import time\n",
        "\n",
        "class RateLimitRetryLLM(ChatOpenAI):\n",
        "    def __init__(self, *args, max_retries=5, **kwargs):\n",
        "        super().__init__(*args, **kwargs)\n",
        "        self.max_retries = max_retries\n",
        "    \n",
        "    def invoke(self, *args, **kwargs):\n",
        "        for attempt in range(self.max_retries):\n",
        "            try:\n",
        "                return super().invoke(*args, **kwargs)\n",
        "            except Exception as e:\n",
        "                if \"rate_limit\" in str(e).lower() and attempt < self.max_retries - 1:\n",
        "                    wait_time = 1 + attempt * 2  # Exponential backoff\n",
        "                    print(f\"\\n⏳ Rate limit hit, waiting {wait_time}s before retry...\")\n",
        "                    time.sleep(wait_time)\n",
        "                    continue\n",
        "                raise\n",
        "\n",
        "evaluator_llm = LangchainLLMWrapper(RateLimitRetryLLM(\n",
        "    model=\"gpt-4.1-mini\",\n",
        "    max_retries=5,\n",
        "    request_timeout=30\n",
        "))\n",
        "evaluator_embeddings = LangchainEmbeddingsWrapper(OpenAIEmbeddings())\n",
        "\n",
        "# Define RAGAS metrics for retriever evaluation\n",
        "ragas_metrics = [\n",
        "    ContextPrecision(llm=evaluator_llm),\n",
        "    ContextRecall(llm=evaluator_llm), \n",
        "    ContextRelevance(llm=evaluator_llm)\n",
        "]\n",
        "\n",
        "print(\"RAGAS evaluator setup complete with rate limit handling!\")"
      ]
    },
    {
      "cell_type": "code",
      "execution_count": 61,
      "metadata": {},
      "outputs": [
        {
          "name": "stdout",
          "output_type": "stream",
          "text": [
            "Created 12 evaluation samples\n",
            "Sample structure: dict_keys(['user_input', 'reference_contexts', 'reference'])\n"
          ]
        }
      ],
      "source": [
        "# Convert the generated dataset to RAGAS format\n",
        "test_df = dataset.to_pandas()\n",
        "\n",
        "# Create evaluation samples from the test dataset\n",
        "evaluation_samples = []\n",
        "for idx, row in test_df.iterrows():\n",
        "    sample = {\n",
        "        'user_input': row['user_input'],\n",
        "        'reference_contexts': row['reference_contexts'],\n",
        "        'reference': row['reference']\n",
        "    }\n",
        "    evaluation_samples.append(sample)\n",
        "\n",
        "print(f\"Created {len(evaluation_samples)} evaluation samples\")\n",
        "print(\"Sample structure:\", evaluation_samples[0].keys())"
      ]
    },
    {
      "cell_type": "code",
      "execution_count": 62,
      "metadata": {},
      "outputs": [
        {
          "name": "stdout",
          "output_type": "stream",
          "text": [
            "Will evaluate 7 retrieval methods\n"
          ]
        }
      ],
      "source": [
        "retrievers_to_evaluate = {\n",
        "    \"naive\": naive_retriever,\n",
        "    \"bm25\": bm25_retriever, \n",
        "    \"contextual_compression\": compression_retriever,\n",
        "    \"multi_query\": multi_query_retriever,\n",
        "    \"parent_document\": parent_document_retriever,\n",
        "    \"ensemble\": ensemble_retriever,\n",
        "    \"semantic\": semantic_retriever\n",
        "}\n",
        "\n",
        "print(f\"Will evaluate {len(retrievers_to_evaluate)} retrieval methods\")"
      ]
    },
    {
      "cell_type": "code",
      "execution_count": 63,
      "metadata": {},
      "outputs": [
        {
          "data": {
            "text/plain": [
              "[{'user_input': 'where i find info on BBAY 3 in Volume 8, Chapter 6?',\n",
              "  'reference_contexts': ['non-term (includes clock-hour calendars), or subscription-based. In a standard term or nonstandard term academic calendar, a term is generally a period in which all classes are scheduled to begin and end within a set time frame, and academic progress is measured in credit hours. In a non-term academic calendar, classes do not begin and end within a set time frame, such as a term. Academic progress in a non-term program can be measured in either credit or clock hours. In some cases (as discussed below), a program with terms must be treated as a non-term program for Title IV purposes. A subscription-based academic calendar is used only by subscription-based programs. A subscription-based program is a term-based program in which the school charges a student for each term on a subscription basis with the expectation that the student will complete a specified number of credit hours (or the equivalent) during that term. However, classes in a subscription-based program are not required to begin or end within a specific timeframe in each term, as is the case in a term-based calendar that is not subscription-based. For more detail on subscription-based programs, see Volume 2, Chapter 2. A subscription-based academic calendar consists of \"subscription periods\" that are either standard terms or substantially equal nonstandard terms (for guidance on when terms are considered to be substantially equal in length, see <Payment periods for programs using standard terms or substantially equal nonstandard terms= later in this chapter). Substantially equal nonstandard terms may be of any length, but if they are not at least nine weeks in length, the program must use BBAY 3 for purposes of monitoring Direct Loan annual loan limit progression (see Volume 8, Chapter 6 for more information on BBAY 3). Nonstandard terms that are not substantially equal in length are not permissible in a subscription-based academic calendar. The term \"subscription period\" is synonymous with \"term\" and \"payment period\" (payment periods are covered later in this chapter). Except for the fact that classes are not required to start and end within a term, the rules and requirements for term-based programs that are not subscription-based also apply to subscription-based programs. These requirements include: minimum and maximum term length restrictions for standard terms (see the discussion in the next section of this chapter); requirements for determining full-time enrollment (see Volume 1, Chapter 1); use of a Scheduled Academic Year (SAY), BBAY 1, BBAY 2, or BBAY 3 for monitoring Direct Loan annual loan limit progression (see Volume 8, Chapter 6); and use of Pell Grant formulas 1, 2, or 3 to calculate Pell Grant awards (see Volume 7, Chapter 4). Whether an academic calendar is standard term, nonstandard term, non-term, or subscription-based has implications for how aid is awarded and disbursed under the Title IV programs. Standard Terms: Semesters, Trimesters, and Quarters Semesters and trimesters contain between 14 and 21 weeks of instructional time. However, a summer term in a program using semesters or trimesters may contain fewer than 14 weeks. An academic calendar that uses semesters or trimesters traditionally has three terms, one each in the fall, spring, and summer, two of which comprise an academic year. For example, in a program using an SAY calendar, fall and spring would comprise an academic year. In a program using a'],\n",
              "  'reference': 'For more information on BBAY 3, see Volume 8, Chapter 6.'},\n",
              " {'user_input': 'what Volume 8, Chapter 3 say about clinical work in standard term?',\n",
              "  'reference_contexts': ['Inclusion of Clinical Work in a Standard Term Periods of medical and education program clinical work which is conducted outside the classroom may not be included in a standard term, unless all of the following apply: All students in the program must participate in the practicum or clinical experience, and they must be required to complete the practicum or clinical experience as a condition for applying for licensure or authorization to practice the occupation they intend to pursue; The school has little or no control over the length or starting and ending dates of the practicum or clinical experience. This may be due to constraints imposed by outside licensing bodies or the need to accommodate schedules of entities with which students are being placed (e.g., school districts or hospitals); and Credit hours associated with the practicum or clinical experience must be associated with the term in which most of the training occurs, even if the starting and ending dates do not exactly align with the term dates and/or overlap with another term. If the clinical work meets all the above criteria, terms which include such clinical work are not required to be considered nonstandard, nor are such programs required to be considered non-term, even if the clinical work overlaps another term. This flexibility is limited to required clinical periods associated with standard term programs in medicine (including, but not limited to, allopathic, osteopathic, nursing, veterinary, dentistry, pharmacy, and physical therapy), and student teaching required to obtain a state teaching certificate. See Volume 8, Chapter 3 for additional guidance on certain exceptions to the normal loan period and disbursement timing rules for Direct Loans when clinical work that meets the criteria described above is included in a standard term. Nonstandard Terms Generally, nonstandard terms are terms that are not semesters, trimesters, or quarters. For example, a 5-week term or a 23-week term would be considered a nonstandard term because no standard term can be fewer than nine weeks or greater than 21 weeks in length. Like standard terms, nonstandard terms may be equal in length or may be of different lengths. If a program is offered in a combination of standard terms and nonstandard terms, the program is considered to be offered in nonstandard terms. Also, like standard terms, nonstandard terms may not overlap within a program. Even if a school calls its terms semesters, trimesters, or quarters, they are considered to be nonstandard terms if they do not comply with the policy on standard term length, as described earlier. For instance, a 22-week semester or an 8-week quarter must be treated as a nonstandard term, because a semester cannot contain more than 21 weeks and a quarter must include a minimum of nine weeks. Semesters, trimesters, or quarters are also considered to be nonstandard terms if academic progress is not measured in the manner normally associated with the type of term. For example, if a program is offered in 15-week semesters but measures academic progress in quarter credit hours, the semesters would be considered nonstandard terms.'],\n",
              "  'reference': 'Volume 8, Chapter 3 give more guidance on exceptions to normal loan period and disbursement timing rules for Direct Loans when clinical work that meet the criteria is included in a standard term.'},\n",
              " {'user_input': 'How are subscription-based programs treated differently from other credit-hour programs when determining non-term characteristics for Title IV federal student aid disbursements?',\n",
              "  'reference_contexts': ['Non-Term Characteristics A program that measures progress in clock hours is always treated as a non-term program. Except for subscription-based programs, a program that measures progress in credit-hours is considered to have a non- term calendar if it has: Courses that do not begin and end within a set period of time such as a term; Courses that overlap terms; Self-paced and independent study courses that overlap terms; or Sequential courses that do not begin and end within a term. Payment Periods The payment period is applicable to all Title IV programs except the Federal Work-Study (FWS) Program. For example, Title IV program disbursements (except FWS payments) must be made on a payment period basis, as discussed in detail'],\n",
              "  'reference': 'A program that measures progress in clock hours is always treated as a non-term program. However, except for subscription-based programs, a program that measures progress in credit-hours is considered to have a non-term calendar if it has certain characteristics, such as courses that do not begin and end within a set period of time, courses that overlap terms, self-paced and independent study courses that overlap terms, or sequential courses that do not begin and end within a term. This means that subscription-based programs are an exception to the rule that would otherwise classify certain credit-hour programs as non-term based on these characteristics.'},\n",
              " {'user_input': 'How is a student’s Pell Grant amount determined in a clock-hour or non-term credit-hour program?',\n",
              "  'reference_contexts': ['both the credit or clock hours and the weeks of instructional time in a payment period before receiving a disbursement of Pell Grant, FSEOG, TEACH Grant or Direct Loan funds for the next payment period. For the Direct Loan Program only, this same requirement applies to students who are enrolled in programs with nonstandard terms that are not substantially equal in length. Effect of Accelerated Progression on Disbursement Timing in a Clock-Hour or Non-Term Credit-Hour Program The Pell Grant or TEACH Grant amount that a student is eligible to receive for a payment period in a clock-hour or non- term credit-hour program is based on the number of hours and weeks in the scheduled payment periods for the program that are established at the beginning of the program based on the program length (as described earlier in this chapter). These scheduled payment periods do not change, regardless of a student9s rate of progression through a clock-hour or non-term credit-hour program. This means that if a student completes additional weeks of instructional time or hours while completing the other measure of a payment period, the actual number of weeks or hours that the student completes before a disbursement can be made for the next payment period may differ from the number of weeks or hours in the scheduled payment period used to determine the student9s grant amount for the payment period. Although a student9s completion of additional weeks or hours in a payment period has no effect on the scheduled payment periods for purposes of determining Pell Grant and TEACH Grant payment amounts, an undergraduate student who accelerates in a clock-hour or non-term credit-hour program may have reduced Direct Loan eligibility in the final academic year of a program. Specifically, if a student enrolled in a program that is greater than one academic year in length completes additional clock or credit hours prior to the final academic year of the program, this may result in a final period of study that contains fewer clock or credit hours than the number of hours in the program9s defined academic year. In this circumstance, the Direct Loan annual loan limit for an undergraduate student must be prorated (reduced). The principles described above are illustrated by the examples in Appendix A at the end of this chapter. For guidance on calculating Pell Grant and TEACH Grant awards for clock-hour and non-term credit-hour programs, see Volume 7. For information on Direct Loan annual loan limit proration and annual loan limit progression in clock-hour and non-term credit- hour programs, see Volume 8, Chapters 5 and 6. If your school is unable to determine when a student has successfully completed half of the credit or clock hours in a program, academic year, or remainder of a program, the student is considered to have begun the second payment period of the program, academic year, or remainder of a program at the later of the date (identified by your school) that the student has successfully completed: half of the academic coursework in the program, academic year, or remainder of the program; or half of the number of weeks of instructional time in the program, academic year, or remainder of the program.'],\n",
              "  'reference': 'The Pell Grant amount a student is eligible to receive for a payment period in a clock-hour or non-term credit-hour program is based on the number of hours and weeks in the scheduled payment periods for the program that are established at the beginning of the program based on the program length. These scheduled payment periods do not change, regardless of a student’s rate of progression.'},\n",
              " {'user_input': 'how do disbursement requirements for federal student aid programs differ between clock-hour or non-term credit-hour programs and subscription-based programs, especially regarding disbursement timing and completion of coursework?',\n",
              "  'reference_contexts': ['<1-hop>\\n\\nboth the credit or clock hours and the weeks of instructional time in a payment period before receiving a disbursement of Pell Grant, FSEOG, TEACH Grant or Direct Loan funds for the next payment period. For the Direct Loan Program only, this same requirement applies to students who are enrolled in programs with nonstandard terms that are not substantially equal in length. Effect of Accelerated Progression on Disbursement Timing in a Clock-Hour or Non-Term Credit-Hour Program The Pell Grant or TEACH Grant amount that a student is eligible to receive for a payment period in a clock-hour or non- term credit-hour program is based on the number of hours and weeks in the scheduled payment periods for the program that are established at the beginning of the program based on the program length (as described earlier in this chapter). These scheduled payment periods do not change, regardless of a student9s rate of progression through a clock-hour or non-term credit-hour program. This means that if a student completes additional weeks of instructional time or hours while completing the other measure of a payment period, the actual number of weeks or hours that the student completes before a disbursement can be made for the next payment period may differ from the number of weeks or hours in the scheduled payment period used to determine the student9s grant amount for the payment period. Although a student9s completion of additional weeks or hours in a payment period has no effect on the scheduled payment periods for purposes of determining Pell Grant and TEACH Grant payment amounts, an undergraduate student who accelerates in a clock-hour or non-term credit-hour program may have reduced Direct Loan eligibility in the final academic year of a program. Specifically, if a student enrolled in a program that is greater than one academic year in length completes additional clock or credit hours prior to the final academic year of the program, this may result in a final period of study that contains fewer clock or credit hours than the number of hours in the program9s defined academic year. In this circumstance, the Direct Loan annual loan limit for an undergraduate student must be prorated (reduced). The principles described above are illustrated by the examples in Appendix A at the end of this chapter. For guidance on calculating Pell Grant and TEACH Grant awards for clock-hour and non-term credit-hour programs, see Volume 7. For information on Direct Loan annual loan limit proration and annual loan limit progression in clock-hour and non-term credit- hour programs, see Volume 8, Chapters 5 and 6. If your school is unable to determine when a student has successfully completed half of the credit or clock hours in a program, academic year, or remainder of a program, the student is considered to have begun the second payment period of the program, academic year, or remainder of a program at the later of the date (identified by your school) that the student has successfully completed: half of the academic coursework in the program, academic year, or remainder of the program; or half of the number of weeks of instructional time in the program, academic year, or remainder of the program.',\n",
              "   '<2-hop>\\n\\nDisbursement Timing in Subscription-Based Programs For the first two subscription periods (terms) that a student attends in a subscription-based program, there is no requirement for the student to have completed a certain amount of coursework before receiving a disbursement of Title IV funds (the same as in any other term-based program using credit hours). However, to receive a disbursement of Title IV aid for each subsequent subscription period in the program, the student must have completed a cumulative number of credit hours equal to the total of the number of hours for which the student was enrolled in all previously attended subscription periods in the program, excluding the number of hours for which the student was enrolled in the most recently attended subscription period. For more detailed guidance on the disbursement rules for subscription-based programs, including examples, refer to Appendix B at the end of this chapter. Multiple Disbursements Within a Payment Period The regulations governing the Title IV programs generally permit schools to pay Title IV funds at such times and in such installments within each payment period as will best meet students9 needs. This gives schools the ability to apportion the payment if doing so will be in the best interest of the student. For example, if a payment period is particularly long, a school might choose to pay in multiple installments to the extent program requirements permit to ensure that a student will have funds to pay rent later in the payment period. If a school chooses to schedule multiple Direct Loan disbursements within a single payment period, the disbursements must be substantially equal. Note also that if the loan period for a Direct Loan is a single payment period, the loan must be disbursed in at least two installments unless the school qualifies for an exception to the multiple disbursement requirement. See Volume 8, Chapter 3 for more'],\n",
              "  'reference': 'in clock-hour or non-term credit-hour programs, students must complete both the required credit or clock hours and weeks of instructional time in a payment period before receiving a disbursement of pell grant, fseog, teach grant, or direct loan funds for the next payment period. the scheduled payment periods are set at the beginning of the program and do not change based on a student’s progression. in contrast, for subscription-based programs, there is no requirement for students to complete a certain amount of coursework before receiving title iv funds for the first two subscription periods. however, for each subsequent subscription period, students must have completed a cumulative number of credit hours equal to the total hours enrolled in all previously attended subscription periods, excluding the most recent one, before receiving additional disbursements. this shows that disbursement timing and requirements for completion of coursework differ significantly between these program structures.'},\n",
              " {'user_input': 'how subscription-based programs work and what is the rule for disbursement timing in subscription-based programs',\n",
              "  'reference_contexts': ['<1-hop>\\n\\nnon-term (includes clock-hour calendars), or subscription-based. In a standard term or nonstandard term academic calendar, a term is generally a period in which all classes are scheduled to begin and end within a set time frame, and academic progress is measured in credit hours. In a non-term academic calendar, classes do not begin and end within a set time frame, such as a term. Academic progress in a non-term program can be measured in either credit or clock hours. In some cases (as discussed below), a program with terms must be treated as a non-term program for Title IV purposes. A subscription-based academic calendar is used only by subscription-based programs. A subscription-based program is a term-based program in which the school charges a student for each term on a subscription basis with the expectation that the student will complete a specified number of credit hours (or the equivalent) during that term. However, classes in a subscription-based program are not required to begin or end within a specific timeframe in each term, as is the case in a term-based calendar that is not subscription-based. For more detail on subscription-based programs, see Volume 2, Chapter 2. A subscription-based academic calendar consists of \"subscription periods\" that are either standard terms or substantially equal nonstandard terms (for guidance on when terms are considered to be substantially equal in length, see <Payment periods for programs using standard terms or substantially equal nonstandard terms= later in this chapter). Substantially equal nonstandard terms may be of any length, but if they are not at least nine weeks in length, the program must use BBAY 3 for purposes of monitoring Direct Loan annual loan limit progression (see Volume 8, Chapter 6 for more information on BBAY 3). Nonstandard terms that are not substantially equal in length are not permissible in a subscription-based academic calendar. The term \"subscription period\" is synonymous with \"term\" and \"payment period\" (payment periods are covered later in this chapter). Except for the fact that classes are not required to start and end within a term, the rules and requirements for term-based programs that are not subscription-based also apply to subscription-based programs. These requirements include: minimum and maximum term length restrictions for standard terms (see the discussion in the next section of this chapter); requirements for determining full-time enrollment (see Volume 1, Chapter 1); use of a Scheduled Academic Year (SAY), BBAY 1, BBAY 2, or BBAY 3 for monitoring Direct Loan annual loan limit progression (see Volume 8, Chapter 6); and use of Pell Grant formulas 1, 2, or 3 to calculate Pell Grant awards (see Volume 7, Chapter 4). Whether an academic calendar is standard term, nonstandard term, non-term, or subscription-based has implications for how aid is awarded and disbursed under the Title IV programs. Standard Terms: Semesters, Trimesters, and Quarters Semesters and trimesters contain between 14 and 21 weeks of instructional time. However, a summer term in a program using semesters or trimesters may contain fewer than 14 weeks. An academic calendar that uses semesters or trimesters traditionally has three terms, one each in the fall, spring, and summer, two of which comprise an academic year. For example, in a program using an SAY calendar, fall and spring would comprise an academic year. In a program using a',\n",
              "   '<2-hop>\\n\\nDisbursement Timing in Subscription-Based Programs For the first two subscription periods (terms) that a student attends in a subscription-based program, there is no requirement for the student to have completed a certain amount of coursework before receiving a disbursement of Title IV funds (the same as in any other term-based program using credit hours). However, to receive a disbursement of Title IV aid for each subsequent subscription period in the program, the student must have completed a cumulative number of credit hours equal to the total of the number of hours for which the student was enrolled in all previously attended subscription periods in the program, excluding the number of hours for which the student was enrolled in the most recently attended subscription period. For more detailed guidance on the disbursement rules for subscription-based programs, including examples, refer to Appendix B at the end of this chapter. Multiple Disbursements Within a Payment Period The regulations governing the Title IV programs generally permit schools to pay Title IV funds at such times and in such installments within each payment period as will best meet students9 needs. This gives schools the ability to apportion the payment if doing so will be in the best interest of the student. For example, if a payment period is particularly long, a school might choose to pay in multiple installments to the extent program requirements permit to ensure that a student will have funds to pay rent later in the payment period. If a school chooses to schedule multiple Direct Loan disbursements within a single payment period, the disbursements must be substantially equal. Note also that if the loan period for a Direct Loan is a single payment period, the loan must be disbursed in at least two installments unless the school qualifies for an exception to the multiple disbursement requirement. See Volume 8, Chapter 3 for more'],\n",
              "  'reference': 'subscription-based programs are term-based programs where students are charged each term on a subscription basis and are expected to complete a set number of credit hours during that term, but classes do not have to start or end within a specific timeframe. for disbursement timing in subscription-based programs, students can get title iv funds for the first two subscription periods without completing a certain amount of coursework, but for later periods, they must have completed a cumulative number of credit hours equal to all previously attended subscription periods, except the most recent one.'},\n",
              " {'user_input': 'What are the disbursement requirements for federal student aid programs such as Pell Grants and Direct Loans in both clock-hour or non-term credit-hour programs and subscription-based programs, and how does the timing of disbursements differ between these program structures?',\n",
              "  'reference_contexts': ['<1-hop>\\n\\nboth the credit or clock hours and the weeks of instructional time in a payment period before receiving a disbursement of Pell Grant, FSEOG, TEACH Grant or Direct Loan funds for the next payment period. For the Direct Loan Program only, this same requirement applies to students who are enrolled in programs with nonstandard terms that are not substantially equal in length. Effect of Accelerated Progression on Disbursement Timing in a Clock-Hour or Non-Term Credit-Hour Program The Pell Grant or TEACH Grant amount that a student is eligible to receive for a payment period in a clock-hour or non- term credit-hour program is based on the number of hours and weeks in the scheduled payment periods for the program that are established at the beginning of the program based on the program length (as described earlier in this chapter). These scheduled payment periods do not change, regardless of a student9s rate of progression through a clock-hour or non-term credit-hour program. This means that if a student completes additional weeks of instructional time or hours while completing the other measure of a payment period, the actual number of weeks or hours that the student completes before a disbursement can be made for the next payment period may differ from the number of weeks or hours in the scheduled payment period used to determine the student9s grant amount for the payment period. Although a student9s completion of additional weeks or hours in a payment period has no effect on the scheduled payment periods for purposes of determining Pell Grant and TEACH Grant payment amounts, an undergraduate student who accelerates in a clock-hour or non-term credit-hour program may have reduced Direct Loan eligibility in the final academic year of a program. Specifically, if a student enrolled in a program that is greater than one academic year in length completes additional clock or credit hours prior to the final academic year of the program, this may result in a final period of study that contains fewer clock or credit hours than the number of hours in the program9s defined academic year. In this circumstance, the Direct Loan annual loan limit for an undergraduate student must be prorated (reduced). The principles described above are illustrated by the examples in Appendix A at the end of this chapter. For guidance on calculating Pell Grant and TEACH Grant awards for clock-hour and non-term credit-hour programs, see Volume 7. For information on Direct Loan annual loan limit proration and annual loan limit progression in clock-hour and non-term credit- hour programs, see Volume 8, Chapters 5 and 6. If your school is unable to determine when a student has successfully completed half of the credit or clock hours in a program, academic year, or remainder of a program, the student is considered to have begun the second payment period of the program, academic year, or remainder of a program at the later of the date (identified by your school) that the student has successfully completed: half of the academic coursework in the program, academic year, or remainder of the program; or half of the number of weeks of instructional time in the program, academic year, or remainder of the program.',\n",
              "   '<2-hop>\\n\\nDisbursement Timing in Subscription-Based Programs For the first two subscription periods (terms) that a student attends in a subscription-based program, there is no requirement for the student to have completed a certain amount of coursework before receiving a disbursement of Title IV funds (the same as in any other term-based program using credit hours). However, to receive a disbursement of Title IV aid for each subsequent subscription period in the program, the student must have completed a cumulative number of credit hours equal to the total of the number of hours for which the student was enrolled in all previously attended subscription periods in the program, excluding the number of hours for which the student was enrolled in the most recently attended subscription period. For more detailed guidance on the disbursement rules for subscription-based programs, including examples, refer to Appendix B at the end of this chapter. Multiple Disbursements Within a Payment Period The regulations governing the Title IV programs generally permit schools to pay Title IV funds at such times and in such installments within each payment period as will best meet students9 needs. This gives schools the ability to apportion the payment if doing so will be in the best interest of the student. For example, if a payment period is particularly long, a school might choose to pay in multiple installments to the extent program requirements permit to ensure that a student will have funds to pay rent later in the payment period. If a school chooses to schedule multiple Direct Loan disbursements within a single payment period, the disbursements must be substantially equal. Note also that if the loan period for a Direct Loan is a single payment period, the loan must be disbursed in at least two installments unless the school qualifies for an exception to the multiple disbursement requirement. See Volume 8, Chapter 3 for more'],\n",
              "  'reference': \"In clock-hour or non-term credit-hour programs, students must complete both the required credit or clock hours and the weeks of instructional time in a payment period before receiving a disbursement of Pell Grant, FSEOG, TEACH Grant, or Direct Loan funds for the next payment period. The scheduled payment periods, which determine the grant amount, do not change based on a student's rate of progression. However, if a student accelerates and completes additional hours or weeks before the final academic year, this may result in a final period with fewer hours, requiring proration (reduction) of the Direct Loan annual loan limit. In contrast, for subscription-based programs, there is no requirement for students to complete a certain amount of coursework before receiving Title IV funds for the first two subscription periods. For subsequent subscription periods, students must have completed a cumulative number of credit hours equal to the total hours enrolled in all previously attended subscription periods, excluding the most recent one, to receive further disbursements. Additionally, schools may choose to make multiple disbursements within a payment period, provided they are substantially equal, and must follow specific rules if the loan period is a single payment period.\"},\n",
              " {'user_input': 'Under what conditions can clinical work be included in standard term periods for federal student aid purposes, and how do these conditions differ from the characteristics that define non-term programs?',\n",
              "  'reference_contexts': ['<1-hop>\\n\\nInclusion of Clinical Work in a Standard Term Periods of medical and education program clinical work which is conducted outside the classroom may not be included in a standard term, unless all of the following apply: All students in the program must participate in the practicum or clinical experience, and they must be required to complete the practicum or clinical experience as a condition for applying for licensure or authorization to practice the occupation they intend to pursue; The school has little or no control over the length or starting and ending dates of the practicum or clinical experience. This may be due to constraints imposed by outside licensing bodies or the need to accommodate schedules of entities with which students are being placed (e.g., school districts or hospitals); and Credit hours associated with the practicum or clinical experience must be associated with the term in which most of the training occurs, even if the starting and ending dates do not exactly align with the term dates and/or overlap with another term. If the clinical work meets all the above criteria, terms which include such clinical work are not required to be considered nonstandard, nor are such programs required to be considered non-term, even if the clinical work overlaps another term. This flexibility is limited to required clinical periods associated with standard term programs in medicine (including, but not limited to, allopathic, osteopathic, nursing, veterinary, dentistry, pharmacy, and physical therapy), and student teaching required to obtain a state teaching certificate. See Volume 8, Chapter 3 for additional guidance on certain exceptions to the normal loan period and disbursement timing rules for Direct Loans when clinical work that meets the criteria described above is included in a standard term. Nonstandard Terms Generally, nonstandard terms are terms that are not semesters, trimesters, or quarters. For example, a 5-week term or a 23-week term would be considered a nonstandard term because no standard term can be fewer than nine weeks or greater than 21 weeks in length. Like standard terms, nonstandard terms may be equal in length or may be of different lengths. If a program is offered in a combination of standard terms and nonstandard terms, the program is considered to be offered in nonstandard terms. Also, like standard terms, nonstandard terms may not overlap within a program. Even if a school calls its terms semesters, trimesters, or quarters, they are considered to be nonstandard terms if they do not comply with the policy on standard term length, as described earlier. For instance, a 22-week semester or an 8-week quarter must be treated as a nonstandard term, because a semester cannot contain more than 21 weeks and a quarter must include a minimum of nine weeks. Semesters, trimesters, or quarters are also considered to be nonstandard terms if academic progress is not measured in the manner normally associated with the type of term. For example, if a program is offered in 15-week semesters but measures academic progress in quarter credit hours, the semesters would be considered nonstandard terms.',\n",
              "   '<2-hop>\\n\\nNon-Term Characteristics A program that measures progress in clock hours is always treated as a non-term program. Except for subscription-based programs, a program that measures progress in credit-hours is considered to have a non- term calendar if it has: Courses that do not begin and end within a set period of time such as a term; Courses that overlap terms; Self-paced and independent study courses that overlap terms; or Sequential courses that do not begin and end within a term. Payment Periods The payment period is applicable to all Title IV programs except the Federal Work-Study (FWS) Program. For example, Title IV program disbursements (except FWS payments) must be made on a payment period basis, as discussed in detail'],\n",
              "  'reference': 'Clinical work can be included in standard term periods if all of the following conditions are met: all students in the program must participate in the practicum or clinical experience as a requirement for licensure or authorization to practice; the school has little or no control over the length or start and end dates of the practicum or clinical experience, often due to external licensing bodies or placement entities; and the credit hours for the clinical experience must be associated with the term in which most of the training occurs, even if the dates do not exactly align with the term or overlap another term. If these criteria are met, the program is not required to be considered nonstandard or non-term, even if the clinical work overlaps another term. In contrast, non-term programs are defined by characteristics such as measuring progress in clock hours, having courses that do not begin and end within a set term, courses that overlap terms, or self-paced and independent study courses. Thus, while clinical work can be included in standard terms under specific conditions, programs with non-term characteristics like flexible course timing or clock hour measurement are always treated as non-term for federal aid purposes.'},\n",
              " {'user_input': 'how do appendix a and appendix b help with understanding disbursement timing for pell grant and direct loan in clock-hour, non-term credit-hour, and subscription-based programs, and what examples or guidance do they give for these different program types?',\n",
              "  'reference_contexts': ['<1-hop>\\n\\nboth the credit or clock hours and the weeks of instructional time in a payment period before receiving a disbursement of Pell Grant, FSEOG, TEACH Grant or Direct Loan funds for the next payment period. For the Direct Loan Program only, this same requirement applies to students who are enrolled in programs with nonstandard terms that are not substantially equal in length. Effect of Accelerated Progression on Disbursement Timing in a Clock-Hour or Non-Term Credit-Hour Program The Pell Grant or TEACH Grant amount that a student is eligible to receive for a payment period in a clock-hour or non- term credit-hour program is based on the number of hours and weeks in the scheduled payment periods for the program that are established at the beginning of the program based on the program length (as described earlier in this chapter). These scheduled payment periods do not change, regardless of a student9s rate of progression through a clock-hour or non-term credit-hour program. This means that if a student completes additional weeks of instructional time or hours while completing the other measure of a payment period, the actual number of weeks or hours that the student completes before a disbursement can be made for the next payment period may differ from the number of weeks or hours in the scheduled payment period used to determine the student9s grant amount for the payment period. Although a student9s completion of additional weeks or hours in a payment period has no effect on the scheduled payment periods for purposes of determining Pell Grant and TEACH Grant payment amounts, an undergraduate student who accelerates in a clock-hour or non-term credit-hour program may have reduced Direct Loan eligibility in the final academic year of a program. Specifically, if a student enrolled in a program that is greater than one academic year in length completes additional clock or credit hours prior to the final academic year of the program, this may result in a final period of study that contains fewer clock or credit hours than the number of hours in the program9s defined academic year. In this circumstance, the Direct Loan annual loan limit for an undergraduate student must be prorated (reduced). The principles described above are illustrated by the examples in Appendix A at the end of this chapter. For guidance on calculating Pell Grant and TEACH Grant awards for clock-hour and non-term credit-hour programs, see Volume 7. For information on Direct Loan annual loan limit proration and annual loan limit progression in clock-hour and non-term credit- hour programs, see Volume 8, Chapters 5 and 6. If your school is unable to determine when a student has successfully completed half of the credit or clock hours in a program, academic year, or remainder of a program, the student is considered to have begun the second payment period of the program, academic year, or remainder of a program at the later of the date (identified by your school) that the student has successfully completed: half of the academic coursework in the program, academic year, or remainder of the program; or half of the number of weeks of instructional time in the program, academic year, or remainder of the program.',\n",
              "   '<2-hop>\\n\\nDisbursement Timing in Subscription-Based Programs For the first two subscription periods (terms) that a student attends in a subscription-based program, there is no requirement for the student to have completed a certain amount of coursework before receiving a disbursement of Title IV funds (the same as in any other term-based program using credit hours). However, to receive a disbursement of Title IV aid for each subsequent subscription period in the program, the student must have completed a cumulative number of credit hours equal to the total of the number of hours for which the student was enrolled in all previously attended subscription periods in the program, excluding the number of hours for which the student was enrolled in the most recently attended subscription period. For more detailed guidance on the disbursement rules for subscription-based programs, including examples, refer to Appendix B at the end of this chapter. Multiple Disbursements Within a Payment Period The regulations governing the Title IV programs generally permit schools to pay Title IV funds at such times and in such installments within each payment period as will best meet students9 needs. This gives schools the ability to apportion the payment if doing so will be in the best interest of the student. For example, if a payment period is particularly long, a school might choose to pay in multiple installments to the extent program requirements permit to ensure that a student will have funds to pay rent later in the payment period. If a school chooses to schedule multiple Direct Loan disbursements within a single payment period, the disbursements must be substantially equal. Note also that if the loan period for a Direct Loan is a single payment period, the loan must be disbursed in at least two installments unless the school qualifies for an exception to the multiple disbursement requirement. See Volume 8, Chapter 3 for more'],\n",
              "  'reference': 'appendix a gives examples that show how the rules for pell grant and teach grant disbursement timing work in clock-hour and non-term credit-hour programs, including how scheduled payment periods are set and how accelerated progression can affect direct loan eligibility, especially when a student finishes more hours before the final academic year, which can lead to proration of the annual loan limit. appendix b gives more detailed guidance and examples for disbursement rules in subscription-based programs, explaining how students must complete a certain number of credit hours before getting title iv aid for later subscription periods. both appendices provide practical illustrations to help schools apply the regulations for different program structures.'},\n",
              " {'user_input': 'According to Volume 8, Chapter 3, how do the rules for Direct Loan disbursement timing differ for standard term programs with required clinical work and for subscription-based programs?',\n",
              "  'reference_contexts': ['<1-hop>\\n\\nInclusion of Clinical Work in a Standard Term Periods of medical and education program clinical work which is conducted outside the classroom may not be included in a standard term, unless all of the following apply: All students in the program must participate in the practicum or clinical experience, and they must be required to complete the practicum or clinical experience as a condition for applying for licensure or authorization to practice the occupation they intend to pursue; The school has little or no control over the length or starting and ending dates of the practicum or clinical experience. This may be due to constraints imposed by outside licensing bodies or the need to accommodate schedules of entities with which students are being placed (e.g., school districts or hospitals); and Credit hours associated with the practicum or clinical experience must be associated with the term in which most of the training occurs, even if the starting and ending dates do not exactly align with the term dates and/or overlap with another term. If the clinical work meets all the above criteria, terms which include such clinical work are not required to be considered nonstandard, nor are such programs required to be considered non-term, even if the clinical work overlaps another term. This flexibility is limited to required clinical periods associated with standard term programs in medicine (including, but not limited to, allopathic, osteopathic, nursing, veterinary, dentistry, pharmacy, and physical therapy), and student teaching required to obtain a state teaching certificate. See Volume 8, Chapter 3 for additional guidance on certain exceptions to the normal loan period and disbursement timing rules for Direct Loans when clinical work that meets the criteria described above is included in a standard term. Nonstandard Terms Generally, nonstandard terms are terms that are not semesters, trimesters, or quarters. For example, a 5-week term or a 23-week term would be considered a nonstandard term because no standard term can be fewer than nine weeks or greater than 21 weeks in length. Like standard terms, nonstandard terms may be equal in length or may be of different lengths. If a program is offered in a combination of standard terms and nonstandard terms, the program is considered to be offered in nonstandard terms. Also, like standard terms, nonstandard terms may not overlap within a program. Even if a school calls its terms semesters, trimesters, or quarters, they are considered to be nonstandard terms if they do not comply with the policy on standard term length, as described earlier. For instance, a 22-week semester or an 8-week quarter must be treated as a nonstandard term, because a semester cannot contain more than 21 weeks and a quarter must include a minimum of nine weeks. Semesters, trimesters, or quarters are also considered to be nonstandard terms if academic progress is not measured in the manner normally associated with the type of term. For example, if a program is offered in 15-week semesters but measures academic progress in quarter credit hours, the semesters would be considered nonstandard terms.',\n",
              "   '<2-hop>\\n\\nDisbursement Timing in Subscription-Based Programs For the first two subscription periods (terms) that a student attends in a subscription-based program, there is no requirement for the student to have completed a certain amount of coursework before receiving a disbursement of Title IV funds (the same as in any other term-based program using credit hours). However, to receive a disbursement of Title IV aid for each subsequent subscription period in the program, the student must have completed a cumulative number of credit hours equal to the total of the number of hours for which the student was enrolled in all previously attended subscription periods in the program, excluding the number of hours for which the student was enrolled in the most recently attended subscription period. For more detailed guidance on the disbursement rules for subscription-based programs, including examples, refer to Appendix B at the end of this chapter. Multiple Disbursements Within a Payment Period The regulations governing the Title IV programs generally permit schools to pay Title IV funds at such times and in such installments within each payment period as will best meet students9 needs. This gives schools the ability to apportion the payment if doing so will be in the best interest of the student. For example, if a payment period is particularly long, a school might choose to pay in multiple installments to the extent program requirements permit to ensure that a student will have funds to pay rent later in the payment period. If a school chooses to schedule multiple Direct Loan disbursements within a single payment period, the disbursements must be substantially equal. Note also that if the loan period for a Direct Loan is a single payment period, the loan must be disbursed in at least two installments unless the school qualifies for an exception to the multiple disbursement requirement. See Volume 8, Chapter 3 for more'],\n",
              "  'reference': 'Volume 8, Chapter 3 provides guidance on exceptions to the normal loan period and disbursement timing rules for Direct Loans when required clinical work that meets specific criteria is included in a standard term program. In these cases, even if the clinical work overlaps another term, the terms are not required to be considered nonstandard, and the credit hours must be associated with the term in which most training occurs. For subscription-based programs, the chapter explains that for the first two subscription periods, there is no requirement for students to complete a certain amount of coursework before receiving Title IV disbursements. However, for subsequent periods, students must have completed a cumulative number of credit hours equal to all previously attended periods (excluding the most recent). Both sections reference Volume 8, Chapter 3 for more detailed guidance on these exceptions and rules.'},\n",
              " {'user_input': 'how pell grant get calculated for non-term or subscription-based programs and what happen if student finish more weeks or hours than scheduled in payment period?',\n",
              "  'reference_contexts': ['<1-hop>\\n\\nnon-term (includes clock-hour calendars), or subscription-based. In a standard term or nonstandard term academic calendar, a term is generally a period in which all classes are scheduled to begin and end within a set time frame, and academic progress is measured in credit hours. In a non-term academic calendar, classes do not begin and end within a set time frame, such as a term. Academic progress in a non-term program can be measured in either credit or clock hours. In some cases (as discussed below), a program with terms must be treated as a non-term program for Title IV purposes. A subscription-based academic calendar is used only by subscription-based programs. A subscription-based program is a term-based program in which the school charges a student for each term on a subscription basis with the expectation that the student will complete a specified number of credit hours (or the equivalent) during that term. However, classes in a subscription-based program are not required to begin or end within a specific timeframe in each term, as is the case in a term-based calendar that is not subscription-based. For more detail on subscription-based programs, see Volume 2, Chapter 2. A subscription-based academic calendar consists of \"subscription periods\" that are either standard terms or substantially equal nonstandard terms (for guidance on when terms are considered to be substantially equal in length, see <Payment periods for programs using standard terms or substantially equal nonstandard terms= later in this chapter). Substantially equal nonstandard terms may be of any length, but if they are not at least nine weeks in length, the program must use BBAY 3 for purposes of monitoring Direct Loan annual loan limit progression (see Volume 8, Chapter 6 for more information on BBAY 3). Nonstandard terms that are not substantially equal in length are not permissible in a subscription-based academic calendar. The term \"subscription period\" is synonymous with \"term\" and \"payment period\" (payment periods are covered later in this chapter). Except for the fact that classes are not required to start and end within a term, the rules and requirements for term-based programs that are not subscription-based also apply to subscription-based programs. These requirements include: minimum and maximum term length restrictions for standard terms (see the discussion in the next section of this chapter); requirements for determining full-time enrollment (see Volume 1, Chapter 1); use of a Scheduled Academic Year (SAY), BBAY 1, BBAY 2, or BBAY 3 for monitoring Direct Loan annual loan limit progression (see Volume 8, Chapter 6); and use of Pell Grant formulas 1, 2, or 3 to calculate Pell Grant awards (see Volume 7, Chapter 4). Whether an academic calendar is standard term, nonstandard term, non-term, or subscription-based has implications for how aid is awarded and disbursed under the Title IV programs. Standard Terms: Semesters, Trimesters, and Quarters Semesters and trimesters contain between 14 and 21 weeks of instructional time. However, a summer term in a program using semesters or trimesters may contain fewer than 14 weeks. An academic calendar that uses semesters or trimesters traditionally has three terms, one each in the fall, spring, and summer, two of which comprise an academic year. For example, in a program using an SAY calendar, fall and spring would comprise an academic year. In a program using a',\n",
              "   '<2-hop>\\n\\nboth the credit or clock hours and the weeks of instructional time in a payment period before receiving a disbursement of Pell Grant, FSEOG, TEACH Grant or Direct Loan funds for the next payment period. For the Direct Loan Program only, this same requirement applies to students who are enrolled in programs with nonstandard terms that are not substantially equal in length. Effect of Accelerated Progression on Disbursement Timing in a Clock-Hour or Non-Term Credit-Hour Program The Pell Grant or TEACH Grant amount that a student is eligible to receive for a payment period in a clock-hour or non- term credit-hour program is based on the number of hours and weeks in the scheduled payment periods for the program that are established at the beginning of the program based on the program length (as described earlier in this chapter). These scheduled payment periods do not change, regardless of a student9s rate of progression through a clock-hour or non-term credit-hour program. This means that if a student completes additional weeks of instructional time or hours while completing the other measure of a payment period, the actual number of weeks or hours that the student completes before a disbursement can be made for the next payment period may differ from the number of weeks or hours in the scheduled payment period used to determine the student9s grant amount for the payment period. Although a student9s completion of additional weeks or hours in a payment period has no effect on the scheduled payment periods for purposes of determining Pell Grant and TEACH Grant payment amounts, an undergraduate student who accelerates in a clock-hour or non-term credit-hour program may have reduced Direct Loan eligibility in the final academic year of a program. Specifically, if a student enrolled in a program that is greater than one academic year in length completes additional clock or credit hours prior to the final academic year of the program, this may result in a final period of study that contains fewer clock or credit hours than the number of hours in the program9s defined academic year. In this circumstance, the Direct Loan annual loan limit for an undergraduate student must be prorated (reduced). The principles described above are illustrated by the examples in Appendix A at the end of this chapter. For guidance on calculating Pell Grant and TEACH Grant awards for clock-hour and non-term credit-hour programs, see Volume 7. For information on Direct Loan annual loan limit proration and annual loan limit progression in clock-hour and non-term credit- hour programs, see Volume 8, Chapters 5 and 6. If your school is unable to determine when a student has successfully completed half of the credit or clock hours in a program, academic year, or remainder of a program, the student is considered to have begun the second payment period of the program, academic year, or remainder of a program at the later of the date (identified by your school) that the student has successfully completed: half of the academic coursework in the program, academic year, or remainder of the program; or half of the number of weeks of instructional time in the program, academic year, or remainder of the program.'],\n",
              "  'reference': 'pell grant for non-term or subscription-based programs is calculated using pell grant formulas 1, 2, or 3, based on the number of hours and weeks in the scheduled payment periods set at the start of the program. if a student completes more weeks or hours than scheduled in a payment period, it does not change the scheduled payment periods used to determine the pell grant amount for that period.'},\n",
              " {'user_input': 'According to the guidance in Volume 7, Chapter 4 and Volume 8, Chapter 3, how do the requirements for Pell Grant calculation and Direct Loan disbursement differ for subscription-based programs with substantially equal nonstandard terms compared to standard term programs, especially when clinical work is included in the academic calendar?',\n",
              "  'reference_contexts': ['<1-hop>\\n\\nnon-term (includes clock-hour calendars), or subscription-based. In a standard term or nonstandard term academic calendar, a term is generally a period in which all classes are scheduled to begin and end within a set time frame, and academic progress is measured in credit hours. In a non-term academic calendar, classes do not begin and end within a set time frame, such as a term. Academic progress in a non-term program can be measured in either credit or clock hours. In some cases (as discussed below), a program with terms must be treated as a non-term program for Title IV purposes. A subscription-based academic calendar is used only by subscription-based programs. A subscription-based program is a term-based program in which the school charges a student for each term on a subscription basis with the expectation that the student will complete a specified number of credit hours (or the equivalent) during that term. However, classes in a subscription-based program are not required to begin or end within a specific timeframe in each term, as is the case in a term-based calendar that is not subscription-based. For more detail on subscription-based programs, see Volume 2, Chapter 2. A subscription-based academic calendar consists of \"subscription periods\" that are either standard terms or substantially equal nonstandard terms (for guidance on when terms are considered to be substantially equal in length, see <Payment periods for programs using standard terms or substantially equal nonstandard terms= later in this chapter). Substantially equal nonstandard terms may be of any length, but if they are not at least nine weeks in length, the program must use BBAY 3 for purposes of monitoring Direct Loan annual loan limit progression (see Volume 8, Chapter 6 for more information on BBAY 3). Nonstandard terms that are not substantially equal in length are not permissible in a subscription-based academic calendar. The term \"subscription period\" is synonymous with \"term\" and \"payment period\" (payment periods are covered later in this chapter). Except for the fact that classes are not required to start and end within a term, the rules and requirements for term-based programs that are not subscription-based also apply to subscription-based programs. These requirements include: minimum and maximum term length restrictions for standard terms (see the discussion in the next section of this chapter); requirements for determining full-time enrollment (see Volume 1, Chapter 1); use of a Scheduled Academic Year (SAY), BBAY 1, BBAY 2, or BBAY 3 for monitoring Direct Loan annual loan limit progression (see Volume 8, Chapter 6); and use of Pell Grant formulas 1, 2, or 3 to calculate Pell Grant awards (see Volume 7, Chapter 4). Whether an academic calendar is standard term, nonstandard term, non-term, or subscription-based has implications for how aid is awarded and disbursed under the Title IV programs. Standard Terms: Semesters, Trimesters, and Quarters Semesters and trimesters contain between 14 and 21 weeks of instructional time. However, a summer term in a program using semesters or trimesters may contain fewer than 14 weeks. An academic calendar that uses semesters or trimesters traditionally has three terms, one each in the fall, spring, and summer, two of which comprise an academic year. For example, in a program using an SAY calendar, fall and spring would comprise an academic year. In a program using a',\n",
              "   '<2-hop>\\n\\nInclusion of Clinical Work in a Standard Term Periods of medical and education program clinical work which is conducted outside the classroom may not be included in a standard term, unless all of the following apply: All students in the program must participate in the practicum or clinical experience, and they must be required to complete the practicum or clinical experience as a condition for applying for licensure or authorization to practice the occupation they intend to pursue; The school has little or no control over the length or starting and ending dates of the practicum or clinical experience. This may be due to constraints imposed by outside licensing bodies or the need to accommodate schedules of entities with which students are being placed (e.g., school districts or hospitals); and Credit hours associated with the practicum or clinical experience must be associated with the term in which most of the training occurs, even if the starting and ending dates do not exactly align with the term dates and/or overlap with another term. If the clinical work meets all the above criteria, terms which include such clinical work are not required to be considered nonstandard, nor are such programs required to be considered non-term, even if the clinical work overlaps another term. This flexibility is limited to required clinical periods associated with standard term programs in medicine (including, but not limited to, allopathic, osteopathic, nursing, veterinary, dentistry, pharmacy, and physical therapy), and student teaching required to obtain a state teaching certificate. See Volume 8, Chapter 3 for additional guidance on certain exceptions to the normal loan period and disbursement timing rules for Direct Loans when clinical work that meets the criteria described above is included in a standard term. Nonstandard Terms Generally, nonstandard terms are terms that are not semesters, trimesters, or quarters. For example, a 5-week term or a 23-week term would be considered a nonstandard term because no standard term can be fewer than nine weeks or greater than 21 weeks in length. Like standard terms, nonstandard terms may be equal in length or may be of different lengths. If a program is offered in a combination of standard terms and nonstandard terms, the program is considered to be offered in nonstandard terms. Also, like standard terms, nonstandard terms may not overlap within a program. Even if a school calls its terms semesters, trimesters, or quarters, they are considered to be nonstandard terms if they do not comply with the policy on standard term length, as described earlier. For instance, a 22-week semester or an 8-week quarter must be treated as a nonstandard term, because a semester cannot contain more than 21 weeks and a quarter must include a minimum of nine weeks. Semesters, trimesters, or quarters are also considered to be nonstandard terms if academic progress is not measured in the manner normally associated with the type of term. For example, if a program is offered in 15-week semesters but measures academic progress in quarter credit hours, the semesters would be considered nonstandard terms.'],\n",
              "  'reference': \"For subscription-based programs with substantially equal nonstandard terms, Pell Grant awards are calculated using Pell Grant formulas 1, 2, or 3 as outlined in Volume 7, Chapter 4, and Direct Loan annual loan limit progression is monitored using BBAY 3 if the terms are not at least nine weeks in length, as referenced in Volume 8, Chapter 6. In these programs, the term 'subscription period' is synonymous with 'term' and 'payment period.' When clinical work is included in a standard term program, and it meets specific criteria (such as being required for licensure and outside the school’s control for scheduling), the clinical work can be included in the standard term without requiring the program to be treated as nonstandard or non-term. Volume 8, Chapter 3 provides additional guidance on exceptions to normal loan period and disbursement timing rules for Direct Loans in such cases. Therefore, while both program types must adhere to Pell Grant and Direct Loan requirements, subscription-based programs with substantially equal nonstandard terms have specific rules for term length and loan period monitoring, and standard term programs with qualifying clinical work may apply exceptions for loan disbursement timing.\"}]"
            ]
          },
          "execution_count": 63,
          "metadata": {},
          "output_type": "execute_result"
        }
      ],
      "source": [
        "evaluation_samples"
      ]
    },
    {
      "cell_type": "code",
      "execution_count": 85,
      "metadata": {},
      "outputs": [],
      "source": [
        "from ragas.metrics import ContextPrecision, ContextRecall, ContextRelevance\n",
        "from ragas.llms import LangchainLLMWrapper\n",
        "from langchain.chat_models import ChatOpenAI\n",
        "import pandas as pd\n",
        "from ragas import evaluate\n",
        "from ragas.dataset_schema import EvaluationDataset\n",
        "\n",
        "# Setup evaluator LLM\n",
        "evaluator_llm = LangchainLLMWrapper(ChatOpenAI(model=\"gpt-3.5-turbo\"))\n",
        "\n",
        "# Define metrics\n",
        "ragas_metrics = [\n",
        "    ContextPrecision(llm=evaluator_llm),\n",
        "    ContextRecall(llm=evaluator_llm),\n",
        "    ContextRelevance(llm=evaluator_llm)\n",
        "]"
      ]
    },
    {
      "cell_type": "code",
      "execution_count": 97,
      "metadata": {},
      "outputs": [],
      "source": [
        "# 1. Update environment variables\n",
        "os.environ[\"LANGCHAIN_TRACING_V2\"] = \"true\"\n",
        "os.environ[\"LANGCHAIN_ENDPOINT\"] = \"https://api.smith.langchain.com\"\n",
        "os.environ[\"LANGCHAIN_API_KEY\"] = \"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\"\n",
        "os.environ[\"LANGCHAIN_PROJECT\"] = \"retriever-evaluation\"  # Set project name\n",
        "\n",
        "# 2. Initialize the tracer\n",
        "from langchain.callbacks.tracers import LangChainTracer\n",
        "tracer = LangChainTracer(project_name=\"retriever-evaluation\")\n",
        "\n",
        "from ragas.run_config import RunConfig\n",
        "\n",
        "# Create a RunConfig with lower concurrency to avoid rate limits\n",
        "run_config = RunConfig(\n",
        "    max_workers=2,  # Lower number of concurrent workers\n",
        "    timeout=60  # Longer timeout to handle rate limits\n",
        ")\n",
        "\n",
        "def evaluate_retriever(retriever, name, evaluation_samples):\n",
        "    results = []\n",
        "    \n",
        "    for sample in evaluation_samples:\n",
        "        docs = retriever.get_relevant_documents(sample[\"user_input\"])\n",
        "        \n",
        "        eval_sample = {\n",
        "            \"user_input\": sample[\"user_input\"],\n",
        "            \"retrieved_contexts\": [doc.page_content for doc in docs],\n",
        "            \"reference\": sample[\"reference\"]\n",
        "        }\n",
        "        results.append(eval_sample)\n",
        "    \n",
        "    ragas_dataset = EvaluationDataset.from_list(results)\n",
        "    \n",
        "    scores = evaluate(\n",
        "        dataset=ragas_dataset,\n",
        "        metrics=ragas_metrics,\n",
        "        run_config=run_config\n",
        "    )\n",
        "    \n",
        "    # Return the scores directly from the scores object\n",
        "    return scores.scores\n",
        "\n",
        "# Create dictionary to store results\n",
        "all_results = {}\n"
      ]
    },
    {
      "cell_type": "code",
      "execution_count": 98,
      "metadata": {},
      "outputs": [
        {
          "name": "stdout",
          "output_type": "stream",
          "text": [
            "Evaluating BM25 retriever...\n"
          ]
        },
        {
          "data": {
            "application/vnd.jupyter.widget-view+json": {
              "model_id": "36453c2c96ae49aaaa4f7b76bfb33ff1",
              "version_major": 2,
              "version_minor": 0
            },
            "text/plain": [
              "Evaluating:   0%|          | 0/15 [00:00<?, ?it/s]"
            ]
          },
          "metadata": {},
          "output_type": "display_data"
        },
        {
          "name": "stdout",
          "output_type": "stream",
          "text": [
            "Evaluating Naive retriever...\n"
          ]
        },
        {
          "data": {
            "application/vnd.jupyter.widget-view+json": {
              "model_id": "9cc94e140e2c4cd39a4b03e06f8cf032",
              "version_major": 2,
              "version_minor": 0
            },
            "text/plain": [
              "Evaluating:   0%|          | 0/15 [00:00<?, ?it/s]"
            ]
          },
          "metadata": {},
          "output_type": "display_data"
        }
      ],
      "source": [
        "retrievers = {\n",
        "    \"BM25\": bm25_retriever,\n",
        "    \"Naive\": naive_retriever,\n",
        "    #\"Parent Document\": parent_document_retriever,\n",
        "    #\"Compression\": compression_retriever,\n",
        "    #\"Multi Query\": multi_query_retriever,\n",
        "    #\"Ensemble\": ensemble_retriever\n",
        "}\n",
        "\n",
        "# Create a shorter version of evaluation samples with just 5 rows\n",
        "evaluation_samples_short = evaluation_samples[:5]\n",
        "\n",
        "\n",
        "\n",
        "all_results = {}\n",
        "for name, retriever in retrievers.items():\n",
        "    print(f\"Evaluating {name} retriever...\")\n",
        "    scores = evaluate_retriever(retriever, name, evaluation_samples_short)\n",
        "    all_results[name] = scores"
      ]
    },
    {
      "cell_type": "code",
      "execution_count": 100,
      "metadata": {},
      "outputs": [
        {
          "data": {
            "text/plain": [
              "{'BM25': [{'context_precision': 0.9999999999,\n",
              "   'context_recall': 1.0,\n",
              "   'nv_context_relevance': 0.0},\n",
              "  {'context_precision': 0.49999999995,\n",
              "   'context_recall': 1.0,\n",
              "   'nv_context_relevance': 0.0},\n",
              "  {'context_precision': 0.6388888888675925,\n",
              "   'context_recall': 0.6666666666666666,\n",
              "   'nv_context_relevance': 1.0},\n",
              "  {'context_precision': 0.0,\n",
              "   'context_recall': 1.0,\n",
              "   'nv_context_relevance': 0.0},\n",
              "  {'context_precision': 0.999999999975,\n",
              "   'context_recall': 1.0,\n",
              "   'nv_context_relevance': 0.0}],\n",
              " 'Naive': [{'context_precision': 0.3333333333,\n",
              "   'context_recall': 1.0,\n",
              "   'nv_context_relevance': 0.0},\n",
              "  {'context_precision': 0.3499999999825,\n",
              "   'context_recall': 1.0,\n",
              "   'nv_context_relevance': 0.0},\n",
              "  {'context_precision': 0.8240079364976364,\n",
              "   'context_recall': 0.3333333333333333,\n",
              "   'nv_context_relevance': 0.0},\n",
              "  {'context_precision': 0.0,\n",
              "   'context_recall': 0.5,\n",
              "   'nv_context_relevance': 0.0},\n",
              "  {'context_precision': 0.9999999999888889,\n",
              "   'context_recall': 1.0,\n",
              "   'nv_context_relevance': 0.25}]}"
            ]
          },
          "execution_count": 100,
          "metadata": {},
          "output_type": "execute_result"
        }
      ],
      "source": [
        "all_results"
      ]
    },
    {
      "cell_type": "code",
      "execution_count": null,
      "metadata": {},
      "outputs": [
        {
          "data": {
            "text/plain": [
              "{'BM25': [{'context_precision': 0.9999999999,\n",
              "   'context_recall': 1.0,\n",
              "   'nv_context_relevance': 0.0},\n",
              "  {'context_precision': 0.49999999995,\n",
              "   'context_recall': 1.0,\n",
              "   'nv_context_relevance': 0.0},\n",
              "  {'context_precision': 0.6388888888675925,\n",
              "   'context_recall': 0.6666666666666666,\n",
              "   'nv_context_relevance': 1.0},\n",
              "  {'context_precision': 0.0,\n",
              "   'context_recall': 1.0,\n",
              "   'nv_context_relevance': 0.0},\n",
              "  {'context_precision': 0.999999999975,\n",
              "   'context_recall': 1.0,\n",
              "   'nv_context_relevance': 0.0}],\n",
              " 'Naive': [{'context_precision': 0.3333333333,\n",
              "   'context_recall': 1.0,\n",
              "   'nv_context_relevance': 0.0},\n",
              "  {'context_precision': 0.3499999999825,\n",
              "   'context_recall': 1.0,\n",
              "   'nv_context_relevance': 0.0},\n",
              "  {'context_precision': 0.8240079364976364,\n",
              "   'context_recall': 0.3333333333333333,\n",
              "   'nv_context_relevance': 0.0},\n",
              "  {'context_precision': 0.0,\n",
              "   'context_recall': 0.5,\n",
              "   'nv_context_relevance': 0.0},\n",
              "  {'context_precision': 0.9999999999888889,\n",
              "   'context_recall': 1.0,\n",
              "   'nv_context_relevance': 0.25}]}"
            ]
          },
          "metadata": {},
          "output_type": "display_data"
        }
      ],
      "source": [
        "all_results"
      ]
    }
  ],
  "metadata": {
    "colab": {
      "provenance": [],
      "toc_visible": true
    },
    "kernelspec": {
      "display_name": ".venv",
      "language": "python",
      "name": "python3"
    },
    "language_info": {
      "codemirror_mode": {
        "name": "ipython",
        "version": 3
      },
      "file_extension": ".py",
      "mimetype": "text/x-python",
      "name": "python",
      "nbconvert_exporter": "python",
      "pygments_lexer": "ipython3",
      "version": "3.13.5"
    }
  },
  "nbformat": 4,
  "nbformat_minor": 0
}
